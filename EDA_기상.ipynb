{
 "cells": [
  {
   "cell_type": "markdown",
   "metadata": {},
   "source": [
    "**Import Library**"
   ]
  },
  {
   "cell_type": "code",
   "execution_count": 1,
   "metadata": {},
   "outputs": [],
   "source": [
    "import pandas as pd\n",
    "import numpy as np\n",
    "from scipy import stats\n",
    "from datetime import date\n",
    "import matplotlib.pyplot as plt\n",
    "import seaborn as sns\n",
    "import matplotlib as mpl\n",
    "\n",
    "import os, sys\n",
    "import pickle\n",
    "from tqdm.notebook import tqdm\n",
    "\n",
    "import warnings \n",
    "warnings.filterwarnings('ignore')\n",
    "\n",
    "mpl.rc('font', family='New Gulim')\n",
    "mpl.rc('axes', unicode_minus=False)\n",
    "\n",
    "%matplotlib inline"
   ]
  },
  {
   "cell_type": "markdown",
   "metadata": {},
   "source": [
    "**Import Data**"
   ]
  },
  {
   "cell_type": "code",
   "execution_count": 2,
   "metadata": {},
   "outputs": [
    {
     "data": {
      "application/vnd.jupyter.widget-view+json": {
       "model_id": "cd01f4fe2f4c4223a1792224ab625a35",
       "version_major": 2,
       "version_minor": 0
      },
      "text/plain": [
       "HBox(children=(FloatProgress(value=0.0, max=35379.0), HTML(value='')))"
      ]
     },
     "metadata": {},
     "output_type": "display_data"
    },
    {
     "name": "stdout",
     "output_type": "stream",
     "text": [
      "\n"
     ]
    }
   ],
   "source": [
    "train_weather = pd.read_excel('./Data/2020 빅콘테스트 데이터분석분야-챔피언리그_2019년 실적데이터_v1_200818.xlsx')\n",
    "train_weather = train_weather.rename(columns=train_weather.iloc[0])[1:].reset_index(drop=True)\n",
    "train_weather = train_weather.loc[train_weather['상품군']!='무형'].reset_index(drop=True) # 상품군이 무형인 경우 예측하지 않음. 모두 0으로 처리 (*빅콘테스트 공지 참조)\n",
    "train_weather['취급액'] = train_weather['취급액'].fillna(0)\n",
    "train_weather = train_weather.loc[train_weather['취급액'] != 0].reset_index(drop = True) # 취급액 없음 변경\n",
    "\n",
    "for i in tqdm(range(len(train_weather))):\n",
    "    if pd.isna(train_weather.loc[i,'노출(분)']):\n",
    "        train_weather.loc[i,'노출(분)'] = train_weather.loc[(i-1),'노출(분)']\n",
    "\n",
    "train_weather['판매량'] = [round(train_weather.loc[i,'취급액']/train_weather.loc[i,'판매단가'] # 분당 판매량\n",
    "                          /train_weather.loc[i,'노출(분)']) for i in range(len(train_weather))] "
   ]
  },
  {
   "cell_type": "code",
   "execution_count": 3,
   "metadata": {},
   "outputs": [
    {
     "data": {
      "text/html": [
       "<div>\n",
       "<style scoped>\n",
       "    .dataframe tbody tr th:only-of-type {\n",
       "        vertical-align: middle;\n",
       "    }\n",
       "\n",
       "    .dataframe tbody tr th {\n",
       "        vertical-align: top;\n",
       "    }\n",
       "\n",
       "    .dataframe thead th {\n",
       "        text-align: right;\n",
       "    }\n",
       "</style>\n",
       "<table border=\"1\" class=\"dataframe\">\n",
       "  <thead>\n",
       "    <tr style=\"text-align: right;\">\n",
       "      <th></th>\n",
       "      <th>방송일시</th>\n",
       "      <th>노출(분)</th>\n",
       "      <th>마더코드</th>\n",
       "      <th>상품코드</th>\n",
       "      <th>상품명</th>\n",
       "      <th>상품군</th>\n",
       "      <th>판매단가</th>\n",
       "      <th>취급액</th>\n",
       "      <th>판매량</th>\n",
       "      <th>date</th>\n",
       "      <th>hour</th>\n",
       "      <th>weekday</th>\n",
       "      <th>month</th>\n",
       "      <th>day</th>\n",
       "    </tr>\n",
       "  </thead>\n",
       "  <tbody>\n",
       "    <tr>\n",
       "      <th>0</th>\n",
       "      <td>2019-01-01 06:00:00</td>\n",
       "      <td>20</td>\n",
       "      <td>100346</td>\n",
       "      <td>201072</td>\n",
       "      <td>테이트 남성 셀린니트3종</td>\n",
       "      <td>의류</td>\n",
       "      <td>39900</td>\n",
       "      <td>2099000</td>\n",
       "      <td>3.0</td>\n",
       "      <td>2019-01-01</td>\n",
       "      <td>06</td>\n",
       "      <td>2</td>\n",
       "      <td>01</td>\n",
       "      <td>1</td>\n",
       "    </tr>\n",
       "    <tr>\n",
       "      <th>1</th>\n",
       "      <td>2019-01-01 06:00:00</td>\n",
       "      <td>20</td>\n",
       "      <td>100346</td>\n",
       "      <td>201079</td>\n",
       "      <td>테이트 여성 셀린니트3종</td>\n",
       "      <td>의류</td>\n",
       "      <td>39900</td>\n",
       "      <td>4371000</td>\n",
       "      <td>5.0</td>\n",
       "      <td>2019-01-01</td>\n",
       "      <td>06</td>\n",
       "      <td>2</td>\n",
       "      <td>01</td>\n",
       "      <td>1</td>\n",
       "    </tr>\n",
       "    <tr>\n",
       "      <th>2</th>\n",
       "      <td>2019-01-01 06:20:00</td>\n",
       "      <td>20</td>\n",
       "      <td>100346</td>\n",
       "      <td>201072</td>\n",
       "      <td>테이트 남성 셀린니트3종</td>\n",
       "      <td>의류</td>\n",
       "      <td>39900</td>\n",
       "      <td>3262000</td>\n",
       "      <td>4.0</td>\n",
       "      <td>2019-01-01</td>\n",
       "      <td>06</td>\n",
       "      <td>2</td>\n",
       "      <td>01</td>\n",
       "      <td>1</td>\n",
       "    </tr>\n",
       "  </tbody>\n",
       "</table>\n",
       "</div>"
      ],
      "text/plain": [
       "                  방송일시 노출(분)    마더코드    상품코드            상품명 상품군   판매단가  \\\n",
       "0  2019-01-01 06:00:00    20  100346  201072  테이트 남성 셀린니트3종  의류  39900   \n",
       "1  2019-01-01 06:00:00    20  100346  201079  테이트 여성 셀린니트3종  의류  39900   \n",
       "2  2019-01-01 06:20:00    20  100346  201072  테이트 남성 셀린니트3종  의류  39900   \n",
       "\n",
       "       취급액  판매량        date hour weekday month  day  \n",
       "0  2099000  3.0  2019-01-01   06       2    01    1  \n",
       "1  4371000  5.0  2019-01-01   06       2    01    1  \n",
       "2  3262000  4.0  2019-01-01   06       2    01    1  "
      ]
     },
     "execution_count": 3,
     "metadata": {},
     "output_type": "execute_result"
    }
   ],
   "source": [
    "# Train 데이터 날짜변수 생성\n",
    "train_weather['date'] = train_weather['방송일시'].apply(lambda x:x.strftime('%Y-%m-%d'))\n",
    "train_weather['hour'] = train_weather['방송일시'].apply(lambda x:x.strftime('%H'))\n",
    "train_weather['weekday'] = train_weather['방송일시'].apply(lambda x:x.strftime('%w'))\n",
    "train_weather['month'] = train_weather['방송일시'].apply(lambda x:x.strftime('%m'))\n",
    "train_weather['day'] = train_weather['방송일시'].apply(lambda x:x.strftime('%d'))\n",
    "train_weather['day'] = train_weather['day'].astype('int')\n",
    "\n",
    "train_weather.head(3)"
   ]
  },
  {
   "cell_type": "code",
   "execution_count": 4,
   "metadata": {},
   "outputs": [],
   "source": [
    "test_weather = pd.read_excel('./Data/2020 빅콘테스트 데이터분석분야-챔피언리그_2020년 6월 판매실적예측데이터(평가데이터).xlsx')\n",
    "test_weather = test_weather.rename(columns=test_weather.iloc[0])[1:]\n",
    "test_weather_mu = test_weather.loc[test_weather['상품군']=='무형'].reset_index() # 상품군이 무형인 경우 예측하지 않음. 모두 0으로 처리 (*빅콘테스트 공지 참조)\n",
    "test_weather = test_weather.loc[test_weather['상품군']!='무형'].reset_index()"
   ]
  },
  {
   "cell_type": "code",
   "execution_count": 5,
   "metadata": {},
   "outputs": [],
   "source": [
    "test_weather['date'] = test_weather['방송일시'].apply(lambda x:x.strftime('%Y-%m-%d'))\n",
    "test_weather['hour'] = test_weather['방송일시'].apply(lambda x:x.strftime('%H'))\n",
    "test_weather['weekday'] = test_weather['방송일시'].apply(lambda x:x.strftime('%w'))\n",
    "test_weather['month'] = test_weather['방송일시'].apply(lambda x:x.strftime('%m'))\n",
    "test_weather['day']=test_weather['방송일시'].apply(lambda x:x.strftime('%d'))\n",
    "test_weather['day'] = test_weather['day'].astype('int')"
   ]
  },
  {
   "cell_type": "markdown",
   "metadata": {},
   "source": [
    "## 기상변수"
   ]
  },
  {
   "cell_type": "markdown",
   "metadata": {},
   "source": [
    "기상자료 개방 포털 데이터 활용\n",
    "\n",
    "- 기온, 갈풍, 풍량, 호우, 폭염, 폭풍해일 기상 자료들을 수집\n",
    "\n",
    "기상자료 개방 포털 데이터 활용하여 기상에 따른 홈쇼핑 판매량의 차이가 있는지 알아보자   "
   ]
  },
  {
   "cell_type": "markdown",
   "metadata": {},
   "source": [
    "### 호우 주의보"
   ]
  },
  {
   "cell_type": "code",
   "execution_count": 6,
   "metadata": {},
   "outputs": [
    {
     "data": {
      "text/html": [
       "<div>\n",
       "<style scoped>\n",
       "    .dataframe tbody tr th:only-of-type {\n",
       "        vertical-align: middle;\n",
       "    }\n",
       "\n",
       "    .dataframe tbody tr th {\n",
       "        vertical-align: top;\n",
       "    }\n",
       "\n",
       "    .dataframe thead th {\n",
       "        text-align: right;\n",
       "    }\n",
       "</style>\n",
       "<table border=\"1\" class=\"dataframe\">\n",
       "  <thead>\n",
       "    <tr style=\"text-align: right;\">\n",
       "      <th></th>\n",
       "      <th>특보통보</th>\n",
       "      <th>Unnamed: 1</th>\n",
       "    </tr>\n",
       "  </thead>\n",
       "  <tbody>\n",
       "    <tr>\n",
       "      <th>0</th>\n",
       "      <td>발표시각</td>\n",
       "      <td>지역</td>\n",
       "    </tr>\n",
       "    <tr>\n",
       "      <th>1</th>\n",
       "      <td>2019-02-03 4:25</td>\n",
       "      <td>전국</td>\n",
       "    </tr>\n",
       "    <tr>\n",
       "      <th>2</th>\n",
       "      <td>발효시각</td>\n",
       "      <td>NaN</td>\n",
       "    </tr>\n",
       "  </tbody>\n",
       "</table>\n",
       "</div>"
      ],
      "text/plain": [
       "              특보통보 Unnamed: 1\n",
       "0             발표시각         지역\n",
       "1  2019-02-03 4:25         전국\n",
       "2             발효시각        NaN"
      ]
     },
     "execution_count": 6,
     "metadata": {},
     "output_type": "execute_result"
    }
   ],
   "source": [
    "# 2019년 호우 주의보 데이터\n",
    "rain = pd.read_csv('./Weathers/FCT_WRN_호우.csv',encoding='cp949')\n",
    "rain.head(3)"
   ]
  },
  {
   "cell_type": "code",
   "execution_count": 7,
   "metadata": {},
   "outputs": [
    {
     "data": {
      "text/html": [
       "<div>\n",
       "<style scoped>\n",
       "    .dataframe tbody tr th:only-of-type {\n",
       "        vertical-align: middle;\n",
       "    }\n",
       "\n",
       "    .dataframe tbody tr th {\n",
       "        vertical-align: top;\n",
       "    }\n",
       "\n",
       "    .dataframe thead th {\n",
       "        text-align: right;\n",
       "    }\n",
       "</style>\n",
       "<table border=\"1\" class=\"dataframe\">\n",
       "  <thead>\n",
       "    <tr style=\"text-align: right;\">\n",
       "      <th></th>\n",
       "      <th>특보통보</th>\n",
       "    </tr>\n",
       "  </thead>\n",
       "  <tbody>\n",
       "    <tr>\n",
       "      <th>0</th>\n",
       "      <td>(1) 호우주의보 발표 : 2019년 02월 03일 04시 25분</td>\n",
       "    </tr>\n",
       "    <tr>\n",
       "      <th>1</th>\n",
       "      <td>(1) 호우주의보 발표 : 2019년 02월 03일 05시 05분</td>\n",
       "    </tr>\n",
       "    <tr>\n",
       "      <th>2</th>\n",
       "      <td>(3) 호우주의보 해제 : 2019년 02월 03일 09시 00분</td>\n",
       "    </tr>\n",
       "  </tbody>\n",
       "</table>\n",
       "</div>"
      ],
      "text/plain": [
       "                                   특보통보\n",
       "0  (1) 호우주의보 발표 : 2019년 02월 03일 04시 25분\n",
       "1  (1) 호우주의보 발표 : 2019년 02월 03일 05시 05분\n",
       "2  (3) 호우주의보 해제 : 2019년 02월 03일 09시 00분"
      ]
     },
     "execution_count": 7,
     "metadata": {},
     "output_type": "execute_result"
    }
   ],
   "source": [
    "rain = rain.drop('Unnamed: 1',axis=1) # 호우주의보의 발표시각 및 발효시각만을 추출하여 이용\n",
    "rain=rain.loc[rain['특보통보'].str.contains(pat='2019')==True].reset_index(drop=True) # 2019년도 데이터만 추출\n",
    "rain=rain.loc[rain['특보통보'].str.contains(pat='호우주의보')==True].reset_index(drop=True) # 호우주의보 단어가 포함된 문장만 추출\n",
    "\n",
    "rain.head(3) # 호우주의보 발표 및 해제 데이터 생성완료"
   ]
  },
  {
   "cell_type": "code",
   "execution_count": 8,
   "metadata": {},
   "outputs": [
    {
     "data": {
      "application/vnd.jupyter.widget-view+json": {
       "model_id": "eea76a01d532477081d1aa079bba1193",
       "version_major": 2,
       "version_minor": 0
      },
      "text/plain": [
       "HBox(children=(FloatProgress(value=0.0, max=558.0), HTML(value='')))"
      ]
     },
     "metadata": {},
     "output_type": "display_data"
    },
    {
     "name": "stdout",
     "output_type": "stream",
     "text": [
      "\n"
     ]
    },
    {
     "data": {
      "text/html": [
       "<div>\n",
       "<style scoped>\n",
       "    .dataframe tbody tr th:only-of-type {\n",
       "        vertical-align: middle;\n",
       "    }\n",
       "\n",
       "    .dataframe tbody tr th {\n",
       "        vertical-align: top;\n",
       "    }\n",
       "\n",
       "    .dataframe thead th {\n",
       "        text-align: right;\n",
       "    }\n",
       "</style>\n",
       "<table border=\"1\" class=\"dataframe\">\n",
       "  <thead>\n",
       "    <tr style=\"text-align: right;\">\n",
       "      <th></th>\n",
       "      <th>특보통보</th>\n",
       "      <th>구분</th>\n",
       "      <th>year</th>\n",
       "      <th>month</th>\n",
       "      <th>day</th>\n",
       "      <th>hour</th>\n",
       "      <th>minute</th>\n",
       "      <th>date</th>\n",
       "    </tr>\n",
       "  </thead>\n",
       "  <tbody>\n",
       "    <tr>\n",
       "      <th>0</th>\n",
       "      <td>(1) 호우주의보 발표 : 2019년 02월 03일 04시 25분</td>\n",
       "      <td>발표</td>\n",
       "      <td>2019</td>\n",
       "      <td>02</td>\n",
       "      <td>03</td>\n",
       "      <td>04</td>\n",
       "      <td>25</td>\n",
       "      <td>2019-02-03 04:25</td>\n",
       "    </tr>\n",
       "    <tr>\n",
       "      <th>1</th>\n",
       "      <td>(1) 호우주의보 발표 : 2019년 02월 03일 05시 05분</td>\n",
       "      <td>발표</td>\n",
       "      <td>2019</td>\n",
       "      <td>02</td>\n",
       "      <td>03</td>\n",
       "      <td>05</td>\n",
       "      <td>05</td>\n",
       "      <td>2019-02-03 05:05</td>\n",
       "    </tr>\n",
       "    <tr>\n",
       "      <th>2</th>\n",
       "      <td>(3) 호우주의보 해제 : 2019년 02월 03일 09시 00분</td>\n",
       "      <td>해제</td>\n",
       "      <td>2019</td>\n",
       "      <td>02</td>\n",
       "      <td>03</td>\n",
       "      <td>09</td>\n",
       "      <td>00</td>\n",
       "      <td>2019-02-03 09:00</td>\n",
       "    </tr>\n",
       "  </tbody>\n",
       "</table>\n",
       "</div>"
      ],
      "text/plain": [
       "                                   특보통보  구분  year month day hour minute  \\\n",
       "0  (1) 호우주의보 발표 : 2019년 02월 03일 04시 25분  발표  2019    02  03   04     25   \n",
       "1  (1) 호우주의보 발표 : 2019년 02월 03일 05시 05분  발표  2019    02  03   05     05   \n",
       "2  (3) 호우주의보 해제 : 2019년 02월 03일 09시 00분  해제  2019    02  03   09     00   \n",
       "\n",
       "               date  \n",
       "0  2019-02-03 04:25  \n",
       "1  2019-02-03 05:05  \n",
       "2  2019-02-03 09:00  "
      ]
     },
     "execution_count": 8,
     "metadata": {},
     "output_type": "execute_result"
    }
   ],
   "source": [
    "rain['구분'] = pd.Series() # 발표 및 해제를 의미\n",
    "rain['year'] = pd.Series()\n",
    "rain['month'] = pd.Series()\n",
    "rain['day'] = pd.Series()\n",
    "rain['hour'] = pd.Series()\n",
    "rain['minute'] = pd.Series()\n",
    "rain['date'] = pd.Series()\n",
    "\n",
    "for i in tqdm(range(len(rain))):\n",
    "    rain.loc[i,'구분']=rain.loc[i,'특보통보'][10:12]\n",
    "    rain.loc[i,'year']=rain.loc[i,'특보통보'][15:19]\n",
    "    rain.loc[i,'month']=rain.loc[i,'특보통보'][21:23]\n",
    "    rain.loc[i,'day']=rain.loc[i,'특보통보'][25:27]\n",
    "    rain.loc[i,'hour']=rain.loc[i,'특보통보'][29:31]\n",
    "    rain.loc[i,'minute']=rain.loc[i,'특보통보'][33:35]\n",
    "\n",
    "rain['date']=rain['year']+'-'+rain['month']+'-'+rain['day']+' '+rain['hour']+':'+rain['minute'] # 새로운 날짜 형식으로 변수 생성\n",
    "rain=rain[rain['구분']!='변경'] # 발표 및 해제만 사용하기 위함\n",
    "rain=rain.drop_duplicates() # 중복 값 제거\n",
    "rain=rain.reset_index(drop=True) # 인덱스 조정\n",
    "\n",
    "rain.head(3)"
   ]
  },
  {
   "cell_type": "code",
   "execution_count": 9,
   "metadata": {},
   "outputs": [
    {
     "data": {
      "application/vnd.jupyter.widget-view+json": {
       "model_id": "8b0e3e8da3fb41f7b39adcb33d60565f",
       "version_major": 2,
       "version_minor": 0
      },
      "text/plain": [
       "HBox(children=(FloatProgress(value=0.0, max=547.0), HTML(value='')))"
      ]
     },
     "metadata": {},
     "output_type": "display_data"
    },
    {
     "name": "stdout",
     "output_type": "stream",
     "text": [
      "\n"
     ]
    },
    {
     "data": {
      "text/html": [
       "<div>\n",
       "<style scoped>\n",
       "    .dataframe tbody tr th:only-of-type {\n",
       "        vertical-align: middle;\n",
       "    }\n",
       "\n",
       "    .dataframe tbody tr th {\n",
       "        vertical-align: top;\n",
       "    }\n",
       "\n",
       "    .dataframe thead th {\n",
       "        text-align: right;\n",
       "    }\n",
       "</style>\n",
       "<table border=\"1\" class=\"dataframe\">\n",
       "  <thead>\n",
       "    <tr style=\"text-align: right;\">\n",
       "      <th></th>\n",
       "      <th>구분</th>\n",
       "      <th>year</th>\n",
       "      <th>month</th>\n",
       "      <th>day</th>\n",
       "      <th>hour</th>\n",
       "      <th>minute</th>\n",
       "      <th>date</th>\n",
       "    </tr>\n",
       "  </thead>\n",
       "  <tbody>\n",
       "    <tr>\n",
       "      <th>0</th>\n",
       "      <td>발표</td>\n",
       "      <td>2019</td>\n",
       "      <td>02</td>\n",
       "      <td>03</td>\n",
       "      <td>04</td>\n",
       "      <td>25</td>\n",
       "      <td>2019-02-03 04:25:00</td>\n",
       "    </tr>\n",
       "    <tr>\n",
       "      <th>1</th>\n",
       "      <td>해제</td>\n",
       "      <td>2019</td>\n",
       "      <td>02</td>\n",
       "      <td>03</td>\n",
       "      <td>09</td>\n",
       "      <td>00</td>\n",
       "      <td>2019-02-03 09:00:00</td>\n",
       "    </tr>\n",
       "    <tr>\n",
       "      <th>2</th>\n",
       "      <td>발표</td>\n",
       "      <td>2019</td>\n",
       "      <td>02</td>\n",
       "      <td>19</td>\n",
       "      <td>00</td>\n",
       "      <td>00</td>\n",
       "      <td>2019-02-19 00:00:00</td>\n",
       "    </tr>\n",
       "    <tr>\n",
       "      <th>3</th>\n",
       "      <td>해제</td>\n",
       "      <td>2019</td>\n",
       "      <td>02</td>\n",
       "      <td>19</td>\n",
       "      <td>09</td>\n",
       "      <td>00</td>\n",
       "      <td>2019-02-19 09:00:00</td>\n",
       "    </tr>\n",
       "    <tr>\n",
       "      <th>4</th>\n",
       "      <td>발표</td>\n",
       "      <td>2019</td>\n",
       "      <td>03</td>\n",
       "      <td>09</td>\n",
       "      <td>15</td>\n",
       "      <td>00</td>\n",
       "      <td>2019-03-09 15:00:00</td>\n",
       "    </tr>\n",
       "  </tbody>\n",
       "</table>\n",
       "</div>"
      ],
      "text/plain": [
       "   구분  year month day hour minute                date\n",
       "0  발표  2019    02  03   04     25 2019-02-03 04:25:00\n",
       "1  해제  2019    02  03   09     00 2019-02-03 09:00:00\n",
       "2  발표  2019    02  19   00     00 2019-02-19 00:00:00\n",
       "3  해제  2019    02  19   09     00 2019-02-19 09:00:00\n",
       "4  발표  2019    03  09   15     00 2019-03-09 15:00:00"
      ]
     },
     "execution_count": 9,
     "metadata": {},
     "output_type": "execute_result"
    }
   ],
   "source": [
    "raining_list = [0] # 발표와 해제가 순서대로 이루어진 인덱스로 이루어진 리스트\n",
    "\n",
    "# 해제와 발표가 정상적으로 이루어진 경우의 인덱스를 추출하여 변수 생성\n",
    "for i in tqdm(range(len(rain))):\n",
    "    if i == (len(rain)-1):\n",
    "        raining_list.append(i)\n",
    "        break\n",
    "    a = rain.loc[i,'구분']\n",
    "    b = rain.loc[i+1,'구분']\n",
    "    if (a == '해제')&(b=='발표'):\n",
    "        raining_list.append(i)\n",
    "        raining_list.append(i+1)\n",
    "    \n",
    "rain = rain.iloc[raining_list].reset_index(drop=True)\n",
    "rain = rain.drop('특보통보',axis=1)\n",
    "rain['date']=pd.to_datetime(rain['date'],format='%Y-%m-%d %H:%M:%S')\n",
    "\n",
    "with open('./pickles/rain.pkl', 'wb') as f: # 완성된 데이터 셋 pickle 형태로 저장\n",
    "    pickle.dump(rain, f)\n",
    "\n",
    "rain.head(5) # 최종 호우주의보 데이터 셋 생성 완료"
   ]
  },
  {
   "cell_type": "code",
   "execution_count": 10,
   "metadata": {},
   "outputs": [
    {
     "data": {
      "application/vnd.jupyter.widget-view+json": {
       "model_id": "47dc0b65dd54478b84acbf6ed6da50e2",
       "version_major": 2,
       "version_minor": 0
      },
      "text/plain": [
       "HBox(children=(FloatProgress(value=0.0, max=228.0), HTML(value='')))"
      ]
     },
     "metadata": {},
     "output_type": "display_data"
    },
    {
     "name": "stdout",
     "output_type": "stream",
     "text": [
      "\n"
     ]
    }
   ],
   "source": [
    "# Train 데이터에 호우주의보 변수 생성\n",
    "train_weather['rain']=0.0\n",
    "\n",
    "for j in tqdm(range(len(rain))):\n",
    "    if j%2==0:\n",
    "        train_weather.loc[(train_weather['방송일시']>rain['date'][j]) & (train_weather['방송일시']<rain['date'][j+1]),'rain']=1.0"
   ]
  },
  {
   "cell_type": "markdown",
   "metadata": {},
   "source": [
    "#### 막대 그래프를 통한 변수의 유의성 시각화"
   ]
  },
  {
   "cell_type": "code",
   "execution_count": 11,
   "metadata": {},
   "outputs": [
    {
     "data": {
      "image/png": "[encoded data removed]",
      "text/plain": [
       "<Figure size 864x432 with 1 Axes>"
      ]
     },
     "metadata": {
      "needs_background": "light"
     },
     "output_type": "display_data"
    }
   ],
   "source": [
    "rain_group_df = train_weather['판매량'].groupby(train_weather['rain']).mean()\n",
    "\n",
    "title = '호우주의보에 따른 평균 판매량'\n",
    "fig, ax = plt.subplots(figsize = (12, 6))\n",
    "ax.bar(list(rain_group_df.index), rain_group_df)\n",
    "ax.set_xlabel('호우주의보', fontsize = 15)\n",
    "ax.set_xticks([0, 1])\n",
    "ax.set_xticklabels(['미발생', '발생'], fontsize = 10)\n",
    "ax.set_ylabel('분당 판매량', fontsize = 15)\n",
    "ax.set_title(title)\n",
    "plt.savefig(f'./graphs/{title}.png')\n",
    "plt.show()"
   ]
  },
  {
   "cell_type": "markdown",
   "metadata": {},
   "source": [
    "#### T-Test"
   ]
  },
  {
   "cell_type": "markdown",
   "metadata": {},
   "source": [
    "- H0 : 호우주의보 발생 여부에 따른 분당 평균 판매량은 차이가 없다.\n",
    "\n",
    "- H1 : 호우주의보 발생 여부에 따른 분당 평균 판매량은 차이가 있다.\n",
    "\n",
    "두 집단은 독립이므로 등분산 검정을 실시한 후 독립표본 t-검정을 시행한다.   "
   ]
  },
  {
   "cell_type": "code",
   "execution_count": 12,
   "metadata": {},
   "outputs": [
    {
     "name": "stdout",
     "output_type": "stream",
     "text": [
      "LeveneResult(F) : 9.862 \n",
      "p-value : 0.002\n"
     ]
    }
   ],
   "source": [
    "# 등분산 검정\n",
    "# H0 : 두 집단의 분산은 같다.\n",
    "# H1 : 두 집단은 분산은 다르다.\n",
    "rain_0 = train_weather.loc[train_weather['rain'] == 0.0] # 호우주의보 미발령\n",
    "rain_1 = train_weather.loc[train_weather['rain'] == 1.0] # 호우주의보 발령\n",
    "\n",
    "# Levene의 등분산 검정 \n",
    "lresult = stats.levene(rain_0['판매량'], rain_1['판매량'])\n",
    "print('LeveneResult(F) : %.3f \\np-value : %.3f' % (lresult)) "
   ]
  },
  {
   "cell_type": "markdown",
   "metadata": {},
   "source": [
    "- p-value 0.002로 유의확률 0.05보다 작으므로 귀무가설을 기각한다.\n",
    "- 즉, 두 집단의 분산은 다르다는 것을 알 수 있다."
   ]
  },
  {
   "cell_type": "code",
   "execution_count": 13,
   "metadata": {},
   "outputs": [
    {
     "name": "stdout",
     "output_type": "stream",
     "text": [
      "t statistic : -2.146 \n",
      "p-value : 0.032\n"
     ]
    }
   ],
   "source": [
    "# 등분산이 아닌 독립표본 t-검정 실행 \n",
    "t_result = stats.ttest_ind(rain_0['판매량'], rain_1['판매량'], equal_var=False) \n",
    "print('t statistic : %.3f \\np-value : %.3f' % (t_result))"
   ]
  },
  {
   "cell_type": "markdown",
   "metadata": {},
   "source": [
    "두 집단 간 평균 판매량에 대한 T-test를 진행한 결과, p-value가 0.032로 유의확률 0.05보다 작으므로 귀무가설을 기각한다.   \n",
    "즉, 호우주의보 발생 여부에 따른 분단 평균 판매량은 차이가 있다고 할 수 있다.   \n",
    "'호우주의보 발생 여부' 변수를 생성한다."
   ]
  },
  {
   "cell_type": "markdown",
   "metadata": {},
   "source": [
    "해당 대회의 최종 목표는 20년도 6월의 NS 홈쇼핑 판매량 예측이므로, 20년 호우주의보 데이터 셋을 동일하게 활용함"
   ]
  },
  {
   "cell_type": "code",
   "execution_count": 14,
   "metadata": {},
   "outputs": [
    {
     "data": {
      "application/vnd.jupyter.widget-view+json": {
       "model_id": "94ae58a7b3dd4ffc8de25f18fbab4e03",
       "version_major": 2,
       "version_minor": 0
      },
      "text/plain": [
       "HBox(children=(FloatProgress(value=0.0, max=94.0), HTML(value='')))"
      ]
     },
     "metadata": {},
     "output_type": "display_data"
    },
    {
     "name": "stdout",
     "output_type": "stream",
     "text": [
      "\n"
     ]
    },
    {
     "data": {
      "text/html": [
       "<div>\n",
       "<style scoped>\n",
       "    .dataframe tbody tr th:only-of-type {\n",
       "        vertical-align: middle;\n",
       "    }\n",
       "\n",
       "    .dataframe tbody tr th {\n",
       "        vertical-align: top;\n",
       "    }\n",
       "\n",
       "    .dataframe thead th {\n",
       "        text-align: right;\n",
       "    }\n",
       "</style>\n",
       "<table border=\"1\" class=\"dataframe\">\n",
       "  <thead>\n",
       "    <tr style=\"text-align: right;\">\n",
       "      <th></th>\n",
       "      <th>구분</th>\n",
       "      <th>year</th>\n",
       "      <th>month</th>\n",
       "      <th>day</th>\n",
       "      <th>hour</th>\n",
       "      <th>minute</th>\n",
       "      <th>date</th>\n",
       "    </tr>\n",
       "  </thead>\n",
       "  <tbody>\n",
       "    <tr>\n",
       "      <th>0</th>\n",
       "      <td>발표</td>\n",
       "      <td>2020</td>\n",
       "      <td>06</td>\n",
       "      <td>06</td>\n",
       "      <td>17</td>\n",
       "      <td>00</td>\n",
       "      <td>2020-06-06 17:00:00</td>\n",
       "    </tr>\n",
       "    <tr>\n",
       "      <th>1</th>\n",
       "      <td>해제</td>\n",
       "      <td>2020</td>\n",
       "      <td>06</td>\n",
       "      <td>06</td>\n",
       "      <td>20</td>\n",
       "      <td>00</td>\n",
       "      <td>2020-06-06 20:00:00</td>\n",
       "    </tr>\n",
       "    <tr>\n",
       "      <th>2</th>\n",
       "      <td>발표</td>\n",
       "      <td>2020</td>\n",
       "      <td>06</td>\n",
       "      <td>10</td>\n",
       "      <td>22</td>\n",
       "      <td>30</td>\n",
       "      <td>2020-06-10 22:30:00</td>\n",
       "    </tr>\n",
       "  </tbody>\n",
       "</table>\n",
       "</div>"
      ],
      "text/plain": [
       "   구분  year month day hour minute                date\n",
       "0  발표  2020    06  06   17     00 2020-06-06 17:00:00\n",
       "1  해제  2020    06  06   20     00 2020-06-06 20:00:00\n",
       "2  발표  2020    06  10   22     30 2020-06-10 22:30:00"
      ]
     },
     "execution_count": 14,
     "metadata": {},
     "output_type": "execute_result"
    }
   ],
   "source": [
    "# 20년도 호우주의보 발령 데이터\n",
    "rain_20 = pd.read_csv('./Weathers/FCT_WRN_2020_06_호우.csv',encoding='utf-8')\n",
    "rain_20 = rain_20.drop('Unnamed: 1',axis=1)\n",
    "rain_20 = rain_20.loc[rain_20['특보통보'].str.contains(pat='2020')==True].reset_index(drop=True) # 2020년 데이터 추출\n",
    "rain_20 = rain_20.loc[rain_20['특보통보'].str.contains(pat='호우주의보')==True].reset_index(drop=True) # 호우주의보 단어가 포함된 문장만 추출\n",
    "\n",
    "rain_20['구분']=pd.Series()\n",
    "rain_20['year']=pd.Series()\n",
    "rain_20['month']=pd.Series()\n",
    "rain_20['day']=pd.Series()\n",
    "rain_20['hour']=pd.Series()\n",
    "rain_20['minute']=pd.Series()\n",
    "rain_20['date']=pd.Series()\n",
    "\n",
    "for i in tqdm(range(len(rain_20))):\n",
    "    rain_20.loc[i,'구분']=rain_20.loc[i,'특보통보'][10:12]\n",
    "    rain_20.loc[i,'year']=rain_20.loc[i,'특보통보'][15:19]\n",
    "    rain_20.loc[i,'month']=rain_20.loc[i,'특보통보'][21:23]\n",
    "    rain_20.loc[i,'day']=rain_20.loc[i,'특보통보'][25:27]\n",
    "    rain_20.loc[i,'hour']=rain_20.loc[i,'특보통보'][29:31]\n",
    "    rain_20.loc[i,'minute']=rain_20.loc[i,'특보통보'][33:35]\n",
    "\n",
    "rain_20['date']=rain_20['year']+'-'+rain_20['month']+'-'+rain_20['day']+' '+rain_20['hour']+':'+rain_20['minute']\n",
    "rain_20=rain_20[rain_20['구분']!='변경']\n",
    "rain_20=rain_20.drop_duplicates()\n",
    "rain_20=rain_20.reset_index(drop=True)\n",
    "\n",
    "raining_list = [0] # 발표와 해제가 순서대로 이루어진 인덱스로 이루어진 리스트\n",
    "for i in range(len(rain_20)):\n",
    "    if i == (len(rain_20)-1):\n",
    "        raining_list.append(i)\n",
    "        break\n",
    "    a = rain_20.loc[i,'구분']\n",
    "    b = rain_20.loc[i+1,'구분']\n",
    "    if (a == '해제')&(b=='발표'):\n",
    "        raining_list.append(i)\n",
    "        raining_list.append(i+1)\n",
    "\n",
    "rain_20 = rain_20.iloc[raining_list].reset_index(drop=True)\n",
    "rain_20 = rain_20.drop('특보통보',axis=1)\n",
    "rain_20['date']=pd.to_datetime(rain_20['date'],format='%Y-%m-%d %H:%M:%S')\n",
    "\n",
    "with open('./pickles/rain_20.pkl', 'wb') as f: # 완성된 데이터 셋 pickle 형태로 저장\n",
    "    pickle.dump(rain_20, f)\n",
    "\n",
    "rain_20.head(3)"
   ]
  },
  {
   "cell_type": "code",
   "execution_count": 15,
   "metadata": {},
   "outputs": [
    {
     "data": {
      "application/vnd.jupyter.widget-view+json": {
       "model_id": "016b1702636e4a7d857792349e8a709f",
       "version_major": 2,
       "version_minor": 0
      },
      "text/plain": [
       "HBox(children=(FloatProgress(value=0.0, max=36.0), HTML(value='')))"
      ]
     },
     "metadata": {},
     "output_type": "display_data"
    },
    {
     "name": "stdout",
     "output_type": "stream",
     "text": [
      "\n"
     ]
    }
   ],
   "source": [
    "# Test 데이터에 호우주의보 변수 생성\n",
    "test_weather['rain']=0.0\n",
    "\n",
    "for j in tqdm(range(len(rain_20))):\n",
    "    if j%2==0:\n",
    "        test_weather.loc[(test_weather['방송일시']>rain_20['date'][j]) & (test_weather['방송일시']<rain_20['date'][j+1]),'rain']=1.0"
   ]
  },
  {
   "cell_type": "markdown",
   "metadata": {},
   "source": [
    "### 평균기온"
   ]
  },
  {
   "cell_type": "code",
   "execution_count": 16,
   "metadata": {},
   "outputs": [
    {
     "data": {
      "application/vnd.jupyter.widget-view+json": {
       "model_id": "52cad4a184f74507b7be2630140fd763",
       "version_major": 2,
       "version_minor": 0
      },
      "text/plain": [
       "HBox(children=(FloatProgress(value=0.0, max=365.0), HTML(value='')))"
      ]
     },
     "metadata": {},
     "output_type": "display_data"
    },
    {
     "name": "stdout",
     "output_type": "stream",
     "text": [
      "\n"
     ]
    },
    {
     "data": {
      "text/html": [
       "<div>\n",
       "<style scoped>\n",
       "    .dataframe tbody tr th:only-of-type {\n",
       "        vertical-align: middle;\n",
       "    }\n",
       "\n",
       "    .dataframe tbody tr th {\n",
       "        vertical-align: top;\n",
       "    }\n",
       "\n",
       "    .dataframe thead th {\n",
       "        text-align: right;\n",
       "    }\n",
       "</style>\n",
       "<table border=\"1\" class=\"dataframe\">\n",
       "  <thead>\n",
       "    <tr style=\"text-align: right;\">\n",
       "      <th></th>\n",
       "      <th>방송일시</th>\n",
       "      <th>노출(분)</th>\n",
       "      <th>마더코드</th>\n",
       "      <th>상품코드</th>\n",
       "      <th>상품명</th>\n",
       "      <th>상품군</th>\n",
       "      <th>판매단가</th>\n",
       "      <th>취급액</th>\n",
       "      <th>판매량</th>\n",
       "      <th>date</th>\n",
       "      <th>hour</th>\n",
       "      <th>weekday</th>\n",
       "      <th>month</th>\n",
       "      <th>day</th>\n",
       "      <th>rain</th>\n",
       "      <th>temp</th>\n",
       "    </tr>\n",
       "  </thead>\n",
       "  <tbody>\n",
       "    <tr>\n",
       "      <th>0</th>\n",
       "      <td>2019-01-01 06:00:00</td>\n",
       "      <td>20</td>\n",
       "      <td>100346</td>\n",
       "      <td>201072</td>\n",
       "      <td>테이트 남성 셀린니트3종</td>\n",
       "      <td>의류</td>\n",
       "      <td>39900</td>\n",
       "      <td>2099000</td>\n",
       "      <td>3.0</td>\n",
       "      <td>2019-01-01</td>\n",
       "      <td>06</td>\n",
       "      <td>2</td>\n",
       "      <td>01</td>\n",
       "      <td>01</td>\n",
       "      <td>0.0</td>\n",
       "      <td>-2.1</td>\n",
       "    </tr>\n",
       "    <tr>\n",
       "      <th>1</th>\n",
       "      <td>2019-01-01 06:00:00</td>\n",
       "      <td>20</td>\n",
       "      <td>100346</td>\n",
       "      <td>201079</td>\n",
       "      <td>테이트 여성 셀린니트3종</td>\n",
       "      <td>의류</td>\n",
       "      <td>39900</td>\n",
       "      <td>4371000</td>\n",
       "      <td>5.0</td>\n",
       "      <td>2019-01-01</td>\n",
       "      <td>06</td>\n",
       "      <td>2</td>\n",
       "      <td>01</td>\n",
       "      <td>01</td>\n",
       "      <td>0.0</td>\n",
       "      <td>-2.1</td>\n",
       "    </tr>\n",
       "    <tr>\n",
       "      <th>2</th>\n",
       "      <td>2019-01-01 06:20:00</td>\n",
       "      <td>20</td>\n",
       "      <td>100346</td>\n",
       "      <td>201072</td>\n",
       "      <td>테이트 남성 셀린니트3종</td>\n",
       "      <td>의류</td>\n",
       "      <td>39900</td>\n",
       "      <td>3262000</td>\n",
       "      <td>4.0</td>\n",
       "      <td>2019-01-01</td>\n",
       "      <td>06</td>\n",
       "      <td>2</td>\n",
       "      <td>01</td>\n",
       "      <td>01</td>\n",
       "      <td>0.0</td>\n",
       "      <td>-2.1</td>\n",
       "    </tr>\n",
       "  </tbody>\n",
       "</table>\n",
       "</div>"
      ],
      "text/plain": [
       "                  방송일시 노출(분)    마더코드    상품코드            상품명 상품군   판매단가  \\\n",
       "0  2019-01-01 06:00:00    20  100346  201072  테이트 남성 셀린니트3종  의류  39900   \n",
       "1  2019-01-01 06:00:00    20  100346  201079  테이트 여성 셀린니트3종  의류  39900   \n",
       "2  2019-01-01 06:20:00    20  100346  201072  테이트 남성 셀린니트3종  의류  39900   \n",
       "\n",
       "       취급액  판매량        date hour weekday month day  rain  temp  \n",
       "0  2099000  3.0  2019-01-01   06       2    01  01   0.0  -2.1  \n",
       "1  4371000  5.0  2019-01-01   06       2    01  01   0.0  -2.1  \n",
       "2  3262000  4.0  2019-01-01   06       2    01  01   0.0  -2.1  "
      ]
     },
     "execution_count": 16,
     "metadata": {},
     "output_type": "execute_result"
    }
   ],
   "source": [
    "train_weather['day']=train_weather['방송일시'].apply(lambda x:x.strftime('%d'))\n",
    "\n",
    "# 2019년 전국 평균기온 데이터\n",
    "temp=pd.read_csv('./Weathers/2019_평균기온(전국).csv',encoding='cp949')[['날짜','평균기온...']]\n",
    "temp['날짜']=pd.to_datetime(temp['날짜'])\n",
    "temp.columns=['date','temp']\n",
    "temp['day'] = temp['date'].apply(lambda x:x.strftime('%d'))\n",
    "temp['month']=temp['date'].apply(lambda x:x.strftime('%m'))\n",
    "\n",
    "with open('./pickles/temp.pkl', 'wb') as f: # 완성된 데이터 셋 pickle 형태로 저장\n",
    "    pickle.dump(temp, f)\n",
    "\n",
    "# Train 데이터에 평균 기온 변수 생성\n",
    "train_weather['temp']=pd.Series()\n",
    "for i in tqdm(range(len(temp))):\n",
    "    train_weather.loc[(train_weather['month']==temp.loc[i,'month'])&(train_weather['day']==temp.loc[i,'day']),'temp']=temp.loc[i,'temp']\n",
    "    \n",
    "train_weather.head(3)"
   ]
  },
  {
   "cell_type": "code",
   "execution_count": 17,
   "metadata": {},
   "outputs": [
    {
     "data": {
      "application/vnd.jupyter.widget-view+json": {
       "model_id": "da9a01f9f1674783994ef0499f81579f",
       "version_major": 2,
       "version_minor": 0
      },
      "text/plain": [
       "HBox(children=(FloatProgress(value=0.0, max=30.0), HTML(value='')))"
      ]
     },
     "metadata": {},
     "output_type": "display_data"
    },
    {
     "name": "stdout",
     "output_type": "stream",
     "text": [
      "\n"
     ]
    },
    {
     "data": {
      "text/html": [
       "<div>\n",
       "<style scoped>\n",
       "    .dataframe tbody tr th:only-of-type {\n",
       "        vertical-align: middle;\n",
       "    }\n",
       "\n",
       "    .dataframe tbody tr th {\n",
       "        vertical-align: top;\n",
       "    }\n",
       "\n",
       "    .dataframe thead th {\n",
       "        text-align: right;\n",
       "    }\n",
       "</style>\n",
       "<table border=\"1\" class=\"dataframe\">\n",
       "  <thead>\n",
       "    <tr style=\"text-align: right;\">\n",
       "      <th></th>\n",
       "      <th>index</th>\n",
       "      <th>방송일시</th>\n",
       "      <th>노출(분)</th>\n",
       "      <th>마더코드</th>\n",
       "      <th>상품코드</th>\n",
       "      <th>상품명</th>\n",
       "      <th>상품군</th>\n",
       "      <th>판매단가</th>\n",
       "      <th>취급액</th>\n",
       "      <th>date</th>\n",
       "      <th>hour</th>\n",
       "      <th>weekday</th>\n",
       "      <th>month</th>\n",
       "      <th>day</th>\n",
       "      <th>rain</th>\n",
       "      <th>temp</th>\n",
       "    </tr>\n",
       "  </thead>\n",
       "  <tbody>\n",
       "    <tr>\n",
       "      <th>0</th>\n",
       "      <td>1</td>\n",
       "      <td>2020-06-01 06:20:00</td>\n",
       "      <td>20</td>\n",
       "      <td>100650</td>\n",
       "      <td>201971</td>\n",
       "      <td>잭필드 남성  반팔셔츠 4종</td>\n",
       "      <td>의류</td>\n",
       "      <td>59800</td>\n",
       "      <td>NaN</td>\n",
       "      <td>2020-06-01</td>\n",
       "      <td>06</td>\n",
       "      <td>1</td>\n",
       "      <td>06</td>\n",
       "      <td>01</td>\n",
       "      <td>0.0</td>\n",
       "      <td>20.8</td>\n",
       "    </tr>\n",
       "    <tr>\n",
       "      <th>1</th>\n",
       "      <td>2</td>\n",
       "      <td>2020-06-01 06:40:00</td>\n",
       "      <td>20</td>\n",
       "      <td>100650</td>\n",
       "      <td>201971</td>\n",
       "      <td>잭필드 남성  반팔셔츠 4종</td>\n",
       "      <td>의류</td>\n",
       "      <td>59800</td>\n",
       "      <td>NaN</td>\n",
       "      <td>2020-06-01</td>\n",
       "      <td>06</td>\n",
       "      <td>1</td>\n",
       "      <td>06</td>\n",
       "      <td>01</td>\n",
       "      <td>0.0</td>\n",
       "      <td>20.8</td>\n",
       "    </tr>\n",
       "    <tr>\n",
       "      <th>2</th>\n",
       "      <td>3</td>\n",
       "      <td>2020-06-01 07:00:00</td>\n",
       "      <td>20</td>\n",
       "      <td>100650</td>\n",
       "      <td>201971</td>\n",
       "      <td>잭필드 남성  반팔셔츠 4종</td>\n",
       "      <td>의류</td>\n",
       "      <td>59800</td>\n",
       "      <td>NaN</td>\n",
       "      <td>2020-06-01</td>\n",
       "      <td>07</td>\n",
       "      <td>1</td>\n",
       "      <td>06</td>\n",
       "      <td>01</td>\n",
       "      <td>0.0</td>\n",
       "      <td>20.8</td>\n",
       "    </tr>\n",
       "  </tbody>\n",
       "</table>\n",
       "</div>"
      ],
      "text/plain": [
       "   index                 방송일시 노출(분)    마더코드    상품코드              상품명 상품군  \\\n",
       "0      1  2020-06-01 06:20:00    20  100650  201971  잭필드 남성  반팔셔츠 4종  의류   \n",
       "1      2  2020-06-01 06:40:00    20  100650  201971  잭필드 남성  반팔셔츠 4종  의류   \n",
       "2      3  2020-06-01 07:00:00    20  100650  201971  잭필드 남성  반팔셔츠 4종  의류   \n",
       "\n",
       "    판매단가  취급액        date hour weekday month day  rain  temp  \n",
       "0  59800  NaN  2020-06-01   06       1    06  01   0.0  20.8  \n",
       "1  59800  NaN  2020-06-01   06       1    06  01   0.0  20.8  \n",
       "2  59800  NaN  2020-06-01   07       1    06  01   0.0  20.8  "
      ]
     },
     "execution_count": 17,
     "metadata": {},
     "output_type": "execute_result"
    }
   ],
   "source": [
    "# 2020년 전국 평균 기온 데이터\n",
    "test_weather['day']=test_weather['방송일시'].apply(lambda x:x.strftime('%d'))\n",
    "temp_20=pd.read_csv('./Weathers/ta_20200926065302(2020_06_전국평균기온(.csv',encoding='cp949')[['날짜','평균기온(℃)']]\n",
    "temp_20['날짜']=pd.to_datetime(temp_20['날짜'])\n",
    "temp_20.columns=['date','temp']\n",
    "temp_20['day'] = temp_20['date'].apply(lambda x:x.strftime('%d'))\n",
    "temp_20['month']=temp_20['date'].apply(lambda x:x.strftime('%m'))\n",
    "\n",
    "with open('./pickles/temp_20.pkl', 'wb') as f: # 완성된 데이터 셋 pickle 형태로 저장\n",
    "    pickle.dump(temp_20, f)\n",
    "\n",
    "test_weather['temp']=pd.Series()\n",
    "for i in tqdm(range(len(temp_20))):\n",
    "    test_weather.loc[(test_weather['month']==temp_20.loc[i,'month'])&(test_weather['day']==temp_20.loc[i,'day']),'temp']=temp_20.loc[i,'temp']\n",
    "    \n",
    "test_weather.head(3)"
   ]
  },
  {
   "cell_type": "markdown",
   "metadata": {},
   "source": [
    "### 강풍 주의보"
   ]
  },
  {
   "cell_type": "code",
   "execution_count": 18,
   "metadata": {},
   "outputs": [
    {
     "data": {
      "text/html": [
       "<div>\n",
       "<style scoped>\n",
       "    .dataframe tbody tr th:only-of-type {\n",
       "        vertical-align: middle;\n",
       "    }\n",
       "\n",
       "    .dataframe tbody tr th {\n",
       "        vertical-align: top;\n",
       "    }\n",
       "\n",
       "    .dataframe thead th {\n",
       "        text-align: right;\n",
       "    }\n",
       "</style>\n",
       "<table border=\"1\" class=\"dataframe\">\n",
       "  <thead>\n",
       "    <tr style=\"text-align: right;\">\n",
       "      <th></th>\n",
       "      <th>특보통보</th>\n",
       "      <th>Unnamed: 1</th>\n",
       "    </tr>\n",
       "  </thead>\n",
       "  <tbody>\n",
       "    <tr>\n",
       "      <th>0</th>\n",
       "      <td>발표시각</td>\n",
       "      <td>지역</td>\n",
       "    </tr>\n",
       "    <tr>\n",
       "      <th>1</th>\n",
       "      <td>2019-01-01 6:10</td>\n",
       "      <td>전국</td>\n",
       "    </tr>\n",
       "    <tr>\n",
       "      <th>2</th>\n",
       "      <td>발효시각</td>\n",
       "      <td>NaN</td>\n",
       "    </tr>\n",
       "  </tbody>\n",
       "</table>\n",
       "</div>"
      ],
      "text/plain": [
       "              특보통보 Unnamed: 1\n",
       "0             발표시각         지역\n",
       "1  2019-01-01 6:10         전국\n",
       "2             발효시각        NaN"
      ]
     },
     "execution_count": 18,
     "metadata": {},
     "output_type": "execute_result"
    }
   ],
   "source": [
    "# 2019년 강풍 주의보 데이터\n",
    "storm_fore=pd.read_csv('./Weathers/FCT_WRN_강풍.csv',encoding='cp949')\n",
    "storm_fore.head(3)"
   ]
  },
  {
   "cell_type": "code",
   "execution_count": 19,
   "metadata": {},
   "outputs": [
    {
     "data": {
      "text/html": [
       "<div>\n",
       "<style scoped>\n",
       "    .dataframe tbody tr th:only-of-type {\n",
       "        vertical-align: middle;\n",
       "    }\n",
       "\n",
       "    .dataframe tbody tr th {\n",
       "        vertical-align: top;\n",
       "    }\n",
       "\n",
       "    .dataframe thead th {\n",
       "        text-align: right;\n",
       "    }\n",
       "</style>\n",
       "<table border=\"1\" class=\"dataframe\">\n",
       "  <thead>\n",
       "    <tr style=\"text-align: right;\">\n",
       "      <th></th>\n",
       "      <th>특보통보</th>\n",
       "    </tr>\n",
       "  </thead>\n",
       "  <tbody>\n",
       "    <tr>\n",
       "      <th>0</th>\n",
       "      <td>(1) 강풍주의보 발표 : 2019년 01월 01일 06시 10분</td>\n",
       "    </tr>\n",
       "    <tr>\n",
       "      <th>1</th>\n",
       "      <td>(1) 강풍주의보 발표 : 2019년 01월 01일 13시 00분</td>\n",
       "    </tr>\n",
       "    <tr>\n",
       "      <th>2</th>\n",
       "      <td>(1) 강풍주의보 발표 : 2019년 01월 01일 15시 00분</td>\n",
       "    </tr>\n",
       "  </tbody>\n",
       "</table>\n",
       "</div>"
      ],
      "text/plain": [
       "                                   특보통보\n",
       "0  (1) 강풍주의보 발표 : 2019년 01월 01일 06시 10분\n",
       "1  (1) 강풍주의보 발표 : 2019년 01월 01일 13시 00분\n",
       "2  (1) 강풍주의보 발표 : 2019년 01월 01일 15시 00분"
      ]
     },
     "execution_count": 19,
     "metadata": {},
     "output_type": "execute_result"
    }
   ],
   "source": [
    "storm_fore=storm_fore.drop('Unnamed: 1',axis=1)\n",
    "storm_fore=storm_fore.loc[storm_fore['특보통보'].str.contains(pat='2019')==True].reset_index(drop=True) # 2019년 자료 추출\n",
    "storm_fore=storm_fore.loc[storm_fore['특보통보'].str.contains(pat='강풍주의보')==True].reset_index(drop=True) # 강풍주의보 발령 및 해제 문장 추출\n",
    "\n",
    "storm_fore.head(3)"
   ]
  },
  {
   "cell_type": "code",
   "execution_count": 20,
   "metadata": {},
   "outputs": [
    {
     "data": {
      "application/vnd.jupyter.widget-view+json": {
       "model_id": "a9f925381d234b4cb760315e5a8b578e",
       "version_major": 2,
       "version_minor": 0
      },
      "text/plain": [
       "HBox(children=(FloatProgress(value=0.0, max=644.0), HTML(value='')))"
      ]
     },
     "metadata": {},
     "output_type": "display_data"
    },
    {
     "name": "stdout",
     "output_type": "stream",
     "text": [
      "\n"
     ]
    },
    {
     "data": {
      "text/html": [
       "<div>\n",
       "<style scoped>\n",
       "    .dataframe tbody tr th:only-of-type {\n",
       "        vertical-align: middle;\n",
       "    }\n",
       "\n",
       "    .dataframe tbody tr th {\n",
       "        vertical-align: top;\n",
       "    }\n",
       "\n",
       "    .dataframe thead th {\n",
       "        text-align: right;\n",
       "    }\n",
       "</style>\n",
       "<table border=\"1\" class=\"dataframe\">\n",
       "  <thead>\n",
       "    <tr style=\"text-align: right;\">\n",
       "      <th></th>\n",
       "      <th>특보통보</th>\n",
       "      <th>구분</th>\n",
       "      <th>year</th>\n",
       "      <th>month</th>\n",
       "      <th>day</th>\n",
       "      <th>hour</th>\n",
       "      <th>minute</th>\n",
       "      <th>date</th>\n",
       "    </tr>\n",
       "  </thead>\n",
       "  <tbody>\n",
       "    <tr>\n",
       "      <th>0</th>\n",
       "      <td>(1) 강풍주의보 발표 : 2019년 01월 01일 06시 10분</td>\n",
       "      <td>발표</td>\n",
       "      <td>2019</td>\n",
       "      <td>01</td>\n",
       "      <td>01</td>\n",
       "      <td>06</td>\n",
       "      <td>10</td>\n",
       "      <td>2019-01-01 06:10</td>\n",
       "    </tr>\n",
       "    <tr>\n",
       "      <th>1</th>\n",
       "      <td>(1) 강풍주의보 발표 : 2019년 01월 01일 13시 00분</td>\n",
       "      <td>발표</td>\n",
       "      <td>2019</td>\n",
       "      <td>01</td>\n",
       "      <td>01</td>\n",
       "      <td>13</td>\n",
       "      <td>00</td>\n",
       "      <td>2019-01-01 13:00</td>\n",
       "    </tr>\n",
       "    <tr>\n",
       "      <th>2</th>\n",
       "      <td>(1) 강풍주의보 발표 : 2019년 01월 01일 15시 00분</td>\n",
       "      <td>발표</td>\n",
       "      <td>2019</td>\n",
       "      <td>01</td>\n",
       "      <td>01</td>\n",
       "      <td>15</td>\n",
       "      <td>00</td>\n",
       "      <td>2019-01-01 15:00</td>\n",
       "    </tr>\n",
       "  </tbody>\n",
       "</table>\n",
       "</div>"
      ],
      "text/plain": [
       "                                   특보통보  구분  year month day hour minute  \\\n",
       "0  (1) 강풍주의보 발표 : 2019년 01월 01일 06시 10분  발표  2019    01  01   06     10   \n",
       "1  (1) 강풍주의보 발표 : 2019년 01월 01일 13시 00분  발표  2019    01  01   13     00   \n",
       "2  (1) 강풍주의보 발표 : 2019년 01월 01일 15시 00분  발표  2019    01  01   15     00   \n",
       "\n",
       "               date  \n",
       "0  2019-01-01 06:10  \n",
       "1  2019-01-01 13:00  \n",
       "2  2019-01-01 15:00  "
      ]
     },
     "execution_count": 20,
     "metadata": {},
     "output_type": "execute_result"
    }
   ],
   "source": [
    "storm_fore['구분']=pd.Series() # 발령 및 해제\n",
    "storm_fore['year']=pd.Series()\n",
    "storm_fore['month']=pd.Series()\n",
    "storm_fore['day']=pd.Series()\n",
    "storm_fore['hour']=pd.Series()\n",
    "storm_fore['minute']=pd.Series()\n",
    "storm_fore['date']=pd.Series()\n",
    "\n",
    "for i in tqdm(range(len(storm_fore))):\n",
    "    storm_fore.loc[i,'구분']=storm_fore.loc[i,'특보통보'][10:12]\n",
    "    storm_fore.loc[i,'year']=storm_fore.loc[i,'특보통보'][15:19]\n",
    "    storm_fore.loc[i,'month']=storm_fore.loc[i,'특보통보'][21:23]\n",
    "    storm_fore.loc[i,'day']=storm_fore.loc[i,'특보통보'][25:27]\n",
    "    storm_fore.loc[i,'hour']=storm_fore.loc[i,'특보통보'][29:31]\n",
    "    storm_fore.loc[i,'minute']=storm_fore.loc[i,'특보통보'][33:35]\n",
    "\n",
    "storm_fore['date']=storm_fore['year']+'-'+storm_fore['month']+'-'+storm_fore['day']+' '+storm_fore['hour']+':'+storm_fore['minute']\n",
    "\n",
    "# 강풍주의보 발표 및 해제만 사용\n",
    "storm_fore=storm_fore[storm_fore['구분']!='변경']\n",
    "storm_fore=storm_fore[storm_fore['구분']!='연장']\n",
    "storm_fore=storm_fore[storm_fore['구분']!='대치']\n",
    "strom_fore=storm_fore.drop_duplicates()\n",
    "\n",
    "strom_fore.head(3)"
   ]
  },
  {
   "cell_type": "code",
   "execution_count": 21,
   "metadata": {},
   "outputs": [
    {
     "data": {
      "text/html": [
       "<div>\n",
       "<style scoped>\n",
       "    .dataframe tbody tr th:only-of-type {\n",
       "        vertical-align: middle;\n",
       "    }\n",
       "\n",
       "    .dataframe tbody tr th {\n",
       "        vertical-align: top;\n",
       "    }\n",
       "\n",
       "    .dataframe thead th {\n",
       "        text-align: right;\n",
       "    }\n",
       "</style>\n",
       "<table border=\"1\" class=\"dataframe\">\n",
       "  <thead>\n",
       "    <tr style=\"text-align: right;\">\n",
       "      <th></th>\n",
       "      <th>특보통보</th>\n",
       "      <th>구분</th>\n",
       "      <th>year</th>\n",
       "      <th>month</th>\n",
       "      <th>day</th>\n",
       "      <th>hour</th>\n",
       "      <th>minute</th>\n",
       "      <th>date</th>\n",
       "    </tr>\n",
       "  </thead>\n",
       "  <tbody>\n",
       "    <tr>\n",
       "      <th>0</th>\n",
       "      <td>(1) 강풍주의보 발표 : 2019년 01월 01일 06시 10분</td>\n",
       "      <td>발표</td>\n",
       "      <td>2019</td>\n",
       "      <td>01</td>\n",
       "      <td>01</td>\n",
       "      <td>06</td>\n",
       "      <td>10</td>\n",
       "      <td>2019-01-01 06:10:00</td>\n",
       "    </tr>\n",
       "    <tr>\n",
       "      <th>1</th>\n",
       "      <td>(1) 강풍주의보 발표 : 2019년 01월 01일 13시 00분</td>\n",
       "      <td>발표</td>\n",
       "      <td>2019</td>\n",
       "      <td>01</td>\n",
       "      <td>01</td>\n",
       "      <td>13</td>\n",
       "      <td>00</td>\n",
       "      <td>2019-01-01 13:00:00</td>\n",
       "    </tr>\n",
       "    <tr>\n",
       "      <th>2</th>\n",
       "      <td>(1) 강풍주의보 발표 : 2019년 01월 01일 15시 00분</td>\n",
       "      <td>발표</td>\n",
       "      <td>2019</td>\n",
       "      <td>01</td>\n",
       "      <td>01</td>\n",
       "      <td>15</td>\n",
       "      <td>00</td>\n",
       "      <td>2019-01-01 15:00:00</td>\n",
       "    </tr>\n",
       "  </tbody>\n",
       "</table>\n",
       "</div>"
      ],
      "text/plain": [
       "                                   특보통보  구분  year month day hour minute  \\\n",
       "0  (1) 강풍주의보 발표 : 2019년 01월 01일 06시 10분  발표  2019    01  01   06     10   \n",
       "1  (1) 강풍주의보 발표 : 2019년 01월 01일 13시 00분  발표  2019    01  01   13     00   \n",
       "2  (1) 강풍주의보 발표 : 2019년 01월 01일 15시 00분  발표  2019    01  01   15     00   \n",
       "\n",
       "                 date  \n",
       "0 2019-01-01 06:10:00  \n",
       "1 2019-01-01 13:00:00  \n",
       "2 2019-01-01 15:00:00  "
      ]
     },
     "execution_count": 21,
     "metadata": {},
     "output_type": "execute_result"
    }
   ],
   "source": [
    "storm_fore=storm_fore.reset_index(drop=True)\n",
    "storm_fore['date']=pd.to_datetime(storm_fore['date'])\n",
    "storm_fore=storm_fore.sort_values(by=['date']) # 날짜 정렬\n",
    "storm_fore.head(3)"
   ]
  },
  {
   "cell_type": "code",
   "execution_count": 22,
   "metadata": {},
   "outputs": [
    {
     "data": {
      "text/html": [
       "<div>\n",
       "<style scoped>\n",
       "    .dataframe tbody tr th:only-of-type {\n",
       "        vertical-align: middle;\n",
       "    }\n",
       "\n",
       "    .dataframe tbody tr th {\n",
       "        vertical-align: top;\n",
       "    }\n",
       "\n",
       "    .dataframe thead th {\n",
       "        text-align: right;\n",
       "    }\n",
       "</style>\n",
       "<table border=\"1\" class=\"dataframe\">\n",
       "  <thead>\n",
       "    <tr style=\"text-align: right;\">\n",
       "      <th></th>\n",
       "      <th>특보통보</th>\n",
       "      <th>구분</th>\n",
       "      <th>year</th>\n",
       "      <th>month</th>\n",
       "      <th>day</th>\n",
       "      <th>hour</th>\n",
       "      <th>minute</th>\n",
       "      <th>date</th>\n",
       "    </tr>\n",
       "  </thead>\n",
       "  <tbody>\n",
       "    <tr>\n",
       "      <th>0</th>\n",
       "      <td>(1) 강풍주의보 발표 : 2019년 01월 01일 06시 10분</td>\n",
       "      <td>발표</td>\n",
       "      <td>2019</td>\n",
       "      <td>01</td>\n",
       "      <td>01</td>\n",
       "      <td>06</td>\n",
       "      <td>10</td>\n",
       "      <td>2019-01-01 06:10:00</td>\n",
       "    </tr>\n",
       "    <tr>\n",
       "      <th>1</th>\n",
       "      <td>(1) 강풍주의보 해제 : 2019년 01월 02일 04시 00분</td>\n",
       "      <td>해제</td>\n",
       "      <td>2019</td>\n",
       "      <td>01</td>\n",
       "      <td>02</td>\n",
       "      <td>04</td>\n",
       "      <td>00</td>\n",
       "      <td>2019-01-02 04:00:00</td>\n",
       "    </tr>\n",
       "    <tr>\n",
       "      <th>2</th>\n",
       "      <td>(1) 강풍주의보 발표 : 2019년 01월 04일 14시 00분</td>\n",
       "      <td>발표</td>\n",
       "      <td>2019</td>\n",
       "      <td>01</td>\n",
       "      <td>04</td>\n",
       "      <td>14</td>\n",
       "      <td>00</td>\n",
       "      <td>2019-01-04 14:00:00</td>\n",
       "    </tr>\n",
       "  </tbody>\n",
       "</table>\n",
       "</div>"
      ],
      "text/plain": [
       "                                   특보통보  구분  year month day hour minute  \\\n",
       "0  (1) 강풍주의보 발표 : 2019년 01월 01일 06시 10분  발표  2019    01  01   06     10   \n",
       "1  (1) 강풍주의보 해제 : 2019년 01월 02일 04시 00분  해제  2019    01  02   04     00   \n",
       "2  (1) 강풍주의보 발표 : 2019년 01월 04일 14시 00분  발표  2019    01  04   14     00   \n",
       "\n",
       "                 date  \n",
       "0 2019-01-01 06:10:00  \n",
       "1 2019-01-02 04:00:00  \n",
       "2 2019-01-04 14:00:00  "
      ]
     },
     "execution_count": 22,
     "metadata": {},
     "output_type": "execute_result"
    }
   ],
   "source": [
    "storm_list = [0] # 발표와 해제가 순서대로 이루어진 인덱스로 이루어진 리스트\n",
    "\n",
    "# 해제와 발표가 정상적으로 이루어진 경우의 인덱스를 추출하여 변수 생성\n",
    "for i in range(len(storm_fore)):\n",
    "    if i == (len(storm_fore)-1):\n",
    "        storm_list.append(i)\n",
    "        break\n",
    "    a = storm_fore.loc[i,'구분']\n",
    "    b = storm_fore.loc[i+1,'구분']\n",
    "    if (a == '해제')&(b=='발표'):\n",
    "        storm_list.append(i)\n",
    "        storm_list.append(i+1)\n",
    "    \n",
    "storm_fore = storm_fore.iloc[storm_list].reset_index(drop=True)\n",
    "storm_fore = storm_fore.drop([150,151]).reset_index(drop=True)\n",
    "storm_fore['date']=pd.to_datetime(storm_fore['date'])\n",
    "\n",
    "with open('./pickles/storm_fore.pkl', 'wb') as f: # 완성된 데이터 셋 pickle 형태로 저장\n",
    "    pickle.dump(storm_fore, f)\n",
    "\n",
    "storm_fore.head(3)"
   ]
  },
  {
   "cell_type": "code",
   "execution_count": 23,
   "metadata": {},
   "outputs": [
    {
     "data": {
      "text/html": [
       "<div>\n",
       "<style scoped>\n",
       "    .dataframe tbody tr th:only-of-type {\n",
       "        vertical-align: middle;\n",
       "    }\n",
       "\n",
       "    .dataframe tbody tr th {\n",
       "        vertical-align: top;\n",
       "    }\n",
       "\n",
       "    .dataframe thead th {\n",
       "        text-align: right;\n",
       "    }\n",
       "</style>\n",
       "<table border=\"1\" class=\"dataframe\">\n",
       "  <thead>\n",
       "    <tr style=\"text-align: right;\">\n",
       "      <th></th>\n",
       "      <th>방송일시</th>\n",
       "      <th>노출(분)</th>\n",
       "      <th>마더코드</th>\n",
       "      <th>상품코드</th>\n",
       "      <th>상품명</th>\n",
       "      <th>상품군</th>\n",
       "      <th>판매단가</th>\n",
       "      <th>취급액</th>\n",
       "      <th>판매량</th>\n",
       "      <th>date</th>\n",
       "      <th>hour</th>\n",
       "      <th>weekday</th>\n",
       "      <th>month</th>\n",
       "      <th>day</th>\n",
       "      <th>rain</th>\n",
       "      <th>temp</th>\n",
       "      <th>storm</th>\n",
       "    </tr>\n",
       "  </thead>\n",
       "  <tbody>\n",
       "    <tr>\n",
       "      <th>0</th>\n",
       "      <td>2019-01-01 06:00:00</td>\n",
       "      <td>20</td>\n",
       "      <td>100346</td>\n",
       "      <td>201072</td>\n",
       "      <td>테이트 남성 셀린니트3종</td>\n",
       "      <td>의류</td>\n",
       "      <td>39900</td>\n",
       "      <td>2099000</td>\n",
       "      <td>3.0</td>\n",
       "      <td>2019-01-01</td>\n",
       "      <td>06</td>\n",
       "      <td>2</td>\n",
       "      <td>01</td>\n",
       "      <td>01</td>\n",
       "      <td>0.0</td>\n",
       "      <td>-2.1</td>\n",
       "      <td>0.0</td>\n",
       "    </tr>\n",
       "    <tr>\n",
       "      <th>1</th>\n",
       "      <td>2019-01-01 06:00:00</td>\n",
       "      <td>20</td>\n",
       "      <td>100346</td>\n",
       "      <td>201079</td>\n",
       "      <td>테이트 여성 셀린니트3종</td>\n",
       "      <td>의류</td>\n",
       "      <td>39900</td>\n",
       "      <td>4371000</td>\n",
       "      <td>5.0</td>\n",
       "      <td>2019-01-01</td>\n",
       "      <td>06</td>\n",
       "      <td>2</td>\n",
       "      <td>01</td>\n",
       "      <td>01</td>\n",
       "      <td>0.0</td>\n",
       "      <td>-2.1</td>\n",
       "      <td>0.0</td>\n",
       "    </tr>\n",
       "    <tr>\n",
       "      <th>2</th>\n",
       "      <td>2019-01-01 06:20:00</td>\n",
       "      <td>20</td>\n",
       "      <td>100346</td>\n",
       "      <td>201072</td>\n",
       "      <td>테이트 남성 셀린니트3종</td>\n",
       "      <td>의류</td>\n",
       "      <td>39900</td>\n",
       "      <td>3262000</td>\n",
       "      <td>4.0</td>\n",
       "      <td>2019-01-01</td>\n",
       "      <td>06</td>\n",
       "      <td>2</td>\n",
       "      <td>01</td>\n",
       "      <td>01</td>\n",
       "      <td>0.0</td>\n",
       "      <td>-2.1</td>\n",
       "      <td>1.0</td>\n",
       "    </tr>\n",
       "  </tbody>\n",
       "</table>\n",
       "</div>"
      ],
      "text/plain": [
       "                  방송일시 노출(분)    마더코드    상품코드            상품명 상품군   판매단가  \\\n",
       "0  2019-01-01 06:00:00    20  100346  201072  테이트 남성 셀린니트3종  의류  39900   \n",
       "1  2019-01-01 06:00:00    20  100346  201079  테이트 여성 셀린니트3종  의류  39900   \n",
       "2  2019-01-01 06:20:00    20  100346  201072  테이트 남성 셀린니트3종  의류  39900   \n",
       "\n",
       "       취급액  판매량        date hour weekday month day  rain  temp  storm  \n",
       "0  2099000  3.0  2019-01-01   06       2    01  01   0.0  -2.1    0.0  \n",
       "1  4371000  5.0  2019-01-01   06       2    01  01   0.0  -2.1    0.0  \n",
       "2  3262000  4.0  2019-01-01   06       2    01  01   0.0  -2.1    1.0  "
      ]
     },
     "execution_count": 23,
     "metadata": {},
     "output_type": "execute_result"
    }
   ],
   "source": [
    "# Train 데이터에 '강풍 주의보' 변수 생성\n",
    "train_weather['storm']=0.0\n",
    "for j in range(len(storm_fore)):\n",
    "    if j%2==0:\n",
    "        train_weather.loc[(train_weather['방송일시']>storm_fore['date'][j]) & (train_weather['방송일시']<storm_fore['date'][j+1]),'storm']=1.0\n",
    "        \n",
    "train_weather.head(3)"
   ]
  },
  {
   "cell_type": "markdown",
   "metadata": {},
   "source": [
    "#### 막대 그래프를 통한 변수의 유의성 시각화"
   ]
  },
  {
   "cell_type": "code",
   "execution_count": 24,
   "metadata": {},
   "outputs": [
    {
     "data": {
      "text/html": [
       "<div>\n",
       "<style scoped>\n",
       "    .dataframe tbody tr th:only-of-type {\n",
       "        vertical-align: middle;\n",
       "    }\n",
       "\n",
       "    .dataframe tbody tr th {\n",
       "        vertical-align: top;\n",
       "    }\n",
       "\n",
       "    .dataframe thead th {\n",
       "        text-align: right;\n",
       "    }\n",
       "</style>\n",
       "<table border=\"1\" class=\"dataframe\">\n",
       "  <thead>\n",
       "    <tr style=\"text-align: right;\">\n",
       "      <th></th>\n",
       "      <th>방송일시</th>\n",
       "      <th>노출(분)</th>\n",
       "      <th>마더코드</th>\n",
       "      <th>상품코드</th>\n",
       "      <th>상품명</th>\n",
       "      <th>상품군</th>\n",
       "      <th>판매단가</th>\n",
       "      <th>취급액</th>\n",
       "      <th>판매량</th>\n",
       "      <th>date</th>\n",
       "      <th>hour</th>\n",
       "      <th>weekday</th>\n",
       "      <th>month</th>\n",
       "      <th>day</th>\n",
       "      <th>rain</th>\n",
       "      <th>temp</th>\n",
       "      <th>storm</th>\n",
       "    </tr>\n",
       "  </thead>\n",
       "  <tbody>\n",
       "    <tr>\n",
       "      <th>0</th>\n",
       "      <td>2019-01-01 06:00:00</td>\n",
       "      <td>20</td>\n",
       "      <td>100346</td>\n",
       "      <td>201072</td>\n",
       "      <td>테이트 남성 셀린니트3종</td>\n",
       "      <td>의류</td>\n",
       "      <td>39900</td>\n",
       "      <td>2099000</td>\n",
       "      <td>3.0</td>\n",
       "      <td>2019-01-01</td>\n",
       "      <td>06</td>\n",
       "      <td>2</td>\n",
       "      <td>01</td>\n",
       "      <td>01</td>\n",
       "      <td>0.0</td>\n",
       "      <td>-2.1</td>\n",
       "      <td>0.0</td>\n",
       "    </tr>\n",
       "    <tr>\n",
       "      <th>1</th>\n",
       "      <td>2019-01-01 06:00:00</td>\n",
       "      <td>20</td>\n",
       "      <td>100346</td>\n",
       "      <td>201079</td>\n",
       "      <td>테이트 여성 셀린니트3종</td>\n",
       "      <td>의류</td>\n",
       "      <td>39900</td>\n",
       "      <td>4371000</td>\n",
       "      <td>5.0</td>\n",
       "      <td>2019-01-01</td>\n",
       "      <td>06</td>\n",
       "      <td>2</td>\n",
       "      <td>01</td>\n",
       "      <td>01</td>\n",
       "      <td>0.0</td>\n",
       "      <td>-2.1</td>\n",
       "      <td>0.0</td>\n",
       "    </tr>\n",
       "    <tr>\n",
       "      <th>2</th>\n",
       "      <td>2019-01-01 06:20:00</td>\n",
       "      <td>20</td>\n",
       "      <td>100346</td>\n",
       "      <td>201072</td>\n",
       "      <td>테이트 남성 셀린니트3종</td>\n",
       "      <td>의류</td>\n",
       "      <td>39900</td>\n",
       "      <td>3262000</td>\n",
       "      <td>4.0</td>\n",
       "      <td>2019-01-01</td>\n",
       "      <td>06</td>\n",
       "      <td>2</td>\n",
       "      <td>01</td>\n",
       "      <td>01</td>\n",
       "      <td>0.0</td>\n",
       "      <td>-2.1</td>\n",
       "      <td>1.0</td>\n",
       "    </tr>\n",
       "  </tbody>\n",
       "</table>\n",
       "</div>"
      ],
      "text/plain": [
       "                  방송일시 노출(분)    마더코드    상품코드            상품명 상품군   판매단가  \\\n",
       "0  2019-01-01 06:00:00    20  100346  201072  테이트 남성 셀린니트3종  의류  39900   \n",
       "1  2019-01-01 06:00:00    20  100346  201079  테이트 여성 셀린니트3종  의류  39900   \n",
       "2  2019-01-01 06:20:00    20  100346  201072  테이트 남성 셀린니트3종  의류  39900   \n",
       "\n",
       "       취급액  판매량        date hour weekday month day  rain  temp  storm  \n",
       "0  2099000  3.0  2019-01-01   06       2    01  01   0.0  -2.1    0.0  \n",
       "1  4371000  5.0  2019-01-01   06       2    01  01   0.0  -2.1    0.0  \n",
       "2  3262000  4.0  2019-01-01   06       2    01  01   0.0  -2.1    1.0  "
      ]
     },
     "execution_count": 24,
     "metadata": {},
     "output_type": "execute_result"
    }
   ],
   "source": [
    "train_weather.head(3)"
   ]
  },
  {
   "cell_type": "code",
   "execution_count": 25,
   "metadata": {},
   "outputs": [
    {
     "data": {
      "image/png": "[encoded data removed]",
      "text/plain": [
       "<Figure size 864x432 with 1 Axes>"
      ]
     },
     "metadata": {
      "needs_background": "light"
     },
     "output_type": "display_data"
    }
   ],
   "source": [
    "wind_group_df = train_weather['판매량'].groupby(train_weather['storm']).mean()\n",
    "\n",
    "title = '강풍주의보에 따른 평균 판매량'\n",
    "fig, ax = plt.subplots(figsize = (12, 6))\n",
    "ax.bar(list(wind_group_df.index), wind_group_df)\n",
    "ax.set_xlabel('강풍주의보', fontsize = 15)\n",
    "ax.set_xticks([0, 1])\n",
    "ax.set_xticklabels(['미발생', '발생'], fontsize = 10)\n",
    "ax.set_ylabel('분당 판매량', fontsize = 15)\n",
    "ax.set_title(title)\n",
    "plt.savefig(f'./graphs/{title}.png')\n",
    "plt.show()"
   ]
  },
  {
   "cell_type": "markdown",
   "metadata": {},
   "source": [
    "막대 그래프를 확인했을 때, 강풍주의보 여부에 따른 큰 차이는 없어보인다.    \n",
    "하지만, T-test를 진행하여 유의미한 차이가 있는지 알아볼 필요는 존재한다."
   ]
  },
  {
   "cell_type": "markdown",
   "metadata": {},
   "source": [
    "#### T-Test"
   ]
  },
  {
   "cell_type": "markdown",
   "metadata": {},
   "source": [
    "- H0 : 호우주의보 발생 여부에 따른 분당 평균 판매량은 차이가 없다.\n",
    "\n",
    "- H1 : 호우주의보 발생 여부에 따른 분당 평균 판매량은 차이가 있다.\n",
    "\n",
    "두 집단은 독립이므로 등분산 검정을 실시한 후 독립표본 t-검정을 시행한다.   "
   ]
  },
  {
   "cell_type": "code",
   "execution_count": 26,
   "metadata": {},
   "outputs": [
    {
     "name": "stdout",
     "output_type": "stream",
     "text": [
      "LeveneResult(F) : 5.907 \n",
      "p-value : 0.015\n"
     ]
    }
   ],
   "source": [
    "# 등분산 검정\n",
    "# H0 : 두 집단의 분산은 같다.\n",
    "# H1 : 두 집단은 분산은 다르다.\n",
    "storm_0 = train_weather.loc[train_weather['storm'] == 0.0] # 강풍주의보 미발령\n",
    "storm_1 = train_weather.loc[train_weather['storm'] == 1.0] # 강풍주의보 발령\n",
    "\n",
    "# Levene의 등분산 검정 \n",
    "lresult = stats.levene(storm_0['판매량'], storm_1['판매량'])\n",
    "print('LeveneResult(F) : %.3f \\np-value : %.3f' % (lresult)) "
   ]
  },
  {
   "cell_type": "markdown",
   "metadata": {},
   "source": [
    "- p-value 0.027로 유의확률 0.05보다 작으므로 귀무가설을 기각한다.\n",
    "- 즉, 두 집단의 분산은 다르다는 것을 알 수 있다."
   ]
  },
  {
   "cell_type": "code",
   "execution_count": 27,
   "metadata": {},
   "outputs": [
    {
     "name": "stdout",
     "output_type": "stream",
     "text": [
      "t statistic : -2.255 \n",
      "p-value : 0.024\n"
     ]
    }
   ],
   "source": [
    "# 등분산이 아닌 독립표본 t-검정 실행 \n",
    "t_result = stats.ttest_ind(storm_0['판매량'], storm_1['판매량'], equal_var=False) \n",
    "print('t statistic : %.3f \\np-value : %.3f' % (t_result))"
   ]
  },
  {
   "cell_type": "markdown",
   "metadata": {},
   "source": [
    "두 집단 간 평균 판매량에 대한 T-test를 진행한 결과, p-value가 0.024로 유의확률 0.05보다 작으므로 귀무가설을 기각한다.   \n",
    "즉, 강풍주의보 발생 여부에 따른 분단 평균 판매량은 차이가 있다고 할 수 있다.   \n",
    "'호우주의보 발생 여부' 변수를 생성한다."
   ]
  },
  {
   "cell_type": "code",
   "execution_count": 28,
   "metadata": {},
   "outputs": [
    {
     "data": {
      "text/html": [
       "<div>\n",
       "<style scoped>\n",
       "    .dataframe tbody tr th:only-of-type {\n",
       "        vertical-align: middle;\n",
       "    }\n",
       "\n",
       "    .dataframe tbody tr th {\n",
       "        vertical-align: top;\n",
       "    }\n",
       "\n",
       "    .dataframe thead th {\n",
       "        text-align: right;\n",
       "    }\n",
       "</style>\n",
       "<table border=\"1\" class=\"dataframe\">\n",
       "  <thead>\n",
       "    <tr style=\"text-align: right;\">\n",
       "      <th></th>\n",
       "      <th>특보통보</th>\n",
       "      <th>구분</th>\n",
       "      <th>year</th>\n",
       "      <th>month</th>\n",
       "      <th>day</th>\n",
       "      <th>hour</th>\n",
       "      <th>minute</th>\n",
       "      <th>date</th>\n",
       "    </tr>\n",
       "  </thead>\n",
       "  <tbody>\n",
       "    <tr>\n",
       "      <th>0</th>\n",
       "      <td>(1) 강풍주의보 발표 : 2020년 06월 24일 01시 00분</td>\n",
       "      <td>발표</td>\n",
       "      <td>2020</td>\n",
       "      <td>06</td>\n",
       "      <td>24</td>\n",
       "      <td>01</td>\n",
       "      <td>00</td>\n",
       "      <td>2020-06-24 01:00:00</td>\n",
       "    </tr>\n",
       "    <tr>\n",
       "      <th>1</th>\n",
       "      <td>(1) 강풍주의보 해제 : 2020년 06월 24일 19시 30분</td>\n",
       "      <td>해제</td>\n",
       "      <td>2020</td>\n",
       "      <td>06</td>\n",
       "      <td>24</td>\n",
       "      <td>19</td>\n",
       "      <td>30</td>\n",
       "      <td>2020-06-24 19:30:00</td>\n",
       "    </tr>\n",
       "    <tr>\n",
       "      <th>2</th>\n",
       "      <td>(1) 강풍주의보 발표 : 2020년 06월 29일 10시 00분</td>\n",
       "      <td>발표</td>\n",
       "      <td>2020</td>\n",
       "      <td>06</td>\n",
       "      <td>29</td>\n",
       "      <td>10</td>\n",
       "      <td>00</td>\n",
       "      <td>2020-06-29 10:00:00</td>\n",
       "    </tr>\n",
       "  </tbody>\n",
       "</table>\n",
       "</div>"
      ],
      "text/plain": [
       "                                   특보통보  구분  year month day hour minute  \\\n",
       "0  (1) 강풍주의보 발표 : 2020년 06월 24일 01시 00분  발표  2020    06  24   01     00   \n",
       "1  (1) 강풍주의보 해제 : 2020년 06월 24일 19시 30분  해제  2020    06  24   19     30   \n",
       "2  (1) 강풍주의보 발표 : 2020년 06월 29일 10시 00분  발표  2020    06  29   10     00   \n",
       "\n",
       "                 date  \n",
       "0 2020-06-24 01:00:00  \n",
       "1 2020-06-24 19:30:00  \n",
       "2 2020-06-29 10:00:00  "
      ]
     },
     "execution_count": 28,
     "metadata": {},
     "output_type": "execute_result"
    }
   ],
   "source": [
    "# 20년 강풍 주의보 데이터\n",
    "storm_20=pd.read_csv('./Weathers/FCT_WRN_2020_06_강풍.csv',encoding='utf-8')\n",
    "storm_20=storm_20.drop('Unnamed: 1',axis=1)\n",
    "storm_20=storm_20.loc[storm_20['특보통보'].str.contains(pat='2020')==True].reset_index(drop=True)\n",
    "storm_20=storm_20.loc[storm_20['특보통보'].str.contains(pat='강풍주의보')==True].reset_index(drop=True)\n",
    "\n",
    "storm_20['구분']=pd.Series()\n",
    "storm_20['year']=pd.Series()\n",
    "storm_20['month']=pd.Series()\n",
    "storm_20['day']=pd.Series()\n",
    "storm_20['hour']=pd.Series()\n",
    "storm_20['minute']=pd.Series()\n",
    "storm_20['date']=pd.Series()\n",
    "\n",
    "for i in range(len(storm_20)):\n",
    "    storm_20.loc[i,'구분']=storm_20.loc[i,'특보통보'][10:12]\n",
    "    storm_20.loc[i,'year']=storm_20.loc[i,'특보통보'][15:19]\n",
    "    storm_20.loc[i,'month']=storm_20.loc[i,'특보통보'][21:23]\n",
    "    storm_20.loc[i,'day']=storm_20.loc[i,'특보통보'][25:27]\n",
    "    storm_20.loc[i,'hour']=storm_20.loc[i,'특보통보'][29:31]\n",
    "    storm_20.loc[i,'minute']=storm_20.loc[i,'특보통보'][33:35]\n",
    "    \n",
    "storm_20 = storm_20.drop(14).reset_index(drop=True)\n",
    "storm_20['date']=storm_20['year']+'-'+storm_20['month']+'-'+storm_20['day']+' '+storm_20['hour']+':'+storm_20['minute']\n",
    "storm_20=storm_20[storm_20['구분']!='변경']\n",
    "storm_20=storm_20[storm_20['구분']!='연장']\n",
    "storm_20=storm_20[storm_20['구분']!='대치']\n",
    "\n",
    "storm_20=storm_20.drop_duplicates()\n",
    "storm_20=storm_20.reset_index(drop=True)\n",
    "storm_20['date']=pd.to_datetime(storm_20['date'])\n",
    "storm_20=storm_20.sort_values(by=['date'])\n",
    "\n",
    "storm_list = [0]\n",
    "for i in range(len(storm_20)):\n",
    "    if i == (len(storm_20)-1):\n",
    "        storm_list.append(i)\n",
    "        break\n",
    "    a = storm_20.loc[i,'구분']\n",
    "    b = storm_20.loc[i+1,'구분']\n",
    "    if (a == '해제')&(b=='발표'):\n",
    "        storm_list.append(i)\n",
    "        storm_list.append(i+1)\n",
    "    \n",
    "storm_20 = storm_20.iloc[storm_list].reset_index(drop=True)\n",
    "storm_20['date']=pd.to_datetime(storm_20['date'])\n",
    "storm_20.head(3)"
   ]
  },
  {
   "cell_type": "code",
   "execution_count": 29,
   "metadata": {},
   "outputs": [],
   "source": [
    "# Test 데이터 '강풍 주의보' 변수 생성\n",
    "test_weather['storm']=0.0 # 미발생\n",
    "\n",
    "for j in range(len(storm_20)):\n",
    "    if j%2==0:\n",
    "        test_weather.loc[(test_weather['방송일시']>storm_20['date'][j]) & (test_weather['방송일시']<storm_20['date'][j+1]),'storm']=1.0"
   ]
  },
  {
   "cell_type": "markdown",
   "metadata": {},
   "source": [
    "### 폭염주의보"
   ]
  },
  {
   "cell_type": "code",
   "execution_count": 30,
   "metadata": {},
   "outputs": [
    {
     "data": {
      "text/html": [
       "<div>\n",
       "<style scoped>\n",
       "    .dataframe tbody tr th:only-of-type {\n",
       "        vertical-align: middle;\n",
       "    }\n",
       "\n",
       "    .dataframe tbody tr th {\n",
       "        vertical-align: top;\n",
       "    }\n",
       "\n",
       "    .dataframe thead th {\n",
       "        text-align: right;\n",
       "    }\n",
       "</style>\n",
       "<table border=\"1\" class=\"dataframe\">\n",
       "  <thead>\n",
       "    <tr style=\"text-align: right;\">\n",
       "      <th></th>\n",
       "      <th>특보통보</th>\n",
       "      <th>Unnamed: 1</th>\n",
       "    </tr>\n",
       "  </thead>\n",
       "  <tbody>\n",
       "    <tr>\n",
       "      <th>0</th>\n",
       "      <td>발표시각</td>\n",
       "      <td>지역</td>\n",
       "    </tr>\n",
       "    <tr>\n",
       "      <th>1</th>\n",
       "      <td>2019-05-15 15:00</td>\n",
       "      <td>전국</td>\n",
       "    </tr>\n",
       "    <tr>\n",
       "      <th>2</th>\n",
       "      <td>발효시각</td>\n",
       "      <td>NaN</td>\n",
       "    </tr>\n",
       "  </tbody>\n",
       "</table>\n",
       "</div>"
      ],
      "text/plain": [
       "               특보통보 Unnamed: 1\n",
       "0              발표시각         지역\n",
       "1  2019-05-15 15:00         전국\n",
       "2              발효시각        NaN"
      ]
     },
     "execution_count": 30,
     "metadata": {},
     "output_type": "execute_result"
    }
   ],
   "source": [
    "# 2019년 폭염주의보 데이터\n",
    "hot=pd.read_csv('./Weathers/FCT_WRN_폭염.csv',encoding='cp949')\n",
    "hot.head(3)"
   ]
  },
  {
   "cell_type": "code",
   "execution_count": 31,
   "metadata": {},
   "outputs": [
    {
     "data": {
      "text/html": [
       "<div>\n",
       "<style scoped>\n",
       "    .dataframe tbody tr th:only-of-type {\n",
       "        vertical-align: middle;\n",
       "    }\n",
       "\n",
       "    .dataframe tbody tr th {\n",
       "        vertical-align: top;\n",
       "    }\n",
       "\n",
       "    .dataframe thead th {\n",
       "        text-align: right;\n",
       "    }\n",
       "</style>\n",
       "<table border=\"1\" class=\"dataframe\">\n",
       "  <thead>\n",
       "    <tr style=\"text-align: right;\">\n",
       "      <th></th>\n",
       "      <th>특보통보</th>\n",
       "    </tr>\n",
       "  </thead>\n",
       "  <tbody>\n",
       "    <tr>\n",
       "      <th>0</th>\n",
       "      <td>(1) 폭염주의보 발표 : 2019년 05월 15일 15시 00분</td>\n",
       "    </tr>\n",
       "    <tr>\n",
       "      <th>1</th>\n",
       "      <td>(1) 폭염주의보 해제 : 2019년 05월 16일 18시 00분</td>\n",
       "    </tr>\n",
       "    <tr>\n",
       "      <th>2</th>\n",
       "      <td>(1) 폭염주의보 발표 : 2019년 05월 23일 11시 00분</td>\n",
       "    </tr>\n",
       "  </tbody>\n",
       "</table>\n",
       "</div>"
      ],
      "text/plain": [
       "                                   특보통보\n",
       "0  (1) 폭염주의보 발표 : 2019년 05월 15일 15시 00분\n",
       "1  (1) 폭염주의보 해제 : 2019년 05월 16일 18시 00분\n",
       "2  (1) 폭염주의보 발표 : 2019년 05월 23일 11시 00분"
      ]
     },
     "execution_count": 31,
     "metadata": {},
     "output_type": "execute_result"
    }
   ],
   "source": [
    "hot=hot.drop('Unnamed: 1',axis=1)\n",
    "hot=hot.loc[hot['특보통보'].str.contains(pat='폭염')==True].reset_index(drop=True) # 폭염 데이터 추출\n",
    "# 경보와 주의보 두개가 존재하지만 폭염주의보만 활용하기로 한다.\n",
    "hot=hot.loc[hot['특보통보'].str.contains(pat='주의보')==True].reset_index(drop=True) # 폭염주의보 데이터 추출\n",
    "hot=hot.loc[hot['특보통보'].str.contains(pat='2019')==True].reset_index(drop=True) # 2019년 데이터 추출\n",
    "\n",
    "hot.head(3)"
   ]
  },
  {
   "cell_type": "code",
   "execution_count": 32,
   "metadata": {},
   "outputs": [
    {
     "data": {
      "application/vnd.jupyter.widget-view+json": {
       "model_id": "3278fd9112024a41b43ef1cdf2c7cb71",
       "version_major": 2,
       "version_minor": 0
      },
      "text/plain": [
       "HBox(children=(FloatProgress(value=0.0, max=104.0), HTML(value='')))"
      ]
     },
     "metadata": {},
     "output_type": "display_data"
    },
    {
     "name": "stdout",
     "output_type": "stream",
     "text": [
      "\n"
     ]
    },
    {
     "data": {
      "text/html": [
       "<div>\n",
       "<style scoped>\n",
       "    .dataframe tbody tr th:only-of-type {\n",
       "        vertical-align: middle;\n",
       "    }\n",
       "\n",
       "    .dataframe tbody tr th {\n",
       "        vertical-align: top;\n",
       "    }\n",
       "\n",
       "    .dataframe thead th {\n",
       "        text-align: right;\n",
       "    }\n",
       "</style>\n",
       "<table border=\"1\" class=\"dataframe\">\n",
       "  <thead>\n",
       "    <tr style=\"text-align: right;\">\n",
       "      <th></th>\n",
       "      <th>특보통보</th>\n",
       "      <th>구분</th>\n",
       "      <th>year</th>\n",
       "      <th>month</th>\n",
       "      <th>day</th>\n",
       "      <th>hour</th>\n",
       "      <th>minute</th>\n",
       "      <th>date</th>\n",
       "    </tr>\n",
       "  </thead>\n",
       "  <tbody>\n",
       "    <tr>\n",
       "      <th>0</th>\n",
       "      <td>(1) 폭염주의보 발표 : 2019년 05월 15일 15시 00분</td>\n",
       "      <td>발표</td>\n",
       "      <td>2019</td>\n",
       "      <td>05</td>\n",
       "      <td>15</td>\n",
       "      <td>15</td>\n",
       "      <td>00</td>\n",
       "      <td>2019-05-15 15:00</td>\n",
       "    </tr>\n",
       "    <tr>\n",
       "      <th>1</th>\n",
       "      <td>(1) 폭염주의보 해제 : 2019년 05월 16일 18시 00분</td>\n",
       "      <td>해제</td>\n",
       "      <td>2019</td>\n",
       "      <td>05</td>\n",
       "      <td>16</td>\n",
       "      <td>18</td>\n",
       "      <td>00</td>\n",
       "      <td>2019-05-16 18:00</td>\n",
       "    </tr>\n",
       "    <tr>\n",
       "      <th>2</th>\n",
       "      <td>(1) 폭염주의보 발표 : 2019년 05월 23일 11시 00분</td>\n",
       "      <td>발표</td>\n",
       "      <td>2019</td>\n",
       "      <td>05</td>\n",
       "      <td>23</td>\n",
       "      <td>11</td>\n",
       "      <td>00</td>\n",
       "      <td>2019-05-23 11:00</td>\n",
       "    </tr>\n",
       "  </tbody>\n",
       "</table>\n",
       "</div>"
      ],
      "text/plain": [
       "                                   특보통보  구분  year month day hour minute  \\\n",
       "0  (1) 폭염주의보 발표 : 2019년 05월 15일 15시 00분  발표  2019    05  15   15     00   \n",
       "1  (1) 폭염주의보 해제 : 2019년 05월 16일 18시 00분  해제  2019    05  16   18     00   \n",
       "2  (1) 폭염주의보 발표 : 2019년 05월 23일 11시 00분  발표  2019    05  23   11     00   \n",
       "\n",
       "               date  \n",
       "0  2019-05-15 15:00  \n",
       "1  2019-05-16 18:00  \n",
       "2  2019-05-23 11:00  "
      ]
     },
     "execution_count": 32,
     "metadata": {},
     "output_type": "execute_result"
    }
   ],
   "source": [
    "hot['구분']=pd.Series()\n",
    "hot['year']=pd.Series()\n",
    "hot['month']=pd.Series()\n",
    "hot['day']=pd.Series()\n",
    "hot['hour']=pd.Series()\n",
    "hot['minute']=pd.Series()\n",
    "hot['date']=pd.Series()\n",
    "\n",
    "# 해제와 발표가 정상적으로 이루어진 경우의 인덱스를 추출하여 변수 생성\n",
    "for i in tqdm(range(len(hot))):\n",
    "    hot.loc[i,'구분']=hot.loc[i,'특보통보'][10:12]\n",
    "    hot.loc[i,'year']=hot.loc[i,'특보통보'][15:19]\n",
    "    hot.loc[i,'month']=hot.loc[i,'특보통보'][21:23]\n",
    "    hot.loc[i,'day']=hot.loc[i,'특보통보'][25:27]\n",
    "    hot.loc[i,'hour']=hot.loc[i,'특보통보'][29:31]\n",
    "    hot.loc[i,'minute']=hot.loc[i,'특보통보'][33:35]\n",
    "\n",
    "hot['date']=hot['year']+'-'+hot['month']+'-'+hot['day']+' '+hot['hour']+':'+hot['minute']\n",
    "hot=hot[hot['구분']!='변경']\n",
    "hot=hot.drop_duplicates()\n",
    "hot=hot.reset_index(drop=True)\n",
    "hot.head(3)"
   ]
  },
  {
   "cell_type": "code",
   "execution_count": 33,
   "metadata": {},
   "outputs": [
    {
     "data": {
      "application/vnd.jupyter.widget-view+json": {
       "model_id": "f8c35d21f29e428eb87f975f4cab4ef8",
       "version_major": 2,
       "version_minor": 0
      },
      "text/plain": [
       "HBox(children=(FloatProgress(value=0.0, max=88.0), HTML(value='')))"
      ]
     },
     "metadata": {},
     "output_type": "display_data"
    },
    {
     "name": "stdout",
     "output_type": "stream",
     "text": [
      "\n"
     ]
    },
    {
     "data": {
      "text/html": [
       "<div>\n",
       "<style scoped>\n",
       "    .dataframe tbody tr th:only-of-type {\n",
       "        vertical-align: middle;\n",
       "    }\n",
       "\n",
       "    .dataframe tbody tr th {\n",
       "        vertical-align: top;\n",
       "    }\n",
       "\n",
       "    .dataframe thead th {\n",
       "        text-align: right;\n",
       "    }\n",
       "</style>\n",
       "<table border=\"1\" class=\"dataframe\">\n",
       "  <thead>\n",
       "    <tr style=\"text-align: right;\">\n",
       "      <th></th>\n",
       "      <th>구분</th>\n",
       "      <th>year</th>\n",
       "      <th>month</th>\n",
       "      <th>day</th>\n",
       "      <th>hour</th>\n",
       "      <th>minute</th>\n",
       "      <th>date</th>\n",
       "    </tr>\n",
       "  </thead>\n",
       "  <tbody>\n",
       "    <tr>\n",
       "      <th>0</th>\n",
       "      <td>발표</td>\n",
       "      <td>2019</td>\n",
       "      <td>05</td>\n",
       "      <td>15</td>\n",
       "      <td>15</td>\n",
       "      <td>00</td>\n",
       "      <td>2019-05-15 15:00:00</td>\n",
       "    </tr>\n",
       "    <tr>\n",
       "      <th>1</th>\n",
       "      <td>해제</td>\n",
       "      <td>2019</td>\n",
       "      <td>05</td>\n",
       "      <td>16</td>\n",
       "      <td>18</td>\n",
       "      <td>00</td>\n",
       "      <td>2019-05-16 18:00:00</td>\n",
       "    </tr>\n",
       "    <tr>\n",
       "      <th>2</th>\n",
       "      <td>발표</td>\n",
       "      <td>2019</td>\n",
       "      <td>05</td>\n",
       "      <td>23</td>\n",
       "      <td>11</td>\n",
       "      <td>00</td>\n",
       "      <td>2019-05-23 11:00:00</td>\n",
       "    </tr>\n",
       "  </tbody>\n",
       "</table>\n",
       "</div>"
      ],
      "text/plain": [
       "   구분  year month day hour minute                date\n",
       "0  발표  2019    05  15   15     00 2019-05-15 15:00:00\n",
       "1  해제  2019    05  16   18     00 2019-05-16 18:00:00\n",
       "2  발표  2019    05  23   11     00 2019-05-23 11:00:00"
      ]
     },
     "execution_count": 33,
     "metadata": {},
     "output_type": "execute_result"
    }
   ],
   "source": [
    "hotwave_list = [0] # 발표와 해제가 순서대로 이루어진 인덱스로 이루어진 리스트\n",
    "\n",
    "for i in tqdm(range(len(hot))):\n",
    "    if i == (len(hot)-1):\n",
    "        hotwave_list.append(i)\n",
    "        break\n",
    "    a = hot.loc[i,'구분']\n",
    "    b = hot.loc[i+1,'구분']\n",
    "    if (a == '해제')&(b=='발표'):\n",
    "        hotwave_list.append(i)\n",
    "        hotwave_list.append(i+1)\n",
    "    \n",
    "hot = hot.iloc[hotwave_list].reset_index(drop=True)\n",
    "hot = hot.drop('특보통보',axis=1)\n",
    "hot['date']=pd.to_datetime(hot['date'])\n",
    "\n",
    "with open('./pickles/hot.pkl', 'wb') as f: # 완성된 데이터 셋 pickle 형태로 저장\n",
    "    pickle.dump(hot, f)\n",
    "\n",
    "hot.head(3)"
   ]
  },
  {
   "cell_type": "code",
   "execution_count": 34,
   "metadata": {},
   "outputs": [
    {
     "data": {
      "application/vnd.jupyter.widget-view+json": {
       "model_id": "386ea71815f34960a5b5d147ac7db6ad",
       "version_major": 2,
       "version_minor": 0
      },
      "text/plain": [
       "HBox(children=(FloatProgress(value=0.0, max=34.0), HTML(value='')))"
      ]
     },
     "metadata": {},
     "output_type": "display_data"
    },
    {
     "name": "stdout",
     "output_type": "stream",
     "text": [
      "\n"
     ]
    },
    {
     "data": {
      "text/html": [
       "<div>\n",
       "<style scoped>\n",
       "    .dataframe tbody tr th:only-of-type {\n",
       "        vertical-align: middle;\n",
       "    }\n",
       "\n",
       "    .dataframe tbody tr th {\n",
       "        vertical-align: top;\n",
       "    }\n",
       "\n",
       "    .dataframe thead th {\n",
       "        text-align: right;\n",
       "    }\n",
       "</style>\n",
       "<table border=\"1\" class=\"dataframe\">\n",
       "  <thead>\n",
       "    <tr style=\"text-align: right;\">\n",
       "      <th></th>\n",
       "      <th>방송일시</th>\n",
       "      <th>노출(분)</th>\n",
       "      <th>마더코드</th>\n",
       "      <th>상품코드</th>\n",
       "      <th>상품명</th>\n",
       "      <th>상품군</th>\n",
       "      <th>판매단가</th>\n",
       "      <th>취급액</th>\n",
       "      <th>판매량</th>\n",
       "      <th>date</th>\n",
       "      <th>hour</th>\n",
       "      <th>weekday</th>\n",
       "      <th>month</th>\n",
       "      <th>day</th>\n",
       "      <th>rain</th>\n",
       "      <th>temp</th>\n",
       "      <th>storm</th>\n",
       "      <th>hot</th>\n",
       "    </tr>\n",
       "  </thead>\n",
       "  <tbody>\n",
       "    <tr>\n",
       "      <th>0</th>\n",
       "      <td>2019-01-01 06:00:00</td>\n",
       "      <td>20</td>\n",
       "      <td>100346</td>\n",
       "      <td>201072</td>\n",
       "      <td>테이트 남성 셀린니트3종</td>\n",
       "      <td>의류</td>\n",
       "      <td>39900</td>\n",
       "      <td>2099000</td>\n",
       "      <td>3.0</td>\n",
       "      <td>2019-01-01</td>\n",
       "      <td>06</td>\n",
       "      <td>2</td>\n",
       "      <td>01</td>\n",
       "      <td>01</td>\n",
       "      <td>0.0</td>\n",
       "      <td>-2.1</td>\n",
       "      <td>0.0</td>\n",
       "      <td>0.0</td>\n",
       "    </tr>\n",
       "    <tr>\n",
       "      <th>1</th>\n",
       "      <td>2019-01-01 06:00:00</td>\n",
       "      <td>20</td>\n",
       "      <td>100346</td>\n",
       "      <td>201079</td>\n",
       "      <td>테이트 여성 셀린니트3종</td>\n",
       "      <td>의류</td>\n",
       "      <td>39900</td>\n",
       "      <td>4371000</td>\n",
       "      <td>5.0</td>\n",
       "      <td>2019-01-01</td>\n",
       "      <td>06</td>\n",
       "      <td>2</td>\n",
       "      <td>01</td>\n",
       "      <td>01</td>\n",
       "      <td>0.0</td>\n",
       "      <td>-2.1</td>\n",
       "      <td>0.0</td>\n",
       "      <td>0.0</td>\n",
       "    </tr>\n",
       "    <tr>\n",
       "      <th>2</th>\n",
       "      <td>2019-01-01 06:20:00</td>\n",
       "      <td>20</td>\n",
       "      <td>100346</td>\n",
       "      <td>201072</td>\n",
       "      <td>테이트 남성 셀린니트3종</td>\n",
       "      <td>의류</td>\n",
       "      <td>39900</td>\n",
       "      <td>3262000</td>\n",
       "      <td>4.0</td>\n",
       "      <td>2019-01-01</td>\n",
       "      <td>06</td>\n",
       "      <td>2</td>\n",
       "      <td>01</td>\n",
       "      <td>01</td>\n",
       "      <td>0.0</td>\n",
       "      <td>-2.1</td>\n",
       "      <td>1.0</td>\n",
       "      <td>0.0</td>\n",
       "    </tr>\n",
       "  </tbody>\n",
       "</table>\n",
       "</div>"
      ],
      "text/plain": [
       "                  방송일시 노출(분)    마더코드    상품코드            상품명 상품군   판매단가  \\\n",
       "0  2019-01-01 06:00:00    20  100346  201072  테이트 남성 셀린니트3종  의류  39900   \n",
       "1  2019-01-01 06:00:00    20  100346  201079  테이트 여성 셀린니트3종  의류  39900   \n",
       "2  2019-01-01 06:20:00    20  100346  201072  테이트 남성 셀린니트3종  의류  39900   \n",
       "\n",
       "       취급액  판매량        date hour weekday month day  rain  temp  storm  hot  \n",
       "0  2099000  3.0  2019-01-01   06       2    01  01   0.0  -2.1    0.0  0.0  \n",
       "1  4371000  5.0  2019-01-01   06       2    01  01   0.0  -2.1    0.0  0.0  \n",
       "2  3262000  4.0  2019-01-01   06       2    01  01   0.0  -2.1    1.0  0.0  "
      ]
     },
     "execution_count": 34,
     "metadata": {},
     "output_type": "execute_result"
    }
   ],
   "source": [
    "# Train 데이터에 '폭염 주의보' 변수 생성\n",
    "train_weather['hot']=0.0\n",
    "\n",
    "for j in tqdm(range(len(hot))):\n",
    "    if j%2==0:\n",
    "        train_weather.loc[(train_weather['방송일시']>hot['date'][j]) & (train_weather['방송일시']<hot['date'][j+1]),'hot']=1.0\n",
    "        \n",
    "train_weather.head(3)    "
   ]
  },
  {
   "cell_type": "markdown",
   "metadata": {},
   "source": [
    "#### 막대 그래프를 통한 변수의 유의성 시각화"
   ]
  },
  {
   "cell_type": "code",
   "execution_count": 35,
   "metadata": {},
   "outputs": [
    {
     "data": {
      "image/png": "[encoded data removed]",
      "text/plain": [
       "<Figure size 864x432 with 1 Axes>"
      ]
     },
     "metadata": {
      "needs_background": "light"
     },
     "output_type": "display_data"
    }
   ],
   "source": [
    "hot_group_df = train_weather['판매량'].groupby(train_weather['hot']).mean()\n",
    "\n",
    "title = '폭염주의보에 따른 평균 판매량'\n",
    "fig, ax = plt.subplots(figsize = (12, 6))\n",
    "ax.bar(list(hot_group_df.index), hot_group_df)\n",
    "ax.set_xlabel('폭염주의보', fontsize = 15)\n",
    "ax.set_xticks([0, 1])\n",
    "ax.set_xticklabels(['미발생', '발생'], fontsize = 10)\n",
    "ax.set_ylabel('분당 판매량', fontsize = 15)\n",
    "ax.set_title(title)\n",
    "plt.savefig(f'./graphs/{title}.png')\n",
    "plt.show()"
   ]
  },
  {
   "cell_type": "markdown",
   "metadata": {},
   "source": [
    "막대 그래프를 확인했을 때, 강풍주의보 여부에 따른 큰 차이는 없어보인다.    \n",
    "하지만, T-test를 진행하여 유의미한 차이가 있는지 알아볼 필요는 존재한다."
   ]
  },
  {
   "cell_type": "markdown",
   "metadata": {},
   "source": [
    "#### T-Test"
   ]
  },
  {
   "cell_type": "markdown",
   "metadata": {},
   "source": [
    "- H0 : 폭염주의보 발생 여부에 따른 분당 평균 판매량은 차이가 없다.\n",
    "\n",
    "- H1 : 폭염주의보 발생 여부에 따른 분당 평균 판매량은 차이가 있다.\n",
    "\n",
    "두 집단은 독립이므로 등분산 검정을 실시한 후 독립표본 t-검정을 시행한다.   "
   ]
  },
  {
   "cell_type": "code",
   "execution_count": 36,
   "metadata": {},
   "outputs": [
    {
     "name": "stdout",
     "output_type": "stream",
     "text": [
      "LeveneResult(F) : 15.271 \n",
      "p-value : 0.000\n"
     ]
    }
   ],
   "source": [
    "# 등분산 검정\n",
    "# H0 : 두 집단의 분산은 같다.\n",
    "# H1 : 두 집단은 분산은 다르다.\n",
    "hot_0 = train_weather.loc[train_weather['hot'] == 0.0] # 폭염주의보 미발령\n",
    "hot_1 = train_weather.loc[train_weather['hot'] == 1.0] # 폭염주의보 발령\n",
    "\n",
    "# Levene의 등분산 검정 \n",
    "lresult = stats.levene(hot_0['판매량'], hot_1['판매량'])\n",
    "print('LeveneResult(F) : %.3f \\np-value : %.3f' % (lresult)) "
   ]
  },
  {
   "cell_type": "markdown",
   "metadata": {},
   "source": [
    "- p-value 0.000로 유의확률 0.05보다 작으므로 귀무가설을 기각한다.\n",
    "- 즉, 두 집단의 분산은 다르다는 것을 알 수 있다."
   ]
  },
  {
   "cell_type": "code",
   "execution_count": 37,
   "metadata": {},
   "outputs": [
    {
     "name": "stdout",
     "output_type": "stream",
     "text": [
      "t statistic : -3.981 \n",
      "p-value : 0.000\n"
     ]
    }
   ],
   "source": [
    "# 등분산이 아닌 독립표본 t-검정 실행 \n",
    "t_result = stats.ttest_ind(hot_0['판매량'], hot_1['판매량'], equal_var=False) \n",
    "print('t statistic : %.3f \\np-value : %.3f' % (t_result))"
   ]
  },
  {
   "cell_type": "markdown",
   "metadata": {},
   "source": [
    "두 집단 간 평균 판매량에 대한 T-test를 진행한 결과, p-value가 0.000로 유의확률 0.05보다 작으므로 귀무가설을 기각한다.   \n",
    "즉, 폭염주의보 발생 여부에 따른 분단 평균 판매량은 차이가 있다고 할 수 있다.   \n",
    "'폭염주의보 발생 여부' 변수를 생성한다."
   ]
  },
  {
   "cell_type": "code",
   "execution_count": 38,
   "metadata": {},
   "outputs": [
    {
     "data": {
      "application/vnd.jupyter.widget-view+json": {
       "model_id": "4480526c63914504a9700b0832c081a7",
       "version_major": 2,
       "version_minor": 0
      },
      "text/plain": [
       "HBox(children=(FloatProgress(value=0.0, max=22.0), HTML(value='')))"
      ]
     },
     "metadata": {},
     "output_type": "display_data"
    },
    {
     "name": "stdout",
     "output_type": "stream",
     "text": [
      "\n"
     ]
    },
    {
     "data": {
      "application/vnd.jupyter.widget-view+json": {
       "model_id": "3d9caf7be14e48af953fa5e44bfd872c",
       "version_major": 2,
       "version_minor": 0
      },
      "text/plain": [
       "HBox(children=(FloatProgress(value=0.0, max=18.0), HTML(value='')))"
      ]
     },
     "metadata": {},
     "output_type": "display_data"
    },
    {
     "name": "stdout",
     "output_type": "stream",
     "text": [
      "\n"
     ]
    },
    {
     "data": {
      "text/html": [
       "<div>\n",
       "<style scoped>\n",
       "    .dataframe tbody tr th:only-of-type {\n",
       "        vertical-align: middle;\n",
       "    }\n",
       "\n",
       "    .dataframe tbody tr th {\n",
       "        vertical-align: top;\n",
       "    }\n",
       "\n",
       "    .dataframe thead th {\n",
       "        text-align: right;\n",
       "    }\n",
       "</style>\n",
       "<table border=\"1\" class=\"dataframe\">\n",
       "  <thead>\n",
       "    <tr style=\"text-align: right;\">\n",
       "      <th></th>\n",
       "      <th>구분</th>\n",
       "      <th>year</th>\n",
       "      <th>month</th>\n",
       "      <th>day</th>\n",
       "      <th>hour</th>\n",
       "      <th>minute</th>\n",
       "      <th>date</th>\n",
       "    </tr>\n",
       "  </thead>\n",
       "  <tbody>\n",
       "    <tr>\n",
       "      <th>0</th>\n",
       "      <td>발표</td>\n",
       "      <td>2020</td>\n",
       "      <td>06</td>\n",
       "      <td>04</td>\n",
       "      <td>11</td>\n",
       "      <td>00</td>\n",
       "      <td>2020-06-04 11:00:00</td>\n",
       "    </tr>\n",
       "    <tr>\n",
       "      <th>1</th>\n",
       "      <td>해제</td>\n",
       "      <td>2020</td>\n",
       "      <td>06</td>\n",
       "      <td>05</td>\n",
       "      <td>17</td>\n",
       "      <td>00</td>\n",
       "      <td>2020-06-05 17:00:00</td>\n",
       "    </tr>\n",
       "    <tr>\n",
       "      <th>2</th>\n",
       "      <td>발표</td>\n",
       "      <td>2020</td>\n",
       "      <td>06</td>\n",
       "      <td>08</td>\n",
       "      <td>11</td>\n",
       "      <td>00</td>\n",
       "      <td>2020-06-08 11:00:00</td>\n",
       "    </tr>\n",
       "  </tbody>\n",
       "</table>\n",
       "</div>"
      ],
      "text/plain": [
       "   구분  year month day hour minute                date\n",
       "0  발표  2020    06  04   11     00 2020-06-04 11:00:00\n",
       "1  해제  2020    06  05   17     00 2020-06-05 17:00:00\n",
       "2  발표  2020    06  08   11     00 2020-06-08 11:00:00"
      ]
     },
     "execution_count": 38,
     "metadata": {},
     "output_type": "execute_result"
    }
   ],
   "source": [
    "# 2020년 폭염주의보 자료\n",
    "hot_20=pd.read_csv('./Weathers/FCT_WRN_2020_06_폭염.csv',encoding='utf-8')\n",
    "hot_20=hot_20.drop('Unnamed: 1',axis=1)\n",
    "\n",
    "hot_20=hot_20.loc[hot_20['특보통보'].str.contains(pat='폭염')==True].reset_index(drop=True)\n",
    "hot_20=hot_20.loc[hot_20['특보통보'].str.contains(pat='주의보')==True].reset_index(drop=True)\n",
    "hot_20=hot_20.loc[hot_20['특보통보'].str.contains(pat='2020')==True].reset_index(drop=True)\n",
    "\n",
    "hot_20['구분']=pd.Series()\n",
    "hot_20['year']=pd.Series()\n",
    "hot_20['month']=pd.Series()\n",
    "hot_20['day']=pd.Series()\n",
    "hot_20['hour']=pd.Series()\n",
    "hot_20['minute']=pd.Series()\n",
    "hot_20['date']=pd.Series()\n",
    "\n",
    "for i in tqdm(range(len(hot_20))):\n",
    "    hot_20.loc[i,'구분']=hot_20.loc[i,'특보통보'][10:12]\n",
    "    hot_20.loc[i,'year']=hot_20.loc[i,'특보통보'][15:19]\n",
    "    hot_20.loc[i,'month']=hot_20.loc[i,'특보통보'][21:23]\n",
    "    hot_20.loc[i,'day']=hot_20.loc[i,'특보통보'][25:27]\n",
    "    hot_20.loc[i,'hour']=hot_20.loc[i,'특보통보'][29:31]\n",
    "    hot_20.loc[i,'minute']=hot_20.loc[i,'특보통보'][33:35]\n",
    "\n",
    "hot_20['date']=hot_20['year']+'-'+hot_20['month']+'-'+hot_20['day']+' '+hot_20['hour']+':'+hot_20['minute']\n",
    "hot_20=hot_20[hot_20['구분']!='변경']\n",
    "hot_20=hot_20.drop_duplicates()\n",
    "hot_20=hot_20.reset_index(drop=True)\n",
    "hot_wave_list = [0] # 발표와 해제가 순서대로 이루어진 인덱스로 이루어진 리스트\n",
    "\n",
    "for i in tqdm(range(len(hot_20))):\n",
    "    if i == (len(hot_20)-1):\n",
    "        hot_wave_list.append(i)\n",
    "        break\n",
    "    a = hot_20.loc[i,'구분']\n",
    "    b = hot_20.loc[i+1,'구분']\n",
    "    if (a == '해제')&(b=='발표'):\n",
    "        hot_wave_list.append(i)\n",
    "        hot_wave_list.append(i+1)\n",
    "        \n",
    "hot_20 = hot_20.iloc[hot_wave_list].reset_index(drop=True)\n",
    "hot_20=hot_20.drop('특보통보',axis=1)\n",
    "hot_20['date']=pd.to_datetime(hot_20['date'])\n",
    "\n",
    "with open('./pickles/hot_20.pkl', 'wb') as f: # 완성된 데이터 셋 pickle 형태로 저장\n",
    "    pickle.dump(hot_20, f)\n",
    "\n",
    "hot_20.head(3)"
   ]
  },
  {
   "cell_type": "code",
   "execution_count": 39,
   "metadata": {},
   "outputs": [
    {
     "data": {
      "text/html": [
       "<div>\n",
       "<style scoped>\n",
       "    .dataframe tbody tr th:only-of-type {\n",
       "        vertical-align: middle;\n",
       "    }\n",
       "\n",
       "    .dataframe tbody tr th {\n",
       "        vertical-align: top;\n",
       "    }\n",
       "\n",
       "    .dataframe thead th {\n",
       "        text-align: right;\n",
       "    }\n",
       "</style>\n",
       "<table border=\"1\" class=\"dataframe\">\n",
       "  <thead>\n",
       "    <tr style=\"text-align: right;\">\n",
       "      <th></th>\n",
       "      <th>index</th>\n",
       "      <th>방송일시</th>\n",
       "      <th>노출(분)</th>\n",
       "      <th>마더코드</th>\n",
       "      <th>상품코드</th>\n",
       "      <th>상품명</th>\n",
       "      <th>상품군</th>\n",
       "      <th>판매단가</th>\n",
       "      <th>취급액</th>\n",
       "      <th>date</th>\n",
       "      <th>hour</th>\n",
       "      <th>weekday</th>\n",
       "      <th>month</th>\n",
       "      <th>day</th>\n",
       "      <th>rain</th>\n",
       "      <th>temp</th>\n",
       "      <th>storm</th>\n",
       "      <th>hot</th>\n",
       "    </tr>\n",
       "  </thead>\n",
       "  <tbody>\n",
       "    <tr>\n",
       "      <th>0</th>\n",
       "      <td>1</td>\n",
       "      <td>2020-06-01 06:20:00</td>\n",
       "      <td>20</td>\n",
       "      <td>100650</td>\n",
       "      <td>201971</td>\n",
       "      <td>잭필드 남성  반팔셔츠 4종</td>\n",
       "      <td>의류</td>\n",
       "      <td>59800</td>\n",
       "      <td>NaN</td>\n",
       "      <td>2020-06-01</td>\n",
       "      <td>06</td>\n",
       "      <td>1</td>\n",
       "      <td>06</td>\n",
       "      <td>01</td>\n",
       "      <td>0.0</td>\n",
       "      <td>20.8</td>\n",
       "      <td>0.0</td>\n",
       "      <td>0.0</td>\n",
       "    </tr>\n",
       "    <tr>\n",
       "      <th>1</th>\n",
       "      <td>2</td>\n",
       "      <td>2020-06-01 06:40:00</td>\n",
       "      <td>20</td>\n",
       "      <td>100650</td>\n",
       "      <td>201971</td>\n",
       "      <td>잭필드 남성  반팔셔츠 4종</td>\n",
       "      <td>의류</td>\n",
       "      <td>59800</td>\n",
       "      <td>NaN</td>\n",
       "      <td>2020-06-01</td>\n",
       "      <td>06</td>\n",
       "      <td>1</td>\n",
       "      <td>06</td>\n",
       "      <td>01</td>\n",
       "      <td>0.0</td>\n",
       "      <td>20.8</td>\n",
       "      <td>0.0</td>\n",
       "      <td>0.0</td>\n",
       "    </tr>\n",
       "    <tr>\n",
       "      <th>2</th>\n",
       "      <td>3</td>\n",
       "      <td>2020-06-01 07:00:00</td>\n",
       "      <td>20</td>\n",
       "      <td>100650</td>\n",
       "      <td>201971</td>\n",
       "      <td>잭필드 남성  반팔셔츠 4종</td>\n",
       "      <td>의류</td>\n",
       "      <td>59800</td>\n",
       "      <td>NaN</td>\n",
       "      <td>2020-06-01</td>\n",
       "      <td>07</td>\n",
       "      <td>1</td>\n",
       "      <td>06</td>\n",
       "      <td>01</td>\n",
       "      <td>0.0</td>\n",
       "      <td>20.8</td>\n",
       "      <td>0.0</td>\n",
       "      <td>0.0</td>\n",
       "    </tr>\n",
       "  </tbody>\n",
       "</table>\n",
       "</div>"
      ],
      "text/plain": [
       "   index                 방송일시 노출(분)    마더코드    상품코드              상품명 상품군  \\\n",
       "0      1  2020-06-01 06:20:00    20  100650  201971  잭필드 남성  반팔셔츠 4종  의류   \n",
       "1      2  2020-06-01 06:40:00    20  100650  201971  잭필드 남성  반팔셔츠 4종  의류   \n",
       "2      3  2020-06-01 07:00:00    20  100650  201971  잭필드 남성  반팔셔츠 4종  의류   \n",
       "\n",
       "    판매단가  취급액        date hour weekday month day  rain  temp  storm  hot  \n",
       "0  59800  NaN  2020-06-01   06       1    06  01   0.0  20.8    0.0  0.0  \n",
       "1  59800  NaN  2020-06-01   06       1    06  01   0.0  20.8    0.0  0.0  \n",
       "2  59800  NaN  2020-06-01   07       1    06  01   0.0  20.8    0.0  0.0  "
      ]
     },
     "execution_count": 39,
     "metadata": {},
     "output_type": "execute_result"
    }
   ],
   "source": [
    "# Test 데이터에 '폭염주의보' 변수 생성\n",
    "test_weather['hot']=0.0\n",
    "\n",
    "for j in range(len(hot_20)):\n",
    "    if j%2==0:\n",
    "        test_weather.loc[(test_weather['방송일시']>hot_20['date'][j]) & (test_weather['방송일시']<hot_20['date'][j+1]),'hot']=1.0\n",
    "        \n",
    "test_weather.head(3) # 폭염주의보 변수 생성 완료"
   ]
  },
  {
   "cell_type": "markdown",
   "metadata": {},
   "source": [
    "### 해일"
   ]
  },
  {
   "cell_type": "code",
   "execution_count": 40,
   "metadata": {},
   "outputs": [
    {
     "data": {
      "text/html": [
       "<div>\n",
       "<style scoped>\n",
       "    .dataframe tbody tr th:only-of-type {\n",
       "        vertical-align: middle;\n",
       "    }\n",
       "\n",
       "    .dataframe tbody tr th {\n",
       "        vertical-align: top;\n",
       "    }\n",
       "\n",
       "    .dataframe thead th {\n",
       "        text-align: right;\n",
       "    }\n",
       "</style>\n",
       "<table border=\"1\" class=\"dataframe\">\n",
       "  <thead>\n",
       "    <tr style=\"text-align: right;\">\n",
       "      <th></th>\n",
       "      <th>특보통보</th>\n",
       "      <th>Unnamed: 1</th>\n",
       "    </tr>\n",
       "  </thead>\n",
       "  <tbody>\n",
       "    <tr>\n",
       "      <th>0</th>\n",
       "      <td>발표시각</td>\n",
       "      <td>지역</td>\n",
       "    </tr>\n",
       "    <tr>\n",
       "      <th>1</th>\n",
       "      <td>2019-10-03 10:00</td>\n",
       "      <td>전국</td>\n",
       "    </tr>\n",
       "    <tr>\n",
       "      <th>2</th>\n",
       "      <td>발효시각</td>\n",
       "      <td>NaN</td>\n",
       "    </tr>\n",
       "  </tbody>\n",
       "</table>\n",
       "</div>"
      ],
      "text/plain": [
       "               특보통보 Unnamed: 1\n",
       "0              발표시각         지역\n",
       "1  2019-10-03 10:00         전국\n",
       "2              발효시각        NaN"
      ]
     },
     "execution_count": 40,
     "metadata": {},
     "output_type": "execute_result"
    }
   ],
   "source": [
    "# 2019년 해일 데이터\n",
    "tsunami = pd.read_csv('./Weathers/FCT_WRN_2019_폭풍해일_raw.csv',encoding='cp949')\n",
    "tsunami.head(3) # 자료의 수가 매우 작은 것을 확인"
   ]
  },
  {
   "cell_type": "markdown",
   "metadata": {},
   "source": [
    "해일의 경우에는 2019년에 1번 발표한 적이 있다. 데이터의 수가 매우 작으므로 사용하지 않는다."
   ]
  },
  {
   "cell_type": "markdown",
   "metadata": {},
   "source": [
    "### 미세먼지"
   ]
  },
  {
   "cell_type": "code",
   "execution_count": 41,
   "metadata": {},
   "outputs": [
    {
     "data": {
      "text/html": [
       "<div>\n",
       "<style scoped>\n",
       "    .dataframe tbody tr th:only-of-type {\n",
       "        vertical-align: middle;\n",
       "    }\n",
       "\n",
       "    .dataframe tbody tr th {\n",
       "        vertical-align: top;\n",
       "    }\n",
       "\n",
       "    .dataframe thead th {\n",
       "        text-align: right;\n",
       "    }\n",
       "</style>\n",
       "<table border=\"1\" class=\"dataframe\">\n",
       "  <thead>\n",
       "    <tr style=\"text-align: right;\">\n",
       "      <th></th>\n",
       "      <th>지점</th>\n",
       "      <th>지점명</th>\n",
       "      <th>일시</th>\n",
       "      <th>1시간평균 미세먼지농도(㎍/㎥)</th>\n",
       "    </tr>\n",
       "  </thead>\n",
       "  <tbody>\n",
       "    <tr>\n",
       "      <th>0</th>\n",
       "      <td>90</td>\n",
       "      <td>속초</td>\n",
       "      <td>2019-01-01 01:00</td>\n",
       "      <td>16</td>\n",
       "    </tr>\n",
       "    <tr>\n",
       "      <th>1</th>\n",
       "      <td>90</td>\n",
       "      <td>속초</td>\n",
       "      <td>2019-01-01 02:00</td>\n",
       "      <td>26</td>\n",
       "    </tr>\n",
       "    <tr>\n",
       "      <th>2</th>\n",
       "      <td>90</td>\n",
       "      <td>속초</td>\n",
       "      <td>2019-01-01 03:00</td>\n",
       "      <td>16</td>\n",
       "    </tr>\n",
       "  </tbody>\n",
       "</table>\n",
       "</div>"
      ],
      "text/plain": [
       "   지점 지점명                일시  1시간평균 미세먼지농도(㎍/㎥)\n",
       "0  90  속초  2019-01-01 01:00                 16\n",
       "1  90  속초  2019-01-01 02:00                 26\n",
       "2  90  속초  2019-01-01 03:00                 16"
      ]
     },
     "execution_count": 41,
     "metadata": {},
     "output_type": "execute_result"
    }
   ],
   "source": [
    "# 2019년 미세먼지 데이터\n",
    "PM10 = pd.read_csv('./Weathers/OBS_부유분진_TIM_20200926071119(2019_전국 미세먼지).csv',encoding='cp949')\n",
    "PM10.head(3)"
   ]
  },
  {
   "cell_type": "code",
   "execution_count": 42,
   "metadata": {},
   "outputs": [
    {
     "data": {
      "application/vnd.jupyter.widget-view+json": {
       "model_id": "043fea0046dd4d709976d8e7acfa6cb6",
       "version_major": 2,
       "version_minor": 0
      },
      "text/plain": [
       "HBox(children=(FloatProgress(value=0.0, max=8712.0), HTML(value='')))"
      ]
     },
     "metadata": {},
     "output_type": "display_data"
    },
    {
     "name": "stdout",
     "output_type": "stream",
     "text": [
      "\n"
     ]
    },
    {
     "data": {
      "text/html": [
       "<div>\n",
       "<style scoped>\n",
       "    .dataframe tbody tr th:only-of-type {\n",
       "        vertical-align: middle;\n",
       "    }\n",
       "\n",
       "    .dataframe tbody tr th {\n",
       "        vertical-align: top;\n",
       "    }\n",
       "\n",
       "    .dataframe thead th {\n",
       "        text-align: right;\n",
       "    }\n",
       "</style>\n",
       "<table border=\"1\" class=\"dataframe\">\n",
       "  <thead>\n",
       "    <tr style=\"text-align: right;\">\n",
       "      <th></th>\n",
       "      <th>date</th>\n",
       "      <th>mise</th>\n",
       "      <th>수준</th>\n",
       "    </tr>\n",
       "  </thead>\n",
       "  <tbody>\n",
       "    <tr>\n",
       "      <th>0</th>\n",
       "      <td>2019-01-01 01</td>\n",
       "      <td>29.807692</td>\n",
       "      <td>좋음</td>\n",
       "    </tr>\n",
       "    <tr>\n",
       "      <th>1</th>\n",
       "      <td>2019-01-01 02</td>\n",
       "      <td>29.758621</td>\n",
       "      <td>좋음</td>\n",
       "    </tr>\n",
       "    <tr>\n",
       "      <th>2</th>\n",
       "      <td>2019-01-01 03</td>\n",
       "      <td>29.137931</td>\n",
       "      <td>좋음</td>\n",
       "    </tr>\n",
       "  </tbody>\n",
       "</table>\n",
       "</div>"
      ],
      "text/plain": [
       "            date       mise  수준\n",
       "0  2019-01-01 01  29.807692  좋음\n",
       "1  2019-01-01 02  29.758621  좋음\n",
       "2  2019-01-01 03  29.137931  좋음"
      ]
     },
     "execution_count": 42,
     "metadata": {},
     "output_type": "execute_result"
    }
   ],
   "source": [
    "PM10.columns = ['one','two','date','mise']\n",
    "PM10 = PM10[['date','mise']]\n",
    "PM10 = PM10.groupby('date').mean().reset_index()\n",
    "PM10['수준'] = pd.Series()\n",
    "for i in tqdm(range(len(PM10))): # 미세먼지 농도에 따라 변수의 범주화 진행\n",
    "    if PM10.loc[i,'mise']<=30:\n",
    "        PM10.loc[i,'수준']='좋음'\n",
    "    elif PM10.loc[i,'mise']<=80:\n",
    "        PM10.loc[i,'수준']='보통'\n",
    "    else:\n",
    "        PM10.loc[i,'수준']='나쁨'\n",
    "        \n",
    "PM10['date']=pd.to_datetime(PM10['date'])\n",
    "PM10['date']=PM10['date'].apply(lambda x:x.strftime('%Y-%m-%d %H'))\n",
    "\n",
    "with open('./pickles/PM10.pkl', 'wb') as f: # 완성된 데이터 셋 pickle 형태로 저장\n",
    "    pickle.dump(PM10, f)\n",
    "\n",
    "PM10.head(3)"
   ]
  },
  {
   "cell_type": "code",
   "execution_count": 43,
   "metadata": {},
   "outputs": [
    {
     "data": {
      "application/vnd.jupyter.widget-view+json": {
       "model_id": "fddb7ec7c90545009517fc54fc920eaf",
       "version_major": 2,
       "version_minor": 0
      },
      "text/plain": [
       "HBox(children=(FloatProgress(value=0.0, max=8712.0), HTML(value='')))"
      ]
     },
     "metadata": {},
     "output_type": "display_data"
    },
    {
     "name": "stdout",
     "output_type": "stream",
     "text": [
      "\n"
     ]
    },
    {
     "data": {
      "text/html": [
       "<div>\n",
       "<style scoped>\n",
       "    .dataframe tbody tr th:only-of-type {\n",
       "        vertical-align: middle;\n",
       "    }\n",
       "\n",
       "    .dataframe tbody tr th {\n",
       "        vertical-align: top;\n",
       "    }\n",
       "\n",
       "    .dataframe thead th {\n",
       "        text-align: right;\n",
       "    }\n",
       "</style>\n",
       "<table border=\"1\" class=\"dataframe\">\n",
       "  <thead>\n",
       "    <tr style=\"text-align: right;\">\n",
       "      <th></th>\n",
       "      <th>방송일시</th>\n",
       "      <th>노출(분)</th>\n",
       "      <th>마더코드</th>\n",
       "      <th>상품코드</th>\n",
       "      <th>상품명</th>\n",
       "      <th>상품군</th>\n",
       "      <th>판매단가</th>\n",
       "      <th>취급액</th>\n",
       "      <th>판매량</th>\n",
       "      <th>date</th>\n",
       "      <th>hour</th>\n",
       "      <th>weekday</th>\n",
       "      <th>month</th>\n",
       "      <th>day</th>\n",
       "      <th>rain</th>\n",
       "      <th>temp</th>\n",
       "      <th>storm</th>\n",
       "      <th>hot</th>\n",
       "      <th>PM10</th>\n",
       "    </tr>\n",
       "  </thead>\n",
       "  <tbody>\n",
       "    <tr>\n",
       "      <th>0</th>\n",
       "      <td>2019-01-01 06:00:00</td>\n",
       "      <td>20</td>\n",
       "      <td>100346</td>\n",
       "      <td>201072</td>\n",
       "      <td>테이트 남성 셀린니트3종</td>\n",
       "      <td>의류</td>\n",
       "      <td>39900</td>\n",
       "      <td>2099000</td>\n",
       "      <td>3.0</td>\n",
       "      <td>2019-01-01</td>\n",
       "      <td>06</td>\n",
       "      <td>2</td>\n",
       "      <td>01</td>\n",
       "      <td>01</td>\n",
       "      <td>0.0</td>\n",
       "      <td>-2.1</td>\n",
       "      <td>0.0</td>\n",
       "      <td>0.0</td>\n",
       "      <td>3.0</td>\n",
       "    </tr>\n",
       "    <tr>\n",
       "      <th>1</th>\n",
       "      <td>2019-01-01 06:00:00</td>\n",
       "      <td>20</td>\n",
       "      <td>100346</td>\n",
       "      <td>201079</td>\n",
       "      <td>테이트 여성 셀린니트3종</td>\n",
       "      <td>의류</td>\n",
       "      <td>39900</td>\n",
       "      <td>4371000</td>\n",
       "      <td>5.0</td>\n",
       "      <td>2019-01-01</td>\n",
       "      <td>06</td>\n",
       "      <td>2</td>\n",
       "      <td>01</td>\n",
       "      <td>01</td>\n",
       "      <td>0.0</td>\n",
       "      <td>-2.1</td>\n",
       "      <td>0.0</td>\n",
       "      <td>0.0</td>\n",
       "      <td>3.0</td>\n",
       "    </tr>\n",
       "    <tr>\n",
       "      <th>2</th>\n",
       "      <td>2019-01-01 06:20:00</td>\n",
       "      <td>20</td>\n",
       "      <td>100346</td>\n",
       "      <td>201072</td>\n",
       "      <td>테이트 남성 셀린니트3종</td>\n",
       "      <td>의류</td>\n",
       "      <td>39900</td>\n",
       "      <td>3262000</td>\n",
       "      <td>4.0</td>\n",
       "      <td>2019-01-01</td>\n",
       "      <td>06</td>\n",
       "      <td>2</td>\n",
       "      <td>01</td>\n",
       "      <td>01</td>\n",
       "      <td>0.0</td>\n",
       "      <td>-2.1</td>\n",
       "      <td>1.0</td>\n",
       "      <td>0.0</td>\n",
       "      <td>3.0</td>\n",
       "    </tr>\n",
       "  </tbody>\n",
       "</table>\n",
       "</div>"
      ],
      "text/plain": [
       "                  방송일시 노출(분)    마더코드    상품코드            상품명 상품군   판매단가  \\\n",
       "0  2019-01-01 06:00:00    20  100346  201072  테이트 남성 셀린니트3종  의류  39900   \n",
       "1  2019-01-01 06:00:00    20  100346  201079  테이트 여성 셀린니트3종  의류  39900   \n",
       "2  2019-01-01 06:20:00    20  100346  201072  테이트 남성 셀린니트3종  의류  39900   \n",
       "\n",
       "       취급액  판매량        date hour weekday month day  rain  temp  storm  hot  \\\n",
       "0  2099000  3.0  2019-01-01   06       2    01  01   0.0  -2.1    0.0  0.0   \n",
       "1  4371000  5.0  2019-01-01   06       2    01  01   0.0  -2.1    0.0  0.0   \n",
       "2  3262000  4.0  2019-01-01   06       2    01  01   0.0  -2.1    1.0  0.0   \n",
       "\n",
       "   PM10  \n",
       "0   3.0  \n",
       "1   3.0  \n",
       "2   3.0  "
      ]
     },
     "execution_count": 43,
     "metadata": {},
     "output_type": "execute_result"
    }
   ],
   "source": [
    "# Train 데이터에 미세먼지 변수 생성\n",
    "\n",
    "train_weather['kk']=train_weather['방송일시'].apply(lambda x:x.strftime('%Y-%m-%d %H')) # datetime 형태 맞추기 위해 새로운 컬럼 생성\n",
    "train_weather['PM10']=0.0   #매우나쁨\n",
    "\n",
    "for i in tqdm(range(len(PM10))):\n",
    "    if PM10['수준'][i]=='나쁨':\n",
    "        train_weather.loc[train_weather['kk']==PM10['date'][i],'PM10']=1.0  #나쁨\n",
    "    elif PM10['수준'][i]=='보통':\n",
    "        train_weather.loc[train_weather['kk']==PM10['date'][i],'PM10']=2.0  #보통\n",
    "    elif PM10['수준'][i]=='좋음':\n",
    "        train_weather.loc[train_weather['kk']==PM10['date'][i],'PM10']=3.0  #좋음\n",
    "\n",
    "train_weather=train_weather.drop('kk',axis=1) # 임의로 만든 변수 삭제\n",
    "train_weather.head(3)"
   ]
  },
  {
   "cell_type": "markdown",
   "metadata": {},
   "source": [
    "#### 막대 그래프를 통한 변수의 유의성 시각화"
   ]
  },
  {
   "cell_type": "code",
   "execution_count": 44,
   "metadata": {},
   "outputs": [
    {
     "data": {
      "image/png": "[encoded data removed]",
      "text/plain": [
       "<Figure size 864x432 with 1 Axes>"
      ]
     },
     "metadata": {
      "needs_background": "light"
     },
     "output_type": "display_data"
    }
   ],
   "source": [
    "PM10_group_df = train_weather['판매량'].groupby(train_weather['PM10']).mean()\n",
    "\n",
    "title = '미세먼지 정도에 따른 평균 판매량'\n",
    "fig, ax = plt.subplots(figsize = (12, 6))\n",
    "ax.bar(list(PM10_group_df.index), PM10_group_df)\n",
    "ax.set_xlabel('미세 먼지', fontsize = 15)\n",
    "ax.set_xticks([0, 1, 2, 3])\n",
    "ax.set_xticklabels(['매우 나쁨', '나쁨', '보통', '좋음'], fontsize = 10)\n",
    "ax.set_ylabel('분당 판매량', fontsize = 15)\n",
    "ax.set_title(title)\n",
    "plt.savefig(f'./graphs/{title}.png')\n",
    "plt.show()"
   ]
  },
  {
   "cell_type": "code",
   "execution_count": 45,
   "metadata": {},
   "outputs": [
    {
     "data": {
      "application/vnd.jupyter.widget-view+json": {
       "model_id": "819e915027224ba09b046ea1204bddfc",
       "version_major": 2,
       "version_minor": 0
      },
      "text/plain": [
       "HBox(children=(FloatProgress(value=0.0, max=720.0), HTML(value='')))"
      ]
     },
     "metadata": {},
     "output_type": "display_data"
    },
    {
     "name": "stdout",
     "output_type": "stream",
     "text": [
      "\n"
     ]
    }
   ],
   "source": [
    "PM10_20 = pd.read_csv('./Weathers/OBS_부유분진_TIM_202006(전국 미세먼지).csv',encoding='cp949')\n",
    "PM10_20.columns = ['one','two','date','mise']\n",
    "PM10_20 = PM10_20[['date','mise']]\n",
    "PM10_20 = PM10_20.groupby('date').mean().reset_index()\n",
    "PM10_20['수준'] = pd.Series()\n",
    "for i in range(len(PM10_20)):\n",
    "    if PM10_20.loc[i,'mise']<=30:\n",
    "        PM10_20.loc[i,'수준']='좋음'\n",
    "    elif PM10_20.loc[i,'mise']<=80:\n",
    "        PM10_20.loc[i,'수준']='보통'\n",
    "    else:\n",
    "        PM10_20.loc[i,'수준']='나쁨'\n",
    "        \n",
    "PM10_20['date']=pd.to_datetime(PM10_20['date'])\n",
    "test_weather['kk']=test_weather['방송일시'].apply(lambda x:x.strftime('%Y-%m-%d %H'))  \n",
    "PM10_20['date']=PM10_20['date'].apply(lambda x:x.strftime('%Y-%m-%d %H'))\n",
    "test_weather['PM10']=0.0   #매우나쁨\n",
    "\n",
    "for i in tqdm(range(len(PM10_20))):\n",
    "    if PM10_20['수준'][i]=='나쁨':\n",
    "        test_weather.loc[test_weather['kk']==PM10_20['date'][i],'PM10']=1.0  #나쁨\n",
    "    elif PM10_20['수준'][i]=='보통':\n",
    "        test_weather.loc[test_weather['kk']==PM10_20['date'][i],'PM10']=2.0  #보통\n",
    "    elif PM10_20['수준'][i]=='좋음':\n",
    "        test_weather.loc[test_weather['kk']==PM10_20['date'][i],'PM10']=3.0  #좋음\n",
    "\n",
    "test_weather=test_weather.drop('kk',axis=1)"
   ]
  },
  {
   "cell_type": "markdown",
   "metadata": {},
   "source": [
    "미세먼지가 매우 나쁨일 경우, 분당 판매량이 가장 높은 것을 볼 수 있다.   \n",
    "- 이는 외출을 자제하게 됨으로써, 홈쇼핑을 보는 사람들이 많아질 것이라는 추측을 할 수 있다."
   ]
  },
  {
   "cell_type": "code",
   "execution_count": 46,
   "metadata": {},
   "outputs": [
    {
     "name": "stdout",
     "output_type": "stream",
     "text": [
      "                  방송일시 노출(분)    마더코드    상품코드            상품명 상품군   판매단가  \\\n",
      "0  2019-01-01 06:00:00    20  100346  201072  테이트 남성 셀린니트3종  의류  39900   \n",
      "1  2019-01-01 06:00:00    20  100346  201079  테이트 여성 셀린니트3종  의류  39900   \n",
      "2  2019-01-01 06:20:00    20  100346  201072  테이트 남성 셀린니트3종  의류  39900   \n",
      "\n",
      "       취급액  판매량        date hour weekday month day  rain  temp  storm  hot  \\\n",
      "0  2099000  3.0  2019-01-01   06       2    01  01   0.0  -2.1    0.0  0.0   \n",
      "1  4371000  5.0  2019-01-01   06       2    01  01   0.0  -2.1    0.0  0.0   \n",
      "2  3262000  4.0  2019-01-01   06       2    01  01   0.0  -2.1    1.0  0.0   \n",
      "\n",
      "   PM10  \n",
      "0   3.0  \n",
      "1   3.0  \n",
      "2   3.0  \n",
      "--------------------------------------------------\n",
      "   index                 방송일시 노출(분)    마더코드    상품코드              상품명 상품군  \\\n",
      "0      1  2020-06-01 06:20:00    20  100650  201971  잭필드 남성  반팔셔츠 4종  의류   \n",
      "1      2  2020-06-01 06:40:00    20  100650  201971  잭필드 남성  반팔셔츠 4종  의류   \n",
      "2      3  2020-06-01 07:00:00    20  100650  201971  잭필드 남성  반팔셔츠 4종  의류   \n",
      "\n",
      "    판매단가  취급액        date hour weekday month day  rain  temp  storm  hot  PM10  \n",
      "0  59800  NaN  2020-06-01   06       1    06  01   0.0  20.8    0.0  0.0   3.0  \n",
      "1  59800  NaN  2020-06-01   06       1    06  01   0.0  20.8    0.0  0.0   3.0  \n",
      "2  59800  NaN  2020-06-01   07       1    06  01   0.0  20.8    0.0  0.0   3.0  \n"
     ]
    }
   ],
   "source": [
    "with open('./pickles/train_weather.pkl', 'wb') as f: # 완성된 데이터 셋 pickle 형태로 저장\n",
    "    pickle.dump(train_weather, f)\n",
    "\n",
    "with open('./pickles/test_weather.pkl', 'wb') as f: # 완성된 데이터 셋 pickle 형태로 저장\n",
    "    pickle.dump(test_weather, f)\n",
    "\n",
    "print(train_weather.head(3))\n",
    "print('-'*50)\n",
    "print(test_weather.head(3))"
   ]
  }
 ],
 "metadata": {
  "kernelspec": {
   "display_name": "Python 3",
   "language": "python",
   "name": "python3"
  },
  "language_info": {
   "codemirror_mode": {
    "name": "ipython",
    "version": 3
   },
   "file_extension": ".py",
   "mimetype": "text/x-python",
   "name": "python",
   "nbconvert_exporter": "python",
   "pygments_lexer": "ipython3",
   "version": "3.8.3"
  },
  "toc": {
   "base_numbering": 1,
   "nav_menu": {},
   "number_sections": true,
   "sideBar": true,
   "skip_h1_title": false,
   "title_cell": "Table of Contents",
   "title_sidebar": "Contents",
   "toc_cell": false,
   "toc_position": {
    "height": "calc(100% - 180px)",
    "left": "10px",
    "top": "150px",
    "width": "307.2px"
   },
   "toc_section_display": true,
   "toc_window_display": true
  },
  "varInspector": {
   "cols": {
    "lenName": 16,
    "lenType": 16,
    "lenVar": 40
   },
   "kernels_config": {
    "python": {
     "delete_cmd_postfix": "",
     "delete_cmd_prefix": "del ",
     "library": "var_list.py",
     "varRefreshCmd": "print(var_dic_list())"
    },
    "r": {
     "delete_cmd_postfix": ") ",
     "delete_cmd_prefix": "rm(",
     "library": "var_list.r",
     "varRefreshCmd": "cat(var_dic_list()) "
    }
   },
   "types_to_exclude": [
    "module",
    "function",
    "builtin_function_or_method",
    "instance",
    "_Feature"
   ],
   "window_display": false
  }
 },
 "nbformat": 4,
 "nbformat_minor": 4
}
