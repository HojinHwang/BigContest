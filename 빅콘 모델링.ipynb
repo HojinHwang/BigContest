{
 "cells": [
  {
   "cell_type": "markdown",
   "metadata": {},
   "source": [
    "**Import Library**"
   ]
  },
  {
   "cell_type": "code",
   "execution_count": 1,
   "metadata": {},
   "outputs": [],
   "source": [
    "import pandas as pd\n",
    "import numpy as np\n",
    "from scipy import stats\n",
    "from datetime import date\n",
    "import matplotlib as mpl\n",
    "import matplotlib.pyplot as plt\n",
    "import seaborn as sns\n",
    "\n",
    "import os, sys\n",
    "import pickle\n",
    "from tqdm.notebook import tqdm\n",
    "\n",
    "import warnings \n",
    "warnings.filterwarnings('ignore')\n",
    "\n",
    "from sklearn.preprocessing import LabelEncoder, OneHotEncoder, MinMaxScaler, StandardScaler\n",
    "from sklearn.metrics import mean_squared_error\n",
    "from sklearn.model_selection import GridSearchCV, KFold, train_test_split, train_test_split\n",
    "from sklearn.ensemble import RandomForestRegressor\n",
    "from sklearn.svm import LinearSVR, SVR\n",
    "import xgboost as xgb\n",
    "import lightgbm as lgb\n",
    "\n",
    "mpl.rc('font', family='New Gulim')\n",
    "mpl.rc('axes', unicode_minus=False)\n",
    "\n",
    "%matplotlib inline"
   ]
  },
  {
   "cell_type": "markdown",
   "metadata": {},
   "source": [
    "**Import Data**"
   ]
  },
  {
   "cell_type": "code",
   "execution_count": 2,
   "metadata": {},
   "outputs": [
    {
     "name": "stdout",
     "output_type": "stream",
     "text": [
      "가공된 train 데이터 :  (35379, 20)\n",
      "가공된 test 데이터 :  (2716, 20)\n",
      "가공된 train_weather 데이터 :  (35379, 19)\n",
      "가공된 test_weather 데이터 :  (2716, 19)\n"
     ]
    }
   ],
   "source": [
    "with open('./pickles/train.pkl', 'rb') as f: # 가공된 train 데이터\n",
    "    train = pickle.load(f)\n",
    "\n",
    "with open('./pickles/test.pkl', 'rb') as f: # 가공된 test 데이터\n",
    "    test = pickle.load(f)\n",
    "\n",
    "with open('./pickles/train_weather.pkl', 'rb') as f: # 기상 변수 가공된 train 데이터\n",
    "    train_weather = pickle.load(f)\n",
    "\n",
    "with open('./pickles/test_weather.pkl', 'rb') as f: # 기상 변수 가공된 test 데이터\n",
    "    test_weather = pickle.load(f)\n",
    "\n",
    "print('가공된 train 데이터 : ', train.shape)\n",
    "print('가공된 test 데이터 : ', test.shape)\n",
    "print('가공된 train_weather 데이터 : ', train_weather.shape)\n",
    "print('가공된 test_weather 데이터 : ', test_weather.shape)"
   ]
  },
  {
   "cell_type": "code",
   "execution_count": 3,
   "metadata": {},
   "outputs": [
    {
     "name": "stdout",
     "output_type": "stream",
     "text": [
      "최종 Train Data 형태 :  (35379, 25)\n",
      "최종 Test Data 형태 :  (2716, 25)\n"
     ]
    }
   ],
   "source": [
    "train_final = pd.concat([train, train_weather[['rain', 'temp', 'storm', 'hot', 'PM10']]], axis = 1) # 최종 Train 데이터\n",
    "test_final = pd.concat([test, test_weather[['rain', 'temp', 'storm', 'hot', 'PM10']]], axis = 1) # 최종 Test 데이터\n",
    "\n",
    "print('최종 Train Data 형태 : ', train_final.shape)\n",
    "print('최종 Test Data 형태 : ', test_final.shape)"
   ]
  },
  {
   "cell_type": "markdown",
   "metadata": {},
   "source": [
    "# Data Preprocessing"
   ]
  },
  {
   "cell_type": "code",
   "execution_count": 4,
   "metadata": {},
   "outputs": [],
   "source": [
    "train_final.drop(['방송일시','마더코드','상품코드','date', '판매량'],axis=1, inplace = True) # 문자형 변수들 제외\n",
    "test_idx = test_final['index']\n",
    "test_final.drop(['index','방송일시','마더코드','상품코드','date'],axis=1, inplace = True)\n",
    "\n",
    "transform_features1=['노출(분)','판매단가'] # 노출(분), 판매단가 변수들이 문자형으로 돼있는 것을 확인, 수치형 자료로 변환 \n",
    "for feature in transform_features1:\n",
    "    train_final[feature]=train_final[feature].astype('int')\n",
    "    test_final[feature]=test_final[feature].astype('int') "
   ]
  },
  {
   "cell_type": "code",
   "execution_count": 5,
   "metadata": {},
   "outputs": [],
   "source": [
    "def make_onehot(tr, te, trans_feat): # 범주형 변수들의 원-핫 인코딩\n",
    "    for feature in trans_feat:\n",
    "        enc = OneHotEncoder(handle_unknown='ignore')\n",
    "        enc.fit(tr[[feature]])\n",
    "        \n",
    "        column_name = enc.get_feature_names([feature])\n",
    "        \n",
    "        feat_tr = pd.DataFrame(enc.transform(tr[[feature]]).toarray(), columns=column_name)\n",
    "        feat_te = pd.DataFrame(enc.transform(te[[feature]]).toarray(), columns=column_name)\n",
    "\n",
    "        tr = tr.join(feat_tr)\n",
    "        tr = tr.drop([feature], axis = 1)\n",
    "        te = te.join(feat_te)\n",
    "        te = te.drop([feature], axis = 1)\n",
    "        \n",
    "    return tr, te"
   ]
  },
  {
   "cell_type": "code",
   "execution_count": 6,
   "metadata": {},
   "outputs": [
    {
     "name": "stdout",
     "output_type": "stream",
     "text": [
      "(35379, 77)\n",
      "(2716, 77)\n"
     ]
    }
   ],
   "source": [
    "cate_transform_features = ['brand', 'hour', 'weekday', 'month', 'prime', 'season', '초중말', '방송순서',\n",
    "                           'rain', 'storm', 'hot', 'PM10', 'discount']\n",
    "train_final, test_final = make_onehot(train_final, test_final, cate_transform_features)\n",
    "print(train_final.shape) # 원-핫 인코딩 완료\n",
    "print(test_final.shape)"
   ]
  },
  {
   "cell_type": "code",
   "execution_count": 7,
   "metadata": {},
   "outputs": [],
   "source": [
    "def make_minmax(tr, te, trans_feat): # 연속형 변수들의 MinMax 정규화\n",
    "    scaler = MinMaxScaler()\n",
    "    for feature in trans_feat:\n",
    "        train_feature = tr[feature].values.reshape(-1, 1)\n",
    "        train_scaled_feature = scaler.fit_transform(train_feature)\n",
    "        tr[f'scaled_{feature}'] = train_scaled_feature\n",
    "        tr = tr.drop([feature], axis = 1)\n",
    "        \n",
    "        test_feature = te[feature].values.reshape(-1, 1)\n",
    "        test_scaled_feature = scaler.fit_transform(test_feature)\n",
    "        te[f'scaled_{feature}'] = test_scaled_feature\n",
    "        te = te.drop([feature], axis = 1)\n",
    "        \n",
    "    return tr, te\n",
    "\n",
    "train_final, test_final = make_minmax(train_final, test_final, ['판매단가', '노출(분)', 'temp'])"
   ]
  },
  {
   "cell_type": "code",
   "execution_count": 8,
   "metadata": {},
   "outputs": [],
   "source": [
    "# MAPE 평가지표\n",
    "\n",
    "def mape(y_true,y_pred):\n",
    "    return np.mean(np.abs((y_true-y_pred)/y_true))*100"
   ]
  },
  {
   "cell_type": "code",
   "execution_count": 9,
   "metadata": {},
   "outputs": [],
   "source": [
    "kind_list = list(set(train_final['상품군']))\n",
    "\n",
    "def make_data(data, kind):\n",
    "    new_df = data[data['상품군'] == kind]\n",
    "    X = new_df.drop(['상품명', '상품군', '취급액', 'day'], axis = 1)\n",
    "    y = new_df['취급액']\n",
    "    X_train, X_valid, y_train, y_valid = train_test_split(X, y, test_size = 0.3, random_state = 1818)    \n",
    "    \n",
    "    return X_train, X_valid, y_train, y_valid"
   ]
  },
  {
   "cell_type": "markdown",
   "metadata": {},
   "source": [
    "# Modeling"
   ]
  },
  {
   "cell_type": "markdown",
   "metadata": {},
   "source": [
    "## LightGBM\n",
    "기존 Gradient Boosting보다 속도가 빠르며, 과적합을 방지할 수 있어 좋은 예측 결과를 만들 수 있다.   \n",
    "\n",
    "적은 데이터 세트에 적합하는 경우 과적합이 발생하기 쉽다.   \n",
    "\n",
    "- learning_rate : GBM은 초기의 추정값에서 시작하여 각각의Tree 결과를 사용하여 추정값을 업데이트 하는 과정에서 발생하는 변화의 크기   \n",
    "\n",
    "- max_depth : 각 의사결정나무의 깊이를 설정. 트리가 깊어질수록 더 잘게 분류를 시키므로 일반적으론 정확도가 높아진다.   \n",
    "\n",
    "- num_leaves : 전체 Tree의 leave 수"
   ]
  },
  {
   "cell_type": "code",
   "execution_count": 10,
   "metadata": {},
   "outputs": [],
   "source": [
    "from lightgbm import LGBMRegressor, plot_importance"
   ]
  },
  {
   "cell_type": "code",
   "execution_count": 11,
   "metadata": {},
   "outputs": [
    {
     "data": {
      "application/vnd.jupyter.widget-view+json": {
       "model_id": "0adf5861dc0f4f87931c0b4f5c46eef7",
       "version_major": 2,
       "version_minor": 0
      },
      "text/plain": [
       "HBox(children=(FloatProgress(value=0.0, max=11.0), HTML(value='')))"
      ]
     },
     "metadata": {},
     "output_type": "display_data"
    },
    {
     "name": "stdout",
     "output_type": "stream",
     "text": [
      "상품군 :  잡화 \n",
      " 최적 하이퍼 파라미터:  {'learning_rate': 0.05, 'max_depth': 7, 'metric': 'mse', 'num_leaves': 63, 'objective': 'regression'}\n",
      "상품군 :  건강기능 \n",
      " 최적 하이퍼 파라미터:  {'learning_rate': 0.01, 'max_depth': 7, 'metric': 'mse', 'num_leaves': 63, 'objective': 'regression'}\n",
      "상품군 :  가전 \n",
      " 최적 하이퍼 파라미터:  {'learning_rate': 0.05, 'max_depth': 6, 'metric': 'mse', 'num_leaves': 63, 'objective': 'regression'}\n",
      "상품군 :  생활용품 \n",
      " 최적 하이퍼 파라미터:  {'learning_rate': 0.1, 'max_depth': 7, 'metric': 'mse', 'num_leaves': 63, 'objective': 'regression'}\n",
      "상품군 :  의류 \n",
      " 최적 하이퍼 파라미터:  {'learning_rate': 0.05, 'max_depth': 6, 'metric': 'mse', 'num_leaves': 63, 'objective': 'regression'}\n",
      "상품군 :  속옷 \n",
      " 최적 하이퍼 파라미터:  {'learning_rate': 0.01, 'max_depth': 7, 'metric': 'mse', 'num_leaves': 63, 'objective': 'regression'}\n",
      "상품군 :  가구 \n",
      " 최적 하이퍼 파라미터:  {'learning_rate': 0.01, 'max_depth': 6, 'metric': 'mse', 'num_leaves': 63, 'objective': 'regression'}\n",
      "상품군 :  주방 \n",
      " 최적 하이퍼 파라미터:  {'learning_rate': 0.1, 'max_depth': 6, 'metric': 'mse', 'num_leaves': 63, 'objective': 'regression'}\n",
      "상품군 :  이미용 \n",
      " 최적 하이퍼 파라미터:  {'learning_rate': 0.01, 'max_depth': 6, 'metric': 'mse', 'num_leaves': 63, 'objective': 'regression'}\n",
      "상품군 :  침구 \n",
      " 최적 하이퍼 파라미터:  {'learning_rate': 0.05, 'max_depth': 6, 'metric': 'mse', 'num_leaves': 63, 'objective': 'regression'}\n",
      "상품군 :  농수축 \n",
      " 최적 하이퍼 파라미터:  {'learning_rate': 0.05, 'max_depth': 6, 'metric': 'mse', 'num_leaves': 63, 'objective': 'regression'}\n",
      "\n"
     ]
    },
    {
     "data": {
      "text/html": [
       "<div>\n",
       "<style scoped>\n",
       "    .dataframe tbody tr th:only-of-type {\n",
       "        vertical-align: middle;\n",
       "    }\n",
       "\n",
       "    .dataframe tbody tr th {\n",
       "        vertical-align: top;\n",
       "    }\n",
       "\n",
       "    .dataframe thead th {\n",
       "        text-align: right;\n",
       "    }\n",
       "</style>\n",
       "<table border=\"1\" class=\"dataframe\">\n",
       "  <thead>\n",
       "    <tr style=\"text-align: right;\">\n",
       "      <th></th>\n",
       "      <th>kind</th>\n",
       "      <th>lgb_mape</th>\n",
       "    </tr>\n",
       "  </thead>\n",
       "  <tbody>\n",
       "    <tr>\n",
       "      <th>0</th>\n",
       "      <td>잡화</td>\n",
       "      <td>53.522425</td>\n",
       "    </tr>\n",
       "    <tr>\n",
       "      <th>1</th>\n",
       "      <td>건강기능</td>\n",
       "      <td>44.603927</td>\n",
       "    </tr>\n",
       "    <tr>\n",
       "      <th>2</th>\n",
       "      <td>가전</td>\n",
       "      <td>62.995166</td>\n",
       "    </tr>\n",
       "    <tr>\n",
       "      <th>3</th>\n",
       "      <td>생활용품</td>\n",
       "      <td>60.482734</td>\n",
       "    </tr>\n",
       "    <tr>\n",
       "      <th>4</th>\n",
       "      <td>의류</td>\n",
       "      <td>49.109365</td>\n",
       "    </tr>\n",
       "    <tr>\n",
       "      <th>5</th>\n",
       "      <td>속옷</td>\n",
       "      <td>86.608507</td>\n",
       "    </tr>\n",
       "    <tr>\n",
       "      <th>6</th>\n",
       "      <td>가구</td>\n",
       "      <td>64.015866</td>\n",
       "    </tr>\n",
       "    <tr>\n",
       "      <th>7</th>\n",
       "      <td>주방</td>\n",
       "      <td>53.131283</td>\n",
       "    </tr>\n",
       "    <tr>\n",
       "      <th>8</th>\n",
       "      <td>이미용</td>\n",
       "      <td>28.949799</td>\n",
       "    </tr>\n",
       "    <tr>\n",
       "      <th>9</th>\n",
       "      <td>침구</td>\n",
       "      <td>31.859083</td>\n",
       "    </tr>\n",
       "    <tr>\n",
       "      <th>10</th>\n",
       "      <td>농수축</td>\n",
       "      <td>41.998009</td>\n",
       "    </tr>\n",
       "  </tbody>\n",
       "</table>\n",
       "</div>"
      ],
      "text/plain": [
       "    kind   lgb_mape\n",
       "0     잡화  53.522425\n",
       "1   건강기능  44.603927\n",
       "2     가전  62.995166\n",
       "3   생활용품  60.482734\n",
       "4     의류  49.109365\n",
       "5     속옷  86.608507\n",
       "6     가구  64.015866\n",
       "7     주방  53.131283\n",
       "8    이미용  28.949799\n",
       "9     침구  31.859083\n",
       "10   농수축  41.998009"
      ]
     },
     "execution_count": 11,
     "metadata": {},
     "output_type": "execute_result"
    }
   ],
   "source": [
    "# -*- coding: utf-8 -*-\n",
    "from tqdm.notebook import tqdm\n",
    "mape_lgb_list = list()\n",
    "\n",
    "for kind in tqdm(kind_list):\n",
    "    X_train, X_valid, y_train, y_valid = make_data(data = train_final, kind = kind)\n",
    "    lgb_reg = lgb.LGBMRegressor(n_estimators=1000, random_state=1818)\n",
    "    params_lgb = {'objective' : ['regression'],\n",
    "                  'metric' : ['mse'],\n",
    "                  'learning_rate' : [0.01, 0.05, 0.1],\n",
    "                  'max_depth' : [6,7],\n",
    "                  'num_leaves' : [63, 127]}\n",
    "    \n",
    "    grid_lgb = GridSearchCV(lgb_reg, param_grid=params_lgb, cv = 5)\n",
    "    grid_lgb.fit(X_train, y_train)\n",
    "    pred_lgb = grid_lgb.predict(X_valid)\n",
    "    mape_lgb=mape(y_valid, pred_lgb)\n",
    "    mape_lgb_list.append(mape_lgb)\n",
    "    print('상품군 : ', kind, '\\n 최적 하이퍼 파라미터: ',grid_lgb.best_params_)\n",
    "        \n",
    "mape_lgb_df = pd.DataFrame({'kind' : kind_list, 'lgb_mape' : mape_lgb_list})\n",
    "mape_lgb_df"
   ]
  },
  {
   "cell_type": "markdown",
   "metadata": {},
   "source": [
    "## XGBoost\n",
    "결정력이 약한 분류기를 다수 사용하는 과정에서 정확도를 높이는 기법   \n",
    "\n",
    "Gradient Boosting 과정에서 과적합을 방지할 수 있다.   \n",
    "\n",
    "계산 과정 추적이 어려워 변수의 중요도를 파악하기 어렵다.   \n",
    "\n",
    "- eval_metric : 검증데이터에 적용되는 모델 선택 기준\n",
    "\n",
    "- n_estimators : 생성할 tree의 개수\n",
    "\n",
    "- learning_rate : GBM은 초기의 추정값에서 시작하여 각각의Tree 결과를 사용하여 추정값을 업데이트 하는 과정에서 발생하는 변화의 크기\n",
    "\n",
    "- max_depth : 각 의사결정나무의 깊이를 설정. 트리가 깊어질수록 더 잘게 분류를 시키므로 일반적으론 정확도가 높아진다."
   ]
  },
  {
   "cell_type": "code",
   "execution_count": 12,
   "metadata": {},
   "outputs": [
    {
     "data": {
      "application/vnd.jupyter.widget-view+json": {
       "model_id": "a6650483a5ef42969756943dcb20d12f",
       "version_major": 2,
       "version_minor": 0
      },
      "text/plain": [
       "HBox(children=(FloatProgress(value=0.0, max=11.0), HTML(value='')))"
      ]
     },
     "metadata": {},
     "output_type": "display_data"
    },
    {
     "name": "stdout",
     "output_type": "stream",
     "text": [
      "최적 하이퍼 파라미터:\n",
      " {'booster': 'gbtree', 'eval_metric': 'rmse', 'learning_rate': 0.15, 'max_depth': 6, 'n_estimators': 200, 'objective': 'reg:squarederror'}\n",
      "최적 하이퍼 파라미터:\n",
      " {'booster': 'gbtree', 'eval_metric': 'rmse', 'learning_rate': 0.1, 'max_depth': 6, 'n_estimators': 200, 'objective': 'reg:squarederror'}\n",
      "최적 하이퍼 파라미터:\n",
      " {'booster': 'gbtree', 'eval_metric': 'rmse', 'learning_rate': 0.1, 'max_depth': 6, 'n_estimators': 200, 'objective': 'reg:squarederror'}\n",
      "최적 하이퍼 파라미터:\n",
      " {'booster': 'gbtree', 'eval_metric': 'rmse', 'learning_rate': 0.15, 'max_depth': 6, 'n_estimators': 200, 'objective': 'reg:squarederror'}\n",
      "최적 하이퍼 파라미터:\n",
      " {'booster': 'gbtree', 'eval_metric': 'rmse', 'learning_rate': 0.15, 'max_depth': 6, 'n_estimators': 200, 'objective': 'reg:squarederror'}\n",
      "최적 하이퍼 파라미터:\n",
      " {'booster': 'gbtree', 'eval_metric': 'rmse', 'learning_rate': 0.15, 'max_depth': 4, 'n_estimators': 200, 'objective': 'reg:squarederror'}\n",
      "최적 하이퍼 파라미터:\n",
      " {'booster': 'gbtree', 'eval_metric': 'rmse', 'learning_rate': 0.15, 'max_depth': 4, 'n_estimators': 100, 'objective': 'reg:squarederror'}\n",
      "최적 하이퍼 파라미터:\n",
      " {'booster': 'gbtree', 'eval_metric': 'rmse', 'learning_rate': 0.15, 'max_depth': 6, 'n_estimators': 200, 'objective': 'reg:squarederror'}\n",
      "최적 하이퍼 파라미터:\n",
      " {'booster': 'gbtree', 'eval_metric': 'rmse', 'learning_rate': 0.1, 'max_depth': 6, 'n_estimators': 50, 'objective': 'reg:squarederror'}\n",
      "최적 하이퍼 파라미터:\n",
      " {'booster': 'gbtree', 'eval_metric': 'rmse', 'learning_rate': 0.15, 'max_depth': 4, 'n_estimators': 100, 'objective': 'reg:squarederror'}\n",
      "최적 하이퍼 파라미터:\n",
      " {'booster': 'gbtree', 'eval_metric': 'rmse', 'learning_rate': 0.15, 'max_depth': 6, 'n_estimators': 200, 'objective': 'reg:squarederror'}\n",
      "\n"
     ]
    },
    {
     "data": {
      "text/html": [
       "<div>\n",
       "<style scoped>\n",
       "    .dataframe tbody tr th:only-of-type {\n",
       "        vertical-align: middle;\n",
       "    }\n",
       "\n",
       "    .dataframe tbody tr th {\n",
       "        vertical-align: top;\n",
       "    }\n",
       "\n",
       "    .dataframe thead th {\n",
       "        text-align: right;\n",
       "    }\n",
       "</style>\n",
       "<table border=\"1\" class=\"dataframe\">\n",
       "  <thead>\n",
       "    <tr style=\"text-align: right;\">\n",
       "      <th></th>\n",
       "      <th>kind</th>\n",
       "      <th>xgb_mape</th>\n",
       "    </tr>\n",
       "  </thead>\n",
       "  <tbody>\n",
       "    <tr>\n",
       "      <th>0</th>\n",
       "      <td>잡화</td>\n",
       "      <td>336.271423</td>\n",
       "    </tr>\n",
       "    <tr>\n",
       "      <th>1</th>\n",
       "      <td>건강기능</td>\n",
       "      <td>114.958549</td>\n",
       "    </tr>\n",
       "    <tr>\n",
       "      <th>2</th>\n",
       "      <td>가전</td>\n",
       "      <td>375.174734</td>\n",
       "    </tr>\n",
       "    <tr>\n",
       "      <th>3</th>\n",
       "      <td>생활용품</td>\n",
       "      <td>488.564976</td>\n",
       "    </tr>\n",
       "    <tr>\n",
       "      <th>4</th>\n",
       "      <td>의류</td>\n",
       "      <td>163.161492</td>\n",
       "    </tr>\n",
       "    <tr>\n",
       "      <th>5</th>\n",
       "      <td>속옷</td>\n",
       "      <td>252.444737</td>\n",
       "    </tr>\n",
       "    <tr>\n",
       "      <th>6</th>\n",
       "      <td>가구</td>\n",
       "      <td>628.745813</td>\n",
       "    </tr>\n",
       "    <tr>\n",
       "      <th>7</th>\n",
       "      <td>주방</td>\n",
       "      <td>398.556878</td>\n",
       "    </tr>\n",
       "    <tr>\n",
       "      <th>8</th>\n",
       "      <td>이미용</td>\n",
       "      <td>56.260574</td>\n",
       "    </tr>\n",
       "    <tr>\n",
       "      <th>9</th>\n",
       "      <td>침구</td>\n",
       "      <td>400.567358</td>\n",
       "    </tr>\n",
       "    <tr>\n",
       "      <th>10</th>\n",
       "      <td>농수축</td>\n",
       "      <td>41.998009</td>\n",
       "    </tr>\n",
       "  </tbody>\n",
       "</table>\n",
       "</div>"
      ],
      "text/plain": [
       "    kind    xgb_mape\n",
       "0     잡화  336.271423\n",
       "1   건강기능  114.958549\n",
       "2     가전  375.174734\n",
       "3   생활용품  488.564976\n",
       "4     의류  163.161492\n",
       "5     속옷  252.444737\n",
       "6     가구  628.745813\n",
       "7     주방  398.556878\n",
       "8    이미용   56.260574\n",
       "9     침구  400.567358\n",
       "10   농수축   41.998009"
      ]
     },
     "execution_count": 12,
     "metadata": {},
     "output_type": "execute_result"
    }
   ],
   "source": [
    "#-*- coding: utf-8 -*-\n",
    "from tqdm.notebook import tqdm\n",
    "mape_xgb_list = list()\n",
    "\n",
    "for kind in tqdm(kind_list):\n",
    "    X_train, X_valid, y_train, y_valid = make_data(data = train_final, kind = kind)\n",
    "    xgb_reg = xgb.XGBRegressor( random_state=1818)\n",
    "    params_xgb = {'objective' : ['reg:squarederror'],\n",
    "                  'booster' : ['gbtree'],\n",
    "                  'eval_metric' : ['rmse'],\n",
    "                  'n_estimators' : [50, 100, 200],\n",
    "                  'learning_rate' : [0.05, 0.1, 0.15],\n",
    "                  'max_depth' : [4, 6, 8]\n",
    "}\n",
    "    \n",
    "    grid_xgb = GridSearchCV(xgb_reg, param_grid=params_xgb, cv = 5)\n",
    "    grid_xgb.fit(X_train, y_train)\n",
    "    pred_xgb = grid_lgb.predict(X_valid)\n",
    "    mape_xgb=mape(y_valid, pred_xgb)\n",
    "    mape_xgb_list.append(mape_xgb)\n",
    "    print('최적 하이퍼 파라미터:\\n',grid_xgb.best_params_)\n",
    "        \n",
    "mape_xgb_df = pd.DataFrame({'kind' : kind_list, 'xgb_mape' : mape_xgb_list})\n",
    "mape_xgb_df"
   ]
  },
  {
   "cell_type": "markdown",
   "metadata": {},
   "source": [
    "## RandomForset\n",
    "다수의 의사결정나무를 이용하는 학습법   \n",
    "\n",
    "여러 변수를 일괄적으로 다룰 수 있다.   \n",
    "\n",
    "모델 중 메모리 소모가 가장 많으며 Training data의 양이 증가해도 성능이 급격히 향상하지 않는다.   \n",
    "\n",
    "- n_estimators : 생성할 tree의 개수\n",
    "\n",
    "- max_features : 최대 선택할 특성의 수\n",
    "\n",
    "- max_depth : 각 의사결정나무의 깊이를 설정. 트리가 깊어질수록 더 잘게 분류를 시키므로 일반적으론 정확도가 높아진다."
   ]
  },
  {
   "cell_type": "code",
   "execution_count": 14,
   "metadata": {},
   "outputs": [
    {
     "data": {
      "application/vnd.jupyter.widget-view+json": {
       "model_id": "fc93155f27aa4860b6c94d4ec7fd549d",
       "version_major": 2,
       "version_minor": 0
      },
      "text/plain": [
       "HBox(children=(FloatProgress(value=0.0, max=11.0), HTML(value='')))"
      ]
     },
     "metadata": {},
     "output_type": "display_data"
    },
    {
     "name": "stdout",
     "output_type": "stream",
     "text": [
      "최적 하이퍼 파라미터:\n",
      " {'max_depth': 12, 'n_estimators': 200}\n",
      "최적 하이퍼 파라미터:\n",
      " {'max_depth': 10, 'n_estimators': 200}\n",
      "최적 하이퍼 파라미터:\n",
      " {'max_depth': 12, 'n_estimators': 200}\n",
      "최적 하이퍼 파라미터:\n",
      " {'max_depth': 12, 'n_estimators': 100}\n",
      "최적 하이퍼 파라미터:\n",
      " {'max_depth': 12, 'n_estimators': 100}\n",
      "최적 하이퍼 파라미터:\n",
      " {'max_depth': 10, 'n_estimators': 100}\n",
      "최적 하이퍼 파라미터:\n",
      " {'max_depth': 8, 'n_estimators': 200}\n",
      "최적 하이퍼 파라미터:\n",
      " {'max_depth': 12, 'n_estimators': 200}\n",
      "최적 하이퍼 파라미터:\n",
      " {'max_depth': 12, 'n_estimators': 100}\n",
      "최적 하이퍼 파라미터:\n",
      " {'max_depth': 12, 'n_estimators': 200}\n",
      "최적 하이퍼 파라미터:\n",
      " {'max_depth': 12, 'n_estimators': 200}\n",
      "\n"
     ]
    },
    {
     "data": {
      "text/html": [
       "<div>\n",
       "<style scoped>\n",
       "    .dataframe tbody tr th:only-of-type {\n",
       "        vertical-align: middle;\n",
       "    }\n",
       "\n",
       "    .dataframe tbody tr th {\n",
       "        vertical-align: top;\n",
       "    }\n",
       "\n",
       "    .dataframe thead th {\n",
       "        text-align: right;\n",
       "    }\n",
       "</style>\n",
       "<table border=\"1\" class=\"dataframe\">\n",
       "  <thead>\n",
       "    <tr style=\"text-align: right;\">\n",
       "      <th></th>\n",
       "      <th>kind</th>\n",
       "      <th>rf_mape</th>\n",
       "    </tr>\n",
       "  </thead>\n",
       "  <tbody>\n",
       "    <tr>\n",
       "      <th>0</th>\n",
       "      <td>잡화</td>\n",
       "      <td>62.784901</td>\n",
       "    </tr>\n",
       "    <tr>\n",
       "      <th>1</th>\n",
       "      <td>건강기능</td>\n",
       "      <td>53.750460</td>\n",
       "    </tr>\n",
       "    <tr>\n",
       "      <th>2</th>\n",
       "      <td>가전</td>\n",
       "      <td>68.218632</td>\n",
       "    </tr>\n",
       "    <tr>\n",
       "      <th>3</th>\n",
       "      <td>생활용품</td>\n",
       "      <td>78.946854</td>\n",
       "    </tr>\n",
       "    <tr>\n",
       "      <th>4</th>\n",
       "      <td>의류</td>\n",
       "      <td>55.339025</td>\n",
       "    </tr>\n",
       "    <tr>\n",
       "      <th>5</th>\n",
       "      <td>속옷</td>\n",
       "      <td>96.218039</td>\n",
       "    </tr>\n",
       "    <tr>\n",
       "      <th>6</th>\n",
       "      <td>가구</td>\n",
       "      <td>67.917156</td>\n",
       "    </tr>\n",
       "    <tr>\n",
       "      <th>7</th>\n",
       "      <td>주방</td>\n",
       "      <td>73.982114</td>\n",
       "    </tr>\n",
       "    <tr>\n",
       "      <th>8</th>\n",
       "      <td>이미용</td>\n",
       "      <td>27.628828</td>\n",
       "    </tr>\n",
       "    <tr>\n",
       "      <th>9</th>\n",
       "      <td>침구</td>\n",
       "      <td>31.260159</td>\n",
       "    </tr>\n",
       "    <tr>\n",
       "      <th>10</th>\n",
       "      <td>농수축</td>\n",
       "      <td>50.992047</td>\n",
       "    </tr>\n",
       "  </tbody>\n",
       "</table>\n",
       "</div>"
      ],
      "text/plain": [
       "    kind    rf_mape\n",
       "0     잡화  62.784901\n",
       "1   건강기능  53.750460\n",
       "2     가전  68.218632\n",
       "3   생활용품  78.946854\n",
       "4     의류  55.339025\n",
       "5     속옷  96.218039\n",
       "6     가구  67.917156\n",
       "7     주방  73.982114\n",
       "8    이미용  27.628828\n",
       "9     침구  31.260159\n",
       "10   농수축  50.992047"
      ]
     },
     "execution_count": 14,
     "metadata": {},
     "output_type": "execute_result"
    }
   ],
   "source": [
    "# -*- coding: utf-8 -*-\n",
    "from tqdm.notebook import tqdm\n",
    "mape_rf_list = list()\n",
    "\n",
    "for kind in tqdm(kind_list):\n",
    "    X_train, X_valid, y_train, y_valid = make_data(data = train_final, kind = kind)\n",
    "    rf_reg = RandomForestRegressor(random_state=1818)\n",
    "    params_rf={\n",
    "    'n_estimators':[50,100,200],\n",
    "    'max_depth':[6,8,10,12]}\n",
    "    \n",
    "    grid_rf = GridSearchCV(rf_reg, param_grid=params_rf, cv = 5)\n",
    "    grid_rf.fit(X_train, y_train)\n",
    "    pred_rf = grid_rf.predict(X_valid)\n",
    "    mape_rf=mape(y_valid, pred_rf)\n",
    "    mape_rf_list.append(mape_rf)\n",
    "    print('최적 하이퍼 파라미터:\\n',grid_rf.best_params_)\n",
    "        \n",
    "mape_rf_df = pd.DataFrame({'kind' : kind_list, 'rf_mape' : mape_rf_list})\n",
    "mape_rf_df"
   ]
  },
  {
   "cell_type": "markdown",
   "metadata": {},
   "source": [
    "## Linear Model\n",
    "직선 모형을 통해 변수의 효과(계수)와 유의성 등 변수에 대한 직관적인 판단이 가능하다.   \n",
    "\n",
    "변수 간 다중공선성 발생 가능성이 높아 모델 성능 저하가 일어날 수 있다.   \n",
    "\n",
    "데이터가 모두 선형으로 설명된다고 볼 수 없다."
   ]
  },
  {
   "cell_type": "code",
   "execution_count": 15,
   "metadata": {},
   "outputs": [
    {
     "data": {
      "application/vnd.jupyter.widget-view+json": {
       "model_id": "28ddf73964314728840a0d6b2194d205",
       "version_major": 2,
       "version_minor": 0
      },
      "text/plain": [
       "HBox(children=(FloatProgress(value=0.0, max=11.0), HTML(value='')))"
      ]
     },
     "metadata": {},
     "output_type": "display_data"
    },
    {
     "name": "stdout",
     "output_type": "stream",
     "text": [
      "\n"
     ]
    },
    {
     "data": {
      "text/html": [
       "<div>\n",
       "<style scoped>\n",
       "    .dataframe tbody tr th:only-of-type {\n",
       "        vertical-align: middle;\n",
       "    }\n",
       "\n",
       "    .dataframe tbody tr th {\n",
       "        vertical-align: top;\n",
       "    }\n",
       "\n",
       "    .dataframe thead th {\n",
       "        text-align: right;\n",
       "    }\n",
       "</style>\n",
       "<table border=\"1\" class=\"dataframe\">\n",
       "  <thead>\n",
       "    <tr style=\"text-align: right;\">\n",
       "      <th></th>\n",
       "      <th>kind</th>\n",
       "      <th>lm_mape</th>\n",
       "    </tr>\n",
       "  </thead>\n",
       "  <tbody>\n",
       "    <tr>\n",
       "      <th>0</th>\n",
       "      <td>잡화</td>\n",
       "      <td>9.175197e+01</td>\n",
       "    </tr>\n",
       "    <tr>\n",
       "      <th>1</th>\n",
       "      <td>건강기능</td>\n",
       "      <td>3.641249e+12</td>\n",
       "    </tr>\n",
       "    <tr>\n",
       "      <th>2</th>\n",
       "      <td>가전</td>\n",
       "      <td>1.027350e+02</td>\n",
       "    </tr>\n",
       "    <tr>\n",
       "      <th>3</th>\n",
       "      <td>생활용품</td>\n",
       "      <td>1.475972e+02</td>\n",
       "    </tr>\n",
       "    <tr>\n",
       "      <th>4</th>\n",
       "      <td>의류</td>\n",
       "      <td>7.503433e+01</td>\n",
       "    </tr>\n",
       "    <tr>\n",
       "      <th>5</th>\n",
       "      <td>속옷</td>\n",
       "      <td>4.639285e+10</td>\n",
       "    </tr>\n",
       "    <tr>\n",
       "      <th>6</th>\n",
       "      <td>가구</td>\n",
       "      <td>9.311290e+01</td>\n",
       "    </tr>\n",
       "    <tr>\n",
       "      <th>7</th>\n",
       "      <td>주방</td>\n",
       "      <td>1.066908e+02</td>\n",
       "    </tr>\n",
       "    <tr>\n",
       "      <th>8</th>\n",
       "      <td>이미용</td>\n",
       "      <td>3.765041e+01</td>\n",
       "    </tr>\n",
       "    <tr>\n",
       "      <th>9</th>\n",
       "      <td>침구</td>\n",
       "      <td>5.686322e+01</td>\n",
       "    </tr>\n",
       "    <tr>\n",
       "      <th>10</th>\n",
       "      <td>농수축</td>\n",
       "      <td>2.310698e+11</td>\n",
       "    </tr>\n",
       "  </tbody>\n",
       "</table>\n",
       "</div>"
      ],
      "text/plain": [
       "    kind       lm_mape\n",
       "0     잡화  9.175197e+01\n",
       "1   건강기능  3.641249e+12\n",
       "2     가전  1.027350e+02\n",
       "3   생활용품  1.475972e+02\n",
       "4     의류  7.503433e+01\n",
       "5     속옷  4.639285e+10\n",
       "6     가구  9.311290e+01\n",
       "7     주방  1.066908e+02\n",
       "8    이미용  3.765041e+01\n",
       "9     침구  5.686322e+01\n",
       "10   농수축  2.310698e+11"
      ]
     },
     "execution_count": 15,
     "metadata": {},
     "output_type": "execute_result"
    }
   ],
   "source": [
    "from sklearn.linear_model import LinearRegression\n",
    "mape_lm_list = list()\n",
    "for kind in tqdm(kind_list):\n",
    "    X_train, X_valid, y_train, y_valid = make_data(data = train_final, kind = kind)\n",
    "    model = LinearRegression()\n",
    "    model = model.fit(X_train, y_train)\n",
    "    predict_lm = model.predict(X_valid)\n",
    "    mape_lm = mape(y_valid,predict_lm)\n",
    "    mape_lm_list.append(mape_lm)\n",
    "    \n",
    "mape_lm_df = pd.DataFrame({'kind' : kind_list, 'lm_mape' : mape_lm_list})\n",
    "mape_lm_df"
   ]
  },
  {
   "cell_type": "code",
   "execution_count": 16,
   "metadata": {},
   "outputs": [
    {
     "name": "stdout",
     "output_type": "stream",
     "text": [
      "XGboost 모델 활용시 평균 MAPE :  296.06404926972795\n",
      "LightGBM 모델 활용시 평균 MAPE :  52.4796513317124\n",
      "RandomForest 모델 활용시 평균 MAPE :  60.63983767733957\n"
     ]
    }
   ],
   "source": [
    "print('XGboost 모델 활용시 평균 MAPE : ', mape_xgb_df['xgb_mape'].mean())\n",
    "print('LightGBM 모델 활용시 평균 MAPE : ', mape_lgb_df['lgb_mape'].mean())\n",
    "print('RandomForest 모델 활용시 평균 MAPE : ', mape_rf_df['rf_mape'].mean())"
   ]
  },
  {
   "cell_type": "markdown",
   "metadata": {},
   "source": [
    "MAPE 값\n",
    "- Light GBM < Random Forest < XG Boost "
   ]
  },
  {
   "cell_type": "code",
   "execution_count": 17,
   "metadata": {},
   "outputs": [
    {
     "data": {
      "image/png": "[encoded data removed]",
      "text/plain": [
       "<Figure size 864x432 with 1 Axes>"
      ]
     },
     "metadata": {
      "needs_background": "light"
     },
     "output_type": "display_data"
    }
   ],
   "source": [
    "model_df = pd.Series([52.48,60.64,113.24])\n",
    "index_dc=np.arange(3)\n",
    "label_dc=['LGB','RF','XGB']\n",
    "\n",
    "model_df.plot(kind='bar',figsize=(12,6))\n",
    "title = '모델에 따른 평균 MAPE'\n",
    "plt.title(title, fontsize = 20)\n",
    "plt.xticks(index_dc,label_dc,rotation=0,fontsize=10)\n",
    "plt.xlabel('MAPE',size=15)\n",
    "plt.ylabel('모델 종류',size=15)\n",
    "plt.savefig(f'./graphs/{title}.png')\n",
    "plt.show()"
   ]
  },
  {
   "cell_type": "code",
   "execution_count": 18,
   "metadata": {},
   "outputs": [
    {
     "data": {
      "text/html": [
       "<div>\n",
       "<style scoped>\n",
       "    .dataframe tbody tr th:only-of-type {\n",
       "        vertical-align: middle;\n",
       "    }\n",
       "\n",
       "    .dataframe tbody tr th {\n",
       "        vertical-align: top;\n",
       "    }\n",
       "\n",
       "    .dataframe thead th {\n",
       "        text-align: right;\n",
       "    }\n",
       "</style>\n",
       "<table border=\"1\" class=\"dataframe\">\n",
       "  <thead>\n",
       "    <tr style=\"text-align: right;\">\n",
       "      <th></th>\n",
       "      <th>kind</th>\n",
       "      <th>lgb_mape</th>\n",
       "      <th>xgb_mape</th>\n",
       "      <th>rf_mape</th>\n",
       "    </tr>\n",
       "  </thead>\n",
       "  <tbody>\n",
       "    <tr>\n",
       "      <th>0</th>\n",
       "      <td>잡화</td>\n",
       "      <td>53.522425</td>\n",
       "      <td>336.271423</td>\n",
       "      <td>62.784901</td>\n",
       "    </tr>\n",
       "    <tr>\n",
       "      <th>1</th>\n",
       "      <td>건강기능</td>\n",
       "      <td>44.603927</td>\n",
       "      <td>114.958549</td>\n",
       "      <td>53.750460</td>\n",
       "    </tr>\n",
       "    <tr>\n",
       "      <th>2</th>\n",
       "      <td>가전</td>\n",
       "      <td>62.995166</td>\n",
       "      <td>375.174734</td>\n",
       "      <td>68.218632</td>\n",
       "    </tr>\n",
       "    <tr>\n",
       "      <th>3</th>\n",
       "      <td>생활용품</td>\n",
       "      <td>60.482734</td>\n",
       "      <td>488.564976</td>\n",
       "      <td>78.946854</td>\n",
       "    </tr>\n",
       "    <tr>\n",
       "      <th>4</th>\n",
       "      <td>의류</td>\n",
       "      <td>49.109365</td>\n",
       "      <td>163.161492</td>\n",
       "      <td>55.339025</td>\n",
       "    </tr>\n",
       "    <tr>\n",
       "      <th>5</th>\n",
       "      <td>속옷</td>\n",
       "      <td>86.608507</td>\n",
       "      <td>252.444737</td>\n",
       "      <td>96.218039</td>\n",
       "    </tr>\n",
       "    <tr>\n",
       "      <th>6</th>\n",
       "      <td>가구</td>\n",
       "      <td>64.015866</td>\n",
       "      <td>628.745813</td>\n",
       "      <td>67.917156</td>\n",
       "    </tr>\n",
       "    <tr>\n",
       "      <th>7</th>\n",
       "      <td>주방</td>\n",
       "      <td>53.131283</td>\n",
       "      <td>398.556878</td>\n",
       "      <td>73.982114</td>\n",
       "    </tr>\n",
       "    <tr>\n",
       "      <th>8</th>\n",
       "      <td>이미용</td>\n",
       "      <td>28.949799</td>\n",
       "      <td>56.260574</td>\n",
       "      <td>27.628828</td>\n",
       "    </tr>\n",
       "    <tr>\n",
       "      <th>9</th>\n",
       "      <td>침구</td>\n",
       "      <td>31.859083</td>\n",
       "      <td>400.567358</td>\n",
       "      <td>31.260159</td>\n",
       "    </tr>\n",
       "    <tr>\n",
       "      <th>10</th>\n",
       "      <td>농수축</td>\n",
       "      <td>41.998009</td>\n",
       "      <td>41.998009</td>\n",
       "      <td>50.992047</td>\n",
       "    </tr>\n",
       "  </tbody>\n",
       "</table>\n",
       "</div>"
      ],
      "text/plain": [
       "    kind   lgb_mape    xgb_mape    rf_mape\n",
       "0     잡화  53.522425  336.271423  62.784901\n",
       "1   건강기능  44.603927  114.958549  53.750460\n",
       "2     가전  62.995166  375.174734  68.218632\n",
       "3   생활용품  60.482734  488.564976  78.946854\n",
       "4     의류  49.109365  163.161492  55.339025\n",
       "5     속옷  86.608507  252.444737  96.218039\n",
       "6     가구  64.015866  628.745813  67.917156\n",
       "7     주방  53.131283  398.556878  73.982114\n",
       "8    이미용  28.949799   56.260574  27.628828\n",
       "9     침구  31.859083  400.567358  31.260159\n",
       "10   농수축  41.998009   41.998009  50.992047"
      ]
     },
     "execution_count": 18,
     "metadata": {},
     "output_type": "execute_result"
    }
   ],
   "source": [
    "final_mape_df=pd.concat([mape_lgb_df,mape_xgb_df['xgb_mape'],mape_rf_df['rf_mape']],axis=1)\n",
    "final_mape_df"
   ]
  },
  {
   "cell_type": "markdown",
   "metadata": {},
   "source": [
    "# Final Predict   \n",
    "\n",
    "- 각 상품군 별 실적을 예측한다."
   ]
  },
  {
   "cell_type": "code",
   "execution_count": 19,
   "metadata": {},
   "outputs": [
    {
     "data": {
      "text/plain": [
       "Index(['상품명', '상품군', '취급액', 'day', 'brand_0.0', 'brand_1.0', 'hour_00',\n",
       "       'hour_01', 'hour_02', 'hour_06', 'hour_07', 'hour_08', 'hour_09',\n",
       "       'hour_10', 'hour_11', 'hour_12', 'hour_13', 'hour_14', 'hour_15',\n",
       "       'hour_16', 'hour_17', 'hour_18', 'hour_19', 'hour_20', 'hour_21',\n",
       "       'hour_22', 'hour_23', 'weekday_0.0', 'weekday_1.0', 'month_01',\n",
       "       'month_02', 'month_03', 'month_04', 'month_05', 'month_06', 'month_07',\n",
       "       'month_08', 'month_09', 'month_10', 'month_11', 'month_12', 'prime_0.0',\n",
       "       'prime_1.0', 'season_0.0', 'season_1.0', 'season_2.0', 'season_3.0',\n",
       "       '초중말_0.0', '초중말_1.0', '초중말_2.0', '방송순서_0.0', '방송순서_1.0', '방송순서_2.0',\n",
       "       '방송순서_3.0', '방송순서_4.0', '방송순서_5.0', '방송순서_6.0', '방송순서_7.0', '방송순서_8.0',\n",
       "       '방송순서_9.0', '방송순서_10.0', '방송순서_11.0', 'rain_0.0', 'rain_1.0',\n",
       "       'storm_0.0', 'storm_1.0', 'hot_0.0', 'hot_1.0', 'PM10_0.0', 'PM10_1.0',\n",
       "       'PM10_2.0', 'PM10_3.0', 'discount_0.0', 'discount_1.0', 'scaled_판매단가',\n",
       "       'scaled_노출(분)', 'scaled_temp'],\n",
       "      dtype='object')"
      ]
     },
     "execution_count": 19,
     "metadata": {},
     "output_type": "execute_result"
    }
   ],
   "source": [
    "test_final.columns"
   ]
  },
  {
   "cell_type": "code",
   "execution_count": 20,
   "metadata": {},
   "outputs": [
    {
     "data": {
      "text/plain": [
       "Index(['상품명', '상품군', '취급액', 'day', 'brand_0.0', 'brand_1.0', 'hour_00',\n",
       "       'hour_01', 'hour_02', 'hour_06', 'hour_07', 'hour_08', 'hour_09',\n",
       "       'hour_10', 'hour_11', 'hour_12', 'hour_13', 'hour_14', 'hour_15',\n",
       "       'hour_16', 'hour_17', 'hour_18', 'hour_19', 'hour_20', 'hour_21',\n",
       "       'hour_22', 'hour_23', 'weekday_0.0', 'weekday_1.0', 'month_01',\n",
       "       'month_02', 'month_03', 'month_04', 'month_05', 'month_06', 'month_07',\n",
       "       'month_08', 'month_09', 'month_10', 'month_11', 'month_12', 'prime_0.0',\n",
       "       'prime_1.0', 'season_0.0', 'season_1.0', 'season_2.0', 'season_3.0',\n",
       "       '초중말_0.0', '초중말_1.0', '초중말_2.0', '방송순서_0.0', '방송순서_1.0', '방송순서_2.0',\n",
       "       '방송순서_3.0', '방송순서_4.0', '방송순서_5.0', '방송순서_6.0', '방송순서_7.0', '방송순서_8.0',\n",
       "       '방송순서_9.0', '방송순서_10.0', '방송순서_11.0', 'rain_0.0', 'rain_1.0',\n",
       "       'storm_0.0', 'storm_1.0', 'hot_0.0', 'hot_1.0', 'PM10_0.0', 'PM10_1.0',\n",
       "       'PM10_2.0', 'PM10_3.0', 'discount_0.0', 'discount_1.0', 'scaled_판매단가',\n",
       "       'scaled_노출(분)', 'scaled_temp'],\n",
       "      dtype='object')"
      ]
     },
     "execution_count": 20,
     "metadata": {},
     "output_type": "execute_result"
    }
   ],
   "source": [
    "train_final.columns"
   ]
  },
  {
   "cell_type": "markdown",
   "metadata": {},
   "source": [
    "## 속옷"
   ]
  },
  {
   "cell_type": "code",
   "execution_count": 21,
   "metadata": {
    "scrolled": true
   },
   "outputs": [
    {
     "name": "stdout",
     "output_type": "stream",
     "text": [
      "(329, 2)\n"
     ]
    }
   ],
   "source": [
    "# -*- coding: utf-8 -*-\n",
    "from tqdm.notebook import tqdm\n",
    "final_df = pd.DataFrame(columns={'index','취급액'})\n",
    "X_train, X_test, y_train= train_final.loc[train_final['상품군']=='속옷'].drop(['상품명','상품군','취급액','day'],axis=1),train_final.loc[train_final['상품군']=='속옷','취급액'],test_final.loc[test_final['상품군']=='속옷'].drop(['상품군','상품명','취급액','day'],axis=1)\n",
    "y_idx = list(y_train.index)\n",
    "lgb_reg = lgb.LGBMRegressor(n_estimators=1000, random_state=1818,\n",
    "                           objective = 'regression',metric='mse',\n",
    "                           learning_rate = 0.01,max_depth=7,num_leaves=63)\n",
    "lgb_reg = lgb_reg.fit(X_train,X_test)\n",
    "pred_lgb = list(lgb_reg.predict(y_train))\n",
    "pred_df = pd.DataFrame({'index':y_idx,'취급액':pred_lgb})\n",
    "final_df = pd.concat([final_df,pred_df],axis=0)\n",
    "print(final_df.shape)"
   ]
  },
  {
   "cell_type": "code",
   "execution_count": 22,
   "metadata": {},
   "outputs": [
    {
     "data": {
      "image/png": "[encoded data removed]",
      "text/plain": [
       "<Figure size 432x288 with 1 Axes>"
      ]
     },
     "metadata": {
      "needs_background": "light"
     },
     "output_type": "display_data"
    }
   ],
   "source": [
    "plot_importance(lgb_reg, max_num_features=10,title = '속옷 상품군 LGBM 모형 변수 중요도')\n",
    "plt.savefig('./graphs/modeling/fea_im_underwear.png')"
   ]
  },
  {
   "cell_type": "markdown",
   "metadata": {},
   "source": [
    "## 잡화"
   ]
  },
  {
   "cell_type": "code",
   "execution_count": 23,
   "metadata": {},
   "outputs": [
    {
     "name": "stdout",
     "output_type": "stream",
     "text": [
      "(606, 2)\n"
     ]
    }
   ],
   "source": [
    "# -*- coding: utf-8 -*-\n",
    "from tqdm.notebook import tqdm\n",
    "X_train, X_test, y_train= train_final.loc[train_final['상품군']=='잡화'].drop(['상품명','상품군','취급액','day'],axis=1),train_final.loc[train_final['상품군']=='잡화','취급액'],test_final.loc[test_final['상품군']=='잡화'].drop(['상품군','상품명','취급액','day'],axis=1)\n",
    "y_idx = list(y_train.index)\n",
    "lgb_reg = lgb.LGBMRegressor(n_estimators=1000, random_state=1818,\n",
    "                           objective = 'regression',metric='mse',\n",
    "                           learning_rate = 0.05,max_depth=7,num_leaves=63)\n",
    "lgb_reg = lgb_reg.fit(X_train,X_test)\n",
    "pred_lgb = list(lgb_reg.predict(y_train))\n",
    "pred_df = pd.DataFrame({'index':y_idx,'취급액':pred_lgb})\n",
    "final_df = pd.concat([final_df,pred_df],axis=0)\n",
    "print(final_df.shape)"
   ]
  },
  {
   "cell_type": "code",
   "execution_count": 24,
   "metadata": {},
   "outputs": [
    {
     "data": {
      "image/png": "[encoded data removed]",
      "text/plain": [
       "<Figure size 432x288 with 1 Axes>"
      ]
     },
     "metadata": {
      "needs_background": "light"
     },
     "output_type": "display_data"
    }
   ],
   "source": [
    "plot_importance(lgb_reg, max_num_features=10,title = '잡화 상품군 LGBM 모형 변수 중요도')\n",
    "plt.savefig('./graphs/modeling/fea_im_item.png')"
   ]
  },
  {
   "cell_type": "markdown",
   "metadata": {},
   "source": [
    "## 건강기능"
   ]
  },
  {
   "cell_type": "code",
   "execution_count": 25,
   "metadata": {},
   "outputs": [
    {
     "name": "stdout",
     "output_type": "stream",
     "text": [
      "(624, 2)\n"
     ]
    }
   ],
   "source": [
    "# -*- coding: utf-8 -*-\n",
    "from tqdm.notebook import tqdm\n",
    "X_train, X_test, y_train= train_final.loc[train_final['상품군']=='건강기능'].drop(['상품명','상품군','취급액','day'],axis=1),train_final.loc[train_final['상품군']=='건강기능','취급액'],test_final.loc[test_final['상품군']=='건강기능'].drop(['상품군','상품명','취급액','day'],axis=1)\n",
    "y_idx = list(y_train.index)\n",
    "lgb_reg = lgb.LGBMRegressor(n_estimators=1000, random_state=1818,\n",
    "                           objective = 'regression',metric='mse',\n",
    "                           learning_rate = 0.01,max_depth=7,num_leaves=63)\n",
    "lgb_reg = lgb_reg.fit(X_train,X_test)\n",
    "pred_lgb = list(lgb_reg.predict(y_train))\n",
    "pred_df = pd.DataFrame({'index':y_idx,'취급액':pred_lgb})\n",
    "final_df = pd.concat([final_df,pred_df],axis=0)\n",
    "print(final_df.shape)"
   ]
  },
  {
   "cell_type": "code",
   "execution_count": 26,
   "metadata": {},
   "outputs": [
    {
     "data": {
      "image/png": "[encoded data removed]",
      "text/plain": [
       "<Figure size 432x288 with 1 Axes>"
      ]
     },
     "metadata": {
      "needs_background": "light"
     },
     "output_type": "display_data"
    }
   ],
   "source": [
    "plot_importance(lgb_reg, max_num_features=10,title = '건강기능 상품군 LGBM 모형 변수 중요도')\n",
    "plt.savefig('./graphs/modeling/fea_im_health.png')"
   ]
  },
  {
   "cell_type": "markdown",
   "metadata": {},
   "source": [
    "## 농수축"
   ]
  },
  {
   "cell_type": "code",
   "execution_count": 27,
   "metadata": {},
   "outputs": [
    {
     "name": "stdout",
     "output_type": "stream",
     "text": [
      "(1048, 2)\n"
     ]
    }
   ],
   "source": [
    "# -*- coding: utf-8 -*-\n",
    "from tqdm.notebook import tqdm\n",
    "X_train, X_test, y_train= train_final.loc[train_final['상품군']=='농수축'].drop(['상품명','상품군','취급액','day'],axis=1),train_final.loc[train_final['상품군']=='농수축','취급액'],test_final.loc[test_final['상품군']=='농수축'].drop(['상품군','상품명','취급액','day'],axis=1)\n",
    "y_idx = list(y_train.index)\n",
    "lgb_reg = lgb.LGBMRegressor(n_estimators=1000, random_state=1818,\n",
    "                           objective = 'regression',metric='mse',\n",
    "                           learning_rate = 0.05,max_depth=6,num_leaves=63)\n",
    "lgb_reg = lgb_reg.fit(X_train,X_test)\n",
    "pred_lgb = list(lgb_reg.predict(y_train))\n",
    "pred_df = pd.DataFrame({'index':y_idx,'취급액':pred_lgb})\n",
    "final_df = pd.concat([final_df,pred_df],axis=0)\n",
    "print(final_df.shape)"
   ]
  },
  {
   "cell_type": "code",
   "execution_count": 28,
   "metadata": {},
   "outputs": [
    {
     "data": {
      "image/png": "[encoded data removed]",
      "text/plain": [
       "<Figure size 432x288 with 1 Axes>"
      ]
     },
     "metadata": {
      "needs_background": "light"
     },
     "output_type": "display_data"
    }
   ],
   "source": [
    "plot_importance(lgb_reg, max_num_features=10,title = '농수축 상품군 LGBM 모형 변수 중요도')\n",
    "plt.savefig('./graphs/modeling/fea_im_industry.png')"
   ]
  },
  {
   "cell_type": "markdown",
   "metadata": {},
   "source": [
    "## 침구"
   ]
  },
  {
   "cell_type": "code",
   "execution_count": 29,
   "metadata": {},
   "outputs": [
    {
     "name": "stdout",
     "output_type": "stream",
     "text": [
      "(1120, 2)\n"
     ]
    }
   ],
   "source": [
    "# -*- coding: utf-8 -*-\n",
    "from tqdm.notebook import tqdm\n",
    "X_train, X_test, y_train= train_final.loc[train_final['상품군']=='침구'].drop(['상품명','상품군','취급액','day'],axis=1),train_final.loc[train_final['상품군']=='침구','취급액'],test_final.loc[test_final['상품군']=='침구'].drop(['상품군','상품명','취급액','day'],axis=1)\n",
    "y_idx = list(y_train.index)\n",
    "lgb_reg = lgb.LGBMRegressor(n_estimators=1000, random_state=1818,\n",
    "                           objective = 'regression',metric='mse',\n",
    "                           learning_rate = 0.05,max_depth=6,num_leaves=63)\n",
    "lgb_reg = lgb_reg.fit(X_train,X_test)\n",
    "pred_lgb = list(lgb_reg.predict(y_train))\n",
    "pred_df = pd.DataFrame({'index':y_idx,'취급액':pred_lgb})\n",
    "final_df = pd.concat([final_df,pred_df],axis=0)\n",
    "print(final_df.shape)"
   ]
  },
  {
   "cell_type": "code",
   "execution_count": 30,
   "metadata": {},
   "outputs": [
    {
     "data": {
      "image/png": "[encoded data removed]",
      "text/plain": [
       "<Figure size 432x288 with 1 Axes>"
      ]
     },
     "metadata": {
      "needs_background": "light"
     },
     "output_type": "display_data"
    }
   ],
   "source": [
    "plot_importance(lgb_reg, max_num_features=10,title = '침구 상품군 LGBM 모형 변수 중요도')\n",
    "plt.savefig('./graphs/modeling/fea_im_bed.png')"
   ]
  },
  {
   "cell_type": "markdown",
   "metadata": {},
   "source": [
    "## 생활용품"
   ]
  },
  {
   "cell_type": "code",
   "execution_count": 31,
   "metadata": {},
   "outputs": [
    {
     "name": "stdout",
     "output_type": "stream",
     "text": [
      "(1468, 2)\n"
     ]
    }
   ],
   "source": [
    "# -*- coding: utf-8 -*-\n",
    "from tqdm.notebook import tqdm\n",
    "X_train, X_test, y_train= train_final.loc[train_final['상품군']=='생활용품'].drop(['상품명','상품군','취급액','day'],axis=1),train_final.loc[train_final['상품군']=='생활용품','취급액'],test_final.loc[test_final['상품군']=='생활용품'].drop(['상품군','상품명','취급액','day'],axis=1)\n",
    "y_idx = list(y_train.index)\n",
    "lgb_reg = lgb.LGBMRegressor(n_estimators=1000, random_state=1818,\n",
    "                           objective = 'regression',metric='mse',\n",
    "                           learning_rate = 0.1,max_depth=7,num_leaves=63)\n",
    "lgb_reg = lgb_reg.fit(X_train,X_test)\n",
    "pred_lgb = list(lgb_reg.predict(y_train))\n",
    "pred_df = pd.DataFrame({'index':y_idx,'취급액':pred_lgb})\n",
    "final_df = pd.concat([final_df,pred_df],axis=0)\n",
    "print(final_df.shape)"
   ]
  },
  {
   "cell_type": "code",
   "execution_count": 32,
   "metadata": {},
   "outputs": [
    {
     "data": {
      "image/png": "[encoded data removed]",
      "text/plain": [
       "<Figure size 432x288 with 1 Axes>"
      ]
     },
     "metadata": {
      "needs_background": "light"
     },
     "output_type": "display_data"
    }
   ],
   "source": [
    "plot_importance(lgb_reg, max_num_features=10,title = '생활용품 상품군 LGBM 모형 변수 중요도')\n",
    "plt.savefig('./graphs/modeling/fea_im_life.png')"
   ]
  },
  {
   "cell_type": "markdown",
   "metadata": {},
   "source": [
    "## 주방"
   ]
  },
  {
   "cell_type": "code",
   "execution_count": 33,
   "metadata": {},
   "outputs": [
    {
     "name": "stdout",
     "output_type": "stream",
     "text": [
      "(1740, 2)\n"
     ]
    }
   ],
   "source": [
    "# -*- coding: utf-8 -*-\n",
    "from tqdm.notebook import tqdm\n",
    "X_train, X_test, y_train= train_final.loc[train_final['상품군']=='주방'].drop(['상품명','상품군','취급액','day'],axis=1),train_final.loc[train_final['상품군']=='주방','취급액'],test_final.loc[test_final['상품군']=='주방'].drop(['상품군','상품명','취급액','day'],axis=1)\n",
    "y_idx = list(y_train.index)\n",
    "lgb_reg = lgb.LGBMRegressor(n_estimators=1000, random_state=1818,\n",
    "                           objective = 'regression',metric='mse',\n",
    "                           learning_rate = 0.1,max_depth=6,num_leaves=63)\n",
    "lgb_reg = lgb_reg.fit(X_train,X_test)\n",
    "pred_lgb = list(lgb_reg.predict(y_train))\n",
    "pred_df = pd.DataFrame({'index':y_idx,'취급액':pred_lgb})\n",
    "final_df = pd.concat([final_df,pred_df],axis=0)\n",
    "print(final_df.shape)"
   ]
  },
  {
   "cell_type": "code",
   "execution_count": 34,
   "metadata": {},
   "outputs": [
    {
     "data": {
      "image/png": "[encoded data removed]",
      "text/plain": [
       "<Figure size 432x288 with 1 Axes>"
      ]
     },
     "metadata": {
      "needs_background": "light"
     },
     "output_type": "display_data"
    }
   ],
   "source": [
    "plot_importance(lgb_reg, max_num_features=10,title = '주방 상품군 LGBM 모형 변수 중요도')\n",
    "plt.savefig('./graphs/modeling/fea_im_kitchen.png')"
   ]
  },
  {
   "cell_type": "markdown",
   "metadata": {},
   "source": [
    "## 이미용"
   ]
  },
  {
   "cell_type": "code",
   "execution_count": 35,
   "metadata": {},
   "outputs": [
    {
     "name": "stdout",
     "output_type": "stream",
     "text": [
      "(1907, 2)\n"
     ]
    }
   ],
   "source": [
    "# -*- coding: utf-8 -*-\n",
    "from tqdm.notebook import tqdm\n",
    "X_train, X_test, y_train= train_final.loc[train_final['상품군']=='이미용'].drop(['상품명','상품군','취급액','day'],axis=1),train_final.loc[train_final['상품군']=='이미용','취급액'],test_final.loc[test_final['상품군']=='이미용'].drop(['상품군','상품명','취급액','day'],axis=1)\n",
    "y_idx = list(y_train.index)\n",
    "lgb_reg = lgb.LGBMRegressor(n_estimators=1000, random_state=1818,\n",
    "                           objective = 'regression',metric='mse',\n",
    "                           learning_rate = 0.01,max_depth=6,num_leaves=63)\n",
    "lgb_reg = lgb_reg.fit(X_train,X_test)\n",
    "pred_lgb = list(lgb_reg.predict(y_train))\n",
    "pred_df = pd.DataFrame({'index':y_idx,'취급액':pred_lgb})\n",
    "final_df = pd.concat([final_df,pred_df],axis=0)\n",
    "print(final_df.shape)"
   ]
  },
  {
   "cell_type": "code",
   "execution_count": 36,
   "metadata": {},
   "outputs": [
    {
     "data": {
      "image/png": "[encoded data removed]",
      "text/plain": [
       "<Figure size 432x288 with 1 Axes>"
      ]
     },
     "metadata": {
      "needs_background": "light"
     },
     "output_type": "display_data"
    }
   ],
   "source": [
    "plot_importance(lgb_reg, max_num_features=10,title = '이미용 상품군 LGBM 모형 변수 중요도')\n",
    "plt.savefig('./graphs/modeling/fea_im_beauty.png')"
   ]
  },
  {
   "cell_type": "markdown",
   "metadata": {},
   "source": [
    "## 가전"
   ]
  },
  {
   "cell_type": "code",
   "execution_count": 37,
   "metadata": {},
   "outputs": [
    {
     "name": "stdout",
     "output_type": "stream",
     "text": [
      "(2396, 2)\n"
     ]
    }
   ],
   "source": [
    "# -*- coding: utf-8 -*-\n",
    "from tqdm.notebook import tqdm\n",
    "X_train, X_test, y_train= train_final.loc[train_final['상품군']=='가전'].drop(['상품명','상품군','취급액','day'],axis=1),train_final.loc[train_final['상품군']=='가전','취급액'],test_final.loc[test_final['상품군']=='가전'].drop(['상품군','상품명','취급액','day'],axis=1)\n",
    "y_idx = list(y_train.index)\n",
    "lgb_reg = lgb.LGBMRegressor(n_estimators=1000, random_state=1818,\n",
    "                           objective = 'regression',metric='mse',\n",
    "                           learning_rate = 0.05,max_depth=6,num_leaves=63)\n",
    "lgb_reg = lgb_reg.fit(X_train,X_test)\n",
    "pred_lgb = list(lgb_reg.predict(y_train))\n",
    "pred_df = pd.DataFrame({'index':y_idx,'취급액':pred_lgb})\n",
    "final_df = pd.concat([final_df,pred_df],axis=0)\n",
    "print(final_df.shape)"
   ]
  },
  {
   "cell_type": "code",
   "execution_count": 38,
   "metadata": {},
   "outputs": [
    {
     "data": {
      "image/png": "[encoded data removed]",
      "text/plain": [
       "<Figure size 432x288 with 1 Axes>"
      ]
     },
     "metadata": {
      "needs_background": "light"
     },
     "output_type": "display_data"
    }
   ],
   "source": [
    "plot_importance(lgb_reg, max_num_features=10,title = '가전 상품군 LGBM 모형 변수 중요도')\n",
    "plt.savefig('./graphs/modeling/fea_im_appiance.png')"
   ]
  },
  {
   "cell_type": "markdown",
   "metadata": {},
   "source": [
    "## 가구"
   ]
  },
  {
   "cell_type": "code",
   "execution_count": 39,
   "metadata": {},
   "outputs": [
    {
     "name": "stdout",
     "output_type": "stream",
     "text": [
      "(2555, 2)\n"
     ]
    }
   ],
   "source": [
    "# -*- coding: utf-8 -*-\n",
    "from tqdm.notebook import tqdm\n",
    "X_train, X_test, y_train= train_final.loc[train_final['상품군']=='가구'].drop(['상품명','상품군','취급액','day'],axis=1),train_final.loc[train_final['상품군']=='가구','취급액'],test_final.loc[test_final['상품군']=='가구'].drop(['상품군','상품명','취급액','day'],axis=1)\n",
    "y_idx = list(y_train.index)\n",
    "lgb_reg = lgb.LGBMRegressor(n_estimators=1000, random_state=1818,\n",
    "                           objective = 'regression',metric='mse',\n",
    "                           learning_rate = 0.01,max_depth=6,num_leaves=63)\n",
    "lgb_reg = lgb_reg.fit(X_train,X_test)\n",
    "pred_lgb = list(lgb_reg.predict(y_train))\n",
    "pred_df = pd.DataFrame({'index':y_idx,'취급액':pred_lgb})\n",
    "final_df = pd.concat([final_df,pred_df],axis=0)\n",
    "print(final_df.shape)"
   ]
  },
  {
   "cell_type": "code",
   "execution_count": 40,
   "metadata": {},
   "outputs": [
    {
     "data": {
      "image/png": "[encoded data removed]",
      "text/plain": [
       "<Figure size 432x288 with 1 Axes>"
      ]
     },
     "metadata": {
      "needs_background": "light"
     },
     "output_type": "display_data"
    }
   ],
   "source": [
    "plot_importance(lgb_reg, max_num_features=10,title = '가구 상품군 LGBM 모형 변수 중요도')\n",
    "plt.savefig('./graphs/modeling/fea_im_furniture.png')"
   ]
  },
  {
   "cell_type": "markdown",
   "metadata": {},
   "source": [
    "## 의류"
   ]
  },
  {
   "cell_type": "code",
   "execution_count": 41,
   "metadata": {},
   "outputs": [
    {
     "name": "stdout",
     "output_type": "stream",
     "text": [
      "(2716, 2)\n"
     ]
    }
   ],
   "source": [
    "# -*- coding: utf-8 -*-\n",
    "from tqdm.notebook import tqdm\n",
    "X_train, X_test, y_train= train_final.loc[train_final['상품군']=='의류'].drop(['상품명','상품군','취급액','day'],axis=1),train_final.loc[train_final['상품군']=='의류','취급액'],test_final.loc[test_final['상품군']=='의류'].drop(['상품군','상품명','취급액','day'],axis=1)\n",
    "y_idx = list(y_train.index)\n",
    "lgb_reg = lgb.LGBMRegressor(n_estimators=1000, random_state=1818,\n",
    "                           objective = 'regression',metric='mse',\n",
    "                           learning_rate = 0.05,max_depth=6,num_leaves=63)\n",
    "lgb_reg = lgb_reg.fit(X_train,X_test)\n",
    "pred_lgb = list(lgb_reg.predict(y_train))\n",
    "pred_df = pd.DataFrame({'index':y_idx,'취급액':pred_lgb})\n",
    "final_df = pd.concat([final_df,pred_df],axis=0)\n",
    "print(final_df.shape)"
   ]
  },
  {
   "cell_type": "code",
   "execution_count": 42,
   "metadata": {},
   "outputs": [
    {
     "data": {
      "image/png": "[encoded data removed]",
      "text/plain": [
       "<Figure size 432x288 with 1 Axes>"
      ]
     },
     "metadata": {
      "needs_background": "light"
     },
     "output_type": "display_data"
    }
   ],
   "source": [
    "plot_importance(lgb_reg, max_num_features=10,title = '의류 상품군 LGBM 모형 변수 중요도')\n",
    "plt.savefig('./graphs/modeling/fea_im_cloth.png')"
   ]
  },
  {
   "cell_type": "code",
   "execution_count": 43,
   "metadata": {},
   "outputs": [],
   "source": [
    "with open('./pickles/final_predict_df.pkl', 'wb') as f: # 완성된 데이터 셋 pickle 형태로 저장\n",
    "    pickle.dump(final_df, f)"
   ]
  },
  {
   "cell_type": "markdown",
   "metadata": {},
   "source": [
    "## Predict"
   ]
  },
  {
   "cell_type": "code",
   "execution_count": 44,
   "metadata": {
    "scrolled": false
   },
   "outputs": [
    {
     "data": {
      "text/plain": [
       "(2891, 8)"
      ]
     },
     "execution_count": 44,
     "metadata": {},
     "output_type": "execute_result"
    }
   ],
   "source": [
    "with open('./pickles/test_raw.pkl', 'rb') as f: # 원 Test 데이터 부르기\n",
    "    test_raw = pickle.load(f)\n",
    "    \n",
    "real_test_raw = test_raw.copy()\n",
    "real_test_raw = real_test_raw.rename(columns=real_test_raw.iloc[0])[1:]\n",
    "real_test_raw.shape"
   ]
  },
  {
   "cell_type": "code",
   "execution_count": 45,
   "metadata": {},
   "outputs": [
    {
     "data": {
      "text/html": [
       "<div>\n",
       "<style scoped>\n",
       "    .dataframe tbody tr th:only-of-type {\n",
       "        vertical-align: middle;\n",
       "    }\n",
       "\n",
       "    .dataframe tbody tr th {\n",
       "        vertical-align: top;\n",
       "    }\n",
       "\n",
       "    .dataframe thead th {\n",
       "        text-align: right;\n",
       "    }\n",
       "</style>\n",
       "<table border=\"1\" class=\"dataframe\">\n",
       "  <thead>\n",
       "    <tr style=\"text-align: right;\">\n",
       "      <th></th>\n",
       "      <th>취급액</th>\n",
       "    </tr>\n",
       "    <tr>\n",
       "      <th>index</th>\n",
       "      <th></th>\n",
       "    </tr>\n",
       "  </thead>\n",
       "  <tbody>\n",
       "    <tr>\n",
       "      <th>1</th>\n",
       "      <td>2.707608e+07</td>\n",
       "    </tr>\n",
       "    <tr>\n",
       "      <th>2</th>\n",
       "      <td>5.474901e+07</td>\n",
       "    </tr>\n",
       "    <tr>\n",
       "      <th>3</th>\n",
       "      <td>4.474984e+07</td>\n",
       "    </tr>\n",
       "  </tbody>\n",
       "</table>\n",
       "</div>"
      ],
      "text/plain": [
       "                취급액\n",
       "index              \n",
       "1      2.707608e+07\n",
       "2      5.474901e+07\n",
       "3      4.474984e+07"
      ]
     },
     "execution_count": 45,
     "metadata": {},
     "output_type": "execute_result"
    }
   ],
   "source": [
    "final_df.index = test_idx\n",
    "final_df = final_df.drop('index',axis=1)\n",
    "final_df.head(3)"
   ]
  },
  {
   "cell_type": "code",
   "execution_count": 46,
   "metadata": {},
   "outputs": [
    {
     "data": {
      "text/html": [
       "<div>\n",
       "<style scoped>\n",
       "    .dataframe tbody tr th:only-of-type {\n",
       "        vertical-align: middle;\n",
       "    }\n",
       "\n",
       "    .dataframe tbody tr th {\n",
       "        vertical-align: top;\n",
       "    }\n",
       "\n",
       "    .dataframe thead th {\n",
       "        text-align: right;\n",
       "    }\n",
       "</style>\n",
       "<table border=\"1\" class=\"dataframe\">\n",
       "  <thead>\n",
       "    <tr style=\"text-align: right;\">\n",
       "      <th></th>\n",
       "      <th>방송일시</th>\n",
       "      <th>노출(분)</th>\n",
       "      <th>마더코드</th>\n",
       "      <th>상품코드</th>\n",
       "      <th>상품명</th>\n",
       "      <th>상품군</th>\n",
       "      <th>판매단가</th>\n",
       "      <th>취급액</th>\n",
       "    </tr>\n",
       "  </thead>\n",
       "  <tbody>\n",
       "    <tr>\n",
       "      <th>1</th>\n",
       "      <td>2020-06-01 06:20:00</td>\n",
       "      <td>20</td>\n",
       "      <td>100650</td>\n",
       "      <td>201971</td>\n",
       "      <td>잭필드 남성  반팔셔츠 4종</td>\n",
       "      <td>의류</td>\n",
       "      <td>59800</td>\n",
       "      <td>2.707608e+07</td>\n",
       "    </tr>\n",
       "    <tr>\n",
       "      <th>2</th>\n",
       "      <td>2020-06-01 06:40:00</td>\n",
       "      <td>20</td>\n",
       "      <td>100650</td>\n",
       "      <td>201971</td>\n",
       "      <td>잭필드 남성  반팔셔츠 4종</td>\n",
       "      <td>의류</td>\n",
       "      <td>59800</td>\n",
       "      <td>5.474901e+07</td>\n",
       "    </tr>\n",
       "    <tr>\n",
       "      <th>3</th>\n",
       "      <td>2020-06-01 07:00:00</td>\n",
       "      <td>20</td>\n",
       "      <td>100650</td>\n",
       "      <td>201971</td>\n",
       "      <td>잭필드 남성  반팔셔츠 4종</td>\n",
       "      <td>의류</td>\n",
       "      <td>59800</td>\n",
       "      <td>4.474984e+07</td>\n",
       "    </tr>\n",
       "    <tr>\n",
       "      <th>4</th>\n",
       "      <td>2020-06-01 07:20:00</td>\n",
       "      <td>20</td>\n",
       "      <td>100445</td>\n",
       "      <td>202278</td>\n",
       "      <td>쿠미투니카 쿨 레이시 란쥬쉐이퍼&amp;팬티</td>\n",
       "      <td>속옷</td>\n",
       "      <td>69900</td>\n",
       "      <td>2.528725e+07</td>\n",
       "    </tr>\n",
       "    <tr>\n",
       "      <th>5</th>\n",
       "      <td>2020-06-01 07:40:00</td>\n",
       "      <td>20</td>\n",
       "      <td>100445</td>\n",
       "      <td>202278</td>\n",
       "      <td>쿠미투니카 쿨 레이시 란쥬쉐이퍼&amp;팬티</td>\n",
       "      <td>속옷</td>\n",
       "      <td>69900</td>\n",
       "      <td>5.376168e+07</td>\n",
       "    </tr>\n",
       "  </tbody>\n",
       "</table>\n",
       "</div>"
      ],
      "text/plain": [
       "                  방송일시 노출(분)    마더코드    상품코드                   상품명 상품군   판매단가  \\\n",
       "1  2020-06-01 06:20:00    20  100650  201971       잭필드 남성  반팔셔츠 4종  의류  59800   \n",
       "2  2020-06-01 06:40:00    20  100650  201971       잭필드 남성  반팔셔츠 4종  의류  59800   \n",
       "3  2020-06-01 07:00:00    20  100650  201971       잭필드 남성  반팔셔츠 4종  의류  59800   \n",
       "4  2020-06-01 07:20:00    20  100445  202278  쿠미투니카 쿨 레이시 란쥬쉐이퍼&팬티  속옷  69900   \n",
       "5  2020-06-01 07:40:00    20  100445  202278  쿠미투니카 쿨 레이시 란쥬쉐이퍼&팬티  속옷  69900   \n",
       "\n",
       "            취급액  \n",
       "1  2.707608e+07  \n",
       "2  5.474901e+07  \n",
       "3  4.474984e+07  \n",
       "4  2.528725e+07  \n",
       "5  5.376168e+07  "
      ]
     },
     "execution_count": 46,
     "metadata": {},
     "output_type": "execute_result"
    }
   ],
   "source": [
    "real_test_raw = real_test_raw.drop('취급액',axis=1)\n",
    "real_final = pd.merge(real_test_raw,final_df,left_index=True,right_index=True, how='left')\n",
    "real_final.head(5)"
   ]
  },
  {
   "cell_type": "code",
   "execution_count": 47,
   "metadata": {},
   "outputs": [],
   "source": [
    "real_final.to_csv('./Data/데이터분석분야_챔피언리그_시로앤마로_submission.csv',encoding='utf-8',index=False)"
   ]
  }
 ],
 "metadata": {
  "kernelspec": {
   "display_name": "tf2_py37",
   "language": "python",
   "name": "tf2_py37"
  },
  "language_info": {
   "codemirror_mode": {
    "name": "ipython",
    "version": 3
   },
   "file_extension": ".py",
   "mimetype": "text/x-python",
   "name": "python",
   "nbconvert_exporter": "python",
   "pygments_lexer": "ipython3",
   "version": "3.7.9"
  },
  "toc": {
   "base_numbering": 1,
   "nav_menu": {},
   "number_sections": true,
   "sideBar": true,
   "skip_h1_title": false,
   "title_cell": "Table of Contents",
   "title_sidebar": "Contents",
   "toc_cell": false,
   "toc_position": {
    "height": "calc(100% - 180px)",
    "left": "10px",
    "top": "150px",
    "width": "384px"
   },
   "toc_section_display": true,
   "toc_window_display": true
  },
  "varInspector": {
   "cols": {
    "lenName": 16,
    "lenType": 16,
    "lenVar": 40
   },
   "kernels_config": {
    "python": {
     "delete_cmd_postfix": "",
     "delete_cmd_prefix": "del ",
     "library": "var_list.py",
     "varRefreshCmd": "print(var_dic_list())"
    },
    "r": {
     "delete_cmd_postfix": ") ",
     "delete_cmd_prefix": "rm(",
     "library": "var_list.r",
     "varRefreshCmd": "cat(var_dic_list()) "
    }
   },
   "types_to_exclude": [
    "module",
    "function",
    "builtin_function_or_method",
    "instance",
    "_Feature"
   ],
   "window_display": false
  }
 },
 "nbformat": 4,
 "nbformat_minor": 4
}
