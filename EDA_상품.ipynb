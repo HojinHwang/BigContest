{
 "cells": [
  {
   "cell_type": "markdown",
   "metadata": {},
   "source": [
    "**Import Library**"
   ]
  },
  {
   "cell_type": "code",
   "execution_count": 1,
   "metadata": {},
   "outputs": [],
   "source": [
    "import pandas as pd\n",
    "import numpy as np\n",
    "from scipy import stats\n",
    "from datetime import date\n",
    "import matplotlib as mpl\n",
    "import matplotlib.pyplot as plt\n",
    "import seaborn as sns\n",
    "\n",
    "import os, sys\n",
    "import pickle\n",
    "from tqdm.notebook import tqdm\n",
    "\n",
    "import warnings \n",
    "warnings.filterwarnings('ignore')\n",
    "\n",
    "mpl.rc('font', family='New Gulim')\n",
    "mpl.rc('axes', unicode_minus=False)\n",
    "\n",
    "%matplotlib inline"
   ]
  },
  {
   "cell_type": "markdown",
   "metadata": {},
   "source": [
    "**Import Data**"
   ]
  },
  {
   "cell_type": "code",
   "execution_count": 2,
   "metadata": {},
   "outputs": [],
   "source": [
    "# 2019년 실적데이터\n",
    "train_raw = pd.read_excel('./Data/2020 빅콘테스트 데이터분석분야-챔피언리그_2019년 실적데이터_v1_200818.xlsx')\n",
    "\n",
    "with open('C:/bigcon/pickles/train_raw.pkl', 'wb') as f: # 원 Train 데이터 Pickle로 저장\n",
    "    pickle.dump(train_raw, f)\n",
    "    \n",
    "train_raw = train_raw.rename(columns=train_raw.iloc[0])[1:].reset_index(drop=True)\n",
    "train_raw = train_raw.loc[train_raw['상품군']!='무형'].reset_index(drop=True) # 상품군이 무형인 경우 예측하지 않음. 모두 0으로 처리 (*빅콘테스트 공지 참조)\n",
    "train_raw['취급액'] = train_raw['취급액'].fillna(0)\n",
    "train_raw = train_raw.loc[train_raw['취급액'] != 0].reset_index(drop = True) # 취급액 없음 변경"
   ]
  },
  {
   "cell_type": "code",
   "execution_count": 3,
   "metadata": {},
   "outputs": [],
   "source": [
    "# 2020년 6월 실적데이터\n",
    "test_raw = pd.read_excel('./Data/2020 빅콘테스트 데이터분석분야-챔피언리그_2020년 6월 판매실적예측데이터(평가데이터).xlsx')\n",
    "\n",
    "with open('./pickles/test_raw.pkl', 'wb') as f: # 원 Test 데이터 Pickle로 저장\n",
    "    pickle.dump(test_raw, f)\n",
    "    \n",
    "test_raw = test_raw.rename(columns=test_raw.iloc[0])[1:]\n",
    "test_raw_mu = test_raw.loc[test_raw['상품군']=='무형'].reset_index() # 상품군이 무형인 경우 예측하지 않음. 모두 0으로 처리 (*빅콘테스트 공지 참조)\n",
    "test_raw = test_raw.loc[test_raw['상품군']!='무형'].reset_index()"
   ]
  },
  {
   "cell_type": "markdown",
   "metadata": {},
   "source": [
    "**분당 판매량** 변수를 생성하여, 판매량의 추세를 살펴보자"
   ]
  },
  {
   "cell_type": "markdown",
   "metadata": {},
   "source": [
    "# EDA"
   ]
  },
  {
   "cell_type": "code",
   "execution_count": 4,
   "metadata": {},
   "outputs": [
    {
     "name": "stdout",
     "output_type": "stream",
     "text": [
      "Train 데이터 형태 :  (35379, 8)\n",
      "--------------------------------------------------\n",
      "                  방송일시 노출(분)    마더코드    상품코드            상품명 상품군   판매단가  \\\n",
      "0  2019-01-01 06:00:00    20  100346  201072  테이트 남성 셀린니트3종  의류  39900   \n",
      "1  2019-01-01 06:00:00   NaN  100346  201079  테이트 여성 셀린니트3종  의류  39900   \n",
      "2  2019-01-01 06:20:00    20  100346  201072  테이트 남성 셀린니트3종  의류  39900   \n",
      "\n",
      "       취급액  \n",
      "0  2099000  \n",
      "1  4371000  \n",
      "2  3262000  \n",
      "--------------------------------------------------\n",
      "<class 'pandas.core.frame.DataFrame'>\n",
      "RangeIndex: 35379 entries, 0 to 35378\n",
      "Data columns (total 8 columns):\n",
      " #   Column  Non-Null Count  Dtype \n",
      "---  ------  --------------  ----- \n",
      " 0   방송일시    35379 non-null  object\n",
      " 1   노출(분)   20403 non-null  object\n",
      " 2   마더코드    35379 non-null  object\n",
      " 3   상품코드    35379 non-null  object\n",
      " 4   상품명     35379 non-null  object\n",
      " 5   상품군     35379 non-null  object\n",
      " 6   판매단가    35379 non-null  object\n",
      " 7   취급액     35379 non-null  int64 \n",
      "dtypes: int64(1), object(7)\n",
      "memory usage: 2.2+ MB\n",
      "None\n"
     ]
    }
   ],
   "source": [
    "print('Train 데이터 형태 : ', train_raw.shape) # (35379, 10)\n",
    "print('-'*50)\n",
    "print(train_raw.head(3))\n",
    "print('-'*50)\n",
    "print(train_raw.info())"
   ]
  },
  {
   "cell_type": "code",
   "execution_count": 5,
   "metadata": {},
   "outputs": [
    {
     "data": {
      "text/html": [
       "<div>\n",
       "<style scoped>\n",
       "    .dataframe tbody tr th:only-of-type {\n",
       "        vertical-align: middle;\n",
       "    }\n",
       "\n",
       "    .dataframe tbody tr th {\n",
       "        vertical-align: top;\n",
       "    }\n",
       "\n",
       "    .dataframe thead th {\n",
       "        text-align: right;\n",
       "    }\n",
       "</style>\n",
       "<table border=\"1\" class=\"dataframe\">\n",
       "  <thead>\n",
       "    <tr style=\"text-align: right;\">\n",
       "      <th></th>\n",
       "      <th>count</th>\n",
       "      <th>mean</th>\n",
       "      <th>std</th>\n",
       "      <th>min</th>\n",
       "      <th>25%</th>\n",
       "      <th>50%</th>\n",
       "      <th>75%</th>\n",
       "      <th>max</th>\n",
       "    </tr>\n",
       "  </thead>\n",
       "  <tbody>\n",
       "    <tr>\n",
       "      <th>취급액</th>\n",
       "      <td>35379.0</td>\n",
       "      <td>2.310241e+07</td>\n",
       "      <td>2.005790e+07</td>\n",
       "      <td>103000.0</td>\n",
       "      <td>7998500.0</td>\n",
       "      <td>17326000.0</td>\n",
       "      <td>32763000.0</td>\n",
       "      <td>322009000.0</td>\n",
       "    </tr>\n",
       "  </tbody>\n",
       "</table>\n",
       "</div>"
      ],
      "text/plain": [
       "       count          mean           std       min        25%         50%  \\\n",
       "취급액  35379.0  2.310241e+07  2.005790e+07  103000.0  7998500.0  17326000.0   \n",
       "\n",
       "            75%          max  \n",
       "취급액  32763000.0  322009000.0  "
      ]
     },
     "execution_count": 5,
     "metadata": {},
     "output_type": "execute_result"
    }
   ],
   "source": [
    "train_raw.describe().transpose()"
   ]
  },
  {
   "cell_type": "code",
   "execution_count": 6,
   "metadata": {},
   "outputs": [
    {
     "data": {
      "text/plain": [
       "방송일시         0\n",
       "노출(분)    14976\n",
       "마더코드         0\n",
       "상품코드         0\n",
       "상품명          0\n",
       "상품군          0\n",
       "판매단가         0\n",
       "취급액          0\n",
       "dtype: int64"
      ]
     },
     "execution_count": 6,
     "metadata": {},
     "output_type": "execute_result"
    }
   ],
   "source": [
    "train_raw.isna().sum() # '노출(분)' 변수에 결측값이 14,976개 존재 "
   ]
  },
  {
   "cell_type": "code",
   "execution_count": 7,
   "metadata": {},
   "outputs": [
    {
     "data": {
      "text/html": [
       "<div>\n",
       "<style scoped>\n",
       "    .dataframe tbody tr th:only-of-type {\n",
       "        vertical-align: middle;\n",
       "    }\n",
       "\n",
       "    .dataframe tbody tr th {\n",
       "        vertical-align: top;\n",
       "    }\n",
       "\n",
       "    .dataframe thead th {\n",
       "        text-align: right;\n",
       "    }\n",
       "</style>\n",
       "<table border=\"1\" class=\"dataframe\">\n",
       "  <thead>\n",
       "    <tr style=\"text-align: right;\">\n",
       "      <th></th>\n",
       "      <th>방송일시</th>\n",
       "      <th>노출(분)</th>\n",
       "      <th>마더코드</th>\n",
       "      <th>상품코드</th>\n",
       "      <th>상품명</th>\n",
       "      <th>상품군</th>\n",
       "      <th>판매단가</th>\n",
       "      <th>취급액</th>\n",
       "    </tr>\n",
       "  </thead>\n",
       "  <tbody>\n",
       "    <tr>\n",
       "      <th>1</th>\n",
       "      <td>2019-01-01 06:00:00</td>\n",
       "      <td>NaN</td>\n",
       "      <td>100346</td>\n",
       "      <td>201079</td>\n",
       "      <td>테이트 여성 셀린니트3종</td>\n",
       "      <td>의류</td>\n",
       "      <td>39900</td>\n",
       "      <td>4371000</td>\n",
       "    </tr>\n",
       "    <tr>\n",
       "      <th>3</th>\n",
       "      <td>2019-01-01 06:20:00</td>\n",
       "      <td>NaN</td>\n",
       "      <td>100346</td>\n",
       "      <td>201079</td>\n",
       "      <td>테이트 여성 셀린니트3종</td>\n",
       "      <td>의류</td>\n",
       "      <td>39900</td>\n",
       "      <td>6955000</td>\n",
       "    </tr>\n",
       "    <tr>\n",
       "      <th>5</th>\n",
       "      <td>2019-01-01 06:40:00</td>\n",
       "      <td>NaN</td>\n",
       "      <td>100346</td>\n",
       "      <td>201079</td>\n",
       "      <td>테이트 여성 셀린니트3종</td>\n",
       "      <td>의류</td>\n",
       "      <td>39900</td>\n",
       "      <td>9337000</td>\n",
       "    </tr>\n",
       "    <tr>\n",
       "      <th>26</th>\n",
       "      <td>2019-01-01 14:00:00</td>\n",
       "      <td>NaN</td>\n",
       "      <td>100377</td>\n",
       "      <td>201226</td>\n",
       "      <td>그렉노먼 여성 구스다운 롱 벤치코트</td>\n",
       "      <td>의류</td>\n",
       "      <td>119000</td>\n",
       "      <td>20841000</td>\n",
       "    </tr>\n",
       "    <tr>\n",
       "      <th>28</th>\n",
       "      <td>2019-01-01 14:30:00</td>\n",
       "      <td>NaN</td>\n",
       "      <td>100377</td>\n",
       "      <td>201226</td>\n",
       "      <td>그렉노먼 여성 구스다운 롱 벤치코트</td>\n",
       "      <td>의류</td>\n",
       "      <td>119000</td>\n",
       "      <td>47294000</td>\n",
       "    </tr>\n",
       "  </tbody>\n",
       "</table>\n",
       "</div>"
      ],
      "text/plain": [
       "                   방송일시 노출(분)    마더코드    상품코드                  상품명 상품군  \\\n",
       "1   2019-01-01 06:00:00   NaN  100346  201079        테이트 여성 셀린니트3종  의류   \n",
       "3   2019-01-01 06:20:00   NaN  100346  201079        테이트 여성 셀린니트3종  의류   \n",
       "5   2019-01-01 06:40:00   NaN  100346  201079        테이트 여성 셀린니트3종  의류   \n",
       "26  2019-01-01 14:00:00   NaN  100377  201226  그렉노먼 여성 구스다운 롱 벤치코트  의류   \n",
       "28  2019-01-01 14:30:00   NaN  100377  201226  그렉노먼 여성 구스다운 롱 벤치코트  의류   \n",
       "\n",
       "      판매단가       취급액  \n",
       "1    39900   4371000  \n",
       "3    39900   6955000  \n",
       "5    39900   9337000  \n",
       "26  119000  20841000  \n",
       "28  119000  47294000  "
      ]
     },
     "execution_count": 7,
     "metadata": {},
     "output_type": "execute_result"
    }
   ],
   "source": [
    "train_na = train_raw.loc[train_raw['노출(분)'].isna()] # 노출(분)에 결측값이 존재하는 데이터 프레임\n",
    "train_na.head(5)"
   ]
  },
  {
   "cell_type": "markdown",
   "metadata": {},
   "source": [
    "노출(분)이 결측 값이 생기는 이유는 동시에 2개 이상의 상품을 방영했을 때 나타난다.   \n",
    "- 그래서, 같은 시간대에 방송하는 다른 상품의 노출(분)을 참조하여 아래와 같이 결측값을 대체한다.   "
   ]
  },
  {
   "cell_type": "code",
   "execution_count": 8,
   "metadata": {},
   "outputs": [
    {
     "data": {
      "application/vnd.jupyter.widget-view+json": {
       "model_id": "024c8d78acf246d9a97939e817bebbdd",
       "version_major": 2,
       "version_minor": 0
      },
      "text/plain": [
       "HBox(children=(FloatProgress(value=0.0, max=35379.0), HTML(value='')))"
      ]
     },
     "metadata": {},
     "output_type": "display_data"
    },
    {
     "name": "stdout",
     "output_type": "stream",
     "text": [
      "\n"
     ]
    },
    {
     "data": {
      "text/html": [
       "<div>\n",
       "<style scoped>\n",
       "    .dataframe tbody tr th:only-of-type {\n",
       "        vertical-align: middle;\n",
       "    }\n",
       "\n",
       "    .dataframe tbody tr th {\n",
       "        vertical-align: top;\n",
       "    }\n",
       "\n",
       "    .dataframe thead th {\n",
       "        text-align: right;\n",
       "    }\n",
       "</style>\n",
       "<table border=\"1\" class=\"dataframe\">\n",
       "  <thead>\n",
       "    <tr style=\"text-align: right;\">\n",
       "      <th></th>\n",
       "      <th>방송일시</th>\n",
       "      <th>노출(분)</th>\n",
       "      <th>마더코드</th>\n",
       "      <th>상품코드</th>\n",
       "      <th>상품명</th>\n",
       "      <th>상품군</th>\n",
       "      <th>판매단가</th>\n",
       "      <th>취급액</th>\n",
       "    </tr>\n",
       "  </thead>\n",
       "  <tbody>\n",
       "    <tr>\n",
       "      <th>35369</th>\n",
       "      <td>2019-12-31 23:20:00</td>\n",
       "      <td>20</td>\n",
       "      <td>100448</td>\n",
       "      <td>201384</td>\n",
       "      <td>무이자쿠첸압력밥솥 6인용</td>\n",
       "      <td>주방</td>\n",
       "      <td>158000</td>\n",
       "      <td>620000</td>\n",
       "    </tr>\n",
       "    <tr>\n",
       "      <th>35370</th>\n",
       "      <td>2019-12-31 23:20:00</td>\n",
       "      <td>20</td>\n",
       "      <td>100448</td>\n",
       "      <td>201391</td>\n",
       "      <td>일시불쿠첸압력밥솥 6인용</td>\n",
       "      <td>주방</td>\n",
       "      <td>148000</td>\n",
       "      <td>1664000</td>\n",
       "    </tr>\n",
       "    <tr>\n",
       "      <th>35371</th>\n",
       "      <td>2019-12-31 23:40:00</td>\n",
       "      <td>20</td>\n",
       "      <td>100448</td>\n",
       "      <td>201383</td>\n",
       "      <td>무이자쿠첸압력밥솥 10인용</td>\n",
       "      <td>주방</td>\n",
       "      <td>178000</td>\n",
       "      <td>9149000</td>\n",
       "    </tr>\n",
       "    <tr>\n",
       "      <th>35372</th>\n",
       "      <td>2019-12-31 23:40:00</td>\n",
       "      <td>20</td>\n",
       "      <td>100448</td>\n",
       "      <td>201390</td>\n",
       "      <td>일시불쿠첸압력밥솥 10인용</td>\n",
       "      <td>주방</td>\n",
       "      <td>168000</td>\n",
       "      <td>15282000</td>\n",
       "    </tr>\n",
       "    <tr>\n",
       "      <th>35373</th>\n",
       "      <td>2019-12-31 23:40:00</td>\n",
       "      <td>20</td>\n",
       "      <td>100448</td>\n",
       "      <td>201384</td>\n",
       "      <td>무이자쿠첸압력밥솥 6인용</td>\n",
       "      <td>주방</td>\n",
       "      <td>158000</td>\n",
       "      <td>2328000</td>\n",
       "    </tr>\n",
       "    <tr>\n",
       "      <th>35374</th>\n",
       "      <td>2019-12-31 23:40:00</td>\n",
       "      <td>20</td>\n",
       "      <td>100448</td>\n",
       "      <td>201391</td>\n",
       "      <td>일시불쿠첸압력밥솥 6인용</td>\n",
       "      <td>주방</td>\n",
       "      <td>148000</td>\n",
       "      <td>10157000</td>\n",
       "    </tr>\n",
       "    <tr>\n",
       "      <th>35375</th>\n",
       "      <td>2020-01-01 00:00:00</td>\n",
       "      <td>20</td>\n",
       "      <td>100448</td>\n",
       "      <td>201383</td>\n",
       "      <td>무이자쿠첸압력밥솥 10인용</td>\n",
       "      <td>주방</td>\n",
       "      <td>178000</td>\n",
       "      <td>50929000</td>\n",
       "    </tr>\n",
       "    <tr>\n",
       "      <th>35376</th>\n",
       "      <td>2020-01-01 00:00:00</td>\n",
       "      <td>20</td>\n",
       "      <td>100448</td>\n",
       "      <td>201390</td>\n",
       "      <td>일시불쿠첸압력밥솥 10인용</td>\n",
       "      <td>주방</td>\n",
       "      <td>168000</td>\n",
       "      <td>104392000</td>\n",
       "    </tr>\n",
       "    <tr>\n",
       "      <th>35377</th>\n",
       "      <td>2020-01-01 00:00:00</td>\n",
       "      <td>20</td>\n",
       "      <td>100448</td>\n",
       "      <td>201384</td>\n",
       "      <td>무이자쿠첸압력밥솥 6인용</td>\n",
       "      <td>주방</td>\n",
       "      <td>158000</td>\n",
       "      <td>13765000</td>\n",
       "    </tr>\n",
       "    <tr>\n",
       "      <th>35378</th>\n",
       "      <td>2020-01-01 00:00:00</td>\n",
       "      <td>20</td>\n",
       "      <td>100448</td>\n",
       "      <td>201391</td>\n",
       "      <td>일시불쿠첸압력밥솥 6인용</td>\n",
       "      <td>주방</td>\n",
       "      <td>148000</td>\n",
       "      <td>46608000</td>\n",
       "    </tr>\n",
       "  </tbody>\n",
       "</table>\n",
       "</div>"
      ],
      "text/plain": [
       "                      방송일시 노출(분)    마더코드    상품코드             상품명 상품군    판매단가  \\\n",
       "35369  2019-12-31 23:20:00    20  100448  201384   무이자쿠첸압력밥솥 6인용  주방  158000   \n",
       "35370  2019-12-31 23:20:00    20  100448  201391   일시불쿠첸압력밥솥 6인용  주방  148000   \n",
       "35371  2019-12-31 23:40:00    20  100448  201383  무이자쿠첸압력밥솥 10인용  주방  178000   \n",
       "35372  2019-12-31 23:40:00    20  100448  201390  일시불쿠첸압력밥솥 10인용  주방  168000   \n",
       "35373  2019-12-31 23:40:00    20  100448  201384   무이자쿠첸압력밥솥 6인용  주방  158000   \n",
       "35374  2019-12-31 23:40:00    20  100448  201391   일시불쿠첸압력밥솥 6인용  주방  148000   \n",
       "35375  2020-01-01 00:00:00    20  100448  201383  무이자쿠첸압력밥솥 10인용  주방  178000   \n",
       "35376  2020-01-01 00:00:00    20  100448  201390  일시불쿠첸압력밥솥 10인용  주방  168000   \n",
       "35377  2020-01-01 00:00:00    20  100448  201384   무이자쿠첸압력밥솥 6인용  주방  158000   \n",
       "35378  2020-01-01 00:00:00    20  100448  201391   일시불쿠첸압력밥솥 6인용  주방  148000   \n",
       "\n",
       "             취급액  \n",
       "35369     620000  \n",
       "35370    1664000  \n",
       "35371    9149000  \n",
       "35372   15282000  \n",
       "35373    2328000  \n",
       "35374   10157000  \n",
       "35375   50929000  \n",
       "35376  104392000  \n",
       "35377   13765000  \n",
       "35378   46608000  "
      ]
     },
     "execution_count": 8,
     "metadata": {},
     "output_type": "execute_result"
    }
   ],
   "source": [
    "for i in tqdm(range(len(train_raw))):\n",
    "    if pd.isna(train_raw.loc[i,'노출(분)']):\n",
    "        train_raw.loc[i,'노출(분)'] = train_raw.loc[(i-1),'노출(분)']\n",
    "\n",
    "train_raw.tail(10)"
   ]
  },
  {
   "cell_type": "markdown",
   "metadata": {},
   "source": [
    "알맞게 결측값이 채워진 것을 볼 수 있다."
   ]
  },
  {
   "cell_type": "code",
   "execution_count": 9,
   "metadata": {},
   "outputs": [
    {
     "name": "stdout",
     "output_type": "stream",
     "text": [
      "Test 데이터 형태 :  (2716, 9)\n",
      "--------------------------------------------------\n",
      "   index                 방송일시 노출(분)    마더코드    상품코드              상품명 상품군  \\\n",
      "0      1  2020-06-01 06:20:00    20  100650  201971  잭필드 남성  반팔셔츠 4종  의류   \n",
      "1      2  2020-06-01 06:40:00    20  100650  201971  잭필드 남성  반팔셔츠 4종  의류   \n",
      "2      3  2020-06-01 07:00:00    20  100650  201971  잭필드 남성  반팔셔츠 4종  의류   \n",
      "\n",
      "    판매단가  취급액  \n",
      "0  59800  NaN  \n",
      "1  59800  NaN  \n",
      "2  59800  NaN  \n",
      "--------------------------------------------------\n",
      "<class 'pandas.core.frame.DataFrame'>\n",
      "RangeIndex: 2716 entries, 0 to 2715\n",
      "Data columns (total 9 columns):\n",
      " #   Column  Non-Null Count  Dtype \n",
      "---  ------  --------------  ----- \n",
      " 0   index   2716 non-null   int64 \n",
      " 1   방송일시    2716 non-null   object\n",
      " 2   노출(분)   1617 non-null   object\n",
      " 3   마더코드    2716 non-null   object\n",
      " 4   상품코드    2716 non-null   object\n",
      " 5   상품명     2716 non-null   object\n",
      " 6   상품군     2716 non-null   object\n",
      " 7   판매단가    2716 non-null   object\n",
      " 8   취급액     0 non-null      object\n",
      "dtypes: int64(1), object(8)\n",
      "memory usage: 191.1+ KB\n",
      "None\n"
     ]
    }
   ],
   "source": [
    "print('Test 데이터 형태 : ', test_raw.shape)\n",
    "print('-'*50)\n",
    "print(test_raw.head(3))\n",
    "print('-'*50)\n",
    "print(test_raw.info())"
   ]
  },
  {
   "cell_type": "code",
   "execution_count": 10,
   "metadata": {},
   "outputs": [
    {
     "data": {
      "text/plain": [
       "index       0\n",
       "방송일시        0\n",
       "노출(분)    1099\n",
       "마더코드        0\n",
       "상품코드        0\n",
       "상품명         0\n",
       "상품군         0\n",
       "판매단가        0\n",
       "취급액      2716\n",
       "dtype: int64"
      ]
     },
     "execution_count": 10,
     "metadata": {},
     "output_type": "execute_result"
    }
   ],
   "source": [
    "test_raw.isna().sum() # '노출(분)' 변수에 1,099개 결측 값 존재. Train 데이터와 같이 결측 처리"
   ]
  },
  {
   "cell_type": "code",
   "execution_count": 11,
   "metadata": {},
   "outputs": [
    {
     "data": {
      "application/vnd.jupyter.widget-view+json": {
       "model_id": "a2e3affe4b684cebb41f9dac399ea6d5",
       "version_major": 2,
       "version_minor": 0
      },
      "text/plain": [
       "HBox(children=(FloatProgress(value=0.0, max=2716.0), HTML(value='')))"
      ]
     },
     "metadata": {},
     "output_type": "display_data"
    },
    {
     "name": "stdout",
     "output_type": "stream",
     "text": [
      "\n"
     ]
    },
    {
     "data": {
      "text/html": [
       "<div>\n",
       "<style scoped>\n",
       "    .dataframe tbody tr th:only-of-type {\n",
       "        vertical-align: middle;\n",
       "    }\n",
       "\n",
       "    .dataframe tbody tr th {\n",
       "        vertical-align: top;\n",
       "    }\n",
       "\n",
       "    .dataframe thead th {\n",
       "        text-align: right;\n",
       "    }\n",
       "</style>\n",
       "<table border=\"1\" class=\"dataframe\">\n",
       "  <thead>\n",
       "    <tr style=\"text-align: right;\">\n",
       "      <th></th>\n",
       "      <th>index</th>\n",
       "      <th>방송일시</th>\n",
       "      <th>노출(분)</th>\n",
       "      <th>마더코드</th>\n",
       "      <th>상품코드</th>\n",
       "      <th>상품명</th>\n",
       "      <th>상품군</th>\n",
       "      <th>판매단가</th>\n",
       "      <th>취급액</th>\n",
       "    </tr>\n",
       "  </thead>\n",
       "  <tbody>\n",
       "    <tr>\n",
       "      <th>0</th>\n",
       "      <td>1</td>\n",
       "      <td>2020-06-01 06:20:00</td>\n",
       "      <td>20</td>\n",
       "      <td>100650</td>\n",
       "      <td>201971</td>\n",
       "      <td>잭필드 남성  반팔셔츠 4종</td>\n",
       "      <td>의류</td>\n",
       "      <td>59800</td>\n",
       "      <td>NaN</td>\n",
       "    </tr>\n",
       "    <tr>\n",
       "      <th>1</th>\n",
       "      <td>2</td>\n",
       "      <td>2020-06-01 06:40:00</td>\n",
       "      <td>20</td>\n",
       "      <td>100650</td>\n",
       "      <td>201971</td>\n",
       "      <td>잭필드 남성  반팔셔츠 4종</td>\n",
       "      <td>의류</td>\n",
       "      <td>59800</td>\n",
       "      <td>NaN</td>\n",
       "    </tr>\n",
       "    <tr>\n",
       "      <th>2</th>\n",
       "      <td>3</td>\n",
       "      <td>2020-06-01 07:00:00</td>\n",
       "      <td>20</td>\n",
       "      <td>100650</td>\n",
       "      <td>201971</td>\n",
       "      <td>잭필드 남성  반팔셔츠 4종</td>\n",
       "      <td>의류</td>\n",
       "      <td>59800</td>\n",
       "      <td>NaN</td>\n",
       "    </tr>\n",
       "    <tr>\n",
       "      <th>3</th>\n",
       "      <td>4</td>\n",
       "      <td>2020-06-01 07:20:00</td>\n",
       "      <td>20</td>\n",
       "      <td>100445</td>\n",
       "      <td>202278</td>\n",
       "      <td>쿠미투니카 쿨 레이시 란쥬쉐이퍼&amp;팬티</td>\n",
       "      <td>속옷</td>\n",
       "      <td>69900</td>\n",
       "      <td>NaN</td>\n",
       "    </tr>\n",
       "    <tr>\n",
       "      <th>4</th>\n",
       "      <td>5</td>\n",
       "      <td>2020-06-01 07:40:00</td>\n",
       "      <td>20</td>\n",
       "      <td>100445</td>\n",
       "      <td>202278</td>\n",
       "      <td>쿠미투니카 쿨 레이시 란쥬쉐이퍼&amp;팬티</td>\n",
       "      <td>속옷</td>\n",
       "      <td>69900</td>\n",
       "      <td>NaN</td>\n",
       "    </tr>\n",
       "  </tbody>\n",
       "</table>\n",
       "</div>"
      ],
      "text/plain": [
       "   index                 방송일시 노출(분)    마더코드    상품코드                   상품명 상품군  \\\n",
       "0      1  2020-06-01 06:20:00    20  100650  201971       잭필드 남성  반팔셔츠 4종  의류   \n",
       "1      2  2020-06-01 06:40:00    20  100650  201971       잭필드 남성  반팔셔츠 4종  의류   \n",
       "2      3  2020-06-01 07:00:00    20  100650  201971       잭필드 남성  반팔셔츠 4종  의류   \n",
       "3      4  2020-06-01 07:20:00    20  100445  202278  쿠미투니카 쿨 레이시 란쥬쉐이퍼&팬티  속옷   \n",
       "4      5  2020-06-01 07:40:00    20  100445  202278  쿠미투니카 쿨 레이시 란쥬쉐이퍼&팬티  속옷   \n",
       "\n",
       "    판매단가  취급액  \n",
       "0  59800  NaN  \n",
       "1  59800  NaN  \n",
       "2  59800  NaN  \n",
       "3  69900  NaN  \n",
       "4  69900  NaN  "
      ]
     },
     "execution_count": 11,
     "metadata": {},
     "output_type": "execute_result"
    }
   ],
   "source": [
    "for i in tqdm(range(len(test_raw))):\n",
    "    if pd.isna(test_raw.loc[i,'노출(분)']):\n",
    "        test_raw.loc[i,'노출(분)'] = test_raw.loc[(i-1),'노출(분)']\n",
    "        \n",
    "test_raw.head(5)"
   ]
  },
  {
   "cell_type": "markdown",
   "metadata": {},
   "source": [
    "상품군 별 판매단가의 차이가 매우 크기 때문에, '분당 판매량' 변수를 생성하여 소비자들의 구매 패턴을 비교 분석하기로 한다."
   ]
  },
  {
   "cell_type": "code",
   "execution_count": 12,
   "metadata": {},
   "outputs": [
    {
     "data": {
      "application/vnd.jupyter.widget-view+json": {
       "model_id": "a7b020d6693c4d57afb4699aacb17300",
       "version_major": 2,
       "version_minor": 0
      },
      "text/plain": [
       "HBox(children=(FloatProgress(value=0.0, max=35379.0), HTML(value='')))"
      ]
     },
     "metadata": {},
     "output_type": "display_data"
    },
    {
     "name": "stdout",
     "output_type": "stream",
     "text": [
      "\n"
     ]
    }
   ],
   "source": [
    "for i in tqdm(range(len(train_raw))):\n",
    "    if pd.isna(train_raw.loc[i,'노출(분)']):\n",
    "        train_raw.loc[i,'노출(분)'] = train_raw.loc[(i-1),'노출(분)']\n",
    "\n",
    "train_raw['판매량'] = [round(train_raw.loc[i,'취급액']/train_raw.loc[i,'판매단가'] # 분당 판매량\n",
    "                          /train_raw.loc[i,'노출(분)']) for i in range(len(train_raw))] "
   ]
  },
  {
   "cell_type": "markdown",
   "metadata": {},
   "source": [
    "**연속형 변수의 탐색**"
   ]
  },
  {
   "cell_type": "code",
   "execution_count": 13,
   "metadata": {},
   "outputs": [
    {
     "data": {
      "image/png": "[encoded data removed]",
      "text/plain": [
       "<Figure size 1296x576 with 4 Axes>"
      ]
     },
     "metadata": {
      "needs_background": "light"
     },
     "output_type": "display_data"
    }
   ],
   "source": [
    "numeric_feature = ['노출(분)', '판매단가', '취급액', '판매량']\n",
    "suptitle = '연속형 변수들의 분포 확인'\n",
    "fig, ax = plt.subplots(ncols = 4, figsize = (18, 8))\n",
    "for i, num in enumerate(numeric_feature):\n",
    "    ax[i].hist(train_raw[num])\n",
    "    ax[i].set_title(num)\n",
    "fig.suptitle(suptitle, position = (0.5, 1.0+0.05))\n",
    "fig.tight_layout()\n",
    "plt.savefig(f'./graphs/{suptitle}.png')"
   ]
  },
  {
   "cell_type": "markdown",
   "metadata": {},
   "source": [
    "- 노출(분)의 분포를 보면, 대부분 15-20분 임을 알 수 있다.\n",
    "\n",
    "- 판매단가의 분포를 보면, 대부분 100만원을 넘지 않음을 알 수 있다. (x축 단위가 1e6이므로)\n",
    "\n",
    "- 취급액의 분포를 보면, 대부분 1억을 넘지 않음을 알 수 있다. (x축 단위가 1e8이므로)\n",
    "\n",
    "- 판매량의 분포를 보면, 대부분 분당 판매량이 100개 아래인 것을 알 수 있다."
   ]
  },
  {
   "cell_type": "markdown",
   "metadata": {},
   "source": [
    "## 브랜드 파워   \n",
    "\n",
    "여름철 보양 ‘팽현숙의 옛날오리부추한판’ 출시…홈쇼핑에서도 대박 행진\n",
    "\n",
    "예산군 대표쌀 ‘미황’ 홈쇼핑 완판\n",
    "\n",
    "출처\n",
    "\n",
    "아이티비즈(http://www.it-b.co.kr/news/articleView.html?idxno=41282)\n",
    "\n",
    "디트뉴스(http://www.dtnews24.com/news/articleView.html?idxno=573159)\n",
    "\n",
    "이러한 뉴스 기사를 보면서 유명인 및 특정 브랜드에 대한 선호 현상 확인\n",
    "\n",
    "유명인 및 특정 브랜드 (지역명, 브랜드명)이 포함된 상품명을 추출하고 판매량을 확인함으로써 브랜드파워 존재 유무 파악해보자"
   ]
  },
  {
   "cell_type": "markdown",
   "metadata": {},
   "source": [
    "### 농수축"
   ]
  },
  {
   "cell_type": "code",
   "execution_count": 14,
   "metadata": {
    "scrolled": true
   },
   "outputs": [
    {
     "data": {
      "application/vnd.jupyter.widget-view+json": {
       "model_id": "4df034f89be249ea87a3351e7826f90b",
       "version_major": 2,
       "version_minor": 0
      },
      "text/plain": [
       "HBox(children=(FloatProgress(value=0.0, max=3884.0), HTML(value='')))"
      ]
     },
     "metadata": {},
     "output_type": "display_data"
    },
    {
     "name": "stdout",
     "output_type": "stream",
     "text": [
      "\n"
     ]
    },
    {
     "data": {
      "text/html": [
       "<div>\n",
       "<style scoped>\n",
       "    .dataframe tbody tr th:only-of-type {\n",
       "        vertical-align: middle;\n",
       "    }\n",
       "\n",
       "    .dataframe tbody tr th {\n",
       "        vertical-align: top;\n",
       "    }\n",
       "\n",
       "    .dataframe thead th {\n",
       "        text-align: right;\n",
       "    }\n",
       "</style>\n",
       "<table border=\"1\" class=\"dataframe\">\n",
       "  <thead>\n",
       "    <tr style=\"text-align: right;\">\n",
       "      <th></th>\n",
       "      <th>방송일시</th>\n",
       "      <th>노출(분)</th>\n",
       "      <th>마더코드</th>\n",
       "      <th>상품코드</th>\n",
       "      <th>상품명</th>\n",
       "      <th>상품군</th>\n",
       "      <th>판매단가</th>\n",
       "      <th>취급액</th>\n",
       "      <th>판매량</th>\n",
       "      <th>brand</th>\n",
       "    </tr>\n",
       "  </thead>\n",
       "  <tbody>\n",
       "    <tr>\n",
       "      <th>0</th>\n",
       "      <td>2019-01-01 15:00:00</td>\n",
       "      <td>20</td>\n",
       "      <td>100496</td>\n",
       "      <td>201497</td>\n",
       "      <td>뽕셰프 이봉원 특갈비탕 12팩</td>\n",
       "      <td>농수축</td>\n",
       "      <td>60900</td>\n",
       "      <td>14113000</td>\n",
       "      <td>12.0</td>\n",
       "      <td>이봉원</td>\n",
       "    </tr>\n",
       "    <tr>\n",
       "      <th>1</th>\n",
       "      <td>2019-01-01 15:20:00</td>\n",
       "      <td>20</td>\n",
       "      <td>100496</td>\n",
       "      <td>201497</td>\n",
       "      <td>뽕셰프 이봉원 특갈비탕 12팩</td>\n",
       "      <td>농수축</td>\n",
       "      <td>60900</td>\n",
       "      <td>32395000</td>\n",
       "      <td>27.0</td>\n",
       "      <td>이봉원</td>\n",
       "    </tr>\n",
       "    <tr>\n",
       "      <th>2</th>\n",
       "      <td>2019-01-01 15:40:00</td>\n",
       "      <td>20</td>\n",
       "      <td>100496</td>\n",
       "      <td>201497</td>\n",
       "      <td>뽕셰프 이봉원 특갈비탕 12팩</td>\n",
       "      <td>농수축</td>\n",
       "      <td>60900</td>\n",
       "      <td>39669000</td>\n",
       "      <td>33.0</td>\n",
       "      <td>이봉원</td>\n",
       "    </tr>\n",
       "    <tr>\n",
       "      <th>3</th>\n",
       "      <td>2019-01-01 16:00:00</td>\n",
       "      <td>20</td>\n",
       "      <td>100322</td>\n",
       "      <td>201479</td>\n",
       "      <td>국내산 손질갑오징어 8팩</td>\n",
       "      <td>농수축</td>\n",
       "      <td>49900</td>\n",
       "      <td>60787000</td>\n",
       "      <td>61.0</td>\n",
       "      <td>no</td>\n",
       "    </tr>\n",
       "    <tr>\n",
       "      <th>4</th>\n",
       "      <td>2019-01-01 16:20:00</td>\n",
       "      <td>20</td>\n",
       "      <td>100322</td>\n",
       "      <td>201479</td>\n",
       "      <td>국내산 손질갑오징어 8팩</td>\n",
       "      <td>농수축</td>\n",
       "      <td>49900</td>\n",
       "      <td>115457000</td>\n",
       "      <td>116.0</td>\n",
       "      <td>no</td>\n",
       "    </tr>\n",
       "  </tbody>\n",
       "</table>\n",
       "</div>"
      ],
      "text/plain": [
       "                  방송일시 노출(분)    마더코드    상품코드               상품명  상품군   판매단가  \\\n",
       "0  2019-01-01 15:00:00    20  100496  201497  뽕셰프 이봉원 특갈비탕 12팩  농수축  60900   \n",
       "1  2019-01-01 15:20:00    20  100496  201497  뽕셰프 이봉원 특갈비탕 12팩  농수축  60900   \n",
       "2  2019-01-01 15:40:00    20  100496  201497  뽕셰프 이봉원 특갈비탕 12팩  농수축  60900   \n",
       "3  2019-01-01 16:00:00    20  100322  201479     국내산 손질갑오징어 8팩  농수축  49900   \n",
       "4  2019-01-01 16:20:00    20  100322  201479     국내산 손질갑오징어 8팩  농수축  49900   \n",
       "\n",
       "         취급액    판매량 brand  \n",
       "0   14113000   12.0   이봉원  \n",
       "1   32395000   27.0   이봉원  \n",
       "2   39669000   33.0   이봉원  \n",
       "3   60787000   61.0    no  \n",
       "4  115457000  116.0    no  "
      ]
     },
     "execution_count": 14,
     "metadata": {},
     "output_type": "execute_result"
    }
   ],
   "source": [
    "# 브랜드명이 포함된 리스트\n",
    "industry = ['이봉원', '우리바다', '하늘내린', 'SPC삼립', '바다먹자', '피시원', '천연담아', '소들녘', '영산포', '팽현숙', '농협', '천수봉', '전철우',\n",
    " '수협', 'AAE', '구워만든 곡물그대로', '장보고', '양구', '캘리포니아', '김정문', '완도', '이만기', '본죽', '속초','영광','유귀열','최인선',\n",
    " '바다원','제주','이경제','궁중','하동','창녕','청도','송도순','임성근','이정섭','현대어찬','하림','예천','김선영','김규흔','참바다','잔다리',\n",
    " '목우촌','신세대','김정배','거창','김천','이보은','신안','슬로푸드','우리나라','남해','오세득','구룡포','강레오','통영','고창','조방할매',\n",
    " '산머루농원']\n",
    "\n",
    "industry_df = train_raw.loc[train_raw['상품군']=='농수축'].reset_index(drop=True)\n",
    "\n",
    "for i in tqdm(range(len(industry_df))):\n",
    "    for j in industry:\n",
    "        if j in industry_df.loc[i,'상품명']:\n",
    "            industry_df.loc[i,'brand'] = j\n",
    "            \n",
    "industry_df['brand'] = industry_df['brand'].fillna('no') # 브랜드명이 포함되지 않은 값에는 no를 표시\n",
    "industry_df.head(5)"
   ]
  },
  {
   "cell_type": "code",
   "execution_count": 15,
   "metadata": {},
   "outputs": [
    {
     "data": {
      "image/png": "[encoded data removed]",
      "text/plain": [
       "<Figure size 1296x576 with 1 Axes>"
      ]
     },
     "metadata": {
      "needs_background": "light"
     },
     "output_type": "display_data"
    }
   ],
   "source": [
    "industry_group_df = industry_df['판매량'].groupby(industry_df['brand']).mean().sort_values(ascending=False)\n",
    "\n",
    "title = '농수축 브랜드별 분당 판매량'\n",
    "fig, ax = plt.subplots(figsize = (18, 8))\n",
    "ax.bar(list(industry_group_df.index), industry_group_df)\n",
    "ax.set_xlabel('브랜드', fontsize = 18)\n",
    "ax.set_ylabel('분당 판매량', fontsize = 18)\n",
    "ax.set_xticklabels(list(industry_group_df.index), fontsize = 12, rotation = 90)\n",
    "ax.set_title(title)\n",
    "plt.savefig(f'./graphs/{title}.png')\n",
    "plt.show()"
   ]
  },
  {
   "cell_type": "markdown",
   "metadata": {},
   "source": [
    "특정 브랜드 상품에 대한 분당 판매량의 차이가 유의미 함을 알 수 있다.\n",
    "\n",
    "농수축에서는 **지역** 혹은 **사람** 이름의 상품명을 갖는 경우, 분당 판매량이 높은 것을 알 수 있다."
   ]
  },
  {
   "cell_type": "code",
   "execution_count": 16,
   "metadata": {},
   "outputs": [
    {
     "name": "stdout",
     "output_type": "stream",
     "text": [
      "유의미한 브랜드 수 : 15\n",
      "유의미한 브랜드 명 : ['고창', '우리바다', '양구', '궁중', '참바다', '김천', '현대어찬', 'no', '하림', '영산포', '하늘내린', '김정배', '피시원', '통영', '유귀열']\n"
     ]
    }
   ],
   "source": [
    "industry_list = list(industry_group_df[industry_group_df>industry_group_df.quantile(q=0.75, interpolation='nearest')].index) # 상위 25% 이상 브랜드만 선택\n",
    "print('유의미한 브랜드 수 :', len(industry_list)) # 총 15개의 브랜드가 선택 됨\n",
    "print('유의미한 브랜드 명 :', industry_list) # 총 15개의 브랜드명"
   ]
  },
  {
   "cell_type": "markdown",
   "metadata": {},
   "source": [
    "'no' 가 포함되어 있는 것을 확인할 수 있다. 이를 제거해주자"
   ]
  },
  {
   "cell_type": "code",
   "execution_count": 17,
   "metadata": {},
   "outputs": [
    {
     "name": "stdout",
     "output_type": "stream",
     "text": [
      "유의미한 브랜드 수 : 14\n",
      "유의미한 브랜드 명 : ['고창', '우리바다', '양구', '궁중', '참바다', '김천', '현대어찬', '하림', '영산포', '하늘내린', '김정배', '피시원', '통영', '유귀열']\n"
     ]
    }
   ],
   "source": [
    "industry_list.remove('no')\n",
    "print('유의미한 브랜드 수 :', len(industry_list)) # 총 14개의 브랜드가 선택 됨\n",
    "print('유의미한 브랜드 명 :', industry_list) # 'no'를 제외한 총 14개의 브랜드가 선택 됨"
   ]
  },
  {
   "cell_type": "markdown",
   "metadata": {},
   "source": [
    "### 이미용"
   ]
  },
  {
   "cell_type": "code",
   "execution_count": 18,
   "metadata": {},
   "outputs": [
    {
     "data": {
      "application/vnd.jupyter.widget-view+json": {
       "model_id": "bef920d1af814777875204e5797c3a9f",
       "version_major": 2,
       "version_minor": 0
      },
      "text/plain": [
       "HBox(children=(FloatProgress(value=0.0, max=1305.0), HTML(value='')))"
      ]
     },
     "metadata": {},
     "output_type": "display_data"
    },
    {
     "name": "stdout",
     "output_type": "stream",
     "text": [
      "\n"
     ]
    },
    {
     "data": {
      "text/html": [
       "<div>\n",
       "<style scoped>\n",
       "    .dataframe tbody tr th:only-of-type {\n",
       "        vertical-align: middle;\n",
       "    }\n",
       "\n",
       "    .dataframe tbody tr th {\n",
       "        vertical-align: top;\n",
       "    }\n",
       "\n",
       "    .dataframe thead th {\n",
       "        text-align: right;\n",
       "    }\n",
       "</style>\n",
       "<table border=\"1\" class=\"dataframe\">\n",
       "  <thead>\n",
       "    <tr style=\"text-align: right;\">\n",
       "      <th></th>\n",
       "      <th>방송일시</th>\n",
       "      <th>노출(분)</th>\n",
       "      <th>마더코드</th>\n",
       "      <th>상품코드</th>\n",
       "      <th>상품명</th>\n",
       "      <th>상품군</th>\n",
       "      <th>판매단가</th>\n",
       "      <th>취급액</th>\n",
       "      <th>판매량</th>\n",
       "      <th>brand</th>\n",
       "    </tr>\n",
       "  </thead>\n",
       "  <tbody>\n",
       "    <tr>\n",
       "      <th>0</th>\n",
       "      <td>2019-01-01 17:00:00</td>\n",
       "      <td>20</td>\n",
       "      <td>100074</td>\n",
       "      <td>200197</td>\n",
       "      <td>비버리힐스폴로클럽 남성기초세트(2018FW골드)</td>\n",
       "      <td>이미용</td>\n",
       "      <td>39800</td>\n",
       "      <td>42239000</td>\n",
       "      <td>53.0</td>\n",
       "      <td>비버리힐스폴로클럽</td>\n",
       "    </tr>\n",
       "    <tr>\n",
       "      <th>1</th>\n",
       "      <td>2019-01-01 17:20:00</td>\n",
       "      <td>20</td>\n",
       "      <td>100074</td>\n",
       "      <td>200197</td>\n",
       "      <td>비버리힐스폴로클럽 남성기초세트(2018FW골드)</td>\n",
       "      <td>이미용</td>\n",
       "      <td>39800</td>\n",
       "      <td>73494000</td>\n",
       "      <td>92.0</td>\n",
       "      <td>비버리힐스폴로클럽</td>\n",
       "    </tr>\n",
       "    <tr>\n",
       "      <th>2</th>\n",
       "      <td>2019-01-01 17:40:00</td>\n",
       "      <td>20</td>\n",
       "      <td>100074</td>\n",
       "      <td>200197</td>\n",
       "      <td>비버리힐스폴로클럽 남성기초세트(2018FW골드)</td>\n",
       "      <td>이미용</td>\n",
       "      <td>39800</td>\n",
       "      <td>107103000</td>\n",
       "      <td>135.0</td>\n",
       "      <td>비버리힐스폴로클럽</td>\n",
       "    </tr>\n",
       "    <tr>\n",
       "      <th>3</th>\n",
       "      <td>2019-01-03 08:00:00</td>\n",
       "      <td>20</td>\n",
       "      <td>100774</td>\n",
       "      <td>202261</td>\n",
       "      <td>엘렌실라 달팽이크림(콜라겐5+팩트3)</td>\n",
       "      <td>이미용</td>\n",
       "      <td>79000</td>\n",
       "      <td>13665000</td>\n",
       "      <td>9.0</td>\n",
       "      <td>엘렌실라</td>\n",
       "    </tr>\n",
       "    <tr>\n",
       "      <th>4</th>\n",
       "      <td>2019-01-03 08:20:00</td>\n",
       "      <td>20</td>\n",
       "      <td>100774</td>\n",
       "      <td>202261</td>\n",
       "      <td>엘렌실라 달팽이크림(콜라겐5+팩트3)</td>\n",
       "      <td>이미용</td>\n",
       "      <td>79000</td>\n",
       "      <td>26788000</td>\n",
       "      <td>17.0</td>\n",
       "      <td>엘렌실라</td>\n",
       "    </tr>\n",
       "  </tbody>\n",
       "</table>\n",
       "</div>"
      ],
      "text/plain": [
       "                  방송일시 노출(분)    마더코드    상품코드                         상품명  상품군  \\\n",
       "0  2019-01-01 17:00:00    20  100074  200197  비버리힐스폴로클럽 남성기초세트(2018FW골드)  이미용   \n",
       "1  2019-01-01 17:20:00    20  100074  200197  비버리힐스폴로클럽 남성기초세트(2018FW골드)  이미용   \n",
       "2  2019-01-01 17:40:00    20  100074  200197  비버리힐스폴로클럽 남성기초세트(2018FW골드)  이미용   \n",
       "3  2019-01-03 08:00:00    20  100774  202261        엘렌실라 달팽이크림(콜라겐5+팩트3)  이미용   \n",
       "4  2019-01-03 08:20:00    20  100774  202261        엘렌실라 달팽이크림(콜라겐5+팩트3)  이미용   \n",
       "\n",
       "    판매단가        취급액    판매량      brand  \n",
       "0  39800   42239000   53.0  비버리힐스폴로클럽  \n",
       "1  39800   73494000   92.0  비버리힐스폴로클럽  \n",
       "2  39800  107103000  135.0  비버리힐스폴로클럽  \n",
       "3  79000   13665000    9.0       엘렌실라  \n",
       "4  79000   26788000   17.0       엘렌실라  "
      ]
     },
     "execution_count": 18,
     "metadata": {},
     "output_type": "execute_result"
    }
   ],
   "source": [
    "beauty = ['비버리힐스폴로클럽', '엘렌실라', '스포메틱스', '스칼프솔루션', '마리끌레르', '파시노', '달바', '마리끌레르', '살롱클리닉',\n",
    "       '에이유플러스', '라메종', 'TS', '에이온에이', '바바코코', '자올', '엘렌실라', '참존', '라라츄', '엘로엘', '실크테라피',\n",
    "       '보닌', '시크릿뮤즈', '아미니', '블링썸', '코튼플러스', '엘린실라&코즈미', '네오젠', '뉴웨이', '메디앤서', '아이앤아이',\n",
    "       '아미니', '미바', '더블모', 'AHC', '컨시크', '고데롤', '피부약방', '클린샤워']\n",
    "\n",
    "beauty_df = train_raw.loc[train_raw['상품군']=='이미용'].reset_index(drop=True)\n",
    "\n",
    "for i in tqdm(range(len(beauty_df))):\n",
    "    for j in beauty:\n",
    "        if j in beauty_df.loc[i,'상품명']:\n",
    "            beauty_df.loc[i,'brand'] = j\n",
    "            \n",
    "beauty_df['brand'] = beauty_df['brand'].fillna('no')\n",
    "beauty_df.head(5)"
   ]
  },
  {
   "cell_type": "code",
   "execution_count": 19,
   "metadata": {},
   "outputs": [
    {
     "data": {
      "image/png": "[encoded data removed]",
      "text/plain": [
       "<Figure size 1296x576 with 1 Axes>"
      ]
     },
     "metadata": {
      "needs_background": "light"
     },
     "output_type": "display_data"
    }
   ],
   "source": [
    "beauty_group_df = beauty_df['판매량'].groupby(beauty_df['brand']).mean().sort_values(ascending=False)\n",
    "\n",
    "title = '이미용 브랜드별 분당 판매량'\n",
    "fig, ax = plt.subplots(figsize = (18, 8))\n",
    "ax.bar(list(beauty_group_df.index), beauty_group_df)\n",
    "ax.set_xlabel('브랜드', fontsize = 18)\n",
    "ax.set_ylabel('분당 판매량', fontsize = 18)\n",
    "ax.set_xticklabels(list(beauty_group_df.index), fontsize = 12, rotation = 90)\n",
    "ax.set_title(title)\n",
    "plt.savefig(f'./graphs/{title}.png')\n",
    "plt.show()"
   ]
  },
  {
   "cell_type": "markdown",
   "metadata": {},
   "source": [
    "특정 브랜드 상품에 대한 분당 판매량의 차이가 유의미 함을 알 수 있다."
   ]
  },
  {
   "cell_type": "code",
   "execution_count": 20,
   "metadata": {},
   "outputs": [
    {
     "name": "stdout",
     "output_type": "stream",
     "text": [
      "유의미한 브랜드 수 : 8\n",
      "유의미한 브랜드 명 : ['보닌', '비버리힐스폴로클럽', '컨시크', '고데롤', '참존', '네오젠', '더블모', '라라츄']\n"
     ]
    }
   ],
   "source": [
    "beauty_list = list(beauty_group_df[beauty_group_df>beauty_group_df.quantile(q=0.75, interpolation='nearest')].index)\n",
    "print('유의미한 브랜드 수 :', len(beauty_list)) # 총 8의 브랜드가 선택 됨\n",
    "print('유의미한 브랜드 명 :', beauty_list) # '총 8개의 브랜드 명"
   ]
  },
  {
   "cell_type": "markdown",
   "metadata": {},
   "source": [
    "### 속옷"
   ]
  },
  {
   "cell_type": "code",
   "execution_count": 21,
   "metadata": {},
   "outputs": [
    {
     "data": {
      "application/vnd.jupyter.widget-view+json": {
       "model_id": "aacdacb54de141a1b63f97687196fd42",
       "version_major": 2,
       "version_minor": 0
      },
      "text/plain": [
       "HBox(children=(FloatProgress(value=0.0, max=3910.0), HTML(value='')))"
      ]
     },
     "metadata": {},
     "output_type": "display_data"
    },
    {
     "name": "stdout",
     "output_type": "stream",
     "text": [
      "\n"
     ]
    },
    {
     "data": {
      "text/html": [
       "<div>\n",
       "<style scoped>\n",
       "    .dataframe tbody tr th:only-of-type {\n",
       "        vertical-align: middle;\n",
       "    }\n",
       "\n",
       "    .dataframe tbody tr th {\n",
       "        vertical-align: top;\n",
       "    }\n",
       "\n",
       "    .dataframe thead th {\n",
       "        text-align: right;\n",
       "    }\n",
       "</style>\n",
       "<table border=\"1\" class=\"dataframe\">\n",
       "  <thead>\n",
       "    <tr style=\"text-align: right;\">\n",
       "      <th></th>\n",
       "      <th>방송일시</th>\n",
       "      <th>노출(분)</th>\n",
       "      <th>마더코드</th>\n",
       "      <th>상품코드</th>\n",
       "      <th>상품명</th>\n",
       "      <th>상품군</th>\n",
       "      <th>판매단가</th>\n",
       "      <th>취급액</th>\n",
       "      <th>판매량</th>\n",
       "      <th>brand</th>\n",
       "    </tr>\n",
       "  </thead>\n",
       "  <tbody>\n",
       "    <tr>\n",
       "      <th>0</th>\n",
       "      <td>2019-01-01 07:00:00</td>\n",
       "      <td>20</td>\n",
       "      <td>100305</td>\n",
       "      <td>200974</td>\n",
       "      <td>오모떼 레이스 파운데이션 브라</td>\n",
       "      <td>속옷</td>\n",
       "      <td>59000</td>\n",
       "      <td>6819000</td>\n",
       "      <td>6.0</td>\n",
       "      <td>오모떼</td>\n",
       "    </tr>\n",
       "    <tr>\n",
       "      <th>1</th>\n",
       "      <td>2019-01-01 07:20:00</td>\n",
       "      <td>20</td>\n",
       "      <td>100305</td>\n",
       "      <td>200974</td>\n",
       "      <td>오모떼 레이스 파운데이션 브라</td>\n",
       "      <td>속옷</td>\n",
       "      <td>59000</td>\n",
       "      <td>15689000</td>\n",
       "      <td>13.0</td>\n",
       "      <td>오모떼</td>\n",
       "    </tr>\n",
       "    <tr>\n",
       "      <th>2</th>\n",
       "      <td>2019-01-01 07:40:00</td>\n",
       "      <td>20</td>\n",
       "      <td>100305</td>\n",
       "      <td>200974</td>\n",
       "      <td>오모떼 레이스 파운데이션 브라</td>\n",
       "      <td>속옷</td>\n",
       "      <td>59000</td>\n",
       "      <td>25370000</td>\n",
       "      <td>22.0</td>\n",
       "      <td>오모떼</td>\n",
       "    </tr>\n",
       "    <tr>\n",
       "      <th>3</th>\n",
       "      <td>2019-01-01 11:00:00</td>\n",
       "      <td>20</td>\n",
       "      <td>100664</td>\n",
       "      <td>201999</td>\n",
       "      <td>크로커다일 The 편안한 코튼 브라팬티 4세트</td>\n",
       "      <td>속옷</td>\n",
       "      <td>69900</td>\n",
       "      <td>24531000</td>\n",
       "      <td>18.0</td>\n",
       "      <td>크로커다일</td>\n",
       "    </tr>\n",
       "    <tr>\n",
       "      <th>4</th>\n",
       "      <td>2019-01-01 11:20:00</td>\n",
       "      <td>20</td>\n",
       "      <td>100664</td>\n",
       "      <td>201999</td>\n",
       "      <td>크로커다일 The 편안한 코튼 브라팬티 4세트</td>\n",
       "      <td>속옷</td>\n",
       "      <td>69900</td>\n",
       "      <td>49829000</td>\n",
       "      <td>36.0</td>\n",
       "      <td>크로커다일</td>\n",
       "    </tr>\n",
       "  </tbody>\n",
       "</table>\n",
       "</div>"
      ],
      "text/plain": [
       "                  방송일시 노출(분)    마더코드    상품코드                        상품명 상품군  \\\n",
       "0  2019-01-01 07:00:00    20  100305  200974           오모떼 레이스 파운데이션 브라  속옷   \n",
       "1  2019-01-01 07:20:00    20  100305  200974           오모떼 레이스 파운데이션 브라  속옷   \n",
       "2  2019-01-01 07:40:00    20  100305  200974           오모떼 레이스 파운데이션 브라  속옷   \n",
       "3  2019-01-01 11:00:00    20  100664  201999  크로커다일 The 편안한 코튼 브라팬티 4세트  속옷   \n",
       "4  2019-01-01 11:20:00    20  100664  201999  크로커다일 The 편안한 코튼 브라팬티 4세트  속옷   \n",
       "\n",
       "    판매단가       취급액   판매량  brand  \n",
       "0  59000   6819000   6.0    오모떼  \n",
       "1  59000  15689000  13.0    오모떼  \n",
       "2  59000  25370000  22.0    오모떼  \n",
       "3  69900  24531000  18.0  크로커다일  \n",
       "4  69900  49829000  36.0  크로커다일  "
      ]
     },
     "execution_count": 21,
     "metadata": {},
     "output_type": "execute_result"
    }
   ],
   "source": [
    "underwear = ['오모떼', '크로커다일', '푸마', '로베르타', '레이프릴', '쿠미투니카', '에버라스트', '카파', '몬테밀라노', '컬럼비아',\n",
    "       '남영비비안', '헤스떼벨', '아키', 'BBC&IZUMI', '리복', '오렐리안', '실크트리', '뷰티플렉스', '헤드', '벨레즈온',\n",
    "       '투홀릭', '댄스킨', '라쉬반', 'LSX라이크라', '오가닉뷰티', '발레리', '란체티', '히트융', '루시헨느', '저스트마이사이즈',\n",
    "       '코몽트']\n",
    "\n",
    "underwear_df = train_raw.loc[train_raw['상품군']=='속옷'].reset_index(drop=True)\n",
    "\n",
    "for i in tqdm(range(len(underwear_df))):\n",
    "    for j in underwear:\n",
    "        if j in underwear_df.loc[i,'상품명']:\n",
    "            underwear_df.loc[i,'brand'] = j\n",
    "            \n",
    "underwear_df['brand'] = underwear_df['brand'].fillna('no')\n",
    "underwear_df.head(5)"
   ]
  },
  {
   "cell_type": "code",
   "execution_count": 22,
   "metadata": {},
   "outputs": [
    {
     "data": {
      "image/png": "[encoded data removed]",
      "text/plain": [
       "<Figure size 1296x576 with 1 Axes>"
      ]
     },
     "metadata": {
      "needs_background": "light"
     },
     "output_type": "display_data"
    }
   ],
   "source": [
    "underwear_group_df = underwear_df['판매량'].groupby(underwear_df['brand']).mean().sort_values(ascending=False)\n",
    "\n",
    "title = '속옷 브랜드별 분당 판매량'\n",
    "fig, ax = plt.subplots(figsize = (18, 8))\n",
    "ax.bar(list(underwear_group_df.index), underwear_group_df)\n",
    "ax.set_xlabel('브랜드', fontsize = 18)\n",
    "ax.set_ylabel('분당 판매량', fontsize = 18)\n",
    "ax.set_xticklabels(list(underwear_group_df.index), fontsize = 12, rotation = 90)\n",
    "ax.set_title(title)\n",
    "plt.savefig(f'./graphs/{title}.png')\n",
    "plt.show()"
   ]
  },
  {
   "cell_type": "markdown",
   "metadata": {},
   "source": [
    "특정 브랜드 상품에 대한 분당 판매량의 차이가 유의미 함을 알 수 있다."
   ]
  },
  {
   "cell_type": "code",
   "execution_count": 23,
   "metadata": {},
   "outputs": [
    {
     "name": "stdout",
     "output_type": "stream",
     "text": [
      "유의미한 브랜드 수 : 8\n",
      "유의미한 브랜드 명 : ['에버라스트', '벨레즈온', '코몽트', '실크트리', '레이프릴', '쿠미투니카', '몬테밀라노', '오가닉뷰티']\n"
     ]
    }
   ],
   "source": [
    "underwear_list = list(underwear_group_df[underwear_group_df>underwear_group_df.quantile(q=0.75, interpolation='nearest')].index)\n",
    "print('유의미한 브랜드 수 :', len(underwear_list)) # 총 8개의 브랜드가 선택 됨\n",
    "print('유의미한 브랜드 명 :', underwear_list) # 총 8개의 브랜드명"
   ]
  },
  {
   "cell_type": "markdown",
   "metadata": {},
   "source": [
    "### 건강기능"
   ]
  },
  {
   "cell_type": "code",
   "execution_count": 24,
   "metadata": {},
   "outputs": [
    {
     "data": {
      "application/vnd.jupyter.widget-view+json": {
       "model_id": "6b8298cfe1274c6b8e163c62904b3c97",
       "version_major": 2,
       "version_minor": 0
      },
      "text/plain": [
       "HBox(children=(FloatProgress(value=0.0, max=786.0), HTML(value='')))"
      ]
     },
     "metadata": {},
     "output_type": "display_data"
    },
    {
     "name": "stdout",
     "output_type": "stream",
     "text": [
      "\n"
     ]
    },
    {
     "data": {
      "text/html": [
       "<div>\n",
       "<style scoped>\n",
       "    .dataframe tbody tr th:only-of-type {\n",
       "        vertical-align: middle;\n",
       "    }\n",
       "\n",
       "    .dataframe tbody tr th {\n",
       "        vertical-align: top;\n",
       "    }\n",
       "\n",
       "    .dataframe thead th {\n",
       "        text-align: right;\n",
       "    }\n",
       "</style>\n",
       "<table border=\"1\" class=\"dataframe\">\n",
       "  <thead>\n",
       "    <tr style=\"text-align: right;\">\n",
       "      <th></th>\n",
       "      <th>방송일시</th>\n",
       "      <th>노출(분)</th>\n",
       "      <th>마더코드</th>\n",
       "      <th>상품코드</th>\n",
       "      <th>상품명</th>\n",
       "      <th>상품군</th>\n",
       "      <th>판매단가</th>\n",
       "      <th>취급액</th>\n",
       "      <th>판매량</th>\n",
       "      <th>brand</th>\n",
       "    </tr>\n",
       "  </thead>\n",
       "  <tbody>\n",
       "    <tr>\n",
       "      <th>0</th>\n",
       "      <td>2019-01-02 07:00:00</td>\n",
       "      <td>20</td>\n",
       "      <td>100315</td>\n",
       "      <td>201002</td>\n",
       "      <td>(직매입) 종근당건강 아이클리어 루테인</td>\n",
       "      <td>건강기능</td>\n",
       "      <td>69000</td>\n",
       "      <td>14944000</td>\n",
       "      <td>11.0</td>\n",
       "      <td>종근당</td>\n",
       "    </tr>\n",
       "    <tr>\n",
       "      <th>1</th>\n",
       "      <td>2019-01-02 07:20:00</td>\n",
       "      <td>20</td>\n",
       "      <td>100315</td>\n",
       "      <td>201002</td>\n",
       "      <td>(직매입) 종근당건강 아이클리어 루테인</td>\n",
       "      <td>건강기능</td>\n",
       "      <td>69000</td>\n",
       "      <td>25881000</td>\n",
       "      <td>19.0</td>\n",
       "      <td>종근당</td>\n",
       "    </tr>\n",
       "    <tr>\n",
       "      <th>2</th>\n",
       "      <td>2019-01-02 07:40:00</td>\n",
       "      <td>20</td>\n",
       "      <td>100315</td>\n",
       "      <td>201002</td>\n",
       "      <td>(직매입) 종근당건강 아이클리어 루테인</td>\n",
       "      <td>건강기능</td>\n",
       "      <td>69000</td>\n",
       "      <td>30126000</td>\n",
       "      <td>22.0</td>\n",
       "      <td>종근당</td>\n",
       "    </tr>\n",
       "    <tr>\n",
       "      <th>3</th>\n",
       "      <td>2019-01-03 12:00:00</td>\n",
       "      <td>20</td>\n",
       "      <td>100315</td>\n",
       "      <td>201002</td>\n",
       "      <td>(직매입) 종근당건강 아이클리어 루테인</td>\n",
       "      <td>건강기능</td>\n",
       "      <td>69000</td>\n",
       "      <td>18481000</td>\n",
       "      <td>13.0</td>\n",
       "      <td>종근당</td>\n",
       "    </tr>\n",
       "    <tr>\n",
       "      <th>4</th>\n",
       "      <td>2019-01-03 12:20:00</td>\n",
       "      <td>20</td>\n",
       "      <td>100315</td>\n",
       "      <td>201002</td>\n",
       "      <td>(직매입) 종근당건강 아이클리어 루테인</td>\n",
       "      <td>건강기능</td>\n",
       "      <td>69000</td>\n",
       "      <td>24779000</td>\n",
       "      <td>18.0</td>\n",
       "      <td>종근당</td>\n",
       "    </tr>\n",
       "  </tbody>\n",
       "</table>\n",
       "</div>"
      ],
      "text/plain": [
       "                  방송일시 노출(분)    마더코드    상품코드                    상품명   상품군  \\\n",
       "0  2019-01-02 07:00:00    20  100315  201002  (직매입) 종근당건강 아이클리어 루테인  건강기능   \n",
       "1  2019-01-02 07:20:00    20  100315  201002  (직매입) 종근당건강 아이클리어 루테인  건강기능   \n",
       "2  2019-01-02 07:40:00    20  100315  201002  (직매입) 종근당건강 아이클리어 루테인  건강기능   \n",
       "3  2019-01-03 12:00:00    20  100315  201002  (직매입) 종근당건강 아이클리어 루테인  건강기능   \n",
       "4  2019-01-03 12:20:00    20  100315  201002  (직매입) 종근당건강 아이클리어 루테인  건강기능   \n",
       "\n",
       "    판매단가       취급액   판매량 brand  \n",
       "0  69000  14944000  11.0   종근당  \n",
       "1  69000  25881000  19.0   종근당  \n",
       "2  69000  30126000  22.0   종근당  \n",
       "3  69000  18481000  13.0   종근당  \n",
       "4  69000  24779000  18.0   종근당  "
      ]
     },
     "execution_count": 24,
     "metadata": {},
     "output_type": "execute_result"
    }
   ],
   "source": [
    "health = ['종근당', '제주농장', '베지밀', '한삼인', '황성주', '닥터 슈퍼', '네페르티티', '레모나', '뉴질랜드', '뉴트리원',\n",
    "       '닥터 프리바이오틱스', '광동', '이경제', '티젠', '모나코사놀', '리얼니파팜', '정직한 농부', '비에날씬', '안국',\n",
    "       '서울대', '블랙모어스', '전지현']\n",
    "\n",
    "health_df = train_raw.loc[train_raw['상품군']=='건강기능'].reset_index(drop=True)\n",
    "for i in tqdm(range(len(health_df))):\n",
    "    for j in health:\n",
    "        if j in health_df.loc[i,'상품명']:\n",
    "            health_df.loc[i,'brand'] = j\n",
    "            \n",
    "health_df['brand'] = health_df['brand'].fillna('no')\n",
    "health_df.head(5)"
   ]
  },
  {
   "cell_type": "code",
   "execution_count": 25,
   "metadata": {},
   "outputs": [
    {
     "data": {
      "image/png": "[encoded data removed]",
      "text/plain": [
       "<Figure size 1296x576 with 1 Axes>"
      ]
     },
     "metadata": {
      "needs_background": "light"
     },
     "output_type": "display_data"
    }
   ],
   "source": [
    "health_group_df = health_df['판매량'].groupby(health_df['brand']).mean().sort_values(ascending=False)\n",
    "\n",
    "title = '건강기능 브랜드별 분당 판매량'\n",
    "fig, ax = plt.subplots(figsize = (18, 8))\n",
    "ax.bar(list(health_group_df.index), health_group_df)\n",
    "ax.set_xlabel('브랜드', fontsize = 18)\n",
    "ax.set_ylabel('분당 판매량', fontsize = 18)\n",
    "ax.set_xticklabels(list(health_group_df.index), fontsize = 12, rotation = 90)\n",
    "ax.set_title(title)\n",
    "plt.savefig(f'./graphs/{title}.png')\n",
    "plt.show()"
   ]
  },
  {
   "cell_type": "markdown",
   "metadata": {},
   "source": [
    "특정 브랜드 상품에 대한 분당 판매량의 차이가 유의미 함을 알 수 있다."
   ]
  },
  {
   "cell_type": "code",
   "execution_count": 26,
   "metadata": {},
   "outputs": [
    {
     "name": "stdout",
     "output_type": "stream",
     "text": [
      "유의미한 브랜드 수 : 6\n",
      "유의미한 브랜드 명 : ['정직한 농부', '뉴트리원', '닥터 슈퍼', 'no', '레모나', '광동']\n"
     ]
    }
   ],
   "source": [
    "health_list = list(health_group_df[health_group_df>health_group_df.quantile(q=0.75, interpolation='nearest')].index)\n",
    "print('유의미한 브랜드 수 :', len(health_list)) # 총 6개의 브랜드가 선택 됨\n",
    "print('유의미한 브랜드 명 :', health_list) # 총 6개의 브랜드명"
   ]
  },
  {
   "cell_type": "code",
   "execution_count": 27,
   "metadata": {},
   "outputs": [
    {
     "name": "stdout",
     "output_type": "stream",
     "text": [
      "유의미한 브랜드 수 : 5\n",
      "유의미한 브랜드 명 : ['정직한 농부', '뉴트리원', '닥터 슈퍼', '레모나', '광동']\n"
     ]
    }
   ],
   "source": [
    "health_list.remove('no') # 'no' 브랜드 제외\n",
    "print('유의미한 브랜드 수 :', len(health_list)) # 총 5개의 브랜드가 선택 됨\n",
    "print('유의미한 브랜드 명 :', health_list) # 총 5개의 브랜드명"
   ]
  },
  {
   "cell_type": "markdown",
   "metadata": {},
   "source": [
    "### 의류"
   ]
  },
  {
   "cell_type": "code",
   "execution_count": 28,
   "metadata": {},
   "outputs": [
    {
     "data": {
      "application/vnd.jupyter.widget-view+json": {
       "model_id": "de8bd6bb7d3c4e3dbbca7564d37664b5",
       "version_major": 2,
       "version_minor": 0
      },
      "text/plain": [
       "HBox(children=(FloatProgress(value=0.0, max=4331.0), HTML(value='')))"
      ]
     },
     "metadata": {},
     "output_type": "display_data"
    },
    {
     "name": "stdout",
     "output_type": "stream",
     "text": [
      "\n"
     ]
    },
    {
     "data": {
      "text/html": [
       "<div>\n",
       "<style scoped>\n",
       "    .dataframe tbody tr th:only-of-type {\n",
       "        vertical-align: middle;\n",
       "    }\n",
       "\n",
       "    .dataframe tbody tr th {\n",
       "        vertical-align: top;\n",
       "    }\n",
       "\n",
       "    .dataframe thead th {\n",
       "        text-align: right;\n",
       "    }\n",
       "</style>\n",
       "<table border=\"1\" class=\"dataframe\">\n",
       "  <thead>\n",
       "    <tr style=\"text-align: right;\">\n",
       "      <th></th>\n",
       "      <th>방송일시</th>\n",
       "      <th>노출(분)</th>\n",
       "      <th>마더코드</th>\n",
       "      <th>상품코드</th>\n",
       "      <th>상품명</th>\n",
       "      <th>상품군</th>\n",
       "      <th>판매단가</th>\n",
       "      <th>취급액</th>\n",
       "      <th>판매량</th>\n",
       "      <th>brand</th>\n",
       "    </tr>\n",
       "  </thead>\n",
       "  <tbody>\n",
       "    <tr>\n",
       "      <th>0</th>\n",
       "      <td>2019-01-01 06:00:00</td>\n",
       "      <td>20</td>\n",
       "      <td>100346</td>\n",
       "      <td>201072</td>\n",
       "      <td>테이트 남성 셀린니트3종</td>\n",
       "      <td>의류</td>\n",
       "      <td>39900</td>\n",
       "      <td>2099000</td>\n",
       "      <td>3.0</td>\n",
       "      <td>테이트</td>\n",
       "    </tr>\n",
       "    <tr>\n",
       "      <th>1</th>\n",
       "      <td>2019-01-01 06:00:00</td>\n",
       "      <td>20</td>\n",
       "      <td>100346</td>\n",
       "      <td>201079</td>\n",
       "      <td>테이트 여성 셀린니트3종</td>\n",
       "      <td>의류</td>\n",
       "      <td>39900</td>\n",
       "      <td>4371000</td>\n",
       "      <td>5.0</td>\n",
       "      <td>테이트</td>\n",
       "    </tr>\n",
       "    <tr>\n",
       "      <th>2</th>\n",
       "      <td>2019-01-01 06:20:00</td>\n",
       "      <td>20</td>\n",
       "      <td>100346</td>\n",
       "      <td>201072</td>\n",
       "      <td>테이트 남성 셀린니트3종</td>\n",
       "      <td>의류</td>\n",
       "      <td>39900</td>\n",
       "      <td>3262000</td>\n",
       "      <td>4.0</td>\n",
       "      <td>테이트</td>\n",
       "    </tr>\n",
       "    <tr>\n",
       "      <th>3</th>\n",
       "      <td>2019-01-01 06:20:00</td>\n",
       "      <td>20</td>\n",
       "      <td>100346</td>\n",
       "      <td>201079</td>\n",
       "      <td>테이트 여성 셀린니트3종</td>\n",
       "      <td>의류</td>\n",
       "      <td>39900</td>\n",
       "      <td>6955000</td>\n",
       "      <td>9.0</td>\n",
       "      <td>테이트</td>\n",
       "    </tr>\n",
       "    <tr>\n",
       "      <th>4</th>\n",
       "      <td>2019-01-01 06:40:00</td>\n",
       "      <td>20</td>\n",
       "      <td>100346</td>\n",
       "      <td>201072</td>\n",
       "      <td>테이트 남성 셀린니트3종</td>\n",
       "      <td>의류</td>\n",
       "      <td>39900</td>\n",
       "      <td>6672000</td>\n",
       "      <td>8.0</td>\n",
       "      <td>테이트</td>\n",
       "    </tr>\n",
       "  </tbody>\n",
       "</table>\n",
       "</div>"
      ],
      "text/plain": [
       "                  방송일시 노출(분)    마더코드    상품코드            상품명 상품군   판매단가  \\\n",
       "0  2019-01-01 06:00:00    20  100346  201072  테이트 남성 셀린니트3종  의류  39900   \n",
       "1  2019-01-01 06:00:00    20  100346  201079  테이트 여성 셀린니트3종  의류  39900   \n",
       "2  2019-01-01 06:20:00    20  100346  201072  테이트 남성 셀린니트3종  의류  39900   \n",
       "3  2019-01-01 06:20:00    20  100346  201079  테이트 여성 셀린니트3종  의류  39900   \n",
       "4  2019-01-01 06:40:00    20  100346  201072  테이트 남성 셀린니트3종  의류  39900   \n",
       "\n",
       "       취급액  판매량 brand  \n",
       "0  2099000  3.0   테이트  \n",
       "1  4371000  5.0   테이트  \n",
       "2  3262000  4.0   테이트  \n",
       "3  6955000  9.0   테이트  \n",
       "4  6672000  8.0   테이트  "
      ]
     },
     "execution_count": 28,
     "metadata": {},
     "output_type": "execute_result"
    }
   ],
   "source": [
    "cloth = ['테이트', 'PAT', '보코', '그렉노먼', '마리노블', '헤스티지', 'NNF', '아문센', '마담팰리스', 'K-SWISS', '아리스토우',\n",
    "       '도네이', '더블유베일', '로이몬스터', '임페리얼', '메시제이', '크리스티나앤코', '에르나벨', '엔셀라두스', '헤비추얼',\n",
    "       '뱅뱅', '아주아', '디키즈', '스텔라테일러', 'USPA', '젠트웰', '마르엘라로사티', '오렐리안', '코몽트', '릴리젼',\n",
    "       '라라쎄', '타운젠트', '코펜하겐럭스', '알렉스하운드', '어반시크릿', '레드캠프', '메이듀', 'EXR', '팜스프링스', '디즈니',\n",
    "       '대동모피', '이동수골프', '마리노블', '페플럼제이', '유리진', '디베이지', '마모트', '스튜디오럭스', '르까프']\n",
    "\n",
    "cloth_df = train_raw.loc[train_raw['상품군']=='의류'].reset_index(drop=True)\n",
    "\n",
    "for i in tqdm(range(len(cloth_df))):\n",
    "    for j in cloth:\n",
    "        if j in cloth_df.loc[i,'상품명']:\n",
    "            cloth_df.loc[i,'brand'] = j\n",
    "            \n",
    "cloth_df['brand'] = cloth_df['brand'].fillna('no')\n",
    "cloth_df.head(5)"
   ]
  },
  {
   "cell_type": "code",
   "execution_count": 29,
   "metadata": {},
   "outputs": [
    {
     "data": {
      "image/png": "[encoded data removed]",
      "text/plain": [
       "<Figure size 1296x576 with 1 Axes>"
      ]
     },
     "metadata": {
      "needs_background": "light"
     },
     "output_type": "display_data"
    }
   ],
   "source": [
    "cloth_group_df = cloth_df['판매량'].groupby(cloth_df['brand']).mean().sort_values(ascending=False)\n",
    "\n",
    "title = '의류 브랜드별 분당 판매량'\n",
    "fig, ax = plt.subplots(figsize = (18, 8))\n",
    "ax.bar(list(cloth_group_df.index), cloth_group_df)\n",
    "ax.set_xlabel('브랜드', fontsize = 18)\n",
    "ax.set_ylabel('분당 판매량', fontsize = 18)\n",
    "ax.set_xticklabels(list(cloth_group_df.index), fontsize = 12, rotation = 90)\n",
    "ax.set_title(title)\n",
    "plt.savefig(f'./graphs/{title}.png')\n",
    "plt.show()"
   ]
  },
  {
   "cell_type": "markdown",
   "metadata": {},
   "source": [
    "특정 브랜드 상품에 대한 분당 판매량의 차이가 유의미 함을 알 수 있다."
   ]
  },
  {
   "cell_type": "code",
   "execution_count": 30,
   "metadata": {},
   "outputs": [
    {
     "name": "stdout",
     "output_type": "stream",
     "text": [
      "유의미한 브랜드 수 : 12\n",
      "유의미한 브랜드 명 : ['코몽트', '라라쎄', 'NNF', '스텔라테일러', '엔셀라두스', '어반시크릿', '크리스티나앤코', '에르나벨', '젠트웰', '로이몬스터', '스튜디오럭스', 'PAT']\n"
     ]
    }
   ],
   "source": [
    "cloth_list = list(cloth_group_df[cloth_group_df>cloth_group_df.quantile(q=0.75, interpolation='nearest')].index)\n",
    "print('유의미한 브랜드 수 :', len(cloth_list)) # 총 12개의 브랜드가 선택 됨\n",
    "print('유의미한 브랜드 명 :', cloth_list) # 총 12개의 브랜드명"
   ]
  },
  {
   "cell_type": "markdown",
   "metadata": {},
   "source": [
    "### 주방"
   ]
  },
  {
   "cell_type": "code",
   "execution_count": 31,
   "metadata": {},
   "outputs": [
    {
     "data": {
      "application/vnd.jupyter.widget-view+json": {
       "model_id": "7b0ff4a4fac64494870542c9ab69cfcd",
       "version_major": 2,
       "version_minor": 0
      },
      "text/plain": [
       "HBox(children=(FloatProgress(value=0.0, max=6571.0), HTML(value='')))"
      ]
     },
     "metadata": {},
     "output_type": "display_data"
    },
    {
     "name": "stdout",
     "output_type": "stream",
     "text": [
      "\n"
     ]
    },
    {
     "data": {
      "text/html": [
       "<div>\n",
       "<style scoped>\n",
       "    .dataframe tbody tr th:only-of-type {\n",
       "        vertical-align: middle;\n",
       "    }\n",
       "\n",
       "    .dataframe tbody tr th {\n",
       "        vertical-align: top;\n",
       "    }\n",
       "\n",
       "    .dataframe thead th {\n",
       "        text-align: right;\n",
       "    }\n",
       "</style>\n",
       "<table border=\"1\" class=\"dataframe\">\n",
       "  <thead>\n",
       "    <tr style=\"text-align: right;\">\n",
       "      <th></th>\n",
       "      <th>방송일시</th>\n",
       "      <th>노출(분)</th>\n",
       "      <th>마더코드</th>\n",
       "      <th>상품코드</th>\n",
       "      <th>상품명</th>\n",
       "      <th>상품군</th>\n",
       "      <th>판매단가</th>\n",
       "      <th>취급액</th>\n",
       "      <th>판매량</th>\n",
       "      <th>brand</th>\n",
       "    </tr>\n",
       "  </thead>\n",
       "  <tbody>\n",
       "    <tr>\n",
       "      <th>0</th>\n",
       "      <td>2019-01-01 12:00:00</td>\n",
       "      <td>20</td>\n",
       "      <td>100088</td>\n",
       "      <td>200236</td>\n",
       "      <td>에코라믹 통주물 스톤 냄비세트</td>\n",
       "      <td>주방</td>\n",
       "      <td>60900</td>\n",
       "      <td>33823000</td>\n",
       "      <td>28.0</td>\n",
       "      <td>에코라믹</td>\n",
       "    </tr>\n",
       "    <tr>\n",
       "      <th>1</th>\n",
       "      <td>2019-01-01 12:20:00</td>\n",
       "      <td>20</td>\n",
       "      <td>100088</td>\n",
       "      <td>200236</td>\n",
       "      <td>에코라믹 통주물 스톤 냄비세트</td>\n",
       "      <td>주방</td>\n",
       "      <td>60900</td>\n",
       "      <td>59083000</td>\n",
       "      <td>49.0</td>\n",
       "      <td>에코라믹</td>\n",
       "    </tr>\n",
       "    <tr>\n",
       "      <th>2</th>\n",
       "      <td>2019-01-01 12:40:00</td>\n",
       "      <td>20</td>\n",
       "      <td>100088</td>\n",
       "      <td>200236</td>\n",
       "      <td>에코라믹 통주물 스톤 냄비세트</td>\n",
       "      <td>주방</td>\n",
       "      <td>60900</td>\n",
       "      <td>99235000</td>\n",
       "      <td>81.0</td>\n",
       "      <td>에코라믹</td>\n",
       "    </tr>\n",
       "    <tr>\n",
       "      <th>3</th>\n",
       "      <td>2019-01-02 10:00:00</td>\n",
       "      <td>20</td>\n",
       "      <td>100448</td>\n",
       "      <td>202098</td>\n",
       "      <td>일시불 쿠첸 풀스텐 압력밥솥 10인용 (A1)</td>\n",
       "      <td>주방</td>\n",
       "      <td>158000</td>\n",
       "      <td>7239000</td>\n",
       "      <td>2.0</td>\n",
       "      <td>쿠첸</td>\n",
       "    </tr>\n",
       "    <tr>\n",
       "      <th>4</th>\n",
       "      <td>2019-01-02 10:00:00</td>\n",
       "      <td>20</td>\n",
       "      <td>100448</td>\n",
       "      <td>202093</td>\n",
       "      <td>무이자 쿠첸 풀스텐 압력밥솥 10인용(A1)</td>\n",
       "      <td>주방</td>\n",
       "      <td>168000</td>\n",
       "      <td>8951000</td>\n",
       "      <td>3.0</td>\n",
       "      <td>쿠첸</td>\n",
       "    </tr>\n",
       "  </tbody>\n",
       "</table>\n",
       "</div>"
      ],
      "text/plain": [
       "                  방송일시 노출(분)    마더코드    상품코드                        상품명 상품군  \\\n",
       "0  2019-01-01 12:00:00    20  100088  200236           에코라믹 통주물 스톤 냄비세트  주방   \n",
       "1  2019-01-01 12:20:00    20  100088  200236           에코라믹 통주물 스톤 냄비세트  주방   \n",
       "2  2019-01-01 12:40:00    20  100088  200236           에코라믹 통주물 스톤 냄비세트  주방   \n",
       "3  2019-01-02 10:00:00    20  100448  202098  일시불 쿠첸 풀스텐 압력밥솥 10인용 (A1)  주방   \n",
       "4  2019-01-02 10:00:00    20  100448  202093   무이자 쿠첸 풀스텐 압력밥솥 10인용(A1)  주방   \n",
       "\n",
       "     판매단가       취급액   판매량 brand  \n",
       "0   60900  33823000  28.0  에코라믹  \n",
       "1   60900  59083000  49.0  에코라믹  \n",
       "2   60900  99235000  81.0  에코라믹  \n",
       "3  158000   7239000   2.0    쿠첸  \n",
       "4  168000   8951000   3.0    쿠첸  "
      ]
     },
     "execution_count": 31,
     "metadata": {},
     "output_type": "execute_result"
    }
   ],
   "source": [
    "kitchen = ['에코라믹', '쿠첸', '린나이', '키친플라워', '한일', '쿠쿠', '스위스밀리터리', '모즈', '아이오', '락앤락', '에버홈', '올리고',\n",
    "      '해피콜', '스텐락', '쓰임', '로벤탈', '뉴 클레린', '세균싹', '아이넥스', '프로피쿡', '키친아트', '쿠진나이프케어', '에지리',\n",
    "      '베스트 하임', '델첸', '올리고', '파뷔에', '드럼쿡', '송도순', '매직쉐프', '테팔', '마리벨', '글라스락', '리큅', '뉴욕맘',\n",
    "      '한샘', '쿠진', '마이베비', '휴롬', '오스터', '에코바이런', '웰스락 ', '하우홈', 'am마카롱', '두꺼비', '믹서를 품은', '안타고',\n",
    "      '이지엔', '서장훈', '에델코첸', 'SK매직', '실리만', '노와', 'IH', '벨라홈', '라니 퍼니쿡', 'PN풍년', '비앙코', '센스락', '클란츠',\n",
    "      '구스터', '실바트', '셰프웨이', '세라맥스', '셀렉프로', '옥샘쿡', '도깨비', '램프쿡']\n",
    "\n",
    "kitchen_df = train_raw.loc[train_raw['상품군']=='주방'].reset_index(drop=True)\n",
    "\n",
    "for i in tqdm(range(len(kitchen_df))):\n",
    "    for j in kitchen:\n",
    "        if j in kitchen_df.loc[i,'상품명']:\n",
    "            kitchen_df.loc[i,'brand'] = j\n",
    "            \n",
    "kitchen_df['brand'] = kitchen_df['brand'].fillna('no')\n",
    "kitchen_df.head(5)"
   ]
  },
  {
   "cell_type": "code",
   "execution_count": 32,
   "metadata": {},
   "outputs": [
    {
     "data": {
      "image/png": "[encoded data removed]",
      "text/plain": [
       "<Figure size 1296x576 with 1 Axes>"
      ]
     },
     "metadata": {
      "needs_background": "light"
     },
     "output_type": "display_data"
    }
   ],
   "source": [
    "kitchen_group_df = kitchen_df['판매량'].groupby(kitchen_df['brand']).mean().sort_values(ascending=False)\n",
    "\n",
    "title = '주방 브랜드별 분당 판매량'\n",
    "fig, ax = plt.subplots(figsize = (18, 8))\n",
    "ax.bar(list(kitchen_group_df.index), kitchen_group_df)\n",
    "ax.set_xlabel('브랜드', fontsize = 18)\n",
    "ax.set_ylabel('분당 판매량', fontsize = 18)\n",
    "ax.set_xticklabels(list(kitchen_group_df.index), fontsize = 12, rotation = 90)\n",
    "ax.set_title(title)\n",
    "plt.savefig(f'./graphs/{title}.png')    \n",
    "plt.show()"
   ]
  },
  {
   "cell_type": "markdown",
   "metadata": {},
   "source": [
    "특정 브랜드 상품에 대한 분당 판매량의 차이가 유의미 함을 알 수 있다."
   ]
  },
  {
   "cell_type": "code",
   "execution_count": 33,
   "metadata": {},
   "outputs": [
    {
     "name": "stdout",
     "output_type": "stream",
     "text": [
      "유의미한 브랜드 수 : 16\n",
      "유의미한 브랜드 명 : ['셀렉프로', '램프쿡', '에코라믹', '파뷔에', '벨라홈', '쓰임', '이지엔', '셰프웨이', '세균싹', '안타고', '세라맥스', '클란츠', '한일', '뉴욕맘', '델첸', '실바트']\n"
     ]
    }
   ],
   "source": [
    "kitchen_list = list(kitchen_group_df[kitchen_group_df>kitchen_group_df.quantile(q=0.75, interpolation='nearest')].index)\n",
    "print('유의미한 브랜드 수 :', len(kitchen_list)) # 총 12개의 브랜드가 선택 됨\n",
    "print('유의미한 브랜드 명 :', kitchen_list) # 총 12개의 브랜드명"
   ]
  },
  {
   "cell_type": "markdown",
   "metadata": {},
   "source": [
    "### 잡화"
   ]
  },
  {
   "cell_type": "code",
   "execution_count": 34,
   "metadata": {},
   "outputs": [
    {
     "data": {
      "application/vnd.jupyter.widget-view+json": {
       "model_id": "c6e0d03a06e04e3ea7419e446d592b4c",
       "version_major": 2,
       "version_minor": 0
      },
      "text/plain": [
       "HBox(children=(FloatProgress(value=0.0, max=3694.0), HTML(value='')))"
      ]
     },
     "metadata": {},
     "output_type": "display_data"
    },
    {
     "name": "stdout",
     "output_type": "stream",
     "text": [
      "\n"
     ]
    },
    {
     "data": {
      "text/html": [
       "<div>\n",
       "<style scoped>\n",
       "    .dataframe tbody tr th:only-of-type {\n",
       "        vertical-align: middle;\n",
       "    }\n",
       "\n",
       "    .dataframe tbody tr th {\n",
       "        vertical-align: top;\n",
       "    }\n",
       "\n",
       "    .dataframe thead th {\n",
       "        text-align: right;\n",
       "    }\n",
       "</style>\n",
       "<table border=\"1\" class=\"dataframe\">\n",
       "  <thead>\n",
       "    <tr style=\"text-align: right;\">\n",
       "      <th></th>\n",
       "      <th>방송일시</th>\n",
       "      <th>노출(분)</th>\n",
       "      <th>마더코드</th>\n",
       "      <th>상품코드</th>\n",
       "      <th>상품명</th>\n",
       "      <th>상품군</th>\n",
       "      <th>판매단가</th>\n",
       "      <th>취급액</th>\n",
       "      <th>판매량</th>\n",
       "      <th>brand</th>\n",
       "    </tr>\n",
       "  </thead>\n",
       "  <tbody>\n",
       "    <tr>\n",
       "      <th>0</th>\n",
       "      <td>2019-01-03 06:00:00</td>\n",
       "      <td>20</td>\n",
       "      <td>100781</td>\n",
       "      <td>202292</td>\n",
       "      <td>에펨 여성 미들퍼부츠</td>\n",
       "      <td>잡화</td>\n",
       "      <td>39800</td>\n",
       "      <td>2450000</td>\n",
       "      <td>3.0</td>\n",
       "      <td>에펨</td>\n",
       "    </tr>\n",
       "    <tr>\n",
       "      <th>1</th>\n",
       "      <td>2019-01-03 06:00:00</td>\n",
       "      <td>20</td>\n",
       "      <td>100781</td>\n",
       "      <td>202285</td>\n",
       "      <td>에펨 남성 미들퍼부츠</td>\n",
       "      <td>잡화</td>\n",
       "      <td>49800</td>\n",
       "      <td>2645000</td>\n",
       "      <td>3.0</td>\n",
       "      <td>에펨</td>\n",
       "    </tr>\n",
       "    <tr>\n",
       "      <th>2</th>\n",
       "      <td>2019-01-03 06:20:00</td>\n",
       "      <td>20</td>\n",
       "      <td>100781</td>\n",
       "      <td>202292</td>\n",
       "      <td>에펨 여성 미들퍼부츠</td>\n",
       "      <td>잡화</td>\n",
       "      <td>39800</td>\n",
       "      <td>5609000</td>\n",
       "      <td>7.0</td>\n",
       "      <td>에펨</td>\n",
       "    </tr>\n",
       "    <tr>\n",
       "      <th>3</th>\n",
       "      <td>2019-01-03 06:20:00</td>\n",
       "      <td>20</td>\n",
       "      <td>100781</td>\n",
       "      <td>202285</td>\n",
       "      <td>에펨 남성 미들퍼부츠</td>\n",
       "      <td>잡화</td>\n",
       "      <td>49800</td>\n",
       "      <td>3874000</td>\n",
       "      <td>4.0</td>\n",
       "      <td>에펨</td>\n",
       "    </tr>\n",
       "    <tr>\n",
       "      <th>4</th>\n",
       "      <td>2019-01-03 06:40:00</td>\n",
       "      <td>20</td>\n",
       "      <td>100781</td>\n",
       "      <td>202292</td>\n",
       "      <td>에펨 여성 미들퍼부츠</td>\n",
       "      <td>잡화</td>\n",
       "      <td>39800</td>\n",
       "      <td>9045000</td>\n",
       "      <td>11.0</td>\n",
       "      <td>에펨</td>\n",
       "    </tr>\n",
       "  </tbody>\n",
       "</table>\n",
       "</div>"
      ],
      "text/plain": [
       "                  방송일시 노출(분)    마더코드    상품코드          상품명 상품군   판매단가      취급액  \\\n",
       "0  2019-01-03 06:00:00    20  100781  202292  에펨 여성 미들퍼부츠  잡화  39800  2450000   \n",
       "1  2019-01-03 06:00:00    20  100781  202285  에펨 남성 미들퍼부츠  잡화  49800  2645000   \n",
       "2  2019-01-03 06:20:00    20  100781  202292  에펨 여성 미들퍼부츠  잡화  39800  5609000   \n",
       "3  2019-01-03 06:20:00    20  100781  202285  에펨 남성 미들퍼부츠  잡화  49800  3874000   \n",
       "4  2019-01-03 06:40:00    20  100781  202292  에펨 여성 미들퍼부츠  잡화  39800  9045000   \n",
       "\n",
       "    판매량 brand  \n",
       "0   3.0    에펨  \n",
       "1   3.0    에펨  \n",
       "2   7.0    에펨  \n",
       "3   4.0    에펨  \n",
       "4  11.0    에펨  "
      ]
     },
     "execution_count": 34,
     "metadata": {},
     "output_type": "execute_result"
    }
   ],
   "source": [
    "item = ['에펨', '로베르타', '가이거', '세인트스코트', '도스문도스', '마스케라', '엘르 메르시', '월드컵', '칼리베이직', '아가타',\n",
    "       '엘리자베스아덴', '삭루츠', '스프리스', '플로쥬', '제옥스', '레코바', '트레스패스', '안드레아바나', '썸덱스', 'DIOR',\n",
    "       '프라다', '기라로쉬', '코치', '메이듀', '시스마르스', '오델로', 'AAD', '레노마', '루이띠에', '생즐랑', '골드파일', '알비에로 마르티니',\n",
    "       '바치', '구찌', '에트로', '갈란테', 'RYN', '메디아글램', '에버라스트', 'AAA', '아르테사노', '버버리', '마이클코어스']\n",
    "\n",
    "item_df = train_raw.loc[train_raw['상품군']=='잡화'].reset_index(drop=True)\n",
    "\n",
    "for i in tqdm(range(len(item_df))):\n",
    "    for j in item:\n",
    "        if j in item_df.loc[i,'상품명']:\n",
    "            item_df.loc[i,'brand'] = j\n",
    "            \n",
    "item_df['brand'] = item_df['brand'].fillna('no')\n",
    "item_df.head(5)"
   ]
  },
  {
   "cell_type": "code",
   "execution_count": 35,
   "metadata": {},
   "outputs": [
    {
     "data": {
      "image/png": "[encoded data removed]",
      "text/plain": [
       "<Figure size 1296x576 with 1 Axes>"
      ]
     },
     "metadata": {
      "needs_background": "light"
     },
     "output_type": "display_data"
    }
   ],
   "source": [
    "item_group_df = item_df['판매량'].groupby(item_df['brand']).mean().sort_values(ascending=False)\n",
    "\n",
    "title = '잡화 브랜드별 분당 판매량'\n",
    "fig, ax = plt.subplots(figsize = (18, 8))\n",
    "ax.bar(list(item_group_df.index), item_group_df)\n",
    "ax.set_xlabel('브랜드', fontsize = 18)\n",
    "ax.set_ylabel('분당 판매량', fontsize = 18)\n",
    "ax.set_xticklabels(list(item_group_df.index), fontsize = 12, rotation = 90)\n",
    "ax.set_title(title)\n",
    "plt.savefig(f'./graphs/{title}.png')\n",
    "plt.show()"
   ]
  },
  {
   "cell_type": "markdown",
   "metadata": {},
   "source": [
    "특정 브랜드 상품에 대한 분당 판매량의 차이가 유의미 함을 알 수 있다."
   ]
  },
  {
   "cell_type": "code",
   "execution_count": 36,
   "metadata": {},
   "outputs": [
    {
     "name": "stdout",
     "output_type": "stream",
     "text": [
      "유의미한 브랜드 수 : 10\n",
      "유의미한 브랜드 명 : ['오델로', '시스마르스', '칼리베이직', 'AAD', '플로쥬', '아가타', '엘리자베스아덴', '기라로쉬', '바치', '메이듀']\n"
     ]
    }
   ],
   "source": [
    "item_list = list(item_group_df[item_group_df>item_group_df.quantile(q=0.75, interpolation='nearest')].index)\n",
    "print('유의미한 브랜드 수 :', len(item_list)) # 총 12개의 브랜드가 선택 됨\n",
    "print('유의미한 브랜드 명 :', item_list) # 총 12개의 브랜드명"
   ]
  },
  {
   "cell_type": "markdown",
   "metadata": {},
   "source": [
    "### 가전"
   ]
  },
  {
   "cell_type": "code",
   "execution_count": 37,
   "metadata": {},
   "outputs": [
    {
     "data": {
      "application/vnd.jupyter.widget-view+json": {
       "model_id": "68a640233d464729aeafd202299470ad",
       "version_major": 2,
       "version_minor": 0
      },
      "text/plain": [
       "HBox(children=(FloatProgress(value=0.0, max=5163.0), HTML(value='')))"
      ]
     },
     "metadata": {},
     "output_type": "display_data"
    },
    {
     "name": "stdout",
     "output_type": "stream",
     "text": [
      "\n"
     ]
    },
    {
     "data": {
      "text/html": [
       "<div>\n",
       "<style scoped>\n",
       "    .dataframe tbody tr th:only-of-type {\n",
       "        vertical-align: middle;\n",
       "    }\n",
       "\n",
       "    .dataframe tbody tr th {\n",
       "        vertical-align: top;\n",
       "    }\n",
       "\n",
       "    .dataframe thead th {\n",
       "        text-align: right;\n",
       "    }\n",
       "</style>\n",
       "<table border=\"1\" class=\"dataframe\">\n",
       "  <thead>\n",
       "    <tr style=\"text-align: right;\">\n",
       "      <th></th>\n",
       "      <th>방송일시</th>\n",
       "      <th>노출(분)</th>\n",
       "      <th>마더코드</th>\n",
       "      <th>상품코드</th>\n",
       "      <th>상품명</th>\n",
       "      <th>상품군</th>\n",
       "      <th>판매단가</th>\n",
       "      <th>취급액</th>\n",
       "      <th>판매량</th>\n",
       "      <th>brand</th>\n",
       "    </tr>\n",
       "  </thead>\n",
       "  <tbody>\n",
       "    <tr>\n",
       "      <th>0</th>\n",
       "      <td>2019-01-01 20:00:00</td>\n",
       "      <td>20</td>\n",
       "      <td>100150</td>\n",
       "      <td>200533</td>\n",
       "      <td>일시불 LG 통돌이 세탁기</td>\n",
       "      <td>가전</td>\n",
       "      <td>439000</td>\n",
       "      <td>35519000</td>\n",
       "      <td>4.0</td>\n",
       "      <td>LG</td>\n",
       "    </tr>\n",
       "    <tr>\n",
       "      <th>1</th>\n",
       "      <td>2019-01-01 20:00:00</td>\n",
       "      <td>20</td>\n",
       "      <td>100150</td>\n",
       "      <td>200465</td>\n",
       "      <td>무이자 LG 통돌이 세탁기</td>\n",
       "      <td>가전</td>\n",
       "      <td>489000</td>\n",
       "      <td>19123000</td>\n",
       "      <td>2.0</td>\n",
       "      <td>LG</td>\n",
       "    </tr>\n",
       "    <tr>\n",
       "      <th>2</th>\n",
       "      <td>2019-01-01 20:20:00</td>\n",
       "      <td>20</td>\n",
       "      <td>100150</td>\n",
       "      <td>200533</td>\n",
       "      <td>일시불 LG 통돌이 세탁기</td>\n",
       "      <td>가전</td>\n",
       "      <td>439000</td>\n",
       "      <td>56859000</td>\n",
       "      <td>6.0</td>\n",
       "      <td>LG</td>\n",
       "    </tr>\n",
       "    <tr>\n",
       "      <th>3</th>\n",
       "      <td>2019-01-01 20:20:00</td>\n",
       "      <td>20</td>\n",
       "      <td>100150</td>\n",
       "      <td>200465</td>\n",
       "      <td>무이자 LG 통돌이 세탁기</td>\n",
       "      <td>가전</td>\n",
       "      <td>489000</td>\n",
       "      <td>58685000</td>\n",
       "      <td>6.0</td>\n",
       "      <td>LG</td>\n",
       "    </tr>\n",
       "    <tr>\n",
       "      <th>4</th>\n",
       "      <td>2019-01-01 20:40:00</td>\n",
       "      <td>20</td>\n",
       "      <td>100150</td>\n",
       "      <td>200533</td>\n",
       "      <td>일시불 LG 통돌이 세탁기</td>\n",
       "      <td>가전</td>\n",
       "      <td>439000</td>\n",
       "      <td>68320000</td>\n",
       "      <td>8.0</td>\n",
       "      <td>LG</td>\n",
       "    </tr>\n",
       "  </tbody>\n",
       "</table>\n",
       "</div>"
      ],
      "text/plain": [
       "                  방송일시 노출(분)    마더코드    상품코드             상품명 상품군    판매단가  \\\n",
       "0  2019-01-01 20:00:00    20  100150  200533  일시불 LG 통돌이 세탁기  가전  439000   \n",
       "1  2019-01-01 20:00:00    20  100150  200465  무이자 LG 통돌이 세탁기  가전  489000   \n",
       "2  2019-01-01 20:20:00    20  100150  200533  일시불 LG 통돌이 세탁기  가전  439000   \n",
       "3  2019-01-01 20:20:00    20  100150  200465  무이자 LG 통돌이 세탁기  가전  489000   \n",
       "4  2019-01-01 20:40:00    20  100150  200533  일시불 LG 통돌이 세탁기  가전  439000   \n",
       "\n",
       "        취급액  판매량 brand  \n",
       "0  35519000  4.0    LG  \n",
       "1  19123000  2.0    LG  \n",
       "2  56859000  6.0    LG  \n",
       "3  58685000  6.0    LG  \n",
       "4  68320000  8.0    LG  "
      ]
     },
     "execution_count": 37,
     "metadata": {},
     "output_type": "execute_result"
    }
   ],
   "source": [
    "appliance = ['삼성','LG','대우전자','캐리어']\n",
    "\n",
    "appliance_df = train_raw.loc[train_raw['상품군']=='가전'].reset_index(drop=True)\n",
    "for i in tqdm(range(len(appliance_df))):\n",
    "    for j in appliance:\n",
    "        if j in appliance_df.loc[i,'상품명']:\n",
    "            appliance_df.loc[i,'brand'] = j\n",
    "            \n",
    "appliance_df['brand'] = appliance_df['brand'].fillna('no')\n",
    "appliance_df.head(5)"
   ]
  },
  {
   "cell_type": "code",
   "execution_count": 38,
   "metadata": {},
   "outputs": [
    {
     "data": {
      "image/png": "[encoded data removed]",
      "text/plain": [
       "<Figure size 1296x576 with 1 Axes>"
      ]
     },
     "metadata": {
      "needs_background": "light"
     },
     "output_type": "display_data"
    }
   ],
   "source": [
    "appliance_group_df = appliance_df['판매량'].groupby(appliance_df['brand']).mean().sort_values(ascending=False)\n",
    "\n",
    "title = '가전 브랜드별 분당 판매량'\n",
    "fig, ax = plt.subplots(figsize = (18, 8))\n",
    "ax.bar(list(appliance_group_df.index), appliance_group_df)\n",
    "ax.set_xlabel('브랜드', fontsize = 18)\n",
    "ax.set_ylabel('분당 판매량', fontsize = 18)\n",
    "ax.set_xticklabels(list(appliance_group_df.index), fontsize = 12, rotation = 90)\n",
    "ax.set_title(title)\n",
    "plt.savefig(f'./graphs/{title}.png')\n",
    "plt.show()"
   ]
  },
  {
   "cell_type": "markdown",
   "metadata": {},
   "source": [
    "가전의 경우 주요 브랜드 사이에서 유의미한 차이가 존재하지 않는다.\n",
    "\n",
    "오히려 브랜드 아닌 경우가 분당 판매량이 가장 높았다."
   ]
  },
  {
   "cell_type": "code",
   "execution_count": 39,
   "metadata": {},
   "outputs": [
    {
     "name": "stdout",
     "output_type": "stream",
     "text": [
      "유의미한 브랜드 수 : 1\n",
      "유의미한 브랜드 명 : ['no']\n"
     ]
    }
   ],
   "source": [
    "appliance_list = list(appliance_group_df[appliance_group_df>appliance_group_df.quantile(q=0.75, interpolation='nearest')].index)\n",
    "print('유의미한 브랜드 수 :', len(appliance_list)) # 선택된 브랜드 없음\n",
    "print('유의미한 브랜드 명 :', appliance_list)"
   ]
  },
  {
   "cell_type": "code",
   "execution_count": 40,
   "metadata": {},
   "outputs": [
    {
     "name": "stdout",
     "output_type": "stream",
     "text": [
      "유의미한 브랜드 수 : 0\n",
      "유의미한 브랜드 명 : []\n"
     ]
    }
   ],
   "source": [
    "appliance_list.remove('no')\n",
    "print('유의미한 브랜드 수 :', len(appliance_list)) \n",
    "print('유의미한 브랜드 명 :', appliance_list)"
   ]
  },
  {
   "cell_type": "markdown",
   "metadata": {},
   "source": [
    "### 가구"
   ]
  },
  {
   "cell_type": "code",
   "execution_count": 41,
   "metadata": {},
   "outputs": [
    {
     "data": {
      "application/vnd.jupyter.widget-view+json": {
       "model_id": "cdf19ff3cc8446da866594423d3fa086",
       "version_major": 2,
       "version_minor": 0
      },
      "text/plain": [
       "HBox(children=(FloatProgress(value=0.0, max=2302.0), HTML(value='')))"
      ]
     },
     "metadata": {},
     "output_type": "display_data"
    },
    {
     "name": "stdout",
     "output_type": "stream",
     "text": [
      "\n"
     ]
    },
    {
     "data": {
      "text/html": [
       "<div>\n",
       "<style scoped>\n",
       "    .dataframe tbody tr th:only-of-type {\n",
       "        vertical-align: middle;\n",
       "    }\n",
       "\n",
       "    .dataframe tbody tr th {\n",
       "        vertical-align: top;\n",
       "    }\n",
       "\n",
       "    .dataframe thead th {\n",
       "        text-align: right;\n",
       "    }\n",
       "</style>\n",
       "<table border=\"1\" class=\"dataframe\">\n",
       "  <thead>\n",
       "    <tr style=\"text-align: right;\">\n",
       "      <th></th>\n",
       "      <th>방송일시</th>\n",
       "      <th>노출(분)</th>\n",
       "      <th>마더코드</th>\n",
       "      <th>상품코드</th>\n",
       "      <th>상품명</th>\n",
       "      <th>상품군</th>\n",
       "      <th>판매단가</th>\n",
       "      <th>취급액</th>\n",
       "      <th>판매량</th>\n",
       "      <th>brand</th>\n",
       "    </tr>\n",
       "  </thead>\n",
       "  <tbody>\n",
       "    <tr>\n",
       "      <th>0</th>\n",
       "      <td>2019-02-01 22:00:00</td>\n",
       "      <td>20</td>\n",
       "      <td>100205</td>\n",
       "      <td>200733</td>\n",
       "      <td>보루네오 루나 유로탑 멀티수납형 LED 침대 SS 슈퍼싱글</td>\n",
       "      <td>가구</td>\n",
       "      <td>548000</td>\n",
       "      <td>7399000</td>\n",
       "      <td>1.0</td>\n",
       "      <td>보루네오</td>\n",
       "    </tr>\n",
       "    <tr>\n",
       "      <th>1</th>\n",
       "      <td>2019-02-01 22:00:00</td>\n",
       "      <td>20</td>\n",
       "      <td>100205</td>\n",
       "      <td>200732</td>\n",
       "      <td>보루네오 루나 유로탑 멀티수납형 LED 침대 Q 퀸</td>\n",
       "      <td>가구</td>\n",
       "      <td>598000</td>\n",
       "      <td>3264000</td>\n",
       "      <td>0.0</td>\n",
       "      <td>보루네오</td>\n",
       "    </tr>\n",
       "    <tr>\n",
       "      <th>2</th>\n",
       "      <td>2019-02-01 22:00:00</td>\n",
       "      <td>20</td>\n",
       "      <td>100205</td>\n",
       "      <td>200731</td>\n",
       "      <td>보루네오 루나 유로탑 멀티수납형 LED 침대 K 킹</td>\n",
       "      <td>가구</td>\n",
       "      <td>648000</td>\n",
       "      <td>5271000</td>\n",
       "      <td>0.0</td>\n",
       "      <td>보루네오</td>\n",
       "    </tr>\n",
       "    <tr>\n",
       "      <th>3</th>\n",
       "      <td>2019-02-01 22:20:00</td>\n",
       "      <td>20</td>\n",
       "      <td>100205</td>\n",
       "      <td>200733</td>\n",
       "      <td>보루네오 루나 유로탑 멀티수납형 LED 침대 SS 슈퍼싱글</td>\n",
       "      <td>가구</td>\n",
       "      <td>548000</td>\n",
       "      <td>20638000</td>\n",
       "      <td>2.0</td>\n",
       "      <td>보루네오</td>\n",
       "    </tr>\n",
       "    <tr>\n",
       "      <th>4</th>\n",
       "      <td>2019-02-01 22:20:00</td>\n",
       "      <td>20</td>\n",
       "      <td>100205</td>\n",
       "      <td>200732</td>\n",
       "      <td>보루네오 루나 유로탑 멀티수납형 LED 침대 Q 퀸</td>\n",
       "      <td>가구</td>\n",
       "      <td>598000</td>\n",
       "      <td>17701000</td>\n",
       "      <td>1.0</td>\n",
       "      <td>보루네오</td>\n",
       "    </tr>\n",
       "  </tbody>\n",
       "</table>\n",
       "</div>"
      ],
      "text/plain": [
       "                  방송일시 노출(분)    마더코드    상품코드  \\\n",
       "0  2019-02-01 22:00:00    20  100205  200733   \n",
       "1  2019-02-01 22:00:00    20  100205  200732   \n",
       "2  2019-02-01 22:00:00    20  100205  200731   \n",
       "3  2019-02-01 22:20:00    20  100205  200733   \n",
       "4  2019-02-01 22:20:00    20  100205  200732   \n",
       "\n",
       "                                상품명 상품군    판매단가       취급액  판매량 brand  \n",
       "0  보루네오 루나 유로탑 멀티수납형 LED 침대 SS 슈퍼싱글  가구  548000   7399000  1.0  보루네오  \n",
       "1      보루네오 루나 유로탑 멀티수납형 LED 침대 Q 퀸  가구  598000   3264000  0.0  보루네오  \n",
       "2      보루네오 루나 유로탑 멀티수납형 LED 침대 K 킹  가구  648000   5271000  0.0  보루네오  \n",
       "3  보루네오 루나 유로탑 멀티수납형 LED 침대 SS 슈퍼싱글  가구  548000  20638000  2.0  보루네오  \n",
       "4      보루네오 루나 유로탑 멀티수납형 LED 침대 Q 퀸  가구  598000  17701000  1.0  보루네오  "
      ]
     },
     "execution_count": 41,
     "metadata": {},
     "output_type": "execute_result"
    }
   ],
   "source": [
    "furniture = ['보루네오', '삼익가구', '한샘', '장수', '이누스바스', '삼익가구', '벨라홈', '이조농방', '레스토닉', '유캐슬']\n",
    "\n",
    "furniture_df = train_raw.loc[train_raw['상품군']=='가구'].reset_index(drop=True)\n",
    "for i in tqdm(range(len(furniture_df))):\n",
    "    for j in furniture:\n",
    "        if j in furniture_df.loc[i,'상품명']:\n",
    "            furniture_df.loc[i,'brand'] = j\n",
    "\n",
    "furniture_df['brand'] = furniture_df['brand'].fillna('no')\n",
    "furniture_df.head(5)"
   ]
  },
  {
   "cell_type": "code",
   "execution_count": 42,
   "metadata": {},
   "outputs": [
    {
     "data": {
      "image/png": "[encoded data removed]",
      "text/plain": [
       "<Figure size 1296x576 with 1 Axes>"
      ]
     },
     "metadata": {
      "needs_background": "light"
     },
     "output_type": "display_data"
    }
   ],
   "source": [
    "furniture_group_df = furniture_df['판매량'].groupby(furniture_df['brand']).mean().sort_values(ascending=False)\n",
    "\n",
    "title = '가구 브랜드별 분당 판매량'\n",
    "fig, ax = plt.subplots(figsize = (18, 8))\n",
    "ax.bar(list(furniture_group_df.index), furniture_group_df)\n",
    "ax.set_xlabel('브랜드', fontsize = 18)\n",
    "ax.set_ylabel('분당 판매량', fontsize = 18)\n",
    "ax.set_xticklabels(list(furniture_group_df.index), fontsize = 12, rotation = 90)\n",
    "ax.set_title(title)\n",
    "plt.savefig(f'./graphs/{title}.png')\n",
    "plt.show()"
   ]
  },
  {
   "cell_type": "markdown",
   "metadata": {},
   "source": [
    "특정 브랜드 상품에 대한 분당 판매량의 차이가 유의미 함을 알 수 있다."
   ]
  },
  {
   "cell_type": "code",
   "execution_count": 43,
   "metadata": {},
   "outputs": [
    {
     "name": "stdout",
     "output_type": "stream",
     "text": [
      "유의미한 브랜드 수 : 2\n",
      "유의미한 브랜드 명 : ['벨라홈', '보루네오']\n"
     ]
    }
   ],
   "source": [
    "furniture_list = list(furniture_group_df[furniture_group_df>furniture_group_df.quantile(q=0.75, interpolation='nearest')].index)\n",
    "print('유의미한 브랜드 수 :', len(furniture_list)) # 총 2개의 브랜드가 선택 됨\n",
    "print('유의미한 브랜드 명 :', furniture_list) # 총 2개의 브랜드명"
   ]
  },
  {
   "cell_type": "markdown",
   "metadata": {},
   "source": [
    "### 침구"
   ]
  },
  {
   "cell_type": "code",
   "execution_count": 44,
   "metadata": {},
   "outputs": [
    {
     "data": {
      "application/vnd.jupyter.widget-view+json": {
       "model_id": "f77df53a9c9e40dca1a833eff6fb754d",
       "version_major": 2,
       "version_minor": 0
      },
      "text/plain": [
       "HBox(children=(FloatProgress(value=0.0, max=664.0), HTML(value='')))"
      ]
     },
     "metadata": {},
     "output_type": "display_data"
    },
    {
     "name": "stdout",
     "output_type": "stream",
     "text": [
      "\n"
     ]
    },
    {
     "data": {
      "text/html": [
       "<div>\n",
       "<style scoped>\n",
       "    .dataframe tbody tr th:only-of-type {\n",
       "        vertical-align: middle;\n",
       "    }\n",
       "\n",
       "    .dataframe tbody tr th {\n",
       "        vertical-align: top;\n",
       "    }\n",
       "\n",
       "    .dataframe thead th {\n",
       "        text-align: right;\n",
       "    }\n",
       "</style>\n",
       "<table border=\"1\" class=\"dataframe\">\n",
       "  <thead>\n",
       "    <tr style=\"text-align: right;\">\n",
       "      <th></th>\n",
       "      <th>방송일시</th>\n",
       "      <th>노출(분)</th>\n",
       "      <th>마더코드</th>\n",
       "      <th>상품코드</th>\n",
       "      <th>상품명</th>\n",
       "      <th>상품군</th>\n",
       "      <th>판매단가</th>\n",
       "      <th>취급액</th>\n",
       "      <th>판매량</th>\n",
       "      <th>brand</th>\n",
       "    </tr>\n",
       "  </thead>\n",
       "  <tbody>\n",
       "    <tr>\n",
       "      <th>0</th>\n",
       "      <td>2019-04-18 12:00:00</td>\n",
       "      <td>20</td>\n",
       "      <td>100140</td>\n",
       "      <td>200377</td>\n",
       "      <td>보몽드 순면60수 피그먼트워싱 침구세트 SS</td>\n",
       "      <td>침구</td>\n",
       "      <td>59900</td>\n",
       "      <td>6400000</td>\n",
       "      <td>5.0</td>\n",
       "      <td>보몽드</td>\n",
       "    </tr>\n",
       "    <tr>\n",
       "      <th>1</th>\n",
       "      <td>2019-04-18 12:00:00</td>\n",
       "      <td>20</td>\n",
       "      <td>100140</td>\n",
       "      <td>200376</td>\n",
       "      <td>보몽드 순면60수 피그먼트워싱 침구세트 Q</td>\n",
       "      <td>침구</td>\n",
       "      <td>69900</td>\n",
       "      <td>6334000</td>\n",
       "      <td>5.0</td>\n",
       "      <td>보몽드</td>\n",
       "    </tr>\n",
       "    <tr>\n",
       "      <th>2</th>\n",
       "      <td>2019-04-18 12:00:00</td>\n",
       "      <td>20</td>\n",
       "      <td>100140</td>\n",
       "      <td>200375</td>\n",
       "      <td>보몽드 순면60수 피그먼트워싱 침구세트 K</td>\n",
       "      <td>침구</td>\n",
       "      <td>79900</td>\n",
       "      <td>7421000</td>\n",
       "      <td>5.0</td>\n",
       "      <td>보몽드</td>\n",
       "    </tr>\n",
       "    <tr>\n",
       "      <th>3</th>\n",
       "      <td>2019-04-18 12:20:00</td>\n",
       "      <td>20</td>\n",
       "      <td>100140</td>\n",
       "      <td>200377</td>\n",
       "      <td>보몽드 순면60수 피그먼트워싱 침구세트 SS</td>\n",
       "      <td>침구</td>\n",
       "      <td>59900</td>\n",
       "      <td>6825000</td>\n",
       "      <td>6.0</td>\n",
       "      <td>보몽드</td>\n",
       "    </tr>\n",
       "    <tr>\n",
       "      <th>4</th>\n",
       "      <td>2019-04-18 12:20:00</td>\n",
       "      <td>20</td>\n",
       "      <td>100140</td>\n",
       "      <td>200376</td>\n",
       "      <td>보몽드 순면60수 피그먼트워싱 침구세트 Q</td>\n",
       "      <td>침구</td>\n",
       "      <td>69900</td>\n",
       "      <td>7182000</td>\n",
       "      <td>5.0</td>\n",
       "      <td>보몽드</td>\n",
       "    </tr>\n",
       "  </tbody>\n",
       "</table>\n",
       "</div>"
      ],
      "text/plain": [
       "                  방송일시 노출(분)    마더코드    상품코드                       상품명 상품군  \\\n",
       "0  2019-04-18 12:00:00    20  100140  200377  보몽드 순면60수 피그먼트워싱 침구세트 SS  침구   \n",
       "1  2019-04-18 12:00:00    20  100140  200376   보몽드 순면60수 피그먼트워싱 침구세트 Q  침구   \n",
       "2  2019-04-18 12:00:00    20  100140  200375   보몽드 순면60수 피그먼트워싱 침구세트 K  침구   \n",
       "3  2019-04-18 12:20:00    20  100140  200377  보몽드 순면60수 피그먼트워싱 침구세트 SS  침구   \n",
       "4  2019-04-18 12:20:00    20  100140  200376   보몽드 순면60수 피그먼트워싱 침구세트 Q  침구   \n",
       "\n",
       "    판매단가      취급액  판매량 brand  \n",
       "0  59900  6400000  5.0   보몽드  \n",
       "1  69900  6334000  5.0   보몽드  \n",
       "2  79900  7421000  5.0   보몽드  \n",
       "3  59900  6825000  6.0   보몽드  \n",
       "4  69900  7182000  5.0   보몽드  "
      ]
     },
     "execution_count": 44,
     "metadata": {},
     "output_type": "execute_result"
    }
   ],
   "source": [
    "bed = ['보몽드', '한샘', '리앤코리아', '효재', '안지', '한빛', '리앤']\n",
    "\n",
    "bed_df = train_raw.loc[train_raw['상품군']=='침구'].reset_index(drop=True)\n",
    "for i in tqdm(range(len(bed_df))):\n",
    "    for j in bed:\n",
    "        if j in bed_df.loc[i,'상품명']:\n",
    "            bed_df.loc[i,'brand'] = j\n",
    "            \n",
    "bed_df['brand'] = bed_df['brand'].fillna('no')\n",
    "bed_df.head(5)"
   ]
  },
  {
   "cell_type": "code",
   "execution_count": 45,
   "metadata": {},
   "outputs": [
    {
     "data": {
      "image/png": "[encoded data removed]",
      "text/plain": [
       "<Figure size 1296x576 with 1 Axes>"
      ]
     },
     "metadata": {
      "needs_background": "light"
     },
     "output_type": "display_data"
    }
   ],
   "source": [
    "bed_group_df = bed_df['판매량'].groupby(bed_df['brand']).mean().sort_values(ascending=False)\n",
    "\n",
    "title = '침구 브랜드별 분당 판매량'\n",
    "fig, ax = plt.subplots(figsize = (18, 8))\n",
    "ax.bar(list(bed_group_df.index), bed_group_df)\n",
    "ax.set_xlabel('브랜드', fontsize = 18)\n",
    "ax.set_ylabel('분당 판매량', fontsize = 18)\n",
    "ax.set_xticklabels(list(bed_group_df.index), fontsize = 12, rotation = 90)\n",
    "ax.set_title(title)\n",
    "plt.savefig(f'./graphs/{title}.png')\n",
    "plt.show()"
   ]
  },
  {
   "cell_type": "markdown",
   "metadata": {},
   "source": [
    "특정 브랜드 상품에 대한 분당 판매량의 차이가 유의미 함을 알 수 있다."
   ]
  },
  {
   "cell_type": "code",
   "execution_count": 46,
   "metadata": {},
   "outputs": [
    {
     "name": "stdout",
     "output_type": "stream",
     "text": [
      "유의미한 브랜드 수 : 1\n",
      "유의미한 브랜드 명 : ['안지']\n"
     ]
    }
   ],
   "source": [
    "bed_list = list(bed_group_df[bed_group_df>bed_group_df.quantile(q=0.75, interpolation='nearest')].index)\n",
    "print('유의미한 브랜드 수 :', len(bed_list)) # 총 1개의 브랜드가 선택 됨\n",
    "print('유의미한 브랜드 명 :', bed_list) # 총 1개의 브랜드명"
   ]
  },
  {
   "cell_type": "markdown",
   "metadata": {},
   "source": [
    "### 생활용품"
   ]
  },
  {
   "cell_type": "code",
   "execution_count": 47,
   "metadata": {},
   "outputs": [
    {
     "data": {
      "application/vnd.jupyter.widget-view+json": {
       "model_id": "bf889f267aa14b6eac0fc3d019df9dce",
       "version_major": 2,
       "version_minor": 0
      },
      "text/plain": [
       "HBox(children=(FloatProgress(value=0.0, max=2769.0), HTML(value='')))"
      ]
     },
     "metadata": {},
     "output_type": "display_data"
    },
    {
     "name": "stdout",
     "output_type": "stream",
     "text": [
      "\n"
     ]
    },
    {
     "data": {
      "text/html": [
       "<div>\n",
       "<style scoped>\n",
       "    .dataframe tbody tr th:only-of-type {\n",
       "        vertical-align: middle;\n",
       "    }\n",
       "\n",
       "    .dataframe tbody tr th {\n",
       "        vertical-align: top;\n",
       "    }\n",
       "\n",
       "    .dataframe thead th {\n",
       "        text-align: right;\n",
       "    }\n",
       "</style>\n",
       "<table border=\"1\" class=\"dataframe\">\n",
       "  <thead>\n",
       "    <tr style=\"text-align: right;\">\n",
       "      <th></th>\n",
       "      <th>방송일시</th>\n",
       "      <th>노출(분)</th>\n",
       "      <th>마더코드</th>\n",
       "      <th>상품코드</th>\n",
       "      <th>상품명</th>\n",
       "      <th>상품군</th>\n",
       "      <th>판매단가</th>\n",
       "      <th>취급액</th>\n",
       "      <th>판매량</th>\n",
       "      <th>brand</th>\n",
       "    </tr>\n",
       "  </thead>\n",
       "  <tbody>\n",
       "    <tr>\n",
       "      <th>0</th>\n",
       "      <td>2019-01-02 06:00:00</td>\n",
       "      <td>20</td>\n",
       "      <td>100229</td>\n",
       "      <td>200800</td>\n",
       "      <td>벨라홈 논슬립 옷걸이 세트</td>\n",
       "      <td>생활용품</td>\n",
       "      <td>29800</td>\n",
       "      <td>9605000</td>\n",
       "      <td>16.0</td>\n",
       "      <td>벨라홈</td>\n",
       "    </tr>\n",
       "    <tr>\n",
       "      <th>1</th>\n",
       "      <td>2019-01-02 06:20:00</td>\n",
       "      <td>20</td>\n",
       "      <td>100229</td>\n",
       "      <td>200800</td>\n",
       "      <td>벨라홈 논슬립 옷걸이 세트</td>\n",
       "      <td>생활용품</td>\n",
       "      <td>29800</td>\n",
       "      <td>11265000</td>\n",
       "      <td>19.0</td>\n",
       "      <td>벨라홈</td>\n",
       "    </tr>\n",
       "    <tr>\n",
       "      <th>2</th>\n",
       "      <td>2019-01-02 06:40:00</td>\n",
       "      <td>20</td>\n",
       "      <td>100229</td>\n",
       "      <td>200800</td>\n",
       "      <td>벨라홈 논슬립 옷걸이 세트</td>\n",
       "      <td>생활용품</td>\n",
       "      <td>29800</td>\n",
       "      <td>14371000</td>\n",
       "      <td>24.0</td>\n",
       "      <td>벨라홈</td>\n",
       "    </tr>\n",
       "    <tr>\n",
       "      <th>3</th>\n",
       "      <td>2019-01-03 20:00:00</td>\n",
       "      <td>20</td>\n",
       "      <td>100501</td>\n",
       "      <td>201514</td>\n",
       "      <td>노비타 스마트 비데</td>\n",
       "      <td>생활용품</td>\n",
       "      <td>189000</td>\n",
       "      <td>41183000</td>\n",
       "      <td>11.0</td>\n",
       "      <td>노비타</td>\n",
       "    </tr>\n",
       "    <tr>\n",
       "      <th>4</th>\n",
       "      <td>2019-01-03 20:20:00</td>\n",
       "      <td>20</td>\n",
       "      <td>100501</td>\n",
       "      <td>201514</td>\n",
       "      <td>노비타 스마트 비데</td>\n",
       "      <td>생활용품</td>\n",
       "      <td>189000</td>\n",
       "      <td>83995000</td>\n",
       "      <td>22.0</td>\n",
       "      <td>노비타</td>\n",
       "    </tr>\n",
       "  </tbody>\n",
       "</table>\n",
       "</div>"
      ],
      "text/plain": [
       "                  방송일시 노출(분)    마더코드    상품코드             상품명   상품군    판매단가  \\\n",
       "0  2019-01-02 06:00:00    20  100229  200800  벨라홈 논슬립 옷걸이 세트  생활용품   29800   \n",
       "1  2019-01-02 06:20:00    20  100229  200800  벨라홈 논슬립 옷걸이 세트  생활용품   29800   \n",
       "2  2019-01-02 06:40:00    20  100229  200800  벨라홈 논슬립 옷걸이 세트  생활용품   29800   \n",
       "3  2019-01-03 20:00:00    20  100501  201514      노비타 스마트 비데  생활용품  189000   \n",
       "4  2019-01-03 20:20:00    20  100501  201514      노비타 스마트 비데  생활용품  189000   \n",
       "\n",
       "        취급액   판매량 brand  \n",
       "0   9605000  16.0   벨라홈  \n",
       "1  11265000  19.0   벨라홈  \n",
       "2  14371000  24.0   벨라홈  \n",
       "3  41183000  11.0   노비타  \n",
       "4  83995000  22.0   노비타  "
      ]
     },
     "execution_count": 47,
     "metadata": {},
     "output_type": "execute_result"
    }
   ],
   "source": [
    "life = ['벨라홈', '노비타', '코이모', '스위스밀리터리', '메디실드', '씨엔지코리아',\n",
    "       '크린조이', '세렌셉템버', '까사마루', '바로바로', '올바로', '선일금고', '김병만',\n",
    "       '코튼데이', '굿프렌드', '숀리', '스피드랙', 'LG생활건강', '메디컬드림', '모리츠',\n",
    "       '거미소', '한일', '바로톡', '디비노', '대웅모닝컴', '이지스', '뚜러킹', '자미코코',\n",
    "       '타이거', '도루코', '노송가구', '코지마', '퀸메이드', '블루콤', '브람스', '파워스윙',\n",
    "       '캐치온', '니봇', '중외신약', '킹스스파', '얼리젼', '밀레', '스팀큐', '바두기', '김병지',\n",
    "       '일월', '트라이 브라이트', '페르소나', '발렌티노루디', '레스트업', '센티멘탈', '센스톰',\n",
    "       '한솔', '파로마', '보국', '따스림', '테팔', 'OK', '루미테라피', '엑사이더', '월시스',\n",
    "       '스칸디나비아', '히팅맘', '센스하우스', '사운드룩', '수련', '엔웰스', '밸런스파워']\n",
    "\n",
    "life_df = train_raw.loc[train_raw['상품군']=='생활용품'].reset_index(drop=True)\n",
    "for i in tqdm(range(len(life_df))):\n",
    "    for j in life:\n",
    "        if j in life_df.loc[i,'상품명']:\n",
    "            life_df.loc[i,'brand'] = j\n",
    "            \n",
    "life_df['brand'] = life_df['brand'].fillna('no')\n",
    "life_df.head(5)"
   ]
  },
  {
   "cell_type": "code",
   "execution_count": 48,
   "metadata": {},
   "outputs": [
    {
     "data": {
      "image/png": "[encoded data removed]",
      "text/plain": [
       "<Figure size 1296x576 with 1 Axes>"
      ]
     },
     "metadata": {
      "needs_background": "light"
     },
     "output_type": "display_data"
    }
   ],
   "source": [
    "life_group_df = life_df['판매량'].groupby(life_df['brand']).mean().sort_values(ascending=False)\n",
    "\n",
    "title = '생활용품 브랜드별 분당 판매량'\n",
    "fig, ax = plt.subplots(figsize = (18, 8))\n",
    "ax.bar(list(life_group_df.index), life_group_df)\n",
    "ax.set_xlabel('브랜드', fontsize = 18)\n",
    "ax.set_ylabel('분당 판매량', fontsize = 18)\n",
    "ax.set_xticklabels(list(life_group_df.index), fontsize = 12, rotation = 90)\n",
    "ax.set_title(title)\n",
    "plt.savefig(f'./graphs/{title}.png')\n",
    "plt.show()"
   ]
  },
  {
   "cell_type": "markdown",
   "metadata": {},
   "source": [
    "특정 브랜드 상품에 대한 분당 판매량의 차이가 유의미 함을 알 수 있다."
   ]
  },
  {
   "cell_type": "code",
   "execution_count": 49,
   "metadata": {},
   "outputs": [
    {
     "name": "stdout",
     "output_type": "stream",
     "text": [
      "유의미한 브랜드 수 : 16\n",
      "유의미한 브랜드 명 : ['코튼데이', '발렌티노루디', 'LG생활건강', '디비노', '코이모', '스팀큐', '엔웰스', '뚜러킹', '이지스', '모리츠', 'OK', '대웅모닝컴', '벨라홈', '씨엔지코리아', '세렌셉템버', '올바로']\n"
     ]
    }
   ],
   "source": [
    "life_list = list(life_group_df[life_group_df>life_group_df.quantile(q=0.75, interpolation='nearest')].index)\n",
    "print('유의미한 브랜드 수 :', len(life_list)) # 총 16개의 브랜드가 선택 됨\n",
    "print('유의미한 브랜드 명 :', life_list) # 총 16개의 브랜드명"
   ]
  },
  {
   "cell_type": "markdown",
   "metadata": {},
   "source": [
    "각 상품군별 상위 25% 분당 평균 판매량을 가지는 브랜드를 브랜드 파워가 존재한다고 판단하였음   \n",
    "\n",
    "그렇게 설정한 이유는 각 상품군별 유의미한 차이의 범위 값이 모두 다르고, 공평하게 분위수를 적용하여 '브랜드 파워' 변수를 만들고 싶었음"
   ]
  },
  {
   "cell_type": "code",
   "execution_count": 50,
   "metadata": {},
   "outputs": [
    {
     "name": "stdout",
     "output_type": "stream",
     "text": [
      "최종 브랜드 목록 갯수 :  89\n",
      "최종 브랜드 목록 :  ['코튼데이', '이지엔', '실크트리', '레이프릴', '엘리자베스아덴', '스텔라테일러', '몬테밀라노', '유귀열', '참바다', '램프쿡', '레모나', '실바트', 'PAT', '에버라스트', '칼리베이직', '안지', '고데롤', '플로쥬', '우리바다', '스팀큐', '기라로쉬', 'AAD', '로이몬스터', '델첸', '모리츠', '코이모', 'NNF', '안타고', '한일', '보루네오', '세렌셉템버', '크리스티나앤코', '라라츄', '김정배', '영산포', '고창', '젠트웰', '양구', '세균싹', '시스마르스', '벨레즈온', '스튜디오럭스', '어반시크릿', '뚜러킹', '바치', '에르나벨', '쓰임', '이지스', '씨엔지코리아', '피시원', '닥터 슈퍼', '쿠미투니카', '통영', '현대어찬', '네오젠', '컨시크', '뉴트리원', '더블모', '오델로', '셰프웨이', '발렌티노루디', '세라맥스', '정직한 농부', '에코라믹', '궁중', 'LG생활건강', '디비노', '코몽트', '보닌', 'OK', '아가타', '파뷔에', '라라쎄', '벨라홈', '참존', '대웅모닝컴', '셀렉프로', '비버리힐스폴로클럽', '하림', '올바로', '클란츠', '엔셀라두스', '오가닉뷰티', '엔웰스', '뉴욕맘', '하늘내린', '메이듀', '광동', '김천']\n"
     ]
    }
   ],
   "source": [
    "# 최종 브랜드 선정\n",
    "brand_list = list(set(industry_list + beauty_list + underwear_list + health_list + cloth_list + kitchen_list + item_list + appliance_list + furniture_list + bed_list + life_list))\n",
    "print('최종 브랜드 목록 갯수 : ', len(brand_list)) # 89개\n",
    "print('최종 브랜드 목록 : ', brand_list) "
   ]
  },
  {
   "cell_type": "markdown",
   "metadata": {},
   "source": [
    "**브랜드 파워** 변수 생성"
   ]
  },
  {
   "cell_type": "code",
   "execution_count": 51,
   "metadata": {},
   "outputs": [
    {
     "data": {
      "application/vnd.jupyter.widget-view+json": {
       "model_id": "862c4951338345938b0293acba9bc8cd",
       "version_major": 2,
       "version_minor": 0
      },
      "text/plain": [
       "HBox(children=(FloatProgress(value=0.0, max=35379.0), HTML(value='')))"
      ]
     },
     "metadata": {},
     "output_type": "display_data"
    },
    {
     "name": "stdout",
     "output_type": "stream",
     "text": [
      "\n"
     ]
    }
   ],
   "source": [
    "# Train 데이터에 '브랜드 파워' 변수 생성\n",
    "train_raw['brand'] = 0.0 # 브랜드 파워 존재 X\n",
    "\n",
    "for i in tqdm(range(len(train_raw))):\n",
    "    for j in brand_list:\n",
    "        if j in train_raw.loc[i,'상품명']:\n",
    "            train_raw.loc[i,'brand'] = 1.0 # 브랜드 파워 존재"
   ]
  },
  {
   "cell_type": "code",
   "execution_count": 52,
   "metadata": {},
   "outputs": [
    {
     "data": {
      "application/vnd.jupyter.widget-view+json": {
       "model_id": "d1394493931843509d63b276307532dd",
       "version_major": 2,
       "version_minor": 0
      },
      "text/plain": [
       "HBox(children=(FloatProgress(value=0.0, max=2716.0), HTML(value='')))"
      ]
     },
     "metadata": {},
     "output_type": "display_data"
    },
    {
     "name": "stdout",
     "output_type": "stream",
     "text": [
      "\n"
     ]
    }
   ],
   "source": [
    "# Test 데이터에 '브랜드 파워' 변수 생성\n",
    "\n",
    "test_raw['brand'] = 0.0 # 브랜드 파워 존재 X\n",
    "\n",
    "for i in tqdm(range(len(test_raw))):\n",
    "    for j in brand_list:\n",
    "        if j in test_raw.loc[i,'상품명']:\n",
    "            test_raw.loc[i,'brand'] = 1.0 # 브랜드 파워 존재"
   ]
  },
  {
   "cell_type": "code",
   "execution_count": 53,
   "metadata": {},
   "outputs": [
    {
     "name": "stdout",
     "output_type": "stream",
     "text": [
      "Brand 변수 생성한 이후 Train 데이터 형태 :  (35379, 10)\n",
      "Brand 변수 생성한 이후 test 데이터 형태 :  (2716, 10)\n"
     ]
    }
   ],
   "source": [
    "print('Brand 변수 생성한 이후 Train 데이터 형태 : ', train_raw.shape)\n",
    "print('Brand 변수 생성한 이후 test 데이터 형태 : ', test_raw.shape)"
   ]
  },
  {
   "cell_type": "markdown",
   "metadata": {},
   "source": [
    "## 시간"
   ]
  },
  {
   "cell_type": "markdown",
   "metadata": {},
   "source": [
    "### 주중/주말 비교"
   ]
  },
  {
   "cell_type": "code",
   "execution_count": 54,
   "metadata": {},
   "outputs": [
    {
     "data": {
      "application/vnd.jupyter.widget-view+json": {
       "model_id": "f0a345b029ed4b5cb3789ec3d6b56896",
       "version_major": 2,
       "version_minor": 0
      },
      "text/plain": [
       "HBox(children=(FloatProgress(value=0.0, max=35379.0), HTML(value='')))"
      ]
     },
     "metadata": {},
     "output_type": "display_data"
    },
    {
     "name": "stdout",
     "output_type": "stream",
     "text": [
      "\n"
     ]
    },
    {
     "data": {
      "application/vnd.jupyter.widget-view+json": {
       "model_id": "900282b18f7941e59ef16374fceb16dc",
       "version_major": 2,
       "version_minor": 0
      },
      "text/plain": [
       "HBox(children=(FloatProgress(value=0.0, max=35379.0), HTML(value='')))"
      ]
     },
     "metadata": {},
     "output_type": "display_data"
    },
    {
     "name": "stdout",
     "output_type": "stream",
     "text": [
      "\n"
     ]
    }
   ],
   "source": [
    "# Train weekday 변수 생성\n",
    "\n",
    "for i in tqdm(range(len(train_raw))):\n",
    "    if pd.isna(train_raw.loc[i,'노출(분)']):\n",
    "        train_raw.loc[i,'노출(분)'] = train_raw.loc[(i-1),'노출(분)']\n",
    "        \n",
    "train_raw['date'] = train_raw['방송일시'].apply(lambda x:x.strftime('%Y-%m-%d'))\n",
    "train_raw['hour'] = train_raw['방송일시'].apply(lambda x:x.strftime('%H'))\n",
    "train_raw['weekday'] = train_raw['방송일시'].apply(lambda x:x.strftime('%w'))\n",
    "train_raw['month'] = train_raw['방송일시'].apply(lambda x:x.strftime('%m'))\n",
    "\n",
    "for i in tqdm(range(len(train_raw))):\n",
    "    if train_raw.loc[i,'weekday'] in ['0','6']:\n",
    "        train_raw.loc[i,'weekday'] = 1.0\n",
    "    else:\n",
    "        train_raw.loc[i,'weekday'] = 0.0"
   ]
  },
  {
   "cell_type": "markdown",
   "metadata": {},
   "source": [
    "#### 막대 그래프를 통한 변수의 유의성 시각화"
   ]
  },
  {
   "cell_type": "code",
   "execution_count": 55,
   "metadata": {},
   "outputs": [
    {
     "data": {
      "image/png": "[encoded data removed]",
      "text/plain": [
       "<Figure size 864x432 with 1 Axes>"
      ]
     },
     "metadata": {
      "needs_background": "light"
     },
     "output_type": "display_data"
    }
   ],
   "source": [
    "week_group_df = train_raw['판매량'].groupby(train_raw['weekday']).mean().sort_values(ascending=False)\n",
    "\n",
    "title = '주중, 주말 분당 판매량'\n",
    "fig, ax = plt.subplots(figsize = (12, 6))\n",
    "ax.bar(list(week_group_df.index), week_group_df)\n",
    "ax.set_xlabel('주중/주말', fontsize = 15)\n",
    "ax.set_ylabel('분당 판매량', fontsize = 15)\n",
    "ax.set_xticks([0,1])\n",
    "ax.set_xticklabels(['주말', '주중'], fontsize = 10)\n",
    "ax.set_title(title)\n",
    "plt.savefig(f'./graphs/{title}.png')\n",
    "plt.show()"
   ]
  },
  {
   "cell_type": "markdown",
   "metadata": {},
   "source": [
    "주중, 주말의 분당 판매량에는 차이가 있음을 알 수 있다.   \n",
    "\n",
    "주말의 경우, 판매량이 더 높았음을 알 수 있다."
   ]
  },
  {
   "cell_type": "markdown",
   "metadata": {},
   "source": [
    "#### T-Test"
   ]
  },
  {
   "cell_type": "markdown",
   "metadata": {},
   "source": [
    "독립표본 t-검정을 통해 주말/주중의 분당 판매량 평균을 비교해보자.   \n",
    "\n",
    "H0(귀무가설) : 주중과 주말의 분당 평균 판매량은 같다.   \n",
    "\n",
    "H1(귀무가설) : 주중과 주말의 분당 평균 판매량은 다르다."
   ]
  },
  {
   "cell_type": "code",
   "execution_count": 56,
   "metadata": {},
   "outputs": [
    {
     "name": "stdout",
     "output_type": "stream",
     "text": [
      "주말 데이터 형태 :  (10060, 14)\n",
      "평일 데이터 형태 :  (25319, 14)\n"
     ]
    }
   ],
   "source": [
    "group_weekday = train_raw.loc[train_raw['weekday'] == 1] # 주말\n",
    "group_weekend = train_raw.loc[train_raw['weekday'] == 0] # 주중\n",
    "\n",
    "print('주말 데이터 형태 : ', group_weekday.shape)\n",
    "print('평일 데이터 형태 : ', group_weekend.shape)"
   ]
  },
  {
   "cell_type": "markdown",
   "metadata": {},
   "source": [
    "Levene 등분산 검정 시행을 함 (등분산과 이분산인 경우 서로 검정 결과가 달라지기 때문)   \n",
    "\n",
    "H0(귀무가설) : 두 그룹의 분산은 같다.   \n",
    "\n",
    "H1(대립가설) : 두 그룹의 분산은 다르다."
   ]
  },
  {
   "cell_type": "code",
   "execution_count": 57,
   "metadata": {},
   "outputs": [
    {
     "name": "stdout",
     "output_type": "stream",
     "text": [
      "LeveneResult(F) : 96.281 \n",
      "p-value : 0.000\n"
     ]
    }
   ],
   "source": [
    "lresult = stats.levene(group_weekday['판매량'], group_weekend['판매량'])\n",
    "print('LeveneResult(F) : %.3f \\np-value : %.3f' % (lresult))"
   ]
  },
  {
   "cell_type": "markdown",
   "metadata": {},
   "source": [
    "P-value = 0.000으로 0.05보다 작으므로 귀무가설을 기각한다.   \n",
    "\n",
    "즉, 두 그룹의 분산은 다르다.   \n",
    "\n",
    "등분산이 아닌 경우 독립표본 t-검정을 통해 두 그룹의 평균 유의미한 차이를 확인해보자."
   ]
  },
  {
   "cell_type": "code",
   "execution_count": 58,
   "metadata": {},
   "outputs": [
    {
     "name": "stdout",
     "output_type": "stream",
     "text": [
      "t statistic : 6.611 \n",
      "p-value : 0.000\n"
     ]
    }
   ],
   "source": [
    "#등분산이 아닌 독립표본 t-검정 실행 \n",
    "t_result = stats.ttest_ind(group_weekday['판매량'], group_weekend['판매량'], equal_var=False) \n",
    "print('t statistic : %.3f \\np-value : %.3f' % (t_result))"
   ]
  },
  {
   "cell_type": "markdown",
   "metadata": {},
   "source": [
    "p-value = 0.000으로 0.05보다 작으므로 귀무가설을 기각한다.   \n",
    "\n",
    "즉, 주말과 주중의 분당 평균 판매량은 다르다고 말 할 수 있다."
   ]
  },
  {
   "cell_type": "code",
   "execution_count": 59,
   "metadata": {},
   "outputs": [
    {
     "data": {
      "application/vnd.jupyter.widget-view+json": {
       "model_id": "f513117c8c4c48a8980239c2cb6d0338",
       "version_major": 2,
       "version_minor": 0
      },
      "text/plain": [
       "HBox(children=(FloatProgress(value=0.0, max=2716.0), HTML(value='')))"
      ]
     },
     "metadata": {},
     "output_type": "display_data"
    },
    {
     "name": "stdout",
     "output_type": "stream",
     "text": [
      "\n"
     ]
    },
    {
     "data": {
      "application/vnd.jupyter.widget-view+json": {
       "model_id": "2d2284f2d21c429788c0c0d6bdea201e",
       "version_major": 2,
       "version_minor": 0
      },
      "text/plain": [
       "HBox(children=(FloatProgress(value=0.0, max=2716.0), HTML(value='')))"
      ]
     },
     "metadata": {},
     "output_type": "display_data"
    },
    {
     "name": "stdout",
     "output_type": "stream",
     "text": [
      "\n"
     ]
    }
   ],
   "source": [
    "# Test 데이터에 'Weekday' 변수 생성\n",
    "\n",
    "for i in tqdm(range(len(test_raw))):\n",
    "    if pd.isna(test_raw.loc[i,'노출(분)']):\n",
    "        test_raw.loc[i,'노출(분)'] = test_raw.loc[(i-1),'노출(분)']\n",
    "        \n",
    "test_raw['date'] = test_raw['방송일시'].apply(lambda x:x.strftime('%Y-%m-%d'))\n",
    "test_raw['hour'] = test_raw['방송일시'].apply(lambda x:x.strftime('%H'))\n",
    "test_raw['weekday'] = test_raw['방송일시'].apply(lambda x:x.strftime('%w'))\n",
    "test_raw['month'] = test_raw['방송일시'].apply(lambda x:x.strftime('%m'))\n",
    "\n",
    "for i in tqdm(range(len(test_raw))):\n",
    "    if test_raw.loc[i,'weekday'] in ['0','6']:\n",
    "        test_raw.loc[i,'weekday'] = 1.0\n",
    "    else:\n",
    "        test_raw.loc[i,'weekday'] = 0.0"
   ]
  },
  {
   "cell_type": "markdown",
   "metadata": {},
   "source": [
    "### 월 초/중/말\n",
    "\n",
    "- 1~10 일은 월 초   \n",
    "\n",
    "- 11~20 일은 월 중   \n",
    "\n",
    "- 21 ~ 일은 월 말"
   ]
  },
  {
   "cell_type": "code",
   "execution_count": 60,
   "metadata": {},
   "outputs": [
    {
     "name": "stdout",
     "output_type": "stream",
     "text": [
      "변수 추가되기 이전의 데이터 형태 :  (35379, 14)\n"
     ]
    },
    {
     "data": {
      "application/vnd.jupyter.widget-view+json": {
       "model_id": "a693b39615e34e4d970cde2a83928388",
       "version_major": 2,
       "version_minor": 0
      },
      "text/plain": [
       "HBox(children=(FloatProgress(value=0.0, max=35379.0), HTML(value='')))"
      ]
     },
     "metadata": {},
     "output_type": "display_data"
    },
    {
     "name": "stdout",
     "output_type": "stream",
     "text": [
      "\n",
      "변수 추가되기 이후의 데이터 형태 :  (35379, 16)\n"
     ]
    }
   ],
   "source": [
    "print('변수 추가되기 이전의 데이터 형태 : ', train_raw.shape)\n",
    "train_raw['초중말']=pd.Series()\n",
    "train_raw['day'] = train_raw['방송일시'].apply(lambda x:x.strftime('%d'))\n",
    "train_raw['day']=train_raw['day'].astype('int')\n",
    "\n",
    "for i in tqdm(range(len(train_raw))):\n",
    "    if train_raw.loc[i,'day'] <=10:\n",
    "        train_raw.loc[i,'초중말']=0  #월 초\n",
    "    elif train_raw.loc[i,'day']<=20:\n",
    "        train_raw.loc[i,'초중말']=1  #월 중\n",
    "    else:\n",
    "        train_raw.loc[i,'초중말']=2  #월 말\n",
    "\n",
    "train_raw['day'] = train_raw['day'].astype('object')        \n",
    "train_raw['초중말'] = train_raw['초중말'].astype('object')\n",
    "\n",
    "print('변수 추가되기 이후의 데이터 형태 : ', train_raw.shape)"
   ]
  },
  {
   "cell_type": "markdown",
   "metadata": {},
   "source": [
    "#### 막대 그래프를 통한 변수의 유의성 시각화"
   ]
  },
  {
   "cell_type": "code",
   "execution_count": 61,
   "metadata": {},
   "outputs": [
    {
     "data": {
      "image/png": "[encoded data removed]",
      "text/plain": [
       "<Figure size 864x432 with 1 Axes>"
      ]
     },
     "metadata": {
      "needs_background": "light"
     },
     "output_type": "display_data"
    }
   ],
   "source": [
    "month_group_df=train_raw['판매량'].groupby(train_raw['초중말']).mean()\n",
    "\n",
    "title = '월 초중말에 따른 평균 판매량'\n",
    "fig, ax = plt.subplots(figsize = (12, 6))\n",
    "ax.bar(month_group_df.index, month_group_df)\n",
    "ax.set_xlabel('월', fontsize = 15)\n",
    "ax.set_xticks(np.arange(len(month_group_df.index)))\n",
    "ax.set_ylabel('분당 평균 판매량', fontsize = 15)\n",
    "ax.set_xticklabels(['초', '중', '말'])\n",
    "ax.set_title(title)\n",
    "plt.savefig(f'./graphs/{title}.png')\n",
    "plt.show()"
   ]
  },
  {
   "cell_type": "markdown",
   "metadata": {},
   "source": [
    "위의 그림을 통해, 월초 ~ 월말 사이의 평균 분당 판매량에서 유의한 차이가 있었음을 알 수 있다.\n",
    "\n",
    "특히, 월말의 분당 판매량이 가장 높았음을 알 수 있다."
   ]
  },
  {
   "cell_type": "code",
   "execution_count": 62,
   "metadata": {},
   "outputs": [
    {
     "name": "stdout",
     "output_type": "stream",
     "text": [
      "변수 추가되기 이전의 데이터 형태 :  (2716, 14)\n"
     ]
    },
    {
     "data": {
      "application/vnd.jupyter.widget-view+json": {
       "model_id": "28b936f384de432cb81a2abced5ce042",
       "version_major": 2,
       "version_minor": 0
      },
      "text/plain": [
       "HBox(children=(FloatProgress(value=0.0, max=2716.0), HTML(value='')))"
      ]
     },
     "metadata": {},
     "output_type": "display_data"
    },
    {
     "name": "stdout",
     "output_type": "stream",
     "text": [
      "\n",
      "변수 추가되기 이후의 데이터 형태 :  (2716, 16)\n"
     ]
    }
   ],
   "source": [
    "print('변수 추가되기 이전의 데이터 형태 : ', test_raw.shape)\n",
    "test_raw['초중말']=pd.Series()\n",
    "test_raw['day'] = test_raw['방송일시'].apply(lambda x:x.strftime('%d'))\n",
    "test_raw['day']=test_raw['day'].astype('int')\n",
    "\n",
    "for i in tqdm(range(len(test_raw))):\n",
    "    if test_raw.loc[i,'day'] <=10:\n",
    "        test_raw.loc[i,'초중말']=0  #월 초\n",
    "    elif test_raw.loc[i,'day']<=20:\n",
    "        test_raw.loc[i,'초중말']=1  #월 중\n",
    "    else:\n",
    "        test_raw.loc[i,'초중말']=2  #월 말\n",
    "        \n",
    "test_raw['day']=test_raw['day'].astype('object')        \n",
    "test_raw['초중말']=test_raw['초중말'].astype('object')\n",
    "\n",
    "print('변수 추가되기 이후의 데이터 형태 : ', test_raw.shape)"
   ]
  },
  {
   "cell_type": "markdown",
   "metadata": {},
   "source": [
    "### 프라임 타임"
   ]
  },
  {
   "cell_type": "markdown",
   "metadata": {},
   "source": [
    "프라임 타임이란, 하루 중 프로그램 시청률이 가장 높은 시간대를 의미한다.   \n",
    "\n",
    "기존 NS홈쇼핑의 프라임 타임은 오전 9-11시, 오후 4-6시이다.  \n",
    "하지만, 2019년 데이터를 보면 카테고리 별 시간대 시청률 순위가 다른 것을 볼 수 있다.   \n",
    "\n",
    "시청률 분석을 통해 프라임타임을 재조정하기로 하여 분석에 사용해보자."
   ]
  },
  {
   "cell_type": "code",
   "execution_count": 63,
   "metadata": {},
   "outputs": [
    {
     "data": {
      "text/html": [
       "<div>\n",
       "<style scoped>\n",
       "    .dataframe tbody tr th:only-of-type {\n",
       "        vertical-align: middle;\n",
       "    }\n",
       "\n",
       "    .dataframe tbody tr th {\n",
       "        vertical-align: top;\n",
       "    }\n",
       "\n",
       "    .dataframe thead th {\n",
       "        text-align: right;\n",
       "    }\n",
       "</style>\n",
       "<table border=\"1\" class=\"dataframe\">\n",
       "  <thead>\n",
       "    <tr style=\"text-align: right;\">\n",
       "      <th></th>\n",
       "      <th>시간대</th>\n",
       "      <th>2019-01-01</th>\n",
       "      <th>2019-01-02</th>\n",
       "      <th>2019-01-03</th>\n",
       "      <th>2019-01-04</th>\n",
       "      <th>2019-01-05</th>\n",
       "      <th>2019-01-06</th>\n",
       "      <th>2019-01-07</th>\n",
       "      <th>2019-01-08</th>\n",
       "      <th>2019-01-09</th>\n",
       "      <th>...</th>\n",
       "      <th>2019-12-25</th>\n",
       "      <th>2019-12-26</th>\n",
       "      <th>2019-12-27</th>\n",
       "      <th>2019-12-28</th>\n",
       "      <th>2019-12-29</th>\n",
       "      <th>2019-12-30</th>\n",
       "      <th>2019-12-31</th>\n",
       "      <th>2019-01-01 to 2019-12-31</th>\n",
       "      <th>time</th>\n",
       "      <th>hour</th>\n",
       "    </tr>\n",
       "  </thead>\n",
       "  <tbody>\n",
       "    <tr>\n",
       "      <th>0</th>\n",
       "      <td>02:00</td>\n",
       "      <td>0</td>\n",
       "      <td>0</td>\n",
       "      <td>0</td>\n",
       "      <td>0</td>\n",
       "      <td>0</td>\n",
       "      <td>0</td>\n",
       "      <td>0</td>\n",
       "      <td>0</td>\n",
       "      <td>0</td>\n",
       "      <td>...</td>\n",
       "      <td>0</td>\n",
       "      <td>0</td>\n",
       "      <td>0</td>\n",
       "      <td>0</td>\n",
       "      <td>0</td>\n",
       "      <td>0</td>\n",
       "      <td>0</td>\n",
       "      <td>0.003</td>\n",
       "      <td>2019-01-01 02:00:00</td>\n",
       "      <td>02</td>\n",
       "    </tr>\n",
       "    <tr>\n",
       "      <th>1</th>\n",
       "      <td>02:01</td>\n",
       "      <td>0</td>\n",
       "      <td>0</td>\n",
       "      <td>0</td>\n",
       "      <td>0</td>\n",
       "      <td>0</td>\n",
       "      <td>0</td>\n",
       "      <td>0</td>\n",
       "      <td>0</td>\n",
       "      <td>0</td>\n",
       "      <td>...</td>\n",
       "      <td>0</td>\n",
       "      <td>0</td>\n",
       "      <td>0</td>\n",
       "      <td>0</td>\n",
       "      <td>0</td>\n",
       "      <td>0</td>\n",
       "      <td>0.012</td>\n",
       "      <td>0.003</td>\n",
       "      <td>2019-01-01 02:01:00</td>\n",
       "      <td>02</td>\n",
       "    </tr>\n",
       "    <tr>\n",
       "      <th>2</th>\n",
       "      <td>02:02</td>\n",
       "      <td>0</td>\n",
       "      <td>0</td>\n",
       "      <td>0</td>\n",
       "      <td>0</td>\n",
       "      <td>0</td>\n",
       "      <td>0</td>\n",
       "      <td>0</td>\n",
       "      <td>0</td>\n",
       "      <td>0</td>\n",
       "      <td>...</td>\n",
       "      <td>0</td>\n",
       "      <td>0</td>\n",
       "      <td>0</td>\n",
       "      <td>0</td>\n",
       "      <td>0</td>\n",
       "      <td>0</td>\n",
       "      <td>0</td>\n",
       "      <td>0.004</td>\n",
       "      <td>2019-01-01 02:02:00</td>\n",
       "      <td>02</td>\n",
       "    </tr>\n",
       "    <tr>\n",
       "      <th>3</th>\n",
       "      <td>02:03</td>\n",
       "      <td>0</td>\n",
       "      <td>0</td>\n",
       "      <td>0.014</td>\n",
       "      <td>0</td>\n",
       "      <td>0</td>\n",
       "      <td>0</td>\n",
       "      <td>0</td>\n",
       "      <td>0</td>\n",
       "      <td>0</td>\n",
       "      <td>...</td>\n",
       "      <td>0.017</td>\n",
       "      <td>0</td>\n",
       "      <td>0</td>\n",
       "      <td>0</td>\n",
       "      <td>0</td>\n",
       "      <td>0</td>\n",
       "      <td>0</td>\n",
       "      <td>0.004</td>\n",
       "      <td>2019-01-01 02:03:00</td>\n",
       "      <td>02</td>\n",
       "    </tr>\n",
       "    <tr>\n",
       "      <th>4</th>\n",
       "      <td>02:04</td>\n",
       "      <td>0</td>\n",
       "      <td>0</td>\n",
       "      <td>0</td>\n",
       "      <td>0</td>\n",
       "      <td>0</td>\n",
       "      <td>0</td>\n",
       "      <td>0</td>\n",
       "      <td>0</td>\n",
       "      <td>0</td>\n",
       "      <td>...</td>\n",
       "      <td>0.017</td>\n",
       "      <td>0</td>\n",
       "      <td>0</td>\n",
       "      <td>0</td>\n",
       "      <td>0</td>\n",
       "      <td>0</td>\n",
       "      <td>0</td>\n",
       "      <td>0.004</td>\n",
       "      <td>2019-01-01 02:04:00</td>\n",
       "      <td>02</td>\n",
       "    </tr>\n",
       "  </tbody>\n",
       "</table>\n",
       "<p>5 rows × 369 columns</p>\n",
       "</div>"
      ],
      "text/plain": [
       "     시간대 2019-01-01 2019-01-02 2019-01-03 2019-01-04 2019-01-05 2019-01-06  \\\n",
       "0  02:00          0          0          0          0          0          0   \n",
       "1  02:01          0          0          0          0          0          0   \n",
       "2  02:02          0          0          0          0          0          0   \n",
       "3  02:03          0          0      0.014          0          0          0   \n",
       "4  02:04          0          0          0          0          0          0   \n",
       "\n",
       "  2019-01-07 2019-01-08 2019-01-09  ... 2019-12-25 2019-12-26 2019-12-27  \\\n",
       "0          0          0          0  ...          0          0          0   \n",
       "1          0          0          0  ...          0          0          0   \n",
       "2          0          0          0  ...          0          0          0   \n",
       "3          0          0          0  ...      0.017          0          0   \n",
       "4          0          0          0  ...      0.017          0          0   \n",
       "\n",
       "  2019-12-28 2019-12-29 2019-12-30 2019-12-31 2019-01-01 to 2019-12-31  \\\n",
       "0          0          0          0          0                    0.003   \n",
       "1          0          0          0      0.012                    0.003   \n",
       "2          0          0          0          0                    0.004   \n",
       "3          0          0          0          0                    0.004   \n",
       "4          0          0          0          0                    0.004   \n",
       "\n",
       "                 time hour  \n",
       "0 2019-01-01 02:00:00   02  \n",
       "1 2019-01-01 02:01:00   02  \n",
       "2 2019-01-01 02:02:00   02  \n",
       "3 2019-01-01 02:03:00   02  \n",
       "4 2019-01-01 02:04:00   02  \n",
       "\n",
       "[5 rows x 369 columns]"
      ]
     },
     "execution_count": 63,
     "metadata": {},
     "output_type": "execute_result"
    }
   ],
   "source": [
    "view_raw = pd.read_excel('./Data/2020 빅콘테스트 데이터분석분야-챔피언리그_시청률 데이터.xlsx')\n",
    "view_raw = view_raw.rename(columns=view_raw.iloc[0])[1:].reset_index(drop=True)\n",
    "view_raw = view_raw.loc[0:1439,]\n",
    "view_raw['time'] = pd.to_datetime(view_raw['시간대'], format='%H:%M', errors='raise')\n",
    "view_raw['time'] = view_raw['time'].apply(lambda dt: dt.replace(year=2019))\n",
    "view_raw['hour'] = view_raw['time'].apply(lambda x:x.strftime('%H'))\n",
    "view_mean_df = view_raw.drop(['2019-01-01 to 2019-12-31','time','시간대'],axis=1).groupby('hour').sum()/60 # 해당 날짜의 시간별 평균 시청률\n",
    "view_raw.head()"
   ]
  },
  {
   "cell_type": "code",
   "execution_count": 64,
   "metadata": {},
   "outputs": [
    {
     "data": {
      "application/vnd.jupyter.widget-view+json": {
       "model_id": "2635c91f0fba43b6b44a9eff1cbd75c3",
       "version_major": 2,
       "version_minor": 0
      },
      "text/plain": [
       "HBox(children=(FloatProgress(value=0.0, max=365.0), HTML(value='')))"
      ]
     },
     "metadata": {},
     "output_type": "display_data"
    },
    {
     "name": "stdout",
     "output_type": "stream",
     "text": [
      "\n"
     ]
    },
    {
     "data": {
      "text/html": [
       "<div>\n",
       "<style scoped>\n",
       "    .dataframe tbody tr th:only-of-type {\n",
       "        vertical-align: middle;\n",
       "    }\n",
       "\n",
       "    .dataframe tbody tr th {\n",
       "        vertical-align: top;\n",
       "    }\n",
       "\n",
       "    .dataframe thead th {\n",
       "        text-align: right;\n",
       "    }\n",
       "</style>\n",
       "<table border=\"1\" class=\"dataframe\">\n",
       "  <thead>\n",
       "    <tr style=\"text-align: right;\">\n",
       "      <th></th>\n",
       "      <th>방송일시</th>\n",
       "      <th>노출(분)</th>\n",
       "      <th>마더코드</th>\n",
       "      <th>상품코드</th>\n",
       "      <th>상품명</th>\n",
       "      <th>상품군</th>\n",
       "      <th>판매단가</th>\n",
       "      <th>취급액</th>\n",
       "      <th>판매량</th>\n",
       "      <th>brand</th>\n",
       "      <th>date</th>\n",
       "      <th>hour</th>\n",
       "      <th>weekday</th>\n",
       "      <th>month</th>\n",
       "      <th>초중말</th>\n",
       "      <th>day</th>\n",
       "      <th>시청률</th>\n",
       "    </tr>\n",
       "  </thead>\n",
       "  <tbody>\n",
       "    <tr>\n",
       "      <th>0</th>\n",
       "      <td>2019-01-01 06:00:00</td>\n",
       "      <td>20</td>\n",
       "      <td>100346</td>\n",
       "      <td>201072</td>\n",
       "      <td>테이트 남성 셀린니트3종</td>\n",
       "      <td>의류</td>\n",
       "      <td>39900</td>\n",
       "      <td>2099000</td>\n",
       "      <td>3.0</td>\n",
       "      <td>0.0</td>\n",
       "      <td>2019-01-01</td>\n",
       "      <td>06</td>\n",
       "      <td>0</td>\n",
       "      <td>01</td>\n",
       "      <td>0</td>\n",
       "      <td>1</td>\n",
       "      <td>0.0</td>\n",
       "    </tr>\n",
       "    <tr>\n",
       "      <th>1</th>\n",
       "      <td>2019-01-01 06:00:00</td>\n",
       "      <td>20</td>\n",
       "      <td>100346</td>\n",
       "      <td>201079</td>\n",
       "      <td>테이트 여성 셀린니트3종</td>\n",
       "      <td>의류</td>\n",
       "      <td>39900</td>\n",
       "      <td>4371000</td>\n",
       "      <td>5.0</td>\n",
       "      <td>0.0</td>\n",
       "      <td>2019-01-01</td>\n",
       "      <td>06</td>\n",
       "      <td>0</td>\n",
       "      <td>01</td>\n",
       "      <td>0</td>\n",
       "      <td>1</td>\n",
       "      <td>0.0</td>\n",
       "    </tr>\n",
       "    <tr>\n",
       "      <th>2</th>\n",
       "      <td>2019-01-01 06:20:00</td>\n",
       "      <td>20</td>\n",
       "      <td>100346</td>\n",
       "      <td>201072</td>\n",
       "      <td>테이트 남성 셀린니트3종</td>\n",
       "      <td>의류</td>\n",
       "      <td>39900</td>\n",
       "      <td>3262000</td>\n",
       "      <td>4.0</td>\n",
       "      <td>0.0</td>\n",
       "      <td>2019-01-01</td>\n",
       "      <td>06</td>\n",
       "      <td>0</td>\n",
       "      <td>01</td>\n",
       "      <td>0</td>\n",
       "      <td>1</td>\n",
       "      <td>0.0</td>\n",
       "    </tr>\n",
       "  </tbody>\n",
       "</table>\n",
       "</div>"
      ],
      "text/plain": [
       "                  방송일시 노출(분)    마더코드    상품코드            상품명 상품군   판매단가  \\\n",
       "0  2019-01-01 06:00:00    20  100346  201072  테이트 남성 셀린니트3종  의류  39900   \n",
       "1  2019-01-01 06:00:00    20  100346  201079  테이트 여성 셀린니트3종  의류  39900   \n",
       "2  2019-01-01 06:20:00    20  100346  201072  테이트 남성 셀린니트3종  의류  39900   \n",
       "\n",
       "       취급액  판매량  brand        date hour weekday month 초중말 day  시청률  \n",
       "0  2099000  3.0    0.0  2019-01-01   06       0    01   0   1  0.0  \n",
       "1  4371000  5.0    0.0  2019-01-01   06       0    01   0   1  0.0  \n",
       "2  3262000  4.0    0.0  2019-01-01   06       0    01   0   1  0.0  "
      ]
     },
     "execution_count": 64,
     "metadata": {},
     "output_type": "execute_result"
    }
   ],
   "source": [
    "list_view = list(view_mean_df.columns) # 2019-01-01 ~ 2019-12-31\n",
    "\n",
    "final_clust_df = pd.DataFrame()\n",
    "\n",
    "for i in tqdm(range(len(list_view))):\n",
    "    temp1 = train_raw.loc[train_raw['date']==list_view[i]]\n",
    "    temp2 = view_mean_df[list_view[i]]\n",
    "    temp1 = pd.merge(temp1,temp2,how='left',on='hour')\n",
    "    temp1.columns = ['방송일시', '노출(분)', '마더코드', '상품코드', '상품명', '상품군', '판매단가', '취급액','판매량','brand','date',\n",
    "           'hour', 'weekday', 'month', '초중말', 'day', '시청률']\n",
    "    final_clust_df = pd.concat([final_clust_df,temp1],axis=0).reset_index(drop=True)\n",
    "final_clust_df.head(3)"
   ]
  },
  {
   "cell_type": "markdown",
   "metadata": {},
   "source": [
    "상품군별 상위 3개의 시간을 프라임타임으로 정하고 이를 추출하자"
   ]
  },
  {
   "cell_type": "code",
   "execution_count": 65,
   "metadata": {},
   "outputs": [
    {
     "data": {
      "application/vnd.jupyter.widget-view+json": {
       "model_id": "61ec778787c3496d8fb45c89d7e5f8d5",
       "version_major": 2,
       "version_minor": 0
      },
      "text/plain": [
       "HBox(children=(FloatProgress(value=0.0, max=11.0), HTML(value='')))"
      ]
     },
     "metadata": {},
     "output_type": "display_data"
    },
    {
     "name": "stdout",
     "output_type": "stream",
     "text": [
      "\n"
     ]
    }
   ],
   "source": [
    "prime_temp = final_clust_df[['상품군','hour','시청률','weekday']]\n",
    "group_list = list(prime_temp['상품군'].unique())\n",
    "week_end_dict = dict() # 주말\n",
    "week_day_dict = dict() # 주중\n",
    "for i in tqdm(group_list):\n",
    "    week_end_dict[i]=list(prime_temp.loc[(prime_temp['상품군']==i)&(prime_temp['weekday']==1),'시청률'].groupby(prime_temp['hour']).mean().sort_values(ascending=False)[:3].index)\n",
    "    week_day_dict[i]=list(prime_temp.loc[(prime_temp['상품군']==i)&(prime_temp['weekday']==0),'시청률'].groupby(prime_temp['hour']).mean().sort_values(ascending=False)[:3].index)   "
   ]
  },
  {
   "cell_type": "code",
   "execution_count": 66,
   "metadata": {},
   "outputs": [
    {
     "name": "stdout",
     "output_type": "stream",
     "text": [
      "주말 상위 시청률 3시간 :  {'의류': ['18', '02', '10'], '속옷': ['13', '02', '14'], '주방': ['14', '23', '17'], '농수축': ['00', '11', '01'], '이미용': ['15', '10', '00'], '가전': ['14', '15', '16'], '생활용품': ['23', '22', '16'], '건강기능': ['11', '00', '14'], '잡화': ['16', '10', '02'], '가구': ['10', '01', '19'], '침구': ['22', '23', '01']}\n",
      "--------------------------------------------------\n",
      "주중 상위 시청률 3시간 :  {'의류': ['17', '18', '14'], '속옷': ['17', '14', '10'], '주방': ['23', '06', '15'], '농수축': ['23', '15', '10'], '이미용': ['18', '23', '11'], '가전': ['00', '07', '15'], '생활용품': ['16', '08', '17'], '건강기능': ['14', '17', '22'], '잡화': ['14', '15', '11'], '가구': ['06', '07', '08'], '침구': ['13', '12', '21']}\n"
     ]
    }
   ],
   "source": [
    "print('주말 상위 시청률 3시간 : ', week_day_dict)\n",
    "print('-'*50)\n",
    "print('주중 상위 시청률 3시간 : ', week_end_dict)"
   ]
  },
  {
   "cell_type": "markdown",
   "metadata": {},
   "source": [
    "**프라임 타임** 변수 생성"
   ]
  },
  {
   "cell_type": "code",
   "execution_count": 67,
   "metadata": {},
   "outputs": [
    {
     "data": {
      "application/vnd.jupyter.widget-view+json": {
       "model_id": "1a838c4cdfa04c0888651bd3027afa1e",
       "version_major": 2,
       "version_minor": 0
      },
      "text/plain": [
       "HBox(children=(FloatProgress(value=0.0, max=35379.0), HTML(value='')))"
      ]
     },
     "metadata": {},
     "output_type": "display_data"
    },
    {
     "name": "stdout",
     "output_type": "stream",
     "text": [
      "\n"
     ]
    }
   ],
   "source": [
    "# Train 에서 Prime 변수 생성\n",
    "\n",
    "train_raw['prime'] = pd.Series()\n",
    "\n",
    "for i in tqdm(range(len(train_raw))):\n",
    "    group = train_raw.loc[i,'상품군']\n",
    "    if train_raw.loc[i,'weekday']==1.0: # 주말인 경우 상품군 별 해당 시간대의 프라임 타임 생성\n",
    "        if train_raw.loc[i,'hour'] in week_end_dict[group]:\n",
    "            train_raw.loc[i,'prime'] = 1.0 # 프라임 타임\n",
    "        else:\n",
    "            train_raw.loc[i,'prime'] = 0.0 # 비 프라임 타임\n",
    "    else: # 평일인 경우 상품군 별 해당 시간대의 프라임 타임 생성\n",
    "        if train_raw.loc[i,'hour'] in week_day_dict[group]:\n",
    "            train_raw.loc[i,'prime'] = 1.0\n",
    "        else:\n",
    "            train_raw.loc[i,'prime'] = 0.0"
   ]
  },
  {
   "cell_type": "markdown",
   "metadata": {},
   "source": [
    "#### 막대 그래프를 통한 변수의 유의성 시각화"
   ]
  },
  {
   "cell_type": "code",
   "execution_count": 68,
   "metadata": {},
   "outputs": [
    {
     "data": {
      "image/png": "[encoded data removed]",
      "text/plain": [
       "<Figure size 864x432 with 1 Axes>"
      ]
     },
     "metadata": {
      "needs_background": "light"
     },
     "output_type": "display_data"
    }
   ],
   "source": [
    "# 프라임 타임 유무에 따른 분당 판매량\n",
    "prime_group_df = train_raw['판매량'].groupby(train_raw['prime']).mean().sort_values(ascending=False)\n",
    "\n",
    "title = '프라임 시간 유무에 따른 분당 판매량'\n",
    "fig, ax = plt.subplots(figsize = (12, 6))\n",
    "ax.bar(list(prime_group_df.index), prime_group_df)\n",
    "ax.set_xlabel('프라임 시간 유무', fontsize = 15)\n",
    "ax.set_xticks([0, 1])\n",
    "ax.set_ylabel('분당 판매량', fontsize = 15)\n",
    "ax.set_xticklabels(['비 프라임 타임', '프라임 타임'], fontsize = 10)\n",
    "plt.savefig(f'./graphs/{title}.png')\n",
    "plt.show()"
   ]
  },
  {
   "cell_type": "markdown",
   "metadata": {},
   "source": [
    "프라임 타임, 비 프라임 타임의 분당 판매량에는 차이가 있음을 알 수 있다.   \n",
    "\n",
    "프라임 타임의 경우, 판매량이 더 높았음을 알 수 있다."
   ]
  },
  {
   "cell_type": "markdown",
   "metadata": {},
   "source": [
    "#### T-Test"
   ]
  },
  {
   "cell_type": "markdown",
   "metadata": {},
   "source": [
    "- H0 : 프라임 타임 여부에 따른 평균 판매량은 차이가 없다.\n",
    "- H1 : 프라임 타임 여부에 따른 평균 판매량은 차이가 있다."
   ]
  },
  {
   "cell_type": "code",
   "execution_count": 69,
   "metadata": {},
   "outputs": [
    {
     "name": "stdout",
     "output_type": "stream",
     "text": [
      "프라임 타임 데이터 형태 :  (10060, 17)\n",
      "비 프라임 타임 데이터 형태 :  (25319, 17)\n"
     ]
    }
   ],
   "source": [
    "group_prime = train_raw.loc[train_raw['weekday'] == 1] # 주말\n",
    "group_notprime = train_raw.loc[train_raw['weekday'] == 0] # 주중\n",
    "\n",
    "print('프라임 타임 데이터 형태 : ', group_prime.shape)\n",
    "print('비 프라임 타임 데이터 형태 : ', group_notprime.shape)"
   ]
  },
  {
   "cell_type": "code",
   "execution_count": 70,
   "metadata": {},
   "outputs": [
    {
     "name": "stdout",
     "output_type": "stream",
     "text": [
      "LeveneResult(F) : 96.281 \n",
      "p-value : 0.000\n"
     ]
    }
   ],
   "source": [
    "# levene 등분산 검정\n",
    "lresult = stats.levene(group_prime['판매량'], group_notprime['판매량'])\n",
    "print('LeveneResult(F) : %.3f \\np-value : %.3f' % (lresult)) # p-value : 0.000 으로 이분산성"
   ]
  },
  {
   "cell_type": "code",
   "execution_count": 71,
   "metadata": {},
   "outputs": [
    {
     "name": "stdout",
     "output_type": "stream",
     "text": [
      "t statistic : 6.611 \n",
      "p-value : 0.000\n"
     ]
    }
   ],
   "source": [
    "# 등분산이 아닌 독립표본 t-검정 실행 \n",
    "t_result = stats.ttest_ind(group_weekday['판매량'], group_weekend['판매량'], equal_var=False) \n",
    "print('t statistic : %.3f \\np-value : %.3f' % (t_result))"
   ]
  },
  {
   "cell_type": "markdown",
   "metadata": {},
   "source": [
    "p-value 0.000으로 0.05보다 작으므로 귀무가설을 기각한다.   \n",
    "\n",
    "즉, 프라임 타임과 비 프라임 타임의 분당 평균 판매량\n",
    "은 다르다고 말 할 수 있다."
   ]
  },
  {
   "cell_type": "code",
   "execution_count": 72,
   "metadata": {},
   "outputs": [
    {
     "data": {
      "application/vnd.jupyter.widget-view+json": {
       "model_id": "26186359eba54c0eb8fbfbb6357df33a",
       "version_major": 2,
       "version_minor": 0
      },
      "text/plain": [
       "HBox(children=(FloatProgress(value=0.0, max=2716.0), HTML(value='')))"
      ]
     },
     "metadata": {},
     "output_type": "display_data"
    },
    {
     "name": "stdout",
     "output_type": "stream",
     "text": [
      "\n"
     ]
    }
   ],
   "source": [
    "# Test 에서 Prime 변수 생성\n",
    "\n",
    "test_raw['prime'] = pd.Series()\n",
    "\n",
    "for i in tqdm(range(len(test_raw))):\n",
    "    group = test_raw.loc[i,'상품군']\n",
    "    if test_raw.loc[i,'weekday']==1.0: # 주말인 경우 상품군 별 해당 시간대의 프라임 타임 생성\n",
    "        if test_raw.loc[i,'hour'] in week_end_dict[group]:\n",
    "            test_raw.loc[i,'prime'] = 1.0\n",
    "        else:\n",
    "            test_raw.loc[i,'prime'] = 0.0\n",
    "    else: # 평일인 경우 상품군 별 해당 시간대의 프라임 타임 생성\n",
    "        if test_raw.loc[i,'hour'] in week_day_dict[group]:\n",
    "            test_raw.loc[i,'prime'] = 1.0\n",
    "        else:\n",
    "            test_raw.loc[i,'prime'] = 0.0"
   ]
  },
  {
   "cell_type": "code",
   "execution_count": 73,
   "metadata": {},
   "outputs": [
    {
     "name": "stdout",
     "output_type": "stream",
     "text": [
      "전체 상품군에 대한 시간대별 시청률 : \n",
      "             시청률\n",
      "hour          \n",
      "00    0.004877\n",
      "01    0.004259\n",
      "02    0.003090\n",
      "06    0.002232\n",
      "07    0.002719\n",
      "08    0.004100\n",
      "09    0.004477\n",
      "10    0.005625\n",
      "11    0.005543\n",
      "12    0.004104\n",
      "13    0.005065\n",
      "14    0.006060\n",
      "15    0.005833\n",
      "16    0.005678\n",
      "17    0.005835\n",
      "18    0.004996\n",
      "19    0.004148\n",
      "20    0.004166\n",
      "21    0.004115\n",
      "22    0.003783\n",
      "23    0.004641\n",
      "--------------------------------------------------\n",
      "각 상품군에 대한 시간대별 시청률 : \n",
      "     상품군 hour       시청률\n",
      "0   가구   00  0.005451\n",
      "1   가구   01  0.005471\n",
      "2   가구   02  0.000000\n",
      "3   가구   06  0.007938\n",
      "4   가구   07  0.006629\n",
      "5   가구   08  0.005933\n",
      "6   가구   10  0.038350\n",
      "7   가구   12  0.001483\n",
      "8   가구   19  0.005279\n",
      "9   가구   20  0.002892\n",
      "10  가구   21  0.003631\n",
      "11  가구   22  0.003749\n",
      "--------------------------------------------------\n",
      "상품군별 시청률의 분산 파악 : \n",
      "      kind       var\n",
      "0     가전  0.000002\n",
      "1   생활용품  0.000004\n",
      "2     가구  0.000093\n",
      "3    이미용  0.000003\n",
      "4     잡화  0.000006\n",
      "5   건강기능  0.000006\n",
      "6    농수축  0.000002\n",
      "7     속옷  0.000002\n",
      "8     침구  0.000013\n",
      "9     의류  0.000005\n",
      "10    주방  0.000003\n"
     ]
    }
   ],
   "source": [
    "# 전체 상품군에 대한 시간대별 시청률\n",
    "total_broad = pd.DataFrame(final_clust_df.groupby(['hour'], as_index=False)['시청률'].mean()).set_index('hour')\n",
    "print('전체 상품군에 대한 시간대별 시청률 : \\n ', total_broad)\n",
    "print('-'*50)\n",
    "\n",
    "# 각 상품군에 대한 시간대별 시청률\n",
    "kind_list = list(set(train_raw['상품군']))\n",
    "cate_broad = final_clust_df.groupby(['상품군', 'hour'], as_index=False)['시청률'].mean()\n",
    "print('각 상품군에 대한 시간대별 시청률 : \\n ', cate_broad[:12])\n",
    "print('-'*50)\n",
    "\n",
    "# 상품군별 시청률의 분산 파악\n",
    "var_list = list()\n",
    "\n",
    "for kind in kind_list:\n",
    "    new_df = cate_broad.loc[cate_broad['상품군'] == kind]\n",
    "    var_list.append(new_df['시청률'].var())\n",
    "    \n",
    "var_df = pd.DataFrame({'kind' : kind_list, 'var' : var_list})\n",
    "print('상품군별 시청률의 분산 파악 : \\n ', var_df)"
   ]
  },
  {
   "cell_type": "code",
   "execution_count": 74,
   "metadata": {},
   "outputs": [
    {
     "data": {
      "image/png": "[encoded data removed]",
      "text/plain": [
       "<Figure size 1008x432 with 1 Axes>"
      ]
     },
     "metadata": {
      "needs_background": "light"
     },
     "output_type": "display_data"
    }
   ],
   "source": [
    "title = '전체 상품군의 평균 시청률'\n",
    "\n",
    "hours = [i for i in range(0,24)]\n",
    "for i in range(3, 6):\n",
    "    hours.remove(i) # 0~2시 + 6~23시\n",
    "    \n",
    "fig, ax = plt.subplots(figsize = (14, 6))\n",
    "ax.bar(total_broad.index, total_broad['시청률'])\n",
    "ax.set_xlabel('시간', fontsize = 15)\n",
    "ax.set_xticks(np.arange(len(hours)))\n",
    "ax.set_ylabel('평균 시청률', fontsize = 15)\n",
    "ax.set_xticklabels(hours, fontsize = 12)\n",
    "ax.set_title(title)\n",
    "plt.savefig(f'./graphs/{title}.png')\n",
    "plt.show()"
   ]
  },
  {
   "cell_type": "markdown",
   "metadata": {},
   "source": [
    "- 전체 상품군에 대한 시간대별 시청률 : 14시 > 17시 > 15시 순서이다.   \n",
    "\n",
    "- 각 상품군(가구)에 대한 시간대별 시청률 : 10시 > 6시 > 7시 순서이다.   \n",
    "\n",
    "즉, 상품군별 프라임 타임이 다른 것을 확인할 수 있다."
   ]
  },
  {
   "cell_type": "code",
   "execution_count": 75,
   "metadata": {},
   "outputs": [
    {
     "data": {
      "image/png": "[encoded data removed]",
      "text/plain": [
       "<Figure size 1008x432 with 1 Axes>"
      ]
     },
     "metadata": {
      "needs_background": "light"
     },
     "output_type": "display_data"
    }
   ],
   "source": [
    "furniture_broad = pd.DataFrame(cate_broad.loc[cate_broad['상품군'] == '가구']).set_index('hour')\n",
    "\n",
    "title = '가구 상품군의 평균 시청률'\n",
    "fig, ax = plt.subplots(figsize = (14, 6))\n",
    "ax.bar(furniture_broad.index, furniture_broad['시청률'])\n",
    "ax.set_xlabel('시간', fontsize = 15)\n",
    "ax.set_ylabel('평균 시청률', fontsize = 15)\n",
    "ax.set_xticks(np.arange(len(furniture_broad.index)))\n",
    "ax.set_xticklabels(furniture_broad.index, fontsize = 12)\n",
    "ax.set_title(title)\n",
    "plt.savefig(f'./graphs/{title}.png')\n",
    "plt.show()"
   ]
  },
  {
   "cell_type": "markdown",
   "metadata": {},
   "source": [
    "가장 대표적인 상품군 하나인 가구 상품을 보자.\n",
    "\n",
    "- 가구 상품군의 평균 시청률 시간은 10시가 가장 높다."
   ]
  },
  {
   "cell_type": "markdown",
   "metadata": {},
   "source": [
    "## 계절"
   ]
  },
  {
   "cell_type": "markdown",
   "metadata": {},
   "source": [
    "- 3,4,5 월 : 봄\n",
    "- 6,7,8 월 : 여름\n",
    "- 9,10,11월 : 가을\n",
    "- 12,1,2월 : 겨울"
   ]
  },
  {
   "cell_type": "code",
   "execution_count": 76,
   "metadata": {},
   "outputs": [
    {
     "name": "stdout",
     "output_type": "stream",
     "text": [
      "변수 추가되기 이전의 데이터 형태 :  (35379, 17)\n"
     ]
    },
    {
     "data": {
      "application/vnd.jupyter.widget-view+json": {
       "model_id": "59a2e65ad9ca46428b83f6a257a8d455",
       "version_major": 2,
       "version_minor": 0
      },
      "text/plain": [
       "HBox(children=(FloatProgress(value=0.0, max=35379.0), HTML(value='')))"
      ]
     },
     "metadata": {},
     "output_type": "display_data"
    },
    {
     "name": "stdout",
     "output_type": "stream",
     "text": [
      "\n",
      "변수 추가되기 이후의 형태 :  (35379, 18)\n"
     ]
    }
   ],
   "source": [
    "# Train에서 season 변수 생성\n",
    "print('변수 추가되기 이전의 데이터 형태 : ', train_raw.shape)\n",
    "train_raw['season']=pd.Series()\n",
    "\n",
    "for i in tqdm(range(len(train_raw))):\n",
    "    temp = train_raw.loc[i,'month']\n",
    "    if temp in ['03','04','05']:\n",
    "        train_raw.loc[i,'season'] = 0.0 # 봄\n",
    "    elif temp in ['06','07','08']:\n",
    "        train_raw.loc[i,'season'] = 1.0 # 여름\n",
    "    elif temp in ['09','10','11']:\n",
    "        train_raw.loc[i,'season'] = 2.0 # 가을\n",
    "    else:\n",
    "        train_raw.loc[i,'season'] = 3.0 # 겨울\n",
    "        \n",
    "train_raw['season']=train_raw['season'].astype('object')\n",
    "\n",
    "print('변수 추가되기 이후의 형태 : ', train_raw.shape)"
   ]
  },
  {
   "cell_type": "markdown",
   "metadata": {},
   "source": [
    "### 막대 그래프를 통한 변수의 유의성 시각화"
   ]
  },
  {
   "cell_type": "code",
   "execution_count": 77,
   "metadata": {},
   "outputs": [
    {
     "data": {
      "image/png": "[encoded data removed]",
      "text/plain": [
       "<Figure size 864x432 with 1 Axes>"
      ]
     },
     "metadata": {
      "needs_background": "light"
     },
     "output_type": "display_data"
    }
   ],
   "source": [
    "# 계절별 평균 판매량 그래프\n",
    "season_group_df = train_raw['판매량'].groupby(train_raw['season']).mean()\n",
    "\n",
    "fig, ax = plt.subplots(figsize = (12, 6))\n",
    "title = '계절에 따른 분당 판매량'\n",
    "ax.bar(season_group_df.index, season_group_df)\n",
    "ax.set_xlabel('season', fontsize = 15)\n",
    "ax.set_xticks(season_group_df.index)\n",
    "ax.set_ylabel('분당 평균 판매량', fontsize = 15)\n",
    "ax.set_xticklabels(['봄', '여름', '가을', '겨울'], fontsize = 12)\n",
    "ax.set_title(title)\n",
    "plt.savefig(f'./graphs/{title}.png')\n",
    "plt.show()"
   ]
  },
  {
   "cell_type": "markdown",
   "metadata": {},
   "source": [
    "- 계절에 따라 전체 평균 분당 판매량의 차이가 존재함을 알 수 있다.   \n",
    "\n",
    "- 특히, 가을의 분당 판매량이 가장 높은 것으로 나타났다.   \n",
    "\n",
    "- 따라서 계절 요인은 분당 판매량에 영향을 미치는 것으로 보인다."
   ]
  },
  {
   "cell_type": "code",
   "execution_count": 78,
   "metadata": {},
   "outputs": [
    {
     "name": "stdout",
     "output_type": "stream",
     "text": [
      "변수 추가되기 이전의 데이터 형태 :  (2716, 17)\n"
     ]
    },
    {
     "data": {
      "application/vnd.jupyter.widget-view+json": {
       "model_id": "371acd65b77a407897d8581813759b49",
       "version_major": 2,
       "version_minor": 0
      },
      "text/plain": [
       "HBox(children=(FloatProgress(value=0.0, max=2716.0), HTML(value='')))"
      ]
     },
     "metadata": {},
     "output_type": "display_data"
    },
    {
     "name": "stdout",
     "output_type": "stream",
     "text": [
      "\n",
      "변수 추가되기 이후의 데이터 형태 :  (2716, 18)\n"
     ]
    }
   ],
   "source": [
    "# Test에서 season 변수 생성\n",
    "print('변수 추가되기 이전의 데이터 형태 : ', test_raw.shape)\n",
    "test_raw['season']=pd.Series()\n",
    "\n",
    "for i in tqdm(range(len(test_raw))):\n",
    "    temp = test_raw.loc[i,'month']\n",
    "    if temp in ['03','04','05']:\n",
    "        test_raw.loc[i,'season'] = 0.0 # 봄\n",
    "    elif temp in ['06','07','08']:\n",
    "        test_raw.loc[i,'season'] = 1.0 # 여름\n",
    "    elif temp in ['09','10','11']:\n",
    "        test_raw.loc[i,'season'] = 2.0 # 가을\n",
    "    else:\n",
    "        test_raw.loc[i,'season'] = 3.0 # 겨울\n",
    "\n",
    "test_raw['season']=test_raw['season'].astype('object')\n",
    "\n",
    "print('변수 추가되기 이후의 데이터 형태 : ', test_raw.shape)"
   ]
  },
  {
   "cell_type": "markdown",
   "metadata": {},
   "source": [
    "## 방송순서"
   ]
  },
  {
   "cell_type": "code",
   "execution_count": 79,
   "metadata": {},
   "outputs": [
    {
     "data": {
      "text/html": [
       "<div>\n",
       "<style scoped>\n",
       "    .dataframe tbody tr th:only-of-type {\n",
       "        vertical-align: middle;\n",
       "    }\n",
       "\n",
       "    .dataframe tbody tr th {\n",
       "        vertical-align: top;\n",
       "    }\n",
       "\n",
       "    .dataframe thead th {\n",
       "        text-align: right;\n",
       "    }\n",
       "</style>\n",
       "<table border=\"1\" class=\"dataframe\">\n",
       "  <thead>\n",
       "    <tr style=\"text-align: right;\">\n",
       "      <th></th>\n",
       "      <th>방송일시</th>\n",
       "      <th>노출(분)</th>\n",
       "      <th>마더코드</th>\n",
       "      <th>상품코드</th>\n",
       "      <th>상품명</th>\n",
       "      <th>상품군</th>\n",
       "      <th>판매단가</th>\n",
       "      <th>취급액</th>\n",
       "      <th>판매량</th>\n",
       "      <th>brand</th>\n",
       "      <th>date</th>\n",
       "      <th>hour</th>\n",
       "      <th>weekday</th>\n",
       "      <th>month</th>\n",
       "      <th>초중말</th>\n",
       "      <th>day</th>\n",
       "      <th>prime</th>\n",
       "      <th>season</th>\n",
       "    </tr>\n",
       "  </thead>\n",
       "  <tbody>\n",
       "    <tr>\n",
       "      <th>0</th>\n",
       "      <td>2019-01-01 06:00:00</td>\n",
       "      <td>20</td>\n",
       "      <td>100346</td>\n",
       "      <td>201072</td>\n",
       "      <td>테이트 남성 셀린니트3종</td>\n",
       "      <td>의류</td>\n",
       "      <td>39900</td>\n",
       "      <td>2099000</td>\n",
       "      <td>3.0</td>\n",
       "      <td>0.0</td>\n",
       "      <td>2019-01-01</td>\n",
       "      <td>06</td>\n",
       "      <td>0</td>\n",
       "      <td>01</td>\n",
       "      <td>0</td>\n",
       "      <td>1</td>\n",
       "      <td>0.0</td>\n",
       "      <td>3</td>\n",
       "    </tr>\n",
       "    <tr>\n",
       "      <th>1</th>\n",
       "      <td>2019-01-01 06:00:00</td>\n",
       "      <td>20</td>\n",
       "      <td>100346</td>\n",
       "      <td>201079</td>\n",
       "      <td>테이트 여성 셀린니트3종</td>\n",
       "      <td>의류</td>\n",
       "      <td>39900</td>\n",
       "      <td>4371000</td>\n",
       "      <td>5.0</td>\n",
       "      <td>0.0</td>\n",
       "      <td>2019-01-01</td>\n",
       "      <td>06</td>\n",
       "      <td>0</td>\n",
       "      <td>01</td>\n",
       "      <td>0</td>\n",
       "      <td>1</td>\n",
       "      <td>0.0</td>\n",
       "      <td>3</td>\n",
       "    </tr>\n",
       "    <tr>\n",
       "      <th>2</th>\n",
       "      <td>2019-01-01 06:20:00</td>\n",
       "      <td>20</td>\n",
       "      <td>100346</td>\n",
       "      <td>201072</td>\n",
       "      <td>테이트 남성 셀린니트3종</td>\n",
       "      <td>의류</td>\n",
       "      <td>39900</td>\n",
       "      <td>3262000</td>\n",
       "      <td>4.0</td>\n",
       "      <td>0.0</td>\n",
       "      <td>2019-01-01</td>\n",
       "      <td>06</td>\n",
       "      <td>0</td>\n",
       "      <td>01</td>\n",
       "      <td>0</td>\n",
       "      <td>1</td>\n",
       "      <td>0.0</td>\n",
       "      <td>3</td>\n",
       "    </tr>\n",
       "    <tr>\n",
       "      <th>3</th>\n",
       "      <td>2019-01-01 06:20:00</td>\n",
       "      <td>20</td>\n",
       "      <td>100346</td>\n",
       "      <td>201079</td>\n",
       "      <td>테이트 여성 셀린니트3종</td>\n",
       "      <td>의류</td>\n",
       "      <td>39900</td>\n",
       "      <td>6955000</td>\n",
       "      <td>9.0</td>\n",
       "      <td>0.0</td>\n",
       "      <td>2019-01-01</td>\n",
       "      <td>06</td>\n",
       "      <td>0</td>\n",
       "      <td>01</td>\n",
       "      <td>0</td>\n",
       "      <td>1</td>\n",
       "      <td>0.0</td>\n",
       "      <td>3</td>\n",
       "    </tr>\n",
       "    <tr>\n",
       "      <th>4</th>\n",
       "      <td>2019-01-01 06:40:00</td>\n",
       "      <td>20</td>\n",
       "      <td>100346</td>\n",
       "      <td>201072</td>\n",
       "      <td>테이트 남성 셀린니트3종</td>\n",
       "      <td>의류</td>\n",
       "      <td>39900</td>\n",
       "      <td>6672000</td>\n",
       "      <td>8.0</td>\n",
       "      <td>0.0</td>\n",
       "      <td>2019-01-01</td>\n",
       "      <td>06</td>\n",
       "      <td>0</td>\n",
       "      <td>01</td>\n",
       "      <td>0</td>\n",
       "      <td>1</td>\n",
       "      <td>0.0</td>\n",
       "      <td>3</td>\n",
       "    </tr>\n",
       "    <tr>\n",
       "      <th>5</th>\n",
       "      <td>2019-01-01 06:40:00</td>\n",
       "      <td>20</td>\n",
       "      <td>100346</td>\n",
       "      <td>201079</td>\n",
       "      <td>테이트 여성 셀린니트3종</td>\n",
       "      <td>의류</td>\n",
       "      <td>39900</td>\n",
       "      <td>9337000</td>\n",
       "      <td>12.0</td>\n",
       "      <td>0.0</td>\n",
       "      <td>2019-01-01</td>\n",
       "      <td>06</td>\n",
       "      <td>0</td>\n",
       "      <td>01</td>\n",
       "      <td>0</td>\n",
       "      <td>1</td>\n",
       "      <td>0.0</td>\n",
       "      <td>3</td>\n",
       "    </tr>\n",
       "    <tr>\n",
       "      <th>6</th>\n",
       "      <td>2019-01-01 07:00:00</td>\n",
       "      <td>20</td>\n",
       "      <td>100305</td>\n",
       "      <td>200974</td>\n",
       "      <td>오모떼 레이스 파운데이션 브라</td>\n",
       "      <td>속옷</td>\n",
       "      <td>59000</td>\n",
       "      <td>6819000</td>\n",
       "      <td>6.0</td>\n",
       "      <td>0.0</td>\n",
       "      <td>2019-01-01</td>\n",
       "      <td>07</td>\n",
       "      <td>0</td>\n",
       "      <td>01</td>\n",
       "      <td>0</td>\n",
       "      <td>1</td>\n",
       "      <td>0.0</td>\n",
       "      <td>3</td>\n",
       "    </tr>\n",
       "    <tr>\n",
       "      <th>7</th>\n",
       "      <td>2019-01-01 07:20:00</td>\n",
       "      <td>20</td>\n",
       "      <td>100305</td>\n",
       "      <td>200974</td>\n",
       "      <td>오모떼 레이스 파운데이션 브라</td>\n",
       "      <td>속옷</td>\n",
       "      <td>59000</td>\n",
       "      <td>15689000</td>\n",
       "      <td>13.0</td>\n",
       "      <td>0.0</td>\n",
       "      <td>2019-01-01</td>\n",
       "      <td>07</td>\n",
       "      <td>0</td>\n",
       "      <td>01</td>\n",
       "      <td>0</td>\n",
       "      <td>1</td>\n",
       "      <td>0.0</td>\n",
       "      <td>3</td>\n",
       "    </tr>\n",
       "    <tr>\n",
       "      <th>8</th>\n",
       "      <td>2019-01-01 07:40:00</td>\n",
       "      <td>20</td>\n",
       "      <td>100305</td>\n",
       "      <td>200974</td>\n",
       "      <td>오모떼 레이스 파운데이션 브라</td>\n",
       "      <td>속옷</td>\n",
       "      <td>59000</td>\n",
       "      <td>25370000</td>\n",
       "      <td>22.0</td>\n",
       "      <td>0.0</td>\n",
       "      <td>2019-01-01</td>\n",
       "      <td>07</td>\n",
       "      <td>0</td>\n",
       "      <td>01</td>\n",
       "      <td>0</td>\n",
       "      <td>1</td>\n",
       "      <td>0.0</td>\n",
       "      <td>3</td>\n",
       "    </tr>\n",
       "    <tr>\n",
       "      <th>9</th>\n",
       "      <td>2019-01-01 08:00:00</td>\n",
       "      <td>20</td>\n",
       "      <td>100808</td>\n",
       "      <td>202377</td>\n",
       "      <td>CERINI by PAT 남성 소프트 기모 릴렉스팬츠</td>\n",
       "      <td>의류</td>\n",
       "      <td>59900</td>\n",
       "      <td>16133000</td>\n",
       "      <td>13.0</td>\n",
       "      <td>1.0</td>\n",
       "      <td>2019-01-01</td>\n",
       "      <td>08</td>\n",
       "      <td>0</td>\n",
       "      <td>01</td>\n",
       "      <td>0</td>\n",
       "      <td>1</td>\n",
       "      <td>0.0</td>\n",
       "      <td>3</td>\n",
       "    </tr>\n",
       "  </tbody>\n",
       "</table>\n",
       "</div>"
      ],
      "text/plain": [
       "                  방송일시 노출(분)    마더코드    상품코드                            상품명  \\\n",
       "0  2019-01-01 06:00:00    20  100346  201072                  테이트 남성 셀린니트3종   \n",
       "1  2019-01-01 06:00:00    20  100346  201079                  테이트 여성 셀린니트3종   \n",
       "2  2019-01-01 06:20:00    20  100346  201072                  테이트 남성 셀린니트3종   \n",
       "3  2019-01-01 06:20:00    20  100346  201079                  테이트 여성 셀린니트3종   \n",
       "4  2019-01-01 06:40:00    20  100346  201072                  테이트 남성 셀린니트3종   \n",
       "5  2019-01-01 06:40:00    20  100346  201079                  테이트 여성 셀린니트3종   \n",
       "6  2019-01-01 07:00:00    20  100305  200974               오모떼 레이스 파운데이션 브라   \n",
       "7  2019-01-01 07:20:00    20  100305  200974               오모떼 레이스 파운데이션 브라   \n",
       "8  2019-01-01 07:40:00    20  100305  200974               오모떼 레이스 파운데이션 브라   \n",
       "9  2019-01-01 08:00:00    20  100808  202377  CERINI by PAT 남성 소프트 기모 릴렉스팬츠   \n",
       "\n",
       "  상품군   판매단가       취급액   판매량  brand        date hour weekday month 초중말 day  \\\n",
       "0  의류  39900   2099000   3.0    0.0  2019-01-01   06       0    01   0   1   \n",
       "1  의류  39900   4371000   5.0    0.0  2019-01-01   06       0    01   0   1   \n",
       "2  의류  39900   3262000   4.0    0.0  2019-01-01   06       0    01   0   1   \n",
       "3  의류  39900   6955000   9.0    0.0  2019-01-01   06       0    01   0   1   \n",
       "4  의류  39900   6672000   8.0    0.0  2019-01-01   06       0    01   0   1   \n",
       "5  의류  39900   9337000  12.0    0.0  2019-01-01   06       0    01   0   1   \n",
       "6  속옷  59000   6819000   6.0    0.0  2019-01-01   07       0    01   0   1   \n",
       "7  속옷  59000  15689000  13.0    0.0  2019-01-01   07       0    01   0   1   \n",
       "8  속옷  59000  25370000  22.0    0.0  2019-01-01   07       0    01   0   1   \n",
       "9  의류  59900  16133000  13.0    1.0  2019-01-01   08       0    01   0   1   \n",
       "\n",
       "   prime season  \n",
       "0    0.0      3  \n",
       "1    0.0      3  \n",
       "2    0.0      3  \n",
       "3    0.0      3  \n",
       "4    0.0      3  \n",
       "5    0.0      3  \n",
       "6    0.0      3  \n",
       "7    0.0      3  \n",
       "8    0.0      3  \n",
       "9    0.0      3  "
      ]
     },
     "execution_count": 79,
     "metadata": {},
     "output_type": "execute_result"
    }
   ],
   "source": [
    "train_raw.head(10)"
   ]
  },
  {
   "cell_type": "markdown",
   "metadata": {},
   "source": [
    "데이터를 살펴봤을 때, 방송 시간이 마감이 되어갈수록 상품의 판매량이 증가하는 것을 볼 수 있다.   \n",
    "\n",
    "이를 보고 방송순서에 따른 판매량의 차이가 유의미함을 확인할 수 있다."
   ]
  },
  {
   "cell_type": "code",
   "execution_count": 80,
   "metadata": {},
   "outputs": [
    {
     "data": {
      "application/vnd.jupyter.widget-view+json": {
       "model_id": "f7d8738096734c7f8dcff9a84bf66a99",
       "version_major": 2,
       "version_minor": 0
      },
      "text/plain": [
       "HBox(children=(FloatProgress(value=0.0, max=366.0), HTML(value='')))"
      ]
     },
     "metadata": {},
     "output_type": "display_data"
    },
    {
     "name": "stdout",
     "output_type": "stream",
     "text": [
      "\n"
     ]
    }
   ],
   "source": [
    "# Train 방송순서 변수 생성\n",
    "train_raw['방송순서'] = 0.0\n",
    "for i in tqdm(list(train_raw['date'].unique())):\n",
    "    temp = list(train_raw.loc[train_raw['date']==i,'상품코드'].unique())\n",
    "    for j in temp:\n",
    "        train_raw.loc[(train_raw['date']==i)&(train_raw['상품코드']==j),'방송순서']=\\\n",
    "        range(len(train_raw.loc[(train_raw['date']==i)&(train_raw['상품코드']==j),'방송순서']))"
   ]
  },
  {
   "cell_type": "code",
   "execution_count": 81,
   "metadata": {},
   "outputs": [
    {
     "name": "stdout",
     "output_type": "stream",
     "text": [
      "3\n",
      "3\n"
     ]
    }
   ],
   "source": [
    "sequence_11 = list(train_raw.loc[train_raw['방송순서'] == 11.0]['상품명'])\n",
    "time_11 = list(train_raw.loc[train_raw['방송순서'] == 11.0]['date'])\n",
    "print(len(sequence_11)) ; print(len(time_11))"
   ]
  },
  {
   "cell_type": "code",
   "execution_count": 82,
   "metadata": {},
   "outputs": [
    {
     "name": "stdout",
     "output_type": "stream",
     "text": [
      "                      방송일시 노출(분)    마더코드    상품코드              상품명 상품군   판매단가  \\\n",
      "14854  2019-05-31 15:00:00    10  100281  201009  에버라스트 드로즈 10+4종  속옷  39900   \n",
      "14855  2019-05-31 15:10:00    10  100281  201009  에버라스트 드로즈 10+4종  속옷  39900   \n",
      "14856  2019-05-31 15:20:00    10  100281  201009  에버라스트 드로즈 10+4종  속옷  39900   \n",
      "14857  2019-05-31 15:30:00    10  100281  201009  에버라스트 드로즈 10+4종  속옷  39900   \n",
      "14858  2019-05-31 15:40:00    10  100281  201009  에버라스트 드로즈 10+4종  속옷  39900   \n",
      "14859  2019-05-31 15:50:00    10  100281  201009  에버라스트 드로즈 10+4종  속옷  39900   \n",
      "14894  2019-05-31 20:00:00    10  100281  201009  에버라스트 드로즈 10+4종  속옷  39900   \n",
      "14895  2019-05-31 20:10:00    10  100281  201009  에버라스트 드로즈 10+4종  속옷  39900   \n",
      "14896  2019-05-31 20:20:00    10  100281  201009  에버라스트 드로즈 10+4종  속옷  39900   \n",
      "14897  2019-05-31 20:30:00    10  100281  201009  에버라스트 드로즈 10+4종  속옷  39900   \n",
      "14898  2019-05-31 20:40:00    10  100281  201009  에버라스트 드로즈 10+4종  속옷  39900   \n",
      "14899  2019-05-31 20:50:00    10  100281  201009  에버라스트 드로즈 10+4종  속옷  39900   \n",
      "\n",
      "            취급액    판매량  brand        date hour weekday month 초중말 day  prime  \\\n",
      "14854   5135000   13.0    1.0  2019-05-31   15       0    05   2  31    0.0   \n",
      "14855  14903000   37.0    1.0  2019-05-31   15       0    05   2  31    0.0   \n",
      "14856  11571000   29.0    1.0  2019-05-31   15       0    05   2  31    0.0   \n",
      "14857  13634000   34.0    1.0  2019-05-31   15       0    05   2  31    0.0   \n",
      "14858  13271000   33.0    1.0  2019-05-31   15       0    05   2  31    0.0   \n",
      "14859  19230000   48.0    1.0  2019-05-31   15       0    05   2  31    0.0   \n",
      "14894   6446000   16.0    1.0  2019-05-31   20       0    05   2  31    0.0   \n",
      "14895  18205000   46.0    1.0  2019-05-31   20       0    05   2  31    0.0   \n",
      "14896  24470000   61.0    1.0  2019-05-31   20       0    05   2  31    0.0   \n",
      "14897  26810000   67.0    1.0  2019-05-31   20       0    05   2  31    0.0   \n",
      "14898  25980000   65.0    1.0  2019-05-31   20       0    05   2  31    0.0   \n",
      "14899  42525000  107.0    1.0  2019-05-31   20       0    05   2  31    0.0   \n",
      "\n",
      "      season  방송순서  \n",
      "14854      0   0.0  \n",
      "14855      0   1.0  \n",
      "14856      0   2.0  \n",
      "14857      0   3.0  \n",
      "14858      0   4.0  \n",
      "14859      0   5.0  \n",
      "14894      0   6.0  \n",
      "14895      0   7.0  \n",
      "14896      0   8.0  \n",
      "14897      0   9.0  \n",
      "14898      0  10.0  \n",
      "14899      0  11.0  \n",
      "--------------------------------------------------\n",
      "                      방송일시 노출(분)    마더코드    상품코드                       상품명  \\\n",
      "34287  2019-12-19 07:20:00    20  100654  201979  일시불 종근당건강 락토핏 생유산균골드 단하루   \n",
      "34289  2019-12-19 07:40:00    20  100654  201979  일시불 종근당건강 락토핏 생유산균골드 단하루   \n",
      "34291  2019-12-19 08:00:00    20  100654  201979  일시불 종근당건강 락토핏 생유산균골드 단하루   \n",
      "34323  2019-12-19 13:20:00    20  100654  201979  일시불 종근당건강 락토핏 생유산균골드 단하루   \n",
      "34325  2019-12-19 13:40:00    20  100654  201979  일시불 종근당건강 락토핏 생유산균골드 단하루   \n",
      "34327  2019-12-19 14:00:00    20  100654  201979  일시불 종근당건강 락토핏 생유산균골드 단하루   \n",
      "34329  2019-12-19 14:20:00    20  100654  201979  일시불 종근당건강 락토핏 생유산균골드 단하루   \n",
      "34345  2019-12-19 18:20:00    20  100654  201979  일시불 종근당건강 락토핏 생유산균골드 단하루   \n",
      "34347  2019-12-19 18:40:00    20  100654  201979  일시불 종근당건강 락토핏 생유산균골드 단하루   \n",
      "34349  2019-12-19 19:00:00    20  100654  201979  일시불 종근당건강 락토핏 생유산균골드 단하루   \n",
      "34351  2019-12-19 19:20:00    20  100654  201979  일시불 종근당건강 락토핏 생유산균골드 단하루   \n",
      "34353  2019-12-19 19:40:00    20  100654  201979  일시불 종근당건강 락토핏 생유산균골드 단하루   \n",
      "\n",
      "        상품군   판매단가       취급액   판매량  brand        date hour weekday month 초중말  \\\n",
      "34287  건강기능  75050  23575000  16.0    0.0  2019-12-19   07       0    12   1   \n",
      "34289  건강기능  75050  38906000  26.0    0.0  2019-12-19   07       0    12   1   \n",
      "34291  건강기능  75050  48758000  32.0    0.0  2019-12-19   08       0    12   1   \n",
      "34323  건강기능  75050  27690000  18.0    0.0  2019-12-19   13       0    12   1   \n",
      "34325  건강기능  75050  44720000  30.0    0.0  2019-12-19   13       0    12   1   \n",
      "34327  건강기능  75050  35733000  24.0    0.0  2019-12-19   14       0    12   1   \n",
      "34329  건강기능  75050  48586000  32.0    0.0  2019-12-19   14       0    12   1   \n",
      "34345  건강기능  75050  36127000  24.0    0.0  2019-12-19   18       0    12   1   \n",
      "34347  건강기능  75050  57179000  38.0    0.0  2019-12-19   18       0    12   1   \n",
      "34349  건강기능  75050  51168000  34.0    0.0  2019-12-19   19       0    12   1   \n",
      "34351  건강기능  75050  49563000  33.0    0.0  2019-12-19   19       0    12   1   \n",
      "34353  건강기능  75050  64980000  43.0    0.0  2019-12-19   19       0    12   1   \n",
      "\n",
      "      day  prime season  방송순서  \n",
      "34287  19    0.0      3   0.0  \n",
      "34289  19    0.0      3   1.0  \n",
      "34291  19    0.0      3   2.0  \n",
      "34323  19    0.0      3   3.0  \n",
      "34325  19    0.0      3   4.0  \n",
      "34327  19    1.0      3   5.0  \n",
      "34329  19    1.0      3   6.0  \n",
      "34345  19    0.0      3   7.0  \n",
      "34347  19    0.0      3   8.0  \n",
      "34349  19    0.0      3   9.0  \n",
      "34351  19    0.0      3  10.0  \n",
      "34353  19    0.0      3  11.0  \n",
      "--------------------------------------------------\n",
      "                      방송일시 노출(분)    마더코드    상품코드                       상품명  \\\n",
      "34288  2019-12-19 07:20:00    20  100654  201976  무이자 종근당건강 락토핏 생유산균골드 단하루   \n",
      "34290  2019-12-19 07:40:00    20  100654  201976  무이자 종근당건강 락토핏 생유산균골드 단하루   \n",
      "34292  2019-12-19 08:00:00    20  100654  201976  무이자 종근당건강 락토핏 생유산균골드 단하루   \n",
      "34324  2019-12-19 13:20:00    20  100654  201976  무이자 종근당건강 락토핏 생유산균골드 단하루   \n",
      "34326  2019-12-19 13:40:00    20  100654  201976  무이자 종근당건강 락토핏 생유산균골드 단하루   \n",
      "34328  2019-12-19 14:00:00    20  100654  201976  무이자 종근당건강 락토핏 생유산균골드 단하루   \n",
      "34330  2019-12-19 14:20:00    20  100654  201976  무이자 종근당건강 락토핏 생유산균골드 단하루   \n",
      "34346  2019-12-19 18:20:00    20  100654  201976  무이자 종근당건강 락토핏 생유산균골드 단하루   \n",
      "34348  2019-12-19 18:40:00    20  100654  201976  무이자 종근당건강 락토핏 생유산균골드 단하루   \n",
      "34350  2019-12-19 19:00:00    20  100654  201976  무이자 종근당건강 락토핏 생유산균골드 단하루   \n",
      "34352  2019-12-19 19:20:00    20  100654  201976  무이자 종근당건강 락토핏 생유산균골드 단하루   \n",
      "34354  2019-12-19 19:40:00    20  100654  201976  무이자 종근당건강 락토핏 생유산균골드 단하루   \n",
      "\n",
      "        상품군   판매단가       취급액   판매량  brand        date hour weekday month 초중말  \\\n",
      "34288  건강기능  79000   7238000   5.0    0.0  2019-12-19   07       0    12   1   \n",
      "34290  건강기능  79000  12897000   8.0    0.0  2019-12-19   07       0    12   1   \n",
      "34292  건강기능  79000  12529000   8.0    0.0  2019-12-19   08       0    12   1   \n",
      "34324  건강기능  79000   7865000   5.0    0.0  2019-12-19   13       0    12   1   \n",
      "34326  건강기능  79000  12528000   8.0    0.0  2019-12-19   13       0    12   1   \n",
      "34328  건강기능  79000   9846000   6.0    0.0  2019-12-19   14       0    12   1   \n",
      "34330  건강기능  79000  16791000  11.0    0.0  2019-12-19   14       0    12   1   \n",
      "34346  건강기능  79000   9144000   6.0    0.0  2019-12-19   18       0    12   1   \n",
      "34348  건강기능  79000  12877000   8.0    0.0  2019-12-19   18       0    12   1   \n",
      "34350  건강기능  79000   9830000   6.0    0.0  2019-12-19   19       0    12   1   \n",
      "34352  건강기능  79000  11834000   7.0    0.0  2019-12-19   19       0    12   1   \n",
      "34354  건강기능  79000  21898000  14.0    0.0  2019-12-19   19       0    12   1   \n",
      "\n",
      "      day  prime season  방송순서  \n",
      "34288  19    0.0      3   0.0  \n",
      "34290  19    0.0      3   1.0  \n",
      "34292  19    0.0      3   2.0  \n",
      "34324  19    0.0      3   3.0  \n",
      "34326  19    0.0      3   4.0  \n",
      "34328  19    1.0      3   5.0  \n",
      "34330  19    1.0      3   6.0  \n",
      "34346  19    0.0      3   7.0  \n",
      "34348  19    0.0      3   8.0  \n",
      "34350  19    0.0      3   9.0  \n",
      "34352  19    0.0      3  10.0  \n",
      "34354  19    0.0      3  11.0  \n",
      "--------------------------------------------------\n"
     ]
    }
   ],
   "source": [
    "for i, v in enumerate(zip(sequence_11, time_11)):\n",
    "    print(train_raw.loc[(train_raw['상품명'] == v[0]) & (train_raw['date'] == v[1])])\n",
    "    print('-'*50)"
   ]
  },
  {
   "cell_type": "markdown",
   "metadata": {},
   "source": [
    "### 막대 그래프를 통한 변수의 유의성 시각화"
   ]
  },
  {
   "cell_type": "code",
   "execution_count": 83,
   "metadata": {},
   "outputs": [
    {
     "data": {
      "image/png": "[encoded data removed]",
      "text/plain": [
       "<Figure size 864x432 with 1 Axes>"
      ]
     },
     "metadata": {
      "needs_background": "light"
     },
     "output_type": "display_data"
    }
   ],
   "source": [
    "seq_group_df=train_raw['판매량'].groupby(train_raw['방송순서']).mean()\n",
    "\n",
    "title = '방송 순서에 따른 평균 판매량'\n",
    "fig, ax = plt.subplots(figsize = (12, 6))\n",
    "ax.bar(list(seq_group_df.index), seq_group_df)\n",
    "ax.set_xlabel('방송순서', fontsize = 15)\n",
    "ax.set_xticks([i for i in range(0, 12)])\n",
    "ax.set_ylabel('평균 분당 판매량',fontsize=15)\n",
    "ax.set_title(title, fontsize= 20)\n",
    "plt.savefig(f'./graphs/{title}.png')\n",
    "plt.show()"
   ]
  },
  {
   "cell_type": "markdown",
   "metadata": {},
   "source": [
    "동일한 상품이 일정 시각에 따라 연속으로 방송되는 경우를 방송 순서로 각각 지정한 결과,\n",
    "\n",
    "방송 순서가 후에 이어질수록 **분당 판매량**이 증가하는 경향을 보이고 있다"
   ]
  },
  {
   "cell_type": "code",
   "execution_count": 84,
   "metadata": {},
   "outputs": [
    {
     "data": {
      "application/vnd.jupyter.widget-view+json": {
       "model_id": "cecb1480453c468285bb325c17646b9a",
       "version_major": 2,
       "version_minor": 0
      },
      "text/plain": [
       "HBox(children=(FloatProgress(value=0.0, max=31.0), HTML(value='')))"
      ]
     },
     "metadata": {},
     "output_type": "display_data"
    },
    {
     "name": "stdout",
     "output_type": "stream",
     "text": [
      "\n"
     ]
    }
   ],
   "source": [
    "# Test 방송순서 변수 생성\n",
    "test_raw['방송순서'] = 0.0\n",
    "for i in tqdm(list(test_raw['date'].unique())):\n",
    "    temp = list(test_raw.loc[test_raw['date']==i,'상품코드'].unique())\n",
    "    for j in temp:\n",
    "        test_raw.loc[(test_raw['date']==i)&(test_raw['상품코드']==j),'방송순서']=\\\n",
    "        range(len(test_raw.loc[(test_raw['date']==i)&(test_raw['상품코드']==j),'방송순서']))"
   ]
  },
  {
   "cell_type": "markdown",
   "metadata": {},
   "source": [
    "## 가격경쟁"
   ]
  },
  {
   "cell_type": "code",
   "execution_count": 85,
   "metadata": {},
   "outputs": [
    {
     "data": {
      "text/html": [
       "<div>\n",
       "<style scoped>\n",
       "    .dataframe tbody tr th:only-of-type {\n",
       "        vertical-align: middle;\n",
       "    }\n",
       "\n",
       "    .dataframe tbody tr th {\n",
       "        vertical-align: top;\n",
       "    }\n",
       "\n",
       "    .dataframe thead th {\n",
       "        text-align: right;\n",
       "    }\n",
       "</style>\n",
       "<table border=\"1\" class=\"dataframe\">\n",
       "  <thead>\n",
       "    <tr style=\"text-align: right;\">\n",
       "      <th></th>\n",
       "      <th>방송일시</th>\n",
       "      <th>노출(분)</th>\n",
       "      <th>마더코드</th>\n",
       "      <th>상품코드</th>\n",
       "      <th>상품명</th>\n",
       "      <th>상품군</th>\n",
       "      <th>판매단가</th>\n",
       "      <th>취급액</th>\n",
       "      <th>판매량</th>\n",
       "      <th>brand</th>\n",
       "      <th>date</th>\n",
       "      <th>hour</th>\n",
       "      <th>weekday</th>\n",
       "      <th>month</th>\n",
       "      <th>초중말</th>\n",
       "      <th>day</th>\n",
       "      <th>prime</th>\n",
       "      <th>season</th>\n",
       "      <th>방송순서</th>\n",
       "    </tr>\n",
       "  </thead>\n",
       "  <tbody>\n",
       "    <tr>\n",
       "      <th>33043</th>\n",
       "      <td>2019-12-07 01:40:00</td>\n",
       "      <td>17.1667</td>\n",
       "      <td>100418</td>\n",
       "      <td>201322</td>\n",
       "      <td>코몽트 덤블 플리스 자켓 2종</td>\n",
       "      <td>의류</td>\n",
       "      <td>39900</td>\n",
       "      <td>322009000</td>\n",
       "      <td>470.0</td>\n",
       "      <td>1.0</td>\n",
       "      <td>2019-12-07</td>\n",
       "      <td>01</td>\n",
       "      <td>1</td>\n",
       "      <td>12</td>\n",
       "      <td>0</td>\n",
       "      <td>7</td>\n",
       "      <td>0.0</td>\n",
       "      <td>3</td>\n",
       "      <td>1.0</td>\n",
       "    </tr>\n",
       "  </tbody>\n",
       "</table>\n",
       "</div>"
      ],
      "text/plain": [
       "                      방송일시    노출(분)    마더코드    상품코드               상품명 상품군  \\\n",
       "33043  2019-12-07 01:40:00  17.1667  100418  201322  코몽트 덤블 플리스 자켓 2종  의류   \n",
       "\n",
       "        판매단가        취급액    판매량  brand        date hour weekday month 초중말 day  \\\n",
       "33043  39900  322009000  470.0    1.0  2019-12-07   01       1    12   0   7   \n",
       "\n",
       "       prime season  방송순서  \n",
       "33043    0.0      3   1.0  "
      ]
     },
     "execution_count": 85,
     "metadata": {},
     "output_type": "execute_result"
    }
   ],
   "source": [
    "train_raw.loc[train_raw['판매량'] == train_raw['판매량'].max()]"
   ]
  },
  {
   "cell_type": "code",
   "execution_count": 86,
   "metadata": {},
   "outputs": [
    {
     "data": {
      "text/html": [
       "<div>\n",
       "<style scoped>\n",
       "    .dataframe tbody tr th:only-of-type {\n",
       "        vertical-align: middle;\n",
       "    }\n",
       "\n",
       "    .dataframe tbody tr th {\n",
       "        vertical-align: top;\n",
       "    }\n",
       "\n",
       "    .dataframe thead th {\n",
       "        text-align: right;\n",
       "    }\n",
       "</style>\n",
       "<table border=\"1\" class=\"dataframe\">\n",
       "  <thead>\n",
       "    <tr style=\"text-align: right;\">\n",
       "      <th></th>\n",
       "      <th>방송일시</th>\n",
       "      <th>노출(분)</th>\n",
       "      <th>마더코드</th>\n",
       "      <th>상품코드</th>\n",
       "      <th>상품명</th>\n",
       "      <th>상품군</th>\n",
       "      <th>판매단가</th>\n",
       "      <th>취급액</th>\n",
       "      <th>판매량</th>\n",
       "      <th>brand</th>\n",
       "      <th>date</th>\n",
       "      <th>hour</th>\n",
       "      <th>weekday</th>\n",
       "      <th>month</th>\n",
       "      <th>초중말</th>\n",
       "      <th>day</th>\n",
       "      <th>prime</th>\n",
       "      <th>season</th>\n",
       "      <th>방송순서</th>\n",
       "    </tr>\n",
       "  </thead>\n",
       "  <tbody>\n",
       "    <tr>\n",
       "      <th>31699</th>\n",
       "      <td>2019-11-22 01:20:00</td>\n",
       "      <td>20</td>\n",
       "      <td>100418</td>\n",
       "      <td>201323</td>\n",
       "      <td>코몽트 덤블 플리스 자켓 2종</td>\n",
       "      <td>의류</td>\n",
       "      <td>49900</td>\n",
       "      <td>12582000</td>\n",
       "      <td>13.0</td>\n",
       "      <td>1.0</td>\n",
       "      <td>2019-11-22</td>\n",
       "      <td>01</td>\n",
       "      <td>0</td>\n",
       "      <td>11</td>\n",
       "      <td>2</td>\n",
       "      <td>22</td>\n",
       "      <td>0.0</td>\n",
       "      <td>2</td>\n",
       "      <td>0.0</td>\n",
       "    </tr>\n",
       "    <tr>\n",
       "      <th>31700</th>\n",
       "      <td>2019-11-22 01:40:00</td>\n",
       "      <td>17.1833</td>\n",
       "      <td>100418</td>\n",
       "      <td>201323</td>\n",
       "      <td>코몽트 덤블 플리스 자켓 2종</td>\n",
       "      <td>의류</td>\n",
       "      <td>49900</td>\n",
       "      <td>17703000</td>\n",
       "      <td>21.0</td>\n",
       "      <td>1.0</td>\n",
       "      <td>2019-11-22</td>\n",
       "      <td>01</td>\n",
       "      <td>0</td>\n",
       "      <td>11</td>\n",
       "      <td>2</td>\n",
       "      <td>22</td>\n",
       "      <td>0.0</td>\n",
       "      <td>2</td>\n",
       "      <td>1.0</td>\n",
       "    </tr>\n",
       "    <tr>\n",
       "      <th>31701</th>\n",
       "      <td>2019-11-22 02:00:00</td>\n",
       "      <td>20</td>\n",
       "      <td>100418</td>\n",
       "      <td>201323</td>\n",
       "      <td>코몽트 덤블 플리스 자켓 2종</td>\n",
       "      <td>의류</td>\n",
       "      <td>49900</td>\n",
       "      <td>38854000</td>\n",
       "      <td>39.0</td>\n",
       "      <td>1.0</td>\n",
       "      <td>2019-11-22</td>\n",
       "      <td>02</td>\n",
       "      <td>0</td>\n",
       "      <td>11</td>\n",
       "      <td>2</td>\n",
       "      <td>22</td>\n",
       "      <td>1.0</td>\n",
       "      <td>2</td>\n",
       "      <td>2.0</td>\n",
       "    </tr>\n",
       "    <tr>\n",
       "      <th>32679</th>\n",
       "      <td>2019-12-03 01:20:00</td>\n",
       "      <td>20</td>\n",
       "      <td>100418</td>\n",
       "      <td>201323</td>\n",
       "      <td>코몽트 덤블 플리스 자켓 2종</td>\n",
       "      <td>의류</td>\n",
       "      <td>49900</td>\n",
       "      <td>16446000</td>\n",
       "      <td>16.0</td>\n",
       "      <td>1.0</td>\n",
       "      <td>2019-12-03</td>\n",
       "      <td>01</td>\n",
       "      <td>0</td>\n",
       "      <td>12</td>\n",
       "      <td>0</td>\n",
       "      <td>3</td>\n",
       "      <td>0.0</td>\n",
       "      <td>3</td>\n",
       "      <td>0.0</td>\n",
       "    </tr>\n",
       "    <tr>\n",
       "      <th>32680</th>\n",
       "      <td>2019-12-03 01:40:00</td>\n",
       "      <td>17.1667</td>\n",
       "      <td>100418</td>\n",
       "      <td>201323</td>\n",
       "      <td>코몽트 덤블 플리스 자켓 2종</td>\n",
       "      <td>의류</td>\n",
       "      <td>49900</td>\n",
       "      <td>21949000</td>\n",
       "      <td>26.0</td>\n",
       "      <td>1.0</td>\n",
       "      <td>2019-12-03</td>\n",
       "      <td>01</td>\n",
       "      <td>0</td>\n",
       "      <td>12</td>\n",
       "      <td>0</td>\n",
       "      <td>3</td>\n",
       "      <td>0.0</td>\n",
       "      <td>3</td>\n",
       "      <td>1.0</td>\n",
       "    </tr>\n",
       "    <tr>\n",
       "      <th>32681</th>\n",
       "      <td>2019-12-03 02:00:00</td>\n",
       "      <td>20</td>\n",
       "      <td>100418</td>\n",
       "      <td>201323</td>\n",
       "      <td>코몽트 덤블 플리스 자켓 2종</td>\n",
       "      <td>의류</td>\n",
       "      <td>49900</td>\n",
       "      <td>27049000</td>\n",
       "      <td>27.0</td>\n",
       "      <td>1.0</td>\n",
       "      <td>2019-12-03</td>\n",
       "      <td>02</td>\n",
       "      <td>0</td>\n",
       "      <td>12</td>\n",
       "      <td>0</td>\n",
       "      <td>3</td>\n",
       "      <td>1.0</td>\n",
       "      <td>3</td>\n",
       "      <td>2.0</td>\n",
       "    </tr>\n",
       "    <tr>\n",
       "      <th>33042</th>\n",
       "      <td>2019-12-07 01:20:00</td>\n",
       "      <td>20</td>\n",
       "      <td>100418</td>\n",
       "      <td>201322</td>\n",
       "      <td>코몽트 덤블 플리스 자켓 2종</td>\n",
       "      <td>의류</td>\n",
       "      <td>39900</td>\n",
       "      <td>23722000</td>\n",
       "      <td>30.0</td>\n",
       "      <td>1.0</td>\n",
       "      <td>2019-12-07</td>\n",
       "      <td>01</td>\n",
       "      <td>1</td>\n",
       "      <td>12</td>\n",
       "      <td>0</td>\n",
       "      <td>7</td>\n",
       "      <td>0.0</td>\n",
       "      <td>3</td>\n",
       "      <td>0.0</td>\n",
       "    </tr>\n",
       "    <tr>\n",
       "      <th>33043</th>\n",
       "      <td>2019-12-07 01:40:00</td>\n",
       "      <td>17.1667</td>\n",
       "      <td>100418</td>\n",
       "      <td>201322</td>\n",
       "      <td>코몽트 덤블 플리스 자켓 2종</td>\n",
       "      <td>의류</td>\n",
       "      <td>39900</td>\n",
       "      <td>322009000</td>\n",
       "      <td>470.0</td>\n",
       "      <td>1.0</td>\n",
       "      <td>2019-12-07</td>\n",
       "      <td>01</td>\n",
       "      <td>1</td>\n",
       "      <td>12</td>\n",
       "      <td>0</td>\n",
       "      <td>7</td>\n",
       "      <td>0.0</td>\n",
       "      <td>3</td>\n",
       "      <td>1.0</td>\n",
       "    </tr>\n",
       "    <tr>\n",
       "      <th>33053</th>\n",
       "      <td>2019-12-07 08:20:00</td>\n",
       "      <td>20</td>\n",
       "      <td>100418</td>\n",
       "      <td>201322</td>\n",
       "      <td>코몽트 덤블 플리스 자켓 2종</td>\n",
       "      <td>의류</td>\n",
       "      <td>39900</td>\n",
       "      <td>56318000</td>\n",
       "      <td>71.0</td>\n",
       "      <td>1.0</td>\n",
       "      <td>2019-12-07</td>\n",
       "      <td>08</td>\n",
       "      <td>1</td>\n",
       "      <td>12</td>\n",
       "      <td>0</td>\n",
       "      <td>7</td>\n",
       "      <td>0.0</td>\n",
       "      <td>3</td>\n",
       "      <td>2.0</td>\n",
       "    </tr>\n",
       "    <tr>\n",
       "      <th>33054</th>\n",
       "      <td>2019-12-07 08:40:00</td>\n",
       "      <td>20</td>\n",
       "      <td>100418</td>\n",
       "      <td>201322</td>\n",
       "      <td>코몽트 덤블 플리스 자켓 2종</td>\n",
       "      <td>의류</td>\n",
       "      <td>39900</td>\n",
       "      <td>104910000</td>\n",
       "      <td>131.0</td>\n",
       "      <td>1.0</td>\n",
       "      <td>2019-12-07</td>\n",
       "      <td>08</td>\n",
       "      <td>1</td>\n",
       "      <td>12</td>\n",
       "      <td>0</td>\n",
       "      <td>7</td>\n",
       "      <td>0.0</td>\n",
       "      <td>3</td>\n",
       "      <td>3.0</td>\n",
       "    </tr>\n",
       "    <tr>\n",
       "      <th>33055</th>\n",
       "      <td>2019-12-07 09:00:00</td>\n",
       "      <td>20</td>\n",
       "      <td>100418</td>\n",
       "      <td>201322</td>\n",
       "      <td>코몽트 덤블 플리스 자켓 2종</td>\n",
       "      <td>의류</td>\n",
       "      <td>39900</td>\n",
       "      <td>128955000</td>\n",
       "      <td>162.0</td>\n",
       "      <td>1.0</td>\n",
       "      <td>2019-12-07</td>\n",
       "      <td>09</td>\n",
       "      <td>1</td>\n",
       "      <td>12</td>\n",
       "      <td>0</td>\n",
       "      <td>7</td>\n",
       "      <td>0.0</td>\n",
       "      <td>3</td>\n",
       "      <td>4.0</td>\n",
       "    </tr>\n",
       "    <tr>\n",
       "      <th>33492</th>\n",
       "      <td>2019-12-10 23:20:00</td>\n",
       "      <td>20</td>\n",
       "      <td>100418</td>\n",
       "      <td>201322</td>\n",
       "      <td>코몽트 덤블 플리스 자켓 2종</td>\n",
       "      <td>의류</td>\n",
       "      <td>39900</td>\n",
       "      <td>31136000</td>\n",
       "      <td>39.0</td>\n",
       "      <td>1.0</td>\n",
       "      <td>2019-12-10</td>\n",
       "      <td>23</td>\n",
       "      <td>0</td>\n",
       "      <td>12</td>\n",
       "      <td>0</td>\n",
       "      <td>10</td>\n",
       "      <td>0.0</td>\n",
       "      <td>3</td>\n",
       "      <td>0.0</td>\n",
       "    </tr>\n",
       "    <tr>\n",
       "      <th>33493</th>\n",
       "      <td>2019-12-10 23:40:00</td>\n",
       "      <td>20</td>\n",
       "      <td>100418</td>\n",
       "      <td>201322</td>\n",
       "      <td>코몽트 덤블 플리스 자켓 2종</td>\n",
       "      <td>의류</td>\n",
       "      <td>39900</td>\n",
       "      <td>56772000</td>\n",
       "      <td>71.0</td>\n",
       "      <td>1.0</td>\n",
       "      <td>2019-12-10</td>\n",
       "      <td>23</td>\n",
       "      <td>0</td>\n",
       "      <td>12</td>\n",
       "      <td>0</td>\n",
       "      <td>10</td>\n",
       "      <td>0.0</td>\n",
       "      <td>3</td>\n",
       "      <td>1.0</td>\n",
       "    </tr>\n",
       "    <tr>\n",
       "      <th>33494</th>\n",
       "      <td>2019-12-11 00:00:00</td>\n",
       "      <td>20</td>\n",
       "      <td>100418</td>\n",
       "      <td>201322</td>\n",
       "      <td>코몽트 덤블 플리스 자켓 2종</td>\n",
       "      <td>의류</td>\n",
       "      <td>39900</td>\n",
       "      <td>187419000</td>\n",
       "      <td>235.0</td>\n",
       "      <td>1.0</td>\n",
       "      <td>2019-12-11</td>\n",
       "      <td>00</td>\n",
       "      <td>0</td>\n",
       "      <td>12</td>\n",
       "      <td>1</td>\n",
       "      <td>11</td>\n",
       "      <td>0.0</td>\n",
       "      <td>3</td>\n",
       "      <td>0.0</td>\n",
       "    </tr>\n",
       "    <tr>\n",
       "      <th>33531</th>\n",
       "      <td>2019-12-11 12:20:00</td>\n",
       "      <td>20</td>\n",
       "      <td>100418</td>\n",
       "      <td>201322</td>\n",
       "      <td>코몽트 덤블 플리스 자켓 2종</td>\n",
       "      <td>의류</td>\n",
       "      <td>39900</td>\n",
       "      <td>21499000</td>\n",
       "      <td>27.0</td>\n",
       "      <td>1.0</td>\n",
       "      <td>2019-12-11</td>\n",
       "      <td>12</td>\n",
       "      <td>0</td>\n",
       "      <td>12</td>\n",
       "      <td>1</td>\n",
       "      <td>11</td>\n",
       "      <td>0.0</td>\n",
       "      <td>3</td>\n",
       "      <td>1.0</td>\n",
       "    </tr>\n",
       "    <tr>\n",
       "      <th>33532</th>\n",
       "      <td>2019-12-11 12:40:00</td>\n",
       "      <td>20</td>\n",
       "      <td>100418</td>\n",
       "      <td>201322</td>\n",
       "      <td>코몽트 덤블 플리스 자켓 2종</td>\n",
       "      <td>의류</td>\n",
       "      <td>39900</td>\n",
       "      <td>39765000</td>\n",
       "      <td>50.0</td>\n",
       "      <td>1.0</td>\n",
       "      <td>2019-12-11</td>\n",
       "      <td>12</td>\n",
       "      <td>0</td>\n",
       "      <td>12</td>\n",
       "      <td>1</td>\n",
       "      <td>11</td>\n",
       "      <td>0.0</td>\n",
       "      <td>3</td>\n",
       "      <td>2.0</td>\n",
       "    </tr>\n",
       "    <tr>\n",
       "      <th>33533</th>\n",
       "      <td>2019-12-11 13:00:00</td>\n",
       "      <td>20</td>\n",
       "      <td>100418</td>\n",
       "      <td>201322</td>\n",
       "      <td>코몽트 덤블 플리스 자켓 2종</td>\n",
       "      <td>의류</td>\n",
       "      <td>39900</td>\n",
       "      <td>63142000</td>\n",
       "      <td>79.0</td>\n",
       "      <td>1.0</td>\n",
       "      <td>2019-12-11</td>\n",
       "      <td>13</td>\n",
       "      <td>0</td>\n",
       "      <td>12</td>\n",
       "      <td>1</td>\n",
       "      <td>11</td>\n",
       "      <td>0.0</td>\n",
       "      <td>3</td>\n",
       "      <td>3.0</td>\n",
       "    </tr>\n",
       "    <tr>\n",
       "      <th>33955</th>\n",
       "      <td>2019-12-15 20:20:00</td>\n",
       "      <td>20</td>\n",
       "      <td>100418</td>\n",
       "      <td>201322</td>\n",
       "      <td>코몽트 덤블 플리스 자켓 2종</td>\n",
       "      <td>의류</td>\n",
       "      <td>39900</td>\n",
       "      <td>44092000</td>\n",
       "      <td>55.0</td>\n",
       "      <td>1.0</td>\n",
       "      <td>2019-12-15</td>\n",
       "      <td>20</td>\n",
       "      <td>1</td>\n",
       "      <td>12</td>\n",
       "      <td>1</td>\n",
       "      <td>15</td>\n",
       "      <td>0.0</td>\n",
       "      <td>3</td>\n",
       "      <td>0.0</td>\n",
       "    </tr>\n",
       "    <tr>\n",
       "      <th>33956</th>\n",
       "      <td>2019-12-15 20:40:00</td>\n",
       "      <td>20</td>\n",
       "      <td>100418</td>\n",
       "      <td>201322</td>\n",
       "      <td>코몽트 덤블 플리스 자켓 2종</td>\n",
       "      <td>의류</td>\n",
       "      <td>39900</td>\n",
       "      <td>72106000</td>\n",
       "      <td>90.0</td>\n",
       "      <td>1.0</td>\n",
       "      <td>2019-12-15</td>\n",
       "      <td>20</td>\n",
       "      <td>1</td>\n",
       "      <td>12</td>\n",
       "      <td>1</td>\n",
       "      <td>15</td>\n",
       "      <td>0.0</td>\n",
       "      <td>3</td>\n",
       "      <td>1.0</td>\n",
       "    </tr>\n",
       "    <tr>\n",
       "      <th>33957</th>\n",
       "      <td>2019-12-15 21:00:00</td>\n",
       "      <td>20</td>\n",
       "      <td>100418</td>\n",
       "      <td>201322</td>\n",
       "      <td>코몽트 덤블 플리스 자켓 2종</td>\n",
       "      <td>의류</td>\n",
       "      <td>39900</td>\n",
       "      <td>94103000</td>\n",
       "      <td>118.0</td>\n",
       "      <td>1.0</td>\n",
       "      <td>2019-12-15</td>\n",
       "      <td>21</td>\n",
       "      <td>1</td>\n",
       "      <td>12</td>\n",
       "      <td>1</td>\n",
       "      <td>15</td>\n",
       "      <td>0.0</td>\n",
       "      <td>3</td>\n",
       "      <td>2.0</td>\n",
       "    </tr>\n",
       "    <tr>\n",
       "      <th>34137</th>\n",
       "      <td>2019-12-17 19:20:00</td>\n",
       "      <td>20</td>\n",
       "      <td>100418</td>\n",
       "      <td>201322</td>\n",
       "      <td>코몽트 덤블 플리스 자켓 2종</td>\n",
       "      <td>의류</td>\n",
       "      <td>39900</td>\n",
       "      <td>43627000</td>\n",
       "      <td>55.0</td>\n",
       "      <td>1.0</td>\n",
       "      <td>2019-12-17</td>\n",
       "      <td>19</td>\n",
       "      <td>0</td>\n",
       "      <td>12</td>\n",
       "      <td>1</td>\n",
       "      <td>17</td>\n",
       "      <td>0.0</td>\n",
       "      <td>3</td>\n",
       "      <td>0.0</td>\n",
       "    </tr>\n",
       "    <tr>\n",
       "      <th>34138</th>\n",
       "      <td>2019-12-17 19:40:00</td>\n",
       "      <td>20</td>\n",
       "      <td>100418</td>\n",
       "      <td>201322</td>\n",
       "      <td>코몽트 덤블 플리스 자켓 2종</td>\n",
       "      <td>의류</td>\n",
       "      <td>39900</td>\n",
       "      <td>55499000</td>\n",
       "      <td>70.0</td>\n",
       "      <td>1.0</td>\n",
       "      <td>2019-12-17</td>\n",
       "      <td>19</td>\n",
       "      <td>0</td>\n",
       "      <td>12</td>\n",
       "      <td>1</td>\n",
       "      <td>17</td>\n",
       "      <td>0.0</td>\n",
       "      <td>3</td>\n",
       "      <td>1.0</td>\n",
       "    </tr>\n",
       "    <tr>\n",
       "      <th>34139</th>\n",
       "      <td>2019-12-17 20:00:00</td>\n",
       "      <td>20</td>\n",
       "      <td>100418</td>\n",
       "      <td>201322</td>\n",
       "      <td>코몽트 덤블 플리스 자켓 2종</td>\n",
       "      <td>의류</td>\n",
       "      <td>39900</td>\n",
       "      <td>67187000</td>\n",
       "      <td>84.0</td>\n",
       "      <td>1.0</td>\n",
       "      <td>2019-12-17</td>\n",
       "      <td>20</td>\n",
       "      <td>0</td>\n",
       "      <td>12</td>\n",
       "      <td>1</td>\n",
       "      <td>17</td>\n",
       "      <td>0.0</td>\n",
       "      <td>3</td>\n",
       "      <td>2.0</td>\n",
       "    </tr>\n",
       "    <tr>\n",
       "      <th>34505</th>\n",
       "      <td>2019-12-21 17:20:00</td>\n",
       "      <td>20</td>\n",
       "      <td>100418</td>\n",
       "      <td>201322</td>\n",
       "      <td>코몽트 덤블 플리스 자켓 2종</td>\n",
       "      <td>의류</td>\n",
       "      <td>39900</td>\n",
       "      <td>32891000</td>\n",
       "      <td>41.0</td>\n",
       "      <td>1.0</td>\n",
       "      <td>2019-12-21</td>\n",
       "      <td>17</td>\n",
       "      <td>1</td>\n",
       "      <td>12</td>\n",
       "      <td>2</td>\n",
       "      <td>21</td>\n",
       "      <td>1.0</td>\n",
       "      <td>3</td>\n",
       "      <td>0.0</td>\n",
       "    </tr>\n",
       "    <tr>\n",
       "      <th>34506</th>\n",
       "      <td>2019-12-21 17:40:00</td>\n",
       "      <td>20</td>\n",
       "      <td>100418</td>\n",
       "      <td>201322</td>\n",
       "      <td>코몽트 덤블 플리스 자켓 2종</td>\n",
       "      <td>의류</td>\n",
       "      <td>39900</td>\n",
       "      <td>223492000</td>\n",
       "      <td>280.0</td>\n",
       "      <td>1.0</td>\n",
       "      <td>2019-12-21</td>\n",
       "      <td>17</td>\n",
       "      <td>1</td>\n",
       "      <td>12</td>\n",
       "      <td>2</td>\n",
       "      <td>21</td>\n",
       "      <td>1.0</td>\n",
       "      <td>3</td>\n",
       "      <td>1.0</td>\n",
       "    </tr>\n",
       "    <tr>\n",
       "      <th>34540</th>\n",
       "      <td>2019-12-22 09:20:00</td>\n",
       "      <td>20</td>\n",
       "      <td>100418</td>\n",
       "      <td>201322</td>\n",
       "      <td>코몽트 덤블 플리스 자켓 2종</td>\n",
       "      <td>의류</td>\n",
       "      <td>39900</td>\n",
       "      <td>37328000</td>\n",
       "      <td>47.0</td>\n",
       "      <td>1.0</td>\n",
       "      <td>2019-12-22</td>\n",
       "      <td>09</td>\n",
       "      <td>1</td>\n",
       "      <td>12</td>\n",
       "      <td>2</td>\n",
       "      <td>22</td>\n",
       "      <td>0.0</td>\n",
       "      <td>3</td>\n",
       "      <td>0.0</td>\n",
       "    </tr>\n",
       "    <tr>\n",
       "      <th>34541</th>\n",
       "      <td>2019-12-22 09:40:00</td>\n",
       "      <td>20</td>\n",
       "      <td>100418</td>\n",
       "      <td>201322</td>\n",
       "      <td>코몽트 덤블 플리스 자켓 2종</td>\n",
       "      <td>의류</td>\n",
       "      <td>39900</td>\n",
       "      <td>57414000</td>\n",
       "      <td>72.0</td>\n",
       "      <td>1.0</td>\n",
       "      <td>2019-12-22</td>\n",
       "      <td>09</td>\n",
       "      <td>1</td>\n",
       "      <td>12</td>\n",
       "      <td>2</td>\n",
       "      <td>22</td>\n",
       "      <td>0.0</td>\n",
       "      <td>3</td>\n",
       "      <td>1.0</td>\n",
       "    </tr>\n",
       "    <tr>\n",
       "      <th>34542</th>\n",
       "      <td>2019-12-22 10:00:00</td>\n",
       "      <td>20</td>\n",
       "      <td>100418</td>\n",
       "      <td>201322</td>\n",
       "      <td>코몽트 덤블 플리스 자켓 2종</td>\n",
       "      <td>의류</td>\n",
       "      <td>39900</td>\n",
       "      <td>69815000</td>\n",
       "      <td>87.0</td>\n",
       "      <td>1.0</td>\n",
       "      <td>2019-12-22</td>\n",
       "      <td>10</td>\n",
       "      <td>1</td>\n",
       "      <td>12</td>\n",
       "      <td>2</td>\n",
       "      <td>22</td>\n",
       "      <td>0.0</td>\n",
       "      <td>3</td>\n",
       "      <td>2.0</td>\n",
       "    </tr>\n",
       "    <tr>\n",
       "      <th>34600</th>\n",
       "      <td>2019-12-22 23:20:00</td>\n",
       "      <td>20</td>\n",
       "      <td>100418</td>\n",
       "      <td>201322</td>\n",
       "      <td>코몽트 덤블 플리스 자켓 2종</td>\n",
       "      <td>의류</td>\n",
       "      <td>39900</td>\n",
       "      <td>32202000</td>\n",
       "      <td>40.0</td>\n",
       "      <td>1.0</td>\n",
       "      <td>2019-12-22</td>\n",
       "      <td>23</td>\n",
       "      <td>1</td>\n",
       "      <td>12</td>\n",
       "      <td>2</td>\n",
       "      <td>22</td>\n",
       "      <td>0.0</td>\n",
       "      <td>3</td>\n",
       "      <td>3.0</td>\n",
       "    </tr>\n",
       "    <tr>\n",
       "      <th>34601</th>\n",
       "      <td>2019-12-22 23:40:00</td>\n",
       "      <td>20</td>\n",
       "      <td>100418</td>\n",
       "      <td>201322</td>\n",
       "      <td>코몽트 덤블 플리스 자켓 2종</td>\n",
       "      <td>의류</td>\n",
       "      <td>39900</td>\n",
       "      <td>33638000</td>\n",
       "      <td>42.0</td>\n",
       "      <td>1.0</td>\n",
       "      <td>2019-12-22</td>\n",
       "      <td>23</td>\n",
       "      <td>1</td>\n",
       "      <td>12</td>\n",
       "      <td>2</td>\n",
       "      <td>22</td>\n",
       "      <td>0.0</td>\n",
       "      <td>3</td>\n",
       "      <td>4.0</td>\n",
       "    </tr>\n",
       "    <tr>\n",
       "      <th>34602</th>\n",
       "      <td>2019-12-23 00:00:00</td>\n",
       "      <td>20</td>\n",
       "      <td>100418</td>\n",
       "      <td>201322</td>\n",
       "      <td>코몽트 덤블 플리스 자켓 2종</td>\n",
       "      <td>의류</td>\n",
       "      <td>39900</td>\n",
       "      <td>65935000</td>\n",
       "      <td>83.0</td>\n",
       "      <td>1.0</td>\n",
       "      <td>2019-12-23</td>\n",
       "      <td>00</td>\n",
       "      <td>0</td>\n",
       "      <td>12</td>\n",
       "      <td>2</td>\n",
       "      <td>23</td>\n",
       "      <td>0.0</td>\n",
       "      <td>3</td>\n",
       "      <td>0.0</td>\n",
       "    </tr>\n",
       "    <tr>\n",
       "      <th>34761</th>\n",
       "      <td>2019-12-24 17:20:00</td>\n",
       "      <td>20</td>\n",
       "      <td>100418</td>\n",
       "      <td>201322</td>\n",
       "      <td>코몽트 덤블 플리스 자켓 2종</td>\n",
       "      <td>의류</td>\n",
       "      <td>39900</td>\n",
       "      <td>31013000</td>\n",
       "      <td>39.0</td>\n",
       "      <td>1.0</td>\n",
       "      <td>2019-12-24</td>\n",
       "      <td>17</td>\n",
       "      <td>0</td>\n",
       "      <td>12</td>\n",
       "      <td>2</td>\n",
       "      <td>24</td>\n",
       "      <td>0.0</td>\n",
       "      <td>3</td>\n",
       "      <td>0.0</td>\n",
       "    </tr>\n",
       "    <tr>\n",
       "      <th>34762</th>\n",
       "      <td>2019-12-24 17:40:00</td>\n",
       "      <td>20</td>\n",
       "      <td>100418</td>\n",
       "      <td>201322</td>\n",
       "      <td>코몽트 덤블 플리스 자켓 2종</td>\n",
       "      <td>의류</td>\n",
       "      <td>39900</td>\n",
       "      <td>40973000</td>\n",
       "      <td>51.0</td>\n",
       "      <td>1.0</td>\n",
       "      <td>2019-12-24</td>\n",
       "      <td>17</td>\n",
       "      <td>0</td>\n",
       "      <td>12</td>\n",
       "      <td>2</td>\n",
       "      <td>24</td>\n",
       "      <td>0.0</td>\n",
       "      <td>3</td>\n",
       "      <td>1.0</td>\n",
       "    </tr>\n",
       "    <tr>\n",
       "      <th>34763</th>\n",
       "      <td>2019-12-24 18:00:00</td>\n",
       "      <td>20</td>\n",
       "      <td>100418</td>\n",
       "      <td>201322</td>\n",
       "      <td>코몽트 덤블 플리스 자켓 2종</td>\n",
       "      <td>의류</td>\n",
       "      <td>39900</td>\n",
       "      <td>41341000</td>\n",
       "      <td>52.0</td>\n",
       "      <td>1.0</td>\n",
       "      <td>2019-12-24</td>\n",
       "      <td>18</td>\n",
       "      <td>0</td>\n",
       "      <td>12</td>\n",
       "      <td>2</td>\n",
       "      <td>24</td>\n",
       "      <td>1.0</td>\n",
       "      <td>3</td>\n",
       "      <td>2.0</td>\n",
       "    </tr>\n",
       "    <tr>\n",
       "      <th>34885</th>\n",
       "      <td>2019-12-25 22:20:00</td>\n",
       "      <td>20</td>\n",
       "      <td>100418</td>\n",
       "      <td>201322</td>\n",
       "      <td>코몽트 덤블 플리스 자켓 2종</td>\n",
       "      <td>의류</td>\n",
       "      <td>39900</td>\n",
       "      <td>36140000</td>\n",
       "      <td>45.0</td>\n",
       "      <td>1.0</td>\n",
       "      <td>2019-12-25</td>\n",
       "      <td>22</td>\n",
       "      <td>0</td>\n",
       "      <td>12</td>\n",
       "      <td>2</td>\n",
       "      <td>25</td>\n",
       "      <td>0.0</td>\n",
       "      <td>3</td>\n",
       "      <td>0.0</td>\n",
       "    </tr>\n",
       "    <tr>\n",
       "      <th>34886</th>\n",
       "      <td>2019-12-25 22:40:00</td>\n",
       "      <td>20</td>\n",
       "      <td>100418</td>\n",
       "      <td>201322</td>\n",
       "      <td>코몽트 덤블 플리스 자켓 2종</td>\n",
       "      <td>의류</td>\n",
       "      <td>39900</td>\n",
       "      <td>53141000</td>\n",
       "      <td>67.0</td>\n",
       "      <td>1.0</td>\n",
       "      <td>2019-12-25</td>\n",
       "      <td>22</td>\n",
       "      <td>0</td>\n",
       "      <td>12</td>\n",
       "      <td>2</td>\n",
       "      <td>25</td>\n",
       "      <td>0.0</td>\n",
       "      <td>3</td>\n",
       "      <td>1.0</td>\n",
       "    </tr>\n",
       "    <tr>\n",
       "      <th>34887</th>\n",
       "      <td>2019-12-25 23:00:00</td>\n",
       "      <td>20</td>\n",
       "      <td>100418</td>\n",
       "      <td>201322</td>\n",
       "      <td>코몽트 덤블 플리스 자켓 2종</td>\n",
       "      <td>의류</td>\n",
       "      <td>39900</td>\n",
       "      <td>52882000</td>\n",
       "      <td>66.0</td>\n",
       "      <td>1.0</td>\n",
       "      <td>2019-12-25</td>\n",
       "      <td>23</td>\n",
       "      <td>0</td>\n",
       "      <td>12</td>\n",
       "      <td>2</td>\n",
       "      <td>25</td>\n",
       "      <td>0.0</td>\n",
       "      <td>3</td>\n",
       "      <td>2.0</td>\n",
       "    </tr>\n",
       "  </tbody>\n",
       "</table>\n",
       "</div>"
      ],
      "text/plain": [
       "                      방송일시    노출(분)    마더코드    상품코드               상품명 상품군  \\\n",
       "31699  2019-11-22 01:20:00       20  100418  201323  코몽트 덤블 플리스 자켓 2종  의류   \n",
       "31700  2019-11-22 01:40:00  17.1833  100418  201323  코몽트 덤블 플리스 자켓 2종  의류   \n",
       "31701  2019-11-22 02:00:00       20  100418  201323  코몽트 덤블 플리스 자켓 2종  의류   \n",
       "32679  2019-12-03 01:20:00       20  100418  201323  코몽트 덤블 플리스 자켓 2종  의류   \n",
       "32680  2019-12-03 01:40:00  17.1667  100418  201323  코몽트 덤블 플리스 자켓 2종  의류   \n",
       "32681  2019-12-03 02:00:00       20  100418  201323  코몽트 덤블 플리스 자켓 2종  의류   \n",
       "33042  2019-12-07 01:20:00       20  100418  201322  코몽트 덤블 플리스 자켓 2종  의류   \n",
       "33043  2019-12-07 01:40:00  17.1667  100418  201322  코몽트 덤블 플리스 자켓 2종  의류   \n",
       "33053  2019-12-07 08:20:00       20  100418  201322  코몽트 덤블 플리스 자켓 2종  의류   \n",
       "33054  2019-12-07 08:40:00       20  100418  201322  코몽트 덤블 플리스 자켓 2종  의류   \n",
       "33055  2019-12-07 09:00:00       20  100418  201322  코몽트 덤블 플리스 자켓 2종  의류   \n",
       "33492  2019-12-10 23:20:00       20  100418  201322  코몽트 덤블 플리스 자켓 2종  의류   \n",
       "33493  2019-12-10 23:40:00       20  100418  201322  코몽트 덤블 플리스 자켓 2종  의류   \n",
       "33494  2019-12-11 00:00:00       20  100418  201322  코몽트 덤블 플리스 자켓 2종  의류   \n",
       "33531  2019-12-11 12:20:00       20  100418  201322  코몽트 덤블 플리스 자켓 2종  의류   \n",
       "33532  2019-12-11 12:40:00       20  100418  201322  코몽트 덤블 플리스 자켓 2종  의류   \n",
       "33533  2019-12-11 13:00:00       20  100418  201322  코몽트 덤블 플리스 자켓 2종  의류   \n",
       "33955  2019-12-15 20:20:00       20  100418  201322  코몽트 덤블 플리스 자켓 2종  의류   \n",
       "33956  2019-12-15 20:40:00       20  100418  201322  코몽트 덤블 플리스 자켓 2종  의류   \n",
       "33957  2019-12-15 21:00:00       20  100418  201322  코몽트 덤블 플리스 자켓 2종  의류   \n",
       "34137  2019-12-17 19:20:00       20  100418  201322  코몽트 덤블 플리스 자켓 2종  의류   \n",
       "34138  2019-12-17 19:40:00       20  100418  201322  코몽트 덤블 플리스 자켓 2종  의류   \n",
       "34139  2019-12-17 20:00:00       20  100418  201322  코몽트 덤블 플리스 자켓 2종  의류   \n",
       "34505  2019-12-21 17:20:00       20  100418  201322  코몽트 덤블 플리스 자켓 2종  의류   \n",
       "34506  2019-12-21 17:40:00       20  100418  201322  코몽트 덤블 플리스 자켓 2종  의류   \n",
       "34540  2019-12-22 09:20:00       20  100418  201322  코몽트 덤블 플리스 자켓 2종  의류   \n",
       "34541  2019-12-22 09:40:00       20  100418  201322  코몽트 덤블 플리스 자켓 2종  의류   \n",
       "34542  2019-12-22 10:00:00       20  100418  201322  코몽트 덤블 플리스 자켓 2종  의류   \n",
       "34600  2019-12-22 23:20:00       20  100418  201322  코몽트 덤블 플리스 자켓 2종  의류   \n",
       "34601  2019-12-22 23:40:00       20  100418  201322  코몽트 덤블 플리스 자켓 2종  의류   \n",
       "34602  2019-12-23 00:00:00       20  100418  201322  코몽트 덤블 플리스 자켓 2종  의류   \n",
       "34761  2019-12-24 17:20:00       20  100418  201322  코몽트 덤블 플리스 자켓 2종  의류   \n",
       "34762  2019-12-24 17:40:00       20  100418  201322  코몽트 덤블 플리스 자켓 2종  의류   \n",
       "34763  2019-12-24 18:00:00       20  100418  201322  코몽트 덤블 플리스 자켓 2종  의류   \n",
       "34885  2019-12-25 22:20:00       20  100418  201322  코몽트 덤블 플리스 자켓 2종  의류   \n",
       "34886  2019-12-25 22:40:00       20  100418  201322  코몽트 덤블 플리스 자켓 2종  의류   \n",
       "34887  2019-12-25 23:00:00       20  100418  201322  코몽트 덤블 플리스 자켓 2종  의류   \n",
       "\n",
       "        판매단가        취급액    판매량  brand        date hour weekday month 초중말 day  \\\n",
       "31699  49900   12582000   13.0    1.0  2019-11-22   01       0    11   2  22   \n",
       "31700  49900   17703000   21.0    1.0  2019-11-22   01       0    11   2  22   \n",
       "31701  49900   38854000   39.0    1.0  2019-11-22   02       0    11   2  22   \n",
       "32679  49900   16446000   16.0    1.0  2019-12-03   01       0    12   0   3   \n",
       "32680  49900   21949000   26.0    1.0  2019-12-03   01       0    12   0   3   \n",
       "32681  49900   27049000   27.0    1.0  2019-12-03   02       0    12   0   3   \n",
       "33042  39900   23722000   30.0    1.0  2019-12-07   01       1    12   0   7   \n",
       "33043  39900  322009000  470.0    1.0  2019-12-07   01       1    12   0   7   \n",
       "33053  39900   56318000   71.0    1.0  2019-12-07   08       1    12   0   7   \n",
       "33054  39900  104910000  131.0    1.0  2019-12-07   08       1    12   0   7   \n",
       "33055  39900  128955000  162.0    1.0  2019-12-07   09       1    12   0   7   \n",
       "33492  39900   31136000   39.0    1.0  2019-12-10   23       0    12   0  10   \n",
       "33493  39900   56772000   71.0    1.0  2019-12-10   23       0    12   0  10   \n",
       "33494  39900  187419000  235.0    1.0  2019-12-11   00       0    12   1  11   \n",
       "33531  39900   21499000   27.0    1.0  2019-12-11   12       0    12   1  11   \n",
       "33532  39900   39765000   50.0    1.0  2019-12-11   12       0    12   1  11   \n",
       "33533  39900   63142000   79.0    1.0  2019-12-11   13       0    12   1  11   \n",
       "33955  39900   44092000   55.0    1.0  2019-12-15   20       1    12   1  15   \n",
       "33956  39900   72106000   90.0    1.0  2019-12-15   20       1    12   1  15   \n",
       "33957  39900   94103000  118.0    1.0  2019-12-15   21       1    12   1  15   \n",
       "34137  39900   43627000   55.0    1.0  2019-12-17   19       0    12   1  17   \n",
       "34138  39900   55499000   70.0    1.0  2019-12-17   19       0    12   1  17   \n",
       "34139  39900   67187000   84.0    1.0  2019-12-17   20       0    12   1  17   \n",
       "34505  39900   32891000   41.0    1.0  2019-12-21   17       1    12   2  21   \n",
       "34506  39900  223492000  280.0    1.0  2019-12-21   17       1    12   2  21   \n",
       "34540  39900   37328000   47.0    1.0  2019-12-22   09       1    12   2  22   \n",
       "34541  39900   57414000   72.0    1.0  2019-12-22   09       1    12   2  22   \n",
       "34542  39900   69815000   87.0    1.0  2019-12-22   10       1    12   2  22   \n",
       "34600  39900   32202000   40.0    1.0  2019-12-22   23       1    12   2  22   \n",
       "34601  39900   33638000   42.0    1.0  2019-12-22   23       1    12   2  22   \n",
       "34602  39900   65935000   83.0    1.0  2019-12-23   00       0    12   2  23   \n",
       "34761  39900   31013000   39.0    1.0  2019-12-24   17       0    12   2  24   \n",
       "34762  39900   40973000   51.0    1.0  2019-12-24   17       0    12   2  24   \n",
       "34763  39900   41341000   52.0    1.0  2019-12-24   18       0    12   2  24   \n",
       "34885  39900   36140000   45.0    1.0  2019-12-25   22       0    12   2  25   \n",
       "34886  39900   53141000   67.0    1.0  2019-12-25   22       0    12   2  25   \n",
       "34887  39900   52882000   66.0    1.0  2019-12-25   23       0    12   2  25   \n",
       "\n",
       "       prime season  방송순서  \n",
       "31699    0.0      2   0.0  \n",
       "31700    0.0      2   1.0  \n",
       "31701    1.0      2   2.0  \n",
       "32679    0.0      3   0.0  \n",
       "32680    0.0      3   1.0  \n",
       "32681    1.0      3   2.0  \n",
       "33042    0.0      3   0.0  \n",
       "33043    0.0      3   1.0  \n",
       "33053    0.0      3   2.0  \n",
       "33054    0.0      3   3.0  \n",
       "33055    0.0      3   4.0  \n",
       "33492    0.0      3   0.0  \n",
       "33493    0.0      3   1.0  \n",
       "33494    0.0      3   0.0  \n",
       "33531    0.0      3   1.0  \n",
       "33532    0.0      3   2.0  \n",
       "33533    0.0      3   3.0  \n",
       "33955    0.0      3   0.0  \n",
       "33956    0.0      3   1.0  \n",
       "33957    0.0      3   2.0  \n",
       "34137    0.0      3   0.0  \n",
       "34138    0.0      3   1.0  \n",
       "34139    0.0      3   2.0  \n",
       "34505    1.0      3   0.0  \n",
       "34506    1.0      3   1.0  \n",
       "34540    0.0      3   0.0  \n",
       "34541    0.0      3   1.0  \n",
       "34542    0.0      3   2.0  \n",
       "34600    0.0      3   3.0  \n",
       "34601    0.0      3   4.0  \n",
       "34602    0.0      3   0.0  \n",
       "34761    0.0      3   0.0  \n",
       "34762    0.0      3   1.0  \n",
       "34763    1.0      3   2.0  \n",
       "34885    0.0      3   0.0  \n",
       "34886    0.0      3   1.0  \n",
       "34887    0.0      3   2.0  "
      ]
     },
     "execution_count": 86,
     "metadata": {},
     "output_type": "execute_result"
    }
   ],
   "source": [
    "best_production = train_raw.loc[train_raw['상품명'] == '코몽트 덤블 플리스 자켓 2종']\n",
    "best_production"
   ]
  },
  {
   "cell_type": "code",
   "execution_count": 87,
   "metadata": {},
   "outputs": [
    {
     "data": {
      "image/png": "[encoded data removed]",
      "text/plain": [
       "<Figure size 864x432 with 1 Axes>"
      ]
     },
     "metadata": {
      "needs_background": "light"
     },
     "output_type": "display_data"
    }
   ],
   "source": [
    "discount_df = best_production['판매량'].groupby(best_production['판매단가']).mean()\n",
    "\n",
    "title = '코몽트 덤블 폴리스 자켓 2종의 할인 여부에 따른 판매량 차이'\n",
    "index = np.arange(len(discount_df))\n",
    "discount_df.plot(kind = 'bar', figsize = (12, 6))\n",
    "plt.title(title)\n",
    "plt.xlabel('가격', size = 15)\n",
    "plt.xticks(index, rotation = 0, size = 15)\n",
    "plt.ylabel('평균 판매량', size = 15)\n",
    "plt.savefig(f'./graphs/{title}.png')\n",
    "plt.show()"
   ]
  },
  {
   "cell_type": "markdown",
   "metadata": {},
   "source": [
    "- 가장 많이 팔린 상품을 보았을 때, 할인한 가격의 평균 판매량이 그렇지 않은 가격의 평균 판매량 보다 3배 이상 높은 것을 볼 수 있다.   \n",
    "\n",
    "**할인 여부** 변수를 생성하고 판매량에 유의미한 차이를 주는지 살펴보자"
   ]
  },
  {
   "cell_type": "code",
   "execution_count": 88,
   "metadata": {},
   "outputs": [],
   "source": [
    "# Train에서 discount 변수 생성\n",
    "prod_code = list(train_raw['상품명'].unique())\n",
    "discount_idx = list()\n",
    "for i in prod_code:\n",
    "    temp = train_raw.loc[train_raw['상품명']==i,'판매단가']\n",
    "    max_value = temp.max()\n",
    "    for j in range(len(temp)):\n",
    "        if temp.iloc[j] < max_value:\n",
    "            discount_idx.append(temp.index[j])\n",
    "train_raw['discount'] = 0.0 # 비 할인\n",
    "train_raw.loc[discount_idx,'discount'] = 1.0 # 할인"
   ]
  },
  {
   "cell_type": "code",
   "execution_count": 89,
   "metadata": {},
   "outputs": [
    {
     "data": {
      "text/plain": [
       "array(['보코 리버시블 무스탕', '멋진밥상 흥양농협 햅쌀 20kg', '마리노블 밍크 롱코트'], dtype=object)"
      ]
     },
     "execution_count": 89,
     "metadata": {},
     "output_type": "execute_result"
    }
   ],
   "source": [
    "discount_product = train_raw.loc[discount_idx, '상품명'].unique() # 할인 상품 목록\n",
    "discount_product[:3]"
   ]
  },
  {
   "cell_type": "code",
   "execution_count": 90,
   "metadata": {},
   "outputs": [
    {
     "data": {
      "text/html": [
       "<div>\n",
       "<style scoped>\n",
       "    .dataframe tbody tr th:only-of-type {\n",
       "        vertical-align: middle;\n",
       "    }\n",
       "\n",
       "    .dataframe tbody tr th {\n",
       "        vertical-align: top;\n",
       "    }\n",
       "\n",
       "    .dataframe thead th {\n",
       "        text-align: right;\n",
       "    }\n",
       "</style>\n",
       "<table border=\"1\" class=\"dataframe\">\n",
       "  <thead>\n",
       "    <tr style=\"text-align: right;\">\n",
       "      <th></th>\n",
       "      <th>방송일시</th>\n",
       "      <th>노출(분)</th>\n",
       "      <th>마더코드</th>\n",
       "      <th>상품코드</th>\n",
       "      <th>상품명</th>\n",
       "      <th>상품군</th>\n",
       "      <th>판매단가</th>\n",
       "      <th>취급액</th>\n",
       "      <th>판매량</th>\n",
       "      <th>brand</th>\n",
       "      <th>date</th>\n",
       "      <th>hour</th>\n",
       "      <th>weekday</th>\n",
       "      <th>month</th>\n",
       "      <th>초중말</th>\n",
       "      <th>day</th>\n",
       "      <th>prime</th>\n",
       "      <th>season</th>\n",
       "      <th>방송순서</th>\n",
       "      <th>discount</th>\n",
       "    </tr>\n",
       "  </thead>\n",
       "  <tbody>\n",
       "    <tr>\n",
       "      <th>0</th>\n",
       "      <td>2019-01-01 09:00:00</td>\n",
       "      <td>20</td>\n",
       "      <td>100816</td>\n",
       "      <td>202404</td>\n",
       "      <td>보코 리버시블 무스탕</td>\n",
       "      <td>의류</td>\n",
       "      <td>79000</td>\n",
       "      <td>16075000</td>\n",
       "      <td>10.0</td>\n",
       "      <td>0.0</td>\n",
       "      <td>2019-01-01</td>\n",
       "      <td>09</td>\n",
       "      <td>0</td>\n",
       "      <td>01</td>\n",
       "      <td>0</td>\n",
       "      <td>1</td>\n",
       "      <td>0.0</td>\n",
       "      <td>3</td>\n",
       "      <td>0.0</td>\n",
       "      <td>0.0</td>\n",
       "    </tr>\n",
       "    <tr>\n",
       "      <th>1</th>\n",
       "      <td>2019-01-01 09:20:00</td>\n",
       "      <td>20</td>\n",
       "      <td>100816</td>\n",
       "      <td>202404</td>\n",
       "      <td>보코 리버시블 무스탕</td>\n",
       "      <td>의류</td>\n",
       "      <td>79000</td>\n",
       "      <td>25628000</td>\n",
       "      <td>16.0</td>\n",
       "      <td>0.0</td>\n",
       "      <td>2019-01-01</td>\n",
       "      <td>09</td>\n",
       "      <td>0</td>\n",
       "      <td>01</td>\n",
       "      <td>0</td>\n",
       "      <td>1</td>\n",
       "      <td>0.0</td>\n",
       "      <td>3</td>\n",
       "      <td>1.0</td>\n",
       "      <td>0.0</td>\n",
       "    </tr>\n",
       "    <tr>\n",
       "      <th>2</th>\n",
       "      <td>2019-01-01 09:40:00</td>\n",
       "      <td>20</td>\n",
       "      <td>100816</td>\n",
       "      <td>202404</td>\n",
       "      <td>보코 리버시블 무스탕</td>\n",
       "      <td>의류</td>\n",
       "      <td>79000</td>\n",
       "      <td>49270000</td>\n",
       "      <td>31.0</td>\n",
       "      <td>0.0</td>\n",
       "      <td>2019-01-01</td>\n",
       "      <td>09</td>\n",
       "      <td>0</td>\n",
       "      <td>01</td>\n",
       "      <td>0</td>\n",
       "      <td>1</td>\n",
       "      <td>0.0</td>\n",
       "      <td>3</td>\n",
       "      <td>2.0</td>\n",
       "      <td>0.0</td>\n",
       "    </tr>\n",
       "    <tr>\n",
       "      <th>3</th>\n",
       "      <td>2019-01-03 11:00:00</td>\n",
       "      <td>20</td>\n",
       "      <td>100816</td>\n",
       "      <td>202404</td>\n",
       "      <td>보코 리버시블 무스탕</td>\n",
       "      <td>의류</td>\n",
       "      <td>79000</td>\n",
       "      <td>16785000</td>\n",
       "      <td>11.0</td>\n",
       "      <td>0.0</td>\n",
       "      <td>2019-01-03</td>\n",
       "      <td>11</td>\n",
       "      <td>0</td>\n",
       "      <td>01</td>\n",
       "      <td>0</td>\n",
       "      <td>3</td>\n",
       "      <td>0.0</td>\n",
       "      <td>3</td>\n",
       "      <td>0.0</td>\n",
       "      <td>0.0</td>\n",
       "    </tr>\n",
       "    <tr>\n",
       "      <th>4</th>\n",
       "      <td>2019-01-03 11:20:00</td>\n",
       "      <td>20</td>\n",
       "      <td>100816</td>\n",
       "      <td>202404</td>\n",
       "      <td>보코 리버시블 무스탕</td>\n",
       "      <td>의류</td>\n",
       "      <td>79000</td>\n",
       "      <td>32391000</td>\n",
       "      <td>21.0</td>\n",
       "      <td>0.0</td>\n",
       "      <td>2019-01-03</td>\n",
       "      <td>11</td>\n",
       "      <td>0</td>\n",
       "      <td>01</td>\n",
       "      <td>0</td>\n",
       "      <td>3</td>\n",
       "      <td>0.0</td>\n",
       "      <td>3</td>\n",
       "      <td>1.0</td>\n",
       "      <td>0.0</td>\n",
       "    </tr>\n",
       "  </tbody>\n",
       "</table>\n",
       "</div>"
      ],
      "text/plain": [
       "                  방송일시 노출(분)    마더코드    상품코드          상품명 상품군   판매단가  \\\n",
       "0  2019-01-01 09:00:00    20  100816  202404  보코 리버시블 무스탕  의류  79000   \n",
       "1  2019-01-01 09:20:00    20  100816  202404  보코 리버시블 무스탕  의류  79000   \n",
       "2  2019-01-01 09:40:00    20  100816  202404  보코 리버시블 무스탕  의류  79000   \n",
       "3  2019-01-03 11:00:00    20  100816  202404  보코 리버시블 무스탕  의류  79000   \n",
       "4  2019-01-03 11:20:00    20  100816  202404  보코 리버시블 무스탕  의류  79000   \n",
       "\n",
       "        취급액   판매량  brand        date hour weekday month 초중말 day  prime season  \\\n",
       "0  16075000  10.0    0.0  2019-01-01   09       0    01   0   1    0.0      3   \n",
       "1  25628000  16.0    0.0  2019-01-01   09       0    01   0   1    0.0      3   \n",
       "2  49270000  31.0    0.0  2019-01-01   09       0    01   0   1    0.0      3   \n",
       "3  16785000  11.0    0.0  2019-01-03   11       0    01   0   3    0.0      3   \n",
       "4  32391000  21.0    0.0  2019-01-03   11       0    01   0   3    0.0      3   \n",
       "\n",
       "   방송순서  discount  \n",
       "0   0.0       0.0  \n",
       "1   1.0       0.0  \n",
       "2   2.0       0.0  \n",
       "3   0.0       0.0  \n",
       "4   1.0       0.0  "
      ]
     },
     "execution_count": 90,
     "metadata": {},
     "output_type": "execute_result"
    }
   ],
   "source": [
    "# 할인을 한 적 있는 상품에 한해서만 비교 분석 진행\n",
    "# 할인을 한 적 없는 상품들까지 모두 들어오면, 할인하지 않아도 인기 많은 몇몇 상품때문에 정확한 비교 분석 불가\n",
    "discount_df = pd.DataFrame()\n",
    "for name in discount_product:\n",
    "    temp = train_raw.loc[train_raw['상품명'] == name]\n",
    "    discount_df = pd.concat([discount_df, temp], axis = 0)\n",
    "    \n",
    "discount_df = discount_df.reset_index(drop = True)\n",
    "discount_df.head(5)"
   ]
  },
  {
   "cell_type": "markdown",
   "metadata": {},
   "source": [
    "### 막대 그래프를 통한 변수의 유의성 시각화"
   ]
  },
  {
   "cell_type": "code",
   "execution_count": 91,
   "metadata": {},
   "outputs": [
    {
     "data": {
      "image/png": "[encoded data removed]",
      "text/plain": [
       "<Figure size 864x432 with 1 Axes>"
      ]
     },
     "metadata": {
      "needs_background": "light"
     },
     "output_type": "display_data"
    }
   ],
   "source": [
    "discount_group_df = discount_df.groupby(['discount'])['판매량'].mean()\n",
    "\n",
    "title = '할인 여부에 따른 평균 판매량 비교'\n",
    "fig,ax = plt.subplots(figsize = (12, 6))\n",
    "ax.bar(discount_group_df.index, discount_group_df)\n",
    "ax.set_xlabel('할인 여부')\n",
    "ax.set_xticks(np.arange(len(discount_group_df.index)))\n",
    "ax.set_ylabel('평균 판매량')\n",
    "ax.set_xticklabels(['비할인', '할인'])\n",
    "ax.set_title(title)\n",
    "plt.savefig(f'./graphs/{title}.png')\n",
    "plt.show()"
   ]
  },
  {
   "cell_type": "markdown",
   "metadata": {},
   "source": [
    "할인 한 적이 있던 상품들에 한하여, 할인 여부에 따른 판매량을 비교해보았을 때, 할인한 경우 평균 판매량이 높은 것을 볼 수 있다.   "
   ]
  },
  {
   "cell_type": "markdown",
   "metadata": {},
   "source": [
    "### T-Test"
   ]
  },
  {
   "cell_type": "markdown",
   "metadata": {},
   "source": [
    "- H0 : 할인 여부에 따른 평균 판매량은 차이가 없다.\n",
    "- H1 : 할인 여부에 따른 평균 판매량은 차이가 있다."
   ]
  },
  {
   "cell_type": "code",
   "execution_count": 92,
   "metadata": {},
   "outputs": [
    {
     "name": "stdout",
     "output_type": "stream",
     "text": [
      "프라임 타임 데이터 형태 :  (3865, 20)\n",
      "비 프라임 타임 데이터 형태 :  (31514, 20)\n"
     ]
    }
   ],
   "source": [
    "group_discount = train_raw.loc[train_raw['discount'] == 1] # 주말\n",
    "group_notdiscount = train_raw.loc[train_raw['discount'] == 0] # 주중\n",
    "\n",
    "print('프라임 타임 데이터 형태 : ', group_discount.shape)\n",
    "print('비 프라임 타임 데이터 형태 : ', group_notdiscount.shape)"
   ]
  },
  {
   "cell_type": "code",
   "execution_count": 93,
   "metadata": {},
   "outputs": [
    {
     "name": "stdout",
     "output_type": "stream",
     "text": [
      "LeveneResult(F) : 110.783 \n",
      "p-value : 0.000\n"
     ]
    }
   ],
   "source": [
    "# levene 등분산 검정\n",
    "lresult = stats.levene(group_discount['판매량'], group_notdiscount['판매량'])\n",
    "print('LeveneResult(F) : %.3f \\np-value : %.3f' % (lresult)) # p-value : 0.000 으로 이분산성"
   ]
  },
  {
   "cell_type": "code",
   "execution_count": 94,
   "metadata": {},
   "outputs": [
    {
     "name": "stdout",
     "output_type": "stream",
     "text": [
      "t statistic : -14.360 \n",
      "p-value : 0.000\n"
     ]
    }
   ],
   "source": [
    "# 등분산이 아닌 독립표본 t-검정 실행 \n",
    "t_result = stats.ttest_ind(group_discount['판매량'], group_notdiscount['판매량'], equal_var=False) \n",
    "print('t statistic : %.3f \\np-value : %.3f' % (t_result))"
   ]
  },
  {
   "cell_type": "markdown",
   "metadata": {},
   "source": [
    "p-value 0.000으로 0.05보다 작으므로 귀무가설을 기각한다.   \n",
    "\n",
    "즉, 비 할인 상품과 할인 상품의의 분당 평균 판매량은 다르다고 말 할 수 있다."
   ]
  },
  {
   "cell_type": "code",
   "execution_count": 95,
   "metadata": {},
   "outputs": [
    {
     "data": {
      "text/html": [
       "<div>\n",
       "<style scoped>\n",
       "    .dataframe tbody tr th:only-of-type {\n",
       "        vertical-align: middle;\n",
       "    }\n",
       "\n",
       "    .dataframe tbody tr th {\n",
       "        vertical-align: top;\n",
       "    }\n",
       "\n",
       "    .dataframe thead th {\n",
       "        text-align: right;\n",
       "    }\n",
       "</style>\n",
       "<table border=\"1\" class=\"dataframe\">\n",
       "  <thead>\n",
       "    <tr style=\"text-align: right;\">\n",
       "      <th></th>\n",
       "      <th>index</th>\n",
       "      <th>방송일시</th>\n",
       "      <th>노출(분)</th>\n",
       "      <th>마더코드</th>\n",
       "      <th>상품코드</th>\n",
       "      <th>상품명</th>\n",
       "      <th>상품군</th>\n",
       "      <th>판매단가</th>\n",
       "      <th>취급액</th>\n",
       "      <th>brand</th>\n",
       "      <th>date</th>\n",
       "      <th>hour</th>\n",
       "      <th>weekday</th>\n",
       "      <th>month</th>\n",
       "      <th>초중말</th>\n",
       "      <th>day</th>\n",
       "      <th>prime</th>\n",
       "      <th>season</th>\n",
       "      <th>방송순서</th>\n",
       "      <th>discount</th>\n",
       "    </tr>\n",
       "  </thead>\n",
       "  <tbody>\n",
       "    <tr>\n",
       "      <th>0</th>\n",
       "      <td>1</td>\n",
       "      <td>2020-06-01 06:20:00</td>\n",
       "      <td>20</td>\n",
       "      <td>100650</td>\n",
       "      <td>201971</td>\n",
       "      <td>잭필드 남성  반팔셔츠 4종</td>\n",
       "      <td>의류</td>\n",
       "      <td>59800</td>\n",
       "      <td>NaN</td>\n",
       "      <td>0.0</td>\n",
       "      <td>2020-06-01</td>\n",
       "      <td>06</td>\n",
       "      <td>0</td>\n",
       "      <td>06</td>\n",
       "      <td>0</td>\n",
       "      <td>1</td>\n",
       "      <td>0.0</td>\n",
       "      <td>1</td>\n",
       "      <td>0.0</td>\n",
       "      <td>0.0</td>\n",
       "    </tr>\n",
       "    <tr>\n",
       "      <th>1</th>\n",
       "      <td>2</td>\n",
       "      <td>2020-06-01 06:40:00</td>\n",
       "      <td>20</td>\n",
       "      <td>100650</td>\n",
       "      <td>201971</td>\n",
       "      <td>잭필드 남성  반팔셔츠 4종</td>\n",
       "      <td>의류</td>\n",
       "      <td>59800</td>\n",
       "      <td>NaN</td>\n",
       "      <td>0.0</td>\n",
       "      <td>2020-06-01</td>\n",
       "      <td>06</td>\n",
       "      <td>0</td>\n",
       "      <td>06</td>\n",
       "      <td>0</td>\n",
       "      <td>1</td>\n",
       "      <td>0.0</td>\n",
       "      <td>1</td>\n",
       "      <td>1.0</td>\n",
       "      <td>0.0</td>\n",
       "    </tr>\n",
       "    <tr>\n",
       "      <th>2</th>\n",
       "      <td>3</td>\n",
       "      <td>2020-06-01 07:00:00</td>\n",
       "      <td>20</td>\n",
       "      <td>100650</td>\n",
       "      <td>201971</td>\n",
       "      <td>잭필드 남성  반팔셔츠 4종</td>\n",
       "      <td>의류</td>\n",
       "      <td>59800</td>\n",
       "      <td>NaN</td>\n",
       "      <td>0.0</td>\n",
       "      <td>2020-06-01</td>\n",
       "      <td>07</td>\n",
       "      <td>0</td>\n",
       "      <td>06</td>\n",
       "      <td>0</td>\n",
       "      <td>1</td>\n",
       "      <td>0.0</td>\n",
       "      <td>1</td>\n",
       "      <td>2.0</td>\n",
       "      <td>0.0</td>\n",
       "    </tr>\n",
       "  </tbody>\n",
       "</table>\n",
       "</div>"
      ],
      "text/plain": [
       "   index                 방송일시 노출(분)    마더코드    상품코드              상품명 상품군  \\\n",
       "0      1  2020-06-01 06:20:00    20  100650  201971  잭필드 남성  반팔셔츠 4종  의류   \n",
       "1      2  2020-06-01 06:40:00    20  100650  201971  잭필드 남성  반팔셔츠 4종  의류   \n",
       "2      3  2020-06-01 07:00:00    20  100650  201971  잭필드 남성  반팔셔츠 4종  의류   \n",
       "\n",
       "    판매단가  취급액  brand        date hour weekday month 초중말 day  prime season  \\\n",
       "0  59800  NaN    0.0  2020-06-01   06       0    06   0   1    0.0      1   \n",
       "1  59800  NaN    0.0  2020-06-01   06       0    06   0   1    0.0      1   \n",
       "2  59800  NaN    0.0  2020-06-01   07       0    06   0   1    0.0      1   \n",
       "\n",
       "   방송순서  discount  \n",
       "0   0.0       0.0  \n",
       "1   1.0       0.0  \n",
       "2   2.0       0.0  "
      ]
     },
     "execution_count": 95,
     "metadata": {},
     "output_type": "execute_result"
    }
   ],
   "source": [
    "# Test에서 discount 변수 생성\n",
    "# Test Data내에서 할인된 상품\n",
    "\n",
    "prod_code = list(test_raw['상품명'].unique())\n",
    "discount_idx = list()\n",
    "for i in prod_code:\n",
    "    temp = test_raw.loc[test_raw['상품명']==i,'판매단가']\n",
    "    max_value = temp.max()\n",
    "    for j in range(len(temp)):\n",
    "        if temp.iloc[j] < max_value:\n",
    "            discount_idx.append(temp.index[j])\n",
    "            \n",
    "test_raw['discount'] = 0.0 # 비 할인\n",
    "test_raw.loc[discount_idx,'discount'] = 1.0 # 할인\n",
    "\n",
    "# 작년 판매 상품에 비해 할인된 상품\n",
    "prod_code = list(set(train_raw['상품명']) & set(test_raw['상품명']))\n",
    "for i in prod_code:\n",
    "    temp_cost = train_raw.loc[train_raw['상품명']==i,'판매단가'].mean()\n",
    "    test_raw.loc[(test_raw['상품명']==i)&(test_raw['판매단가']<temp_cost),'discount'] = 1.0\n",
    "    \n",
    "test_raw.head(3)"
   ]
  },
  {
   "cell_type": "code",
   "execution_count": 96,
   "metadata": {},
   "outputs": [
    {
     "name": "stdout",
     "output_type": "stream",
     "text": [
      "                  방송일시 노출(분)    마더코드    상품코드            상품명 상품군   판매단가  \\\n",
      "0  2019-01-01 06:00:00    20  100346  201072  테이트 남성 셀린니트3종  의류  39900   \n",
      "1  2019-01-01 06:00:00    20  100346  201079  테이트 여성 셀린니트3종  의류  39900   \n",
      "2  2019-01-01 06:20:00    20  100346  201072  테이트 남성 셀린니트3종  의류  39900   \n",
      "\n",
      "       취급액  판매량  brand        date hour weekday month 초중말 day  prime season  \\\n",
      "0  2099000  3.0    0.0  2019-01-01   06       0    01   0   1    0.0      3   \n",
      "1  4371000  5.0    0.0  2019-01-01   06       0    01   0   1    0.0      3   \n",
      "2  3262000  4.0    0.0  2019-01-01   06       0    01   0   1    0.0      3   \n",
      "\n",
      "   방송순서  discount  \n",
      "0   0.0       0.0  \n",
      "1   0.0       0.0  \n",
      "2   1.0       0.0  \n",
      "--------------------------------------------------\n",
      "   index                 방송일시 노출(분)    마더코드    상품코드              상품명 상품군  \\\n",
      "0      1  2020-06-01 06:20:00    20  100650  201971  잭필드 남성  반팔셔츠 4종  의류   \n",
      "1      2  2020-06-01 06:40:00    20  100650  201971  잭필드 남성  반팔셔츠 4종  의류   \n",
      "2      3  2020-06-01 07:00:00    20  100650  201971  잭필드 남성  반팔셔츠 4종  의류   \n",
      "\n",
      "    판매단가  취급액  brand        date hour weekday month 초중말 day  prime season  \\\n",
      "0  59800  NaN    0.0  2020-06-01   06       0    06   0   1    0.0      1   \n",
      "1  59800  NaN    0.0  2020-06-01   06       0    06   0   1    0.0      1   \n",
      "2  59800  NaN    0.0  2020-06-01   07       0    06   0   1    0.0      1   \n",
      "\n",
      "   방송순서  discount  \n",
      "0   0.0       0.0  \n",
      "1   1.0       0.0  \n",
      "2   2.0       0.0  \n"
     ]
    }
   ],
   "source": [
    "with open('./pickles/train.pkl', 'wb') as f: # 완성된 데이터 셋 pickle 형태로 저장\n",
    "    pickle.dump(train_raw, f)\n",
    "\n",
    "with open('./pickles/test.pkl', 'wb') as f: # 완성된 데이터 셋 pickle 형태로 저장\n",
    "    pickle.dump(test_raw, f)\n",
    "\n",
    "print(train_raw.head(3))\n",
    "print('-'*50)\n",
    "print(test_raw.head(3))"
   ]
  },
  {
   "cell_type": "code",
   "execution_count": null,
   "metadata": {},
   "outputs": [],
   "source": []
  }
 ],
 "metadata": {
  "kernelspec": {
   "display_name": "Python 3",
   "language": "python",
   "name": "python3"
  },
  "language_info": {
   "codemirror_mode": {
    "name": "ipython",
    "version": 3
   },
   "file_extension": ".py",
   "mimetype": "text/x-python",
   "name": "python",
   "nbconvert_exporter": "python",
   "pygments_lexer": "ipython3",
   "version": "3.8.3"
  },
  "toc": {
   "base_numbering": 1,
   "nav_menu": {},
   "number_sections": true,
   "sideBar": true,
   "skip_h1_title": false,
   "title_cell": "Table of Contents",
   "title_sidebar": "Contents",
   "toc_cell": false,
   "toc_position": {
    "height": "574.4px",
    "left": "247px",
    "top": "91.2px",
    "width": "307.2px"
   },
   "toc_section_display": true,
   "toc_window_display": true
  },
  "varInspector": {
   "cols": {
    "lenName": 16,
    "lenType": 16,
    "lenVar": 40
   },
   "kernels_config": {
    "python": {
     "delete_cmd_postfix": "",
     "delete_cmd_prefix": "del ",
     "library": "var_list.py",
     "varRefreshCmd": "print(var_dic_list())"
    },
    "r": {
     "delete_cmd_postfix": ") ",
     "delete_cmd_prefix": "rm(",
     "library": "var_list.r",
     "varRefreshCmd": "cat(var_dic_list()) "
    }
   },
   "types_to_exclude": [
    "module",
    "function",
    "builtin_function_or_method",
    "instance",
    "_Feature"
   ],
   "window_display": false
  }
 },
 "nbformat": 4,
 "nbformat_minor": 4
}
